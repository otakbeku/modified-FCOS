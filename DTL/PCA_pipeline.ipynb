{
 "metadata": {
  "language_info": {
   "codemirror_mode": {
    "name": "ipython",
    "version": 3
   },
   "file_extension": ".py",
   "mimetype": "text/x-python",
   "name": "python",
   "nbconvert_exporter": "python",
   "pygments_lexer": "ipython3",
   "version": "3.7.6-final"
  },
  "orig_nbformat": 2,
  "kernelspec": {
   "name": "python37664bitcompvisconda2d3448796e3e49d498304dbbfe353f71",
   "display_name": "Python 3.7.6 64-bit ('compvis': conda)"
  }
 },
 "nbformat": 4,
 "nbformat_minor": 2,
 "cells": [
  {
   "cell_type": "code",
   "execution_count": 84,
   "metadata": {},
   "outputs": [],
   "source": [
    "from pycocotools.coco import COCO\n",
    "from sklearn import tree, metrics\n",
    "from skimage.transform import rescale, resize, downscale_local_mean\n",
    "from skimage.util import crop\n",
    "from skimage import io, color\n",
    "from math import floor, ceil\n",
    "from PIL import Image\n",
    "import numpy as np\n",
    "import pandas as pd\n",
    "import matplotlib.pyplot as plt\n",
    "from sklearn.model_selection import train_test_split\n",
    "from sklearn.decomposition import PCA\n",
    "from sklearn.decomposition import FastICA\n",
    "from sklearn.decomposition import TruncatedSVD\n",
    "import json\n",
    "from LoadLocalCOCO import LoadLocalCOCO as llc\n",
    "import matplotlib.pyplot as plt\n",
    "from sklearn.metrics import classification_report, confusion_matrix\n",
    "%matplotlib inline\n"
   ]
  },
  {
   "cell_type": "code",
   "execution_count": 106,
   "metadata": {},
   "outputs": [],
   "source": [
    "# Save the model\n",
    "import pickle\n",
    "from joblib import dump, load"
   ]
  },
  {
   "cell_type": "code",
   "execution_count": 2,
   "metadata": {},
   "outputs": [],
   "source": [
    "def flatten_list(qlist):\n",
    "    return [y for x in qlist for y in x]"
   ]
  },
  {
   "cell_type": "code",
   "execution_count": 3,
   "metadata": {},
   "outputs": [],
   "source": [
    "train_instance=\"annotations/instances_train2017.json\"\n",
    "val_instance=\"annotations/instances_val2017.json\"\n"
   ]
  },
  {
   "cell_type": "code",
   "execution_count": 4,
   "metadata": {},
   "outputs": [],
   "source": [
    "coco_path = \"D:/FSR/COCO/train2017\""
   ]
  },
  {
   "cell_type": "code",
   "execution_count": 5,
   "metadata": {},
   "outputs": [],
   "source": [
    "classes = ['dog', 'cat']"
   ]
  },
  {
   "cell_type": "code",
   "execution_count": 6,
   "metadata": {},
   "outputs": [],
   "source": [
    "coco_train = llc(train_instance, coco_path)\n",
    "coco_val = llc(val_instance, coco_path)"
   ]
  },
  {
   "cell_type": "code",
   "execution_count": 7,
   "metadata": {},
   "outputs": [],
   "source": [
    "# train_n = [coco_train.get_number_of_images_per_category(x) for x in classes]\n",
    "# val_n = [coco_val.get_number_of_images_per_category(x) for x in classes]\n",
    "# print(f'Training:> \\t Dog: {train_n[0]} \\t Cat: {train_n[1]}')\n",
    "# print(f'Validation:> \\t Dog: {val_n[0]} \\t Cat: {val_n[1]}')"
   ]
  },
  {
   "cell_type": "code",
   "execution_count": 8,
   "metadata": {},
   "outputs": [
    {
     "output_type": "stream",
     "name": "stderr",
     "text": [
      "5508it [05:51, 15.69it/s]\n",
      "2it [00:00, 16.54it/s]Broken images: [7125, 16775, 24247, 24247, 55296, 47386, 69468, 35613, 77325, 12696, 22427, 26321, 54957, 790, 1360, 55478, 42341, 57631, 2400, 10276, 94049, 58741, 5782, 44613, 58741, 24159, 44613, 29176] images\n",
      "4768it [04:57, 16.02it/s]Broken images: [5617, 711, 39171, 9413, 46749, 18211, 26375, 26375, 26375, 66041] images\n",
      "\n"
     ]
    }
   ],
   "source": [
    "data_train = []\n",
    "for category in classes:\n",
    "    data = coco_train.get_cropped_images_flatten_and_resized(category, resize=(64, 64))\n",
    "    data_train.append(data)"
   ]
  },
  {
   "cell_type": "code",
   "execution_count": 9,
   "metadata": {},
   "outputs": [
    {
     "output_type": "execute_result",
     "data": {
      "text/plain": [
       "(5480, 12288)"
      ]
     },
     "metadata": {},
     "execution_count": 9
    }
   ],
   "source": [
    "np.shape(data_train[0])"
   ]
  },
  {
   "cell_type": "code",
   "execution_count": 10,
   "metadata": {},
   "outputs": [],
   "source": [
    "labels = len(data_train[0])*[1]+len(data_train[1])*[0]"
   ]
  },
  {
   "cell_type": "code",
   "execution_count": 11,
   "metadata": {},
   "outputs": [
    {
     "output_type": "execute_result",
     "data": {
      "text/plain": [
       "(10238,)"
      ]
     },
     "metadata": {},
     "execution_count": 11
    }
   ],
   "source": [
    "np.shape(labels)"
   ]
  },
  {
   "cell_type": "code",
   "execution_count": null,
   "metadata": {},
   "outputs": [],
   "source": []
  },
  {
   "cell_type": "code",
   "execution_count": 12,
   "metadata": {},
   "outputs": [
    {
     "output_type": "execute_result",
     "data": {
      "text/plain": [
       "(2,)"
      ]
     },
     "metadata": {},
     "execution_count": 12
    }
   ],
   "source": [
    "np.shape(data_train)"
   ]
  },
  {
   "cell_type": "code",
   "execution_count": 13,
   "metadata": {},
   "outputs": [],
   "source": [
    "data_train = flatten_list(data_train)"
   ]
  },
  {
   "cell_type": "code",
   "execution_count": 14,
   "metadata": {},
   "outputs": [
    {
     "output_type": "execute_result",
     "data": {
      "text/plain": [
       "(10238, 12288)"
      ]
     },
     "metadata": {},
     "execution_count": 14
    }
   ],
   "source": [
    "np.shape(data_train)"
   ]
  },
  {
   "cell_type": "code",
   "execution_count": 15,
   "metadata": {},
   "outputs": [],
   "source": [
    "X_train, X_test, y_train, y_test = train_test_split(data_train, labels)"
   ]
  },
  {
   "cell_type": "code",
   "execution_count": 18,
   "metadata": {},
   "outputs": [],
   "source": [
    "pca = PCA(n_components = 25)\n",
    "pca.fit(X_train)\n",
    "reduced_X_train_pca, reduced_X_test_pca = pca.transform(X_train), pca.transform(X_test)"
   ]
  },
  {
   "cell_type": "code",
   "execution_count": 28,
   "metadata": {},
   "outputs": [
    {
     "output_type": "execute_result",
     "data": {
      "text/plain": [
       "(7678, 24)"
      ]
     },
     "metadata": {},
     "execution_count": 28
    }
   ],
   "source": [
    "np.shape(reduced_X_train)"
   ]
  },
  {
   "cell_type": "code",
   "execution_count": 29,
   "metadata": {},
   "outputs": [
    {
     "output_type": "execute_result",
     "data": {
      "text/plain": [
       "(7678, 67500)"
      ]
     },
     "metadata": {},
     "execution_count": 29
    }
   ],
   "source": [
    "np.shape(X_train)"
   ]
  },
  {
   "cell_type": "code",
   "execution_count": 69,
   "metadata": {},
   "outputs": [],
   "source": [
    "ica = FastICA(n_components=25, random_state=0, whiten=True)"
   ]
  },
  {
   "cell_type": "code",
   "execution_count": 72,
   "metadata": {},
   "outputs": [],
   "source": [
    "reduced_X_train_ica = ica.transform(X_train)"
   ]
  },
  {
   "cell_type": "code",
   "execution_count": 73,
   "metadata": {},
   "outputs": [],
   "source": [
    "reduced_X_test_ica = ica.transform(X_test)"
   ]
  },
  {
   "cell_type": "code",
   "execution_count": 16,
   "metadata": {},
   "outputs": [
    {
     "output_type": "execute_result",
     "data": {
      "text/plain": [
       "TruncatedSVD(algorithm='randomized', n_components=25, n_iter=5,\n",
       "             random_state=None, tol=0.0)"
      ]
     },
     "metadata": {},
     "execution_count": 16
    }
   ],
   "source": [
    "svd = TruncatedSVD(n_components = 25)\n",
    "svd.fit(X_train)"
   ]
  },
  {
   "cell_type": "code",
   "execution_count": 17,
   "metadata": {},
   "outputs": [],
   "source": [
    "reduced_X_train_svd, reduced_X_test_svd = svd.transform(X_train), svd.transform(X_test)"
   ]
  },
  {
   "cell_type": "code",
   "execution_count": 107,
   "metadata": {},
   "outputs": [],
   "source": [
    "clf = tree.DecisionTreeClassifier()\n",
    "clf = clf.fit(reduced_X_train_pca, y_train)"
   ]
  },
  {
   "cell_type": "code",
   "execution_count": 108,
   "metadata": {},
   "outputs": [],
   "source": [
    "y_pred = clf.predict(reduced_X_test_pca)"
   ]
  },
  {
   "cell_type": "code",
   "execution_count": 109,
   "metadata": {},
   "outputs": [
    {
     "output_type": "stream",
     "name": "stdout",
     "text": [
      "[[614 596]\n [595 755]]\n              precision    recall  f1-score   support\n\n         Dog       0.51      0.51      0.51      1210\n         Cat       0.56      0.56      0.56      1350\n\n    accuracy                           0.53      2560\n   macro avg       0.53      0.53      0.53      2560\nweighted avg       0.53      0.53      0.53      2560\n\n"
     ]
    }
   ],
   "source": [
    "print(confusion_matrix(y_test, y_pred))\n",
    "print(classification_report(y_test, y_pred,  target_names=['Dog','Cat']))"
   ]
  },
  {
   "cell_type": "code",
   "execution_count": 110,
   "metadata": {},
   "outputs": [
    {
     "output_type": "execute_result",
     "data": {
      "text/plain": [
       "0.534765625"
      ]
     },
     "metadata": {},
     "execution_count": 110
    }
   ],
   "source": [
    "clf.score(reduced_X_test_pca, y_test)"
   ]
  },
  {
   "cell_type": "code",
   "execution_count": 111,
   "metadata": {},
   "outputs": [
    {
     "output_type": "execute_result",
     "data": {
      "text/plain": [
       "['pca_n25_dct_default.joblib']"
      ]
     },
     "metadata": {},
     "execution_count": 111
    }
   ],
   "source": [
    "# Save model\n",
    "\n",
    "# pca_dtl = 'pca_n25_dct_default.pkl'\n",
    "# with open(pca_dtl, 'wb') as file:\n",
    "#     pickle.dump(clf, file)\n",
    "\n",
    "# pakai joblib\n",
    "pca_dtl = 'pca_n25_dct_default.joblib'\n",
    "dump(clf, pca_dtl) "
   ]
  },
  {
   "cell_type": "code",
   "execution_count": 112,
   "metadata": {},
   "outputs": [],
   "source": [
    "clf_ica = tree.DecisionTreeClassifier()\n",
    "clf_ica = clf.fit(reduced_X_train_ica, y_train)"
   ]
  },
  {
   "cell_type": "code",
   "execution_count": 113,
   "metadata": {},
   "outputs": [],
   "source": [
    "y_pred_ica = clf_ica.predict(reduced_X_test_ica)"
   ]
  },
  {
   "cell_type": "code",
   "execution_count": 114,
   "metadata": {},
   "outputs": [
    {
     "output_type": "stream",
     "name": "stdout",
     "text": [
      "[[595 615]\n [570 780]]\n              precision    recall  f1-score   support\n\n         Dog       0.51      0.49      0.50      1210\n         Cat       0.56      0.58      0.57      1350\n\n    accuracy                           0.54      2560\n   macro avg       0.53      0.53      0.53      2560\nweighted avg       0.54      0.54      0.54      2560\n\n"
     ]
    }
   ],
   "source": [
    "print(confusion_matrix(y_test, y_pred_ica))\n",
    "print(classification_report(y_test, y_pred_ica,  target_names=['Dog','Cat']))"
   ]
  },
  {
   "cell_type": "code",
   "execution_count": 115,
   "metadata": {},
   "outputs": [
    {
     "output_type": "execute_result",
     "data": {
      "text/plain": [
       "0.537109375"
      ]
     },
     "metadata": {},
     "execution_count": 115
    }
   ],
   "source": [
    "clf_ica.score(reduced_X_test_ica, y_test)"
   ]
  },
  {
   "cell_type": "code",
   "execution_count": 116,
   "metadata": {},
   "outputs": [
    {
     "output_type": "execute_result",
     "data": {
      "text/plain": [
       "['ica_n25_dct_default.joblib']"
      ]
     },
     "metadata": {},
     "execution_count": 116
    }
   ],
   "source": [
    "# Save model\n",
    "\n",
    "# ica_dtl = 'ica_n25_dct_default.pkl'\n",
    "# with open(ica_dtl, 'wb') as file:\n",
    "#     pickle.dump(clf_ica, file)\n",
    "\n",
    "# pakai joblib\n",
    "ica_dtl = 'ica_n25_dct_default.joblib'\n",
    "dump(clf_ica, ica_dtl) "
   ]
  },
  {
   "cell_type": "code",
   "execution_count": 117,
   "metadata": {},
   "outputs": [],
   "source": [
    "clf_svd = tree.DecisionTreeClassifier()\n",
    "clf_svd = clf.fit(reduced_X_train_svd, y_train)"
   ]
  },
  {
   "cell_type": "code",
   "execution_count": 118,
   "metadata": {},
   "outputs": [],
   "source": [
    "y_pred_svd = clf_svd.predict(reduced_X_test_svd)"
   ]
  },
  {
   "cell_type": "code",
   "execution_count": 119,
   "metadata": {},
   "outputs": [
    {
     "output_type": "stream",
     "name": "stdout",
     "text": [
      "[[590 620]\n [550 800]]\n              precision    recall  f1-score   support\n\n         Dog       0.52      0.49      0.50      1210\n         Cat       0.56      0.59      0.58      1350\n\n    accuracy                           0.54      2560\n   macro avg       0.54      0.54      0.54      2560\nweighted avg       0.54      0.54      0.54      2560\n\n"
     ]
    }
   ],
   "source": [
    "print(confusion_matrix(y_test, y_pred_svd))\n",
    "print(classification_report(y_test, y_pred_svd,  target_names=['Dog','Cat']))"
   ]
  },
  {
   "cell_type": "code",
   "execution_count": 120,
   "metadata": {},
   "outputs": [
    {
     "output_type": "execute_result",
     "data": {
      "text/plain": [
       "0.54296875"
      ]
     },
     "metadata": {},
     "execution_count": 120
    }
   ],
   "source": [
    "clf_svd.score(reduced_X_test_svd, y_test)"
   ]
  },
  {
   "cell_type": "code",
   "execution_count": 121,
   "metadata": {},
   "outputs": [
    {
     "output_type": "execute_result",
     "data": {
      "text/plain": [
       "['svd_n25_dct_default.joblib']"
      ]
     },
     "metadata": {},
     "execution_count": 121
    }
   ],
   "source": [
    "# Save model\n",
    "\n",
    "# svd_dtl = 'svd_n25_dct_default.pkl'\n",
    "# with open(svd_dtl, 'wb') as file:\n",
    "#     pickle.dump(clf_svd, file)\n",
    "\n",
    "# pakai joblib\n",
    "svd_dtl = 'svd_n25_dct_default.joblib'\n",
    "dump(clf_svd, svd_dtl) "
   ]
  },
  {
   "cell_type": "code",
   "execution_count": 122,
   "metadata": {},
   "outputs": [
    {
     "output_type": "execute_result",
     "data": {
      "text/plain": [
       "(25,)"
      ]
     },
     "metadata": {},
     "execution_count": 122
    }
   ],
   "source": [
    "np.shape(reduced_X_train_pca[0])"
   ]
  },
  {
   "cell_type": "code",
   "execution_count": 123,
   "metadata": {},
   "outputs": [
    {
     "output_type": "execute_result",
     "data": {
      "text/plain": [
       "(10238, 12288)"
      ]
     },
     "metadata": {},
     "execution_count": 123
    }
   ],
   "source": [
    "np.shape(data_train)"
   ]
  },
  {
   "source": [
    "### Features\n",
    "1. Color -> color moment\n",
    "2. texture -> HOG/Gabor\n",
    "3. GLCM -> Some Features\n",
    "\n",
    "PCA bisa jadi ga perlu but who knows"
   ],
   "cell_type": "markdown",
   "metadata": {}
  },
  {
   "cell_type": "code",
   "execution_count": null,
   "metadata": {},
   "outputs": [],
   "source": []
  }
 ]
}