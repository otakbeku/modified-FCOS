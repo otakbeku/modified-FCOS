{
 "cells": [
  {
   "cell_type": "markdown",
   "metadata": {},
   "source": [
    "# Image Classification Dataset COCO untuk Kategori Anjing dan Kucing"
   ]
  },
  {
   "cell_type": "markdown",
   "metadata": {},
   "source": [
    "Aditya Rachman Putra  \n",
    "Harits Abdurrohman\n",
    "\n",
    "Data Checkpoint, saved model, dan raw features bisa diakses di [VM](https://3a4285ffc4f4b3f1-dot-asia-southeast1.notebooks.googleusercontent.com/lab/tree/modified-FCOS/DTL) atau bisa mengontak adityarputra@gmail.com atau harits.abrd@gmail.com\n",
    "\n",
    "## Dataset COCO\n",
    "\n",
    "Merupakan dataset untuk Object Detection dengan banyak category, namun untuk tugas ini disederhanakan menjadi suatu masalah klasifikasi gambar dengan dua kategori (binary classification). Eksperimen yang dilakukan secara garis besar dibagi menjadi dua bagian, yaitu eksperimen representasi data gambar (dan secara tidak langsung juga feature engineering). Dan eksperimen parameter model yang digunakan.\n",
    "\n",
    "karena hanya ada dua kelas, gambar yang digunakan merupakan gambar yang berisi salah satu kelas target saja (anjing atau kucing) namun tidak keduanya.\n",
    "\n",
    "## Experiment Parameter Model\n",
    "\n",
    "### Decision Tree Learning\n",
    "\n",
    "- Maximum tree Depth : 10, 100, 1000\n",
    "- Criterion : Gini, Entropy\n",
    "\n",
    "### Random Forest dan XGBoost\n",
    "\n",
    "- Maximum Depth : 4, 6, 10\n",
    "- Learning Rate : 0.1 dan 0.3\n",
    "- Jumlah Estimators : 1, 5, 10, 50\n",
    "\n",
    "\n",
    "## Eksperimen Representasi\n",
    "\n",
    "- PCA\n",
    "- SVD\n",
    "- Texture\n",
    "- Color Moment\n",
    "\n"
   ]
  },
  {
   "cell_type": "markdown",
   "metadata": {
    "id": "Udf-Jiqyserm"
   },
   "source": [
    "# Setup COCO API\n"
   ]
  },
  {
   "cell_type": "code",
   "execution_count": 1,
   "metadata": {
    "colab": {
     "base_uri": "https://localhost:8080/"
    },
    "id": "ROt71vfIeFyz",
    "outputId": "a54936ef-e087-4d82-dec8-c16cd8bac581"
   },
   "outputs": [
    {
     "name": "stdout",
     "output_type": "stream",
     "text": [
      "Requirement already satisfied: Cython in /opt/conda/lib/python3.7/site-packages (0.29.21)\n",
      "Requirement already satisfied: xgboost in /opt/conda/lib/python3.7/site-packages (1.2.1)\n",
      "Requirement already satisfied: numpy in /opt/conda/lib/python3.7/site-packages (from xgboost) (1.18.5)\n",
      "Requirement already satisfied: scipy in /opt/conda/lib/python3.7/site-packages (from xgboost) (1.5.2)\n",
      "Requirement already satisfied: scikit-image in /opt/conda/lib/python3.7/site-packages (0.17.2)\n",
      "Requirement already satisfied: scikit-learn in /opt/conda/lib/python3.7/site-packages (0.23.2)\n",
      "Requirement already satisfied: graphviz in /opt/conda/lib/python3.7/site-packages (0.14.2)\n",
      "Requirement already satisfied: numpy>=1.15.1 in /opt/conda/lib/python3.7/site-packages (from scikit-image) (1.18.5)\n",
      "Requirement already satisfied: scipy>=1.0.1 in /opt/conda/lib/python3.7/site-packages (from scikit-image) (1.5.2)\n",
      "Requirement already satisfied: matplotlib!=3.0.0,>=2.0.0 in /opt/conda/lib/python3.7/site-packages (from scikit-image) (3.3.2)\n",
      "Requirement already satisfied: networkx>=2.0 in /opt/conda/lib/python3.7/site-packages (from scikit-image) (2.5)\n",
      "Requirement already satisfied: pillow!=7.1.0,!=7.1.1,>=4.3.0 in /opt/conda/lib/python3.7/site-packages (from scikit-image) (7.2.0)\n",
      "Requirement already satisfied: imageio>=2.3.0 in /opt/conda/lib/python3.7/site-packages (from scikit-image) (2.9.0)\n",
      "Requirement already satisfied: tifffile>=2019.7.26 in /opt/conda/lib/python3.7/site-packages (from scikit-image) (2020.10.1)\n",
      "Requirement already satisfied: PyWavelets>=1.1.1 in /opt/conda/lib/python3.7/site-packages (from scikit-image) (1.1.1)\n",
      "Requirement already satisfied: joblib>=0.11 in /opt/conda/lib/python3.7/site-packages (from scikit-learn) (0.17.0)\n",
      "Requirement already satisfied: threadpoolctl>=2.0.0 in /opt/conda/lib/python3.7/site-packages (from scikit-learn) (2.1.0)\n",
      "Requirement already satisfied: pyparsing!=2.0.4,!=2.1.2,!=2.1.6,>=2.0.3 in /opt/conda/lib/python3.7/site-packages (from matplotlib!=3.0.0,>=2.0.0->scikit-image) (2.4.7)\n",
      "Requirement already satisfied: kiwisolver>=1.0.1 in /opt/conda/lib/python3.7/site-packages (from matplotlib!=3.0.0,>=2.0.0->scikit-image) (1.2.0)\n",
      "Requirement already satisfied: cycler>=0.10 in /opt/conda/lib/python3.7/site-packages (from matplotlib!=3.0.0,>=2.0.0->scikit-image) (0.10.0)\n",
      "Requirement already satisfied: certifi>=2020.06.20 in /opt/conda/lib/python3.7/site-packages (from matplotlib!=3.0.0,>=2.0.0->scikit-image) (2020.6.20)\n",
      "Requirement already satisfied: python-dateutil>=2.1 in /opt/conda/lib/python3.7/site-packages (from matplotlib!=3.0.0,>=2.0.0->scikit-image) (2.8.1)\n",
      "Requirement already satisfied: decorator>=4.3.0 in /opt/conda/lib/python3.7/site-packages (from networkx>=2.0->scikit-image) (4.4.2)\n",
      "Requirement already satisfied: six in /opt/conda/lib/python3.7/site-packages (from cycler>=0.10->matplotlib!=3.0.0,>=2.0.0->scikit-image) (1.15.0)\n"
     ]
    }
   ],
   "source": [
    "!pip install Cython\n",
    "!pip install -q \"tqdm>=4.36.1\"\n",
    "!pip3 install xgboost\n",
    "!pip3 install scikit-image scikit-learn graphviz"
   ]
  },
  {
   "cell_type": "code",
   "execution_count": 2,
   "metadata": {
    "id": "D5Ij1uvrZL2I"
   },
   "outputs": [
    {
     "name": "stdout",
     "output_type": "stream",
     "text": [
      "fatal: destination path 'coco' already exists and is not an empty directory.\n",
      "Requirement already up-to-date: setuptools in /opt/conda/lib/python3.7/site-packages (50.3.2)\n",
      "Requirement already up-to-date: wheel in /opt/conda/lib/python3.7/site-packages (0.35.1)\n",
      "make: Entering directory '/home/jupyter/modified-FCOS/DTL/coco/PythonAPI'\n",
      "# install pycocotools to the Python site-packages\n",
      "python setup.py build_ext install\n",
      "running build_ext\n",
      "building 'pycocotools._mask' extension\n",
      "creating build\n",
      "creating build/temp.linux-x86_64-3.7\n",
      "creating build/temp.linux-x86_64-3.7/pycocotools\n",
      "creating build/common\n",
      "gcc -pthread -B /opt/conda/compiler_compat -Wl,--sysroot=/ -Wsign-compare -DNDEBUG -g -fwrapv -O3 -Wall -Wstrict-prototypes -fPIC -I/opt/conda/lib/python3.7/site-packages/numpy/core/include -I../common -I/opt/conda/include/python3.7m -c pycocotools/_mask.c -o build/temp.linux-x86_64-3.7/pycocotools/_mask.o -Wno-cpp -Wno-unused-function -std=c99\n",
      "^C\n",
      "interrupted\n",
      "Makefile:7: recipe for target 'install' failed\n",
      "make: *** [install] Error 1\n"
     ]
    }
   ],
   "source": [
    "!git clone https://github.com/waleedka/coco\n",
    "!pip install -U setuptools\n",
    "!pip install -U wheel\n",
    "!make install -C coco/PythonAPI"
   ]
  },
  {
   "cell_type": "code",
   "execution_count": 3,
   "metadata": {
    "id": "4ZaNPw5wq1vy",
    "tags": []
   },
   "outputs": [
    {
     "name": "stdout",
     "output_type": "stream",
     "text": [
      "--2020-11-06 01:44:33--  http://images.cocodataset.org/annotations/annotations_trainval2017.zip\n",
      "Resolving images.cocodataset.org (images.cocodataset.org)... 52.216.88.163\n",
      "Connecting to images.cocodataset.org (images.cocodataset.org)|52.216.88.163|:80... connected.\n",
      "HTTP request sent, awaiting response... 200 OK\n",
      "Length: 252907541 (241M) [application/zip]\n",
      "Saving to: ‘annotations_trainval2017.zip’\n",
      "\n",
      "      annotations_t   0%[                    ] 223.26K   263KB/s               ^C\n",
      "Archive:  ./annotations_trainval2017.zip\n",
      "  End-of-central-directory signature not found.  Either this file is not\n",
      "  a zipfile, or it constitutes one disk of a multi-part archive.  In the\n",
      "  latter case the central directory and zipfile comment will be found on\n",
      "  the last disk(s) of this archive.\n",
      "unzip:  cannot find zipfile directory in one of ./annotations_trainval2017.zip or\n",
      "        ./annotations_trainval2017.zip.zip, and cannot find ./annotations_trainval2017.zip.ZIP, period.\n"
     ]
    }
   ],
   "source": [
    "!wget http://images.cocodataset.org/annotations/annotations_trainval2017.zip\n",
    "!unzip ./annotations_trainval2017.zip"
   ]
  },
  {
   "cell_type": "markdown",
   "metadata": {
    "id": "2mzeZ7QvslF2"
   },
   "source": [
    "# Import needed Packages and Load COCO categories"
   ]
  },
  {
   "cell_type": "code",
   "execution_count": 76,
   "metadata": {
    "id": "sLnXn4DBZM_C"
   },
   "outputs": [],
   "source": [
    "from pycocotools.coco import COCO\n",
    "from sklearn import metrics\n",
    "from sklearn.tree import DecisionTreeClassifier\n",
    "from sklearn.ensemble import RandomForestClassifier\n",
    "from sklearn.model_selection import GridSearchCV, PredefinedSplit, train_test_split\n",
    "from skimage.transform import rescale, resize, downscale_local_mean\n",
    "from skimage.util import crop\n",
    "from skimage import io, color\n",
    "from math import floor, ceil\n",
    "from PIL import Image\n",
    "from joblib import dump, load\n",
    "from tqdm.notebook import tqdm\n",
    "from os import path\n",
    "import xgboost as xgb\n",
    "import numpy as np\n",
    "import pandas as pd\n",
    "import matplotlib.pyplot as plt\n",
    "import graphviz \n",
    "import json\n",
    "import pandas as pd"
   ]
  },
  {
   "cell_type": "code",
   "execution_count": 6,
   "metadata": {},
   "outputs": [],
   "source": [
    "def split_integer(num):\n",
    "    return (floor(num/2), ceil(num/2))\n",
    "\n",
    "def load_resize_crop_img(img_url, target_width=64, rgb = True):\n",
    "    I = io.imread(img_url)\n",
    "    factor = target_width/min(I.shape[0:2])\n",
    "    resize_target = (round(I.shape[0] * factor), round(I.shape[1] * factor))\n",
    "    resized_image = (resize(I, resize_target, anti_aliasing=False) * 255).astype(np.uint8)\n",
    "    crop_width = (split_integer(resize_target[0] - target_width), split_integer(resize_target[1] - target_width), (0,0))\n",
    "    if rgb:\n",
    "        cropped_image = crop(color.gray2rgb(resized_image), crop_width)\n",
    "    else:\n",
    "        cropped_image = crop(color.rgb2gray(resized_image), crop_width)\n",
    "    return cropped_image\n",
    "\n",
    "def get_coco_id(annotation_file, cat1 = \"dog\", cat2 = \"cat\", n = None):\n",
    "    coco = COCO(annotation_file)\n",
    "    catIds = coco.getCatIds(catNms=[cat1,cat2])\n",
    "    img_combine = coco.getImgIds(catIds=catIds)\n",
    "    img_cat1 = list(set(coco.getImgIds(catIds=coco.getCatIds(catNms=[cat1]))) - set(img_combine))\n",
    "    img_cat2 = list(set(coco.getImgIds(catIds=coco.getCatIds(catNms=[cat2]))) - set(img_combine))\n",
    "    if n is None:\n",
    "        return img_cat1 + img_cat2, np.array(len(img_cat1) * [1] + len(img_cat2) * [0])\n",
    "    return img_cat1[:n] + img_cat2[:n], np.array(len(img_cat1[:n]) * [1] + len(img_cat2[:n]) * [0])"
   ]
  },
  {
   "cell_type": "code",
   "execution_count": 57,
   "metadata": {
    "colab": {
     "base_uri": "https://localhost:8080/",
     "height": 35
    },
    "id": "kFs5QFY_K2ZB",
    "outputId": "3114c041-b87f-4d33-b764-87147a5eb7ee"
   },
   "outputs": [],
   "source": [
    "train_path=\"annotations/instances_train2017.json\"\n",
    "val_path=\"annotations/instances_val2017.json\"\n",
    "annotation = {\"train\":train_path, \"val\":val_path}\n",
    "\n",
    "N_TRAIN = 4000\n",
    "IMG_SIZE = 64"
   ]
  },
  {
   "cell_type": "markdown",
   "metadata": {},
   "source": [
    "# Get COCO Image Data"
   ]
  },
  {
   "cell_type": "markdown",
   "metadata": {},
   "source": [
    "Untuk mempermudah melakukan eksperimen berulang, data gambar COCO di simpan pada storage mesin. Dan gambar akan di load kedalam variable sesuai kebutuhan. Dan karena COCO sudah memiliki train-val split sendiri.\n",
    "\n",
    "Untuk eksperimen awal, digunakan representasi yang \"naive\" dari data gambar, yaitu diubah menjadi suatu flat array dengan ukuran 1 x (size x size x 3) dengan size yang digunakan sebesar 64 pixel (karena keterbatasan RAM dan grid search tidak support partial_fit maka digunakan ukuran gambar yang masih _muat_ kedalam Memory). Untuk gambar yang dalam format Grayscale, akan diubah menjadi RGB dengan SKImage Gray2RGB.\n",
    "\n",
    "> **What's Next**\n",
    "> - Bandingkan hasil antara image yang RGB dengan grayscale seperti apa\n",
    "> - Mencari cara untuk bisa melakukan training tanpa terlalu terbatas pada ukuran RAM seperti dengan menggunakan Numpy \n",
    "> - Coba untuk Train-Val split menggunakan SKlearn train-test-split dengan test 1/3 dari keseluruhan data"
   ]
  },
  {
   "cell_type": "code",
   "execution_count": 54,
   "metadata": {},
   "outputs": [
    {
     "name": "stdout",
     "output_type": "stream",
     "text": [
      "loading annotations into memory...\n",
      "Done (t=15.57s)\n",
      "creating index...\n",
      "index created!\n",
      "loading annotations into memory...\n",
      "Done (t=0.40s)\n",
      "creating index...\n",
      "index created!\n"
     ]
    }
   ],
   "source": [
    "X_train, y_train = get_coco_id(annotation[\"train\"], n=N_TRAIN)\n",
    "X_val, y_val = get_coco_id(annotation[\"val\"])"
   ]
  },
  {
   "cell_type": "code",
   "execution_count": 16,
   "metadata": {},
   "outputs": [
    {
     "name": "stdout",
     "output_type": "stream",
     "text": [
      "loading annotations into memory...\n",
      "Done (t=18.34s)\n",
      "creating index...\n",
      "index created!\n"
     ]
    },
    {
     "data": {
      "application/vnd.jupyter.widget-view+json": {
       "model_id": "2c20496fa2124e32915590acab037470",
       "version_major": 2,
       "version_minor": 0
      },
      "text/plain": [
       "HBox(children=(HTML(value=''), FloatProgress(value=0.0, max=8083.0), HTML(value='')))"
      ]
     },
     "metadata": {},
     "output_type": "display_data"
    },
    {
     "name": "stdout",
     "output_type": "stream",
     "text": [
      "\n"
     ]
    }
   ],
   "source": [
    "coco = COCO(annotation[\"train\"])\n",
    "for x in tqdm(X_train):\n",
    "    fn = \"train/{}.png\".format(x)\n",
    "    if path.exists(fn):\n",
    "#         print(f\"skipping {x}\")\n",
    "        continue\n",
    "    I = io.imread(coco.loadImgs(x)[0]['coco_url'])\n",
    "    io.imsave(fn,I)"
   ]
  },
  {
   "cell_type": "code",
   "execution_count": 17,
   "metadata": {},
   "outputs": [
    {
     "name": "stdout",
     "output_type": "stream",
     "text": [
      "loading annotations into memory...\n",
      "Done (t=1.89s)\n",
      "creating index...\n",
      "index created!\n"
     ]
    },
    {
     "data": {
      "application/vnd.jupyter.widget-view+json": {
       "model_id": "725d974b85b44901bced728b1421473e",
       "version_major": 2,
       "version_minor": 0
      },
      "text/plain": [
       "HBox(children=(HTML(value=''), FloatProgress(value=0.0, max=337.0), HTML(value='')))"
      ]
     },
     "metadata": {},
     "output_type": "display_data"
    },
    {
     "name": "stdout",
     "output_type": "stream",
     "text": [
      "\n"
     ]
    }
   ],
   "source": [
    "coco = COCO(annotation[\"val\"])\n",
    "for x in tqdm(X_val):\n",
    "    fn = \"val/{}.png\".format(x)\n",
    "    if path.exists(fn):\n",
    "#         print(f\"skipping {x}\")\n",
    "        continue\n",
    "    I = io.imread(coco.loadImgs(x)[0]['coco_url'])\n",
    "    io.imsave(fn,I)"
   ]
  },
  {
   "cell_type": "markdown",
   "metadata": {},
   "source": [
    "## Preprocess the image and flatten it"
   ]
  },
  {
   "cell_type": "code",
   "execution_count": 55,
   "metadata": {},
   "outputs": [
    {
     "data": {
      "application/vnd.jupyter.widget-view+json": {
       "model_id": "3fadb610b1824aaca5c25ed2b5df7508",
       "version_major": 2,
       "version_minor": 0
      },
      "text/plain": [
       "HBox(children=(HTML(value=''), FloatProgress(value=0.0, max=8083.0), HTML(value='')))"
      ]
     },
     "metadata": {},
     "output_type": "display_data"
    },
    {
     "name": "stderr",
     "output_type": "stream",
     "text": [
      "/opt/conda/lib/python3.7/site-packages/ipykernel_launcher.py:19: FutureWarning: Pass-through of possibly RGB images in gray2rgb is deprecated. In version 0.19, input arrays will always be considered grayscale, even if the last dimension has length 3 or 4. To prevent this warning and ensure compatibility with future versions, detect RGB images outside of this function.\n"
     ]
    },
    {
     "name": "stdout",
     "output_type": "stream",
     "text": [
      "\n",
      "Finished with length:  8083\n",
      "Converted to ndarray with shape:  (8083, 12288) (8083,)\n"
     ]
    }
   ],
   "source": [
    "# coco = COCO(annotation[\"train\"])\n",
    "X_loaded = []\n",
    "for x in tqdm(X_train):\n",
    "    try : \n",
    "        fn = \"train/{}.png\".format(x)\n",
    "        X_loaded += [load_resize_crop_img(fn, target_width=IMG_SIZE).flatten()]\n",
    "    except :\n",
    "        print(x)\n",
    "print(\"Finished with length: \",len(X_loaded))\n",
    "X_loaded = np.array(X_loaded)\n",
    "# df_train = pd.Dataframe({\"X\":X_loaded,\"y\":y_train})\n",
    "print(\"Converted to ndarray with shape: \",X_loaded.shape, y_train.shape)"
   ]
  },
  {
   "cell_type": "code",
   "execution_count": 56,
   "metadata": {},
   "outputs": [
    {
     "data": {
      "application/vnd.jupyter.widget-view+json": {
       "model_id": "5cc9fa0d99e14814b2663c20596a9bb5",
       "version_major": 2,
       "version_minor": 0
      },
      "text/plain": [
       "HBox(children=(HTML(value=''), FloatProgress(value=0.0, max=337.0), HTML(value='')))"
      ]
     },
     "metadata": {},
     "output_type": "display_data"
    },
    {
     "name": "stderr",
     "output_type": "stream",
     "text": [
      "/opt/conda/lib/python3.7/site-packages/ipykernel_launcher.py:19: FutureWarning: Pass-through of possibly RGB images in gray2rgb is deprecated. In version 0.19, input arrays will always be considered grayscale, even if the last dimension has length 3 or 4. To prevent this warning and ensure compatibility with future versions, detect RGB images outside of this function.\n"
     ]
    },
    {
     "name": "stdout",
     "output_type": "stream",
     "text": [
      "\n",
      "Finished with length:  337\n",
      "Converted to ndarray with shape:  (337, 12288) (337,)\n"
     ]
    }
   ],
   "source": [
    "# coco = COCO(annotation[\"val\"])\n",
    "X_loaded_val = []\n",
    "for x in tqdm(X_val):\n",
    "    try : \n",
    "        fn = \"val/{}.png\".format(x)\n",
    "        X_loaded_val += [load_resize_crop_img(fn, target_width=IMG_SIZE).flatten()]\n",
    "    except :\n",
    "        print(x)\n",
    "print(\"Finished with length: \",len(X_loaded_val))\n",
    "X_loaded_val = np.array(X_loaded_val)\n",
    "print(\"Converted to ndarray with shape: \",X_loaded_val.shape, y_val.shape)"
   ]
  },
  {
   "cell_type": "markdown",
   "metadata": {},
   "source": [
    "## Prepare the fold for train-validate GridSearch"
   ]
  },
  {
   "cell_type": "markdown",
   "metadata": {},
   "source": [
    "Seperti yang sudah dibahas sebelumnya, untuk saat ini digunakan pembagian data training dan validasi mengikuti pembagian pada dataset COCO, sehingga didapatkan jumlah data training di 8083 gambar dan validasi di 337 gambar. Karena jumlah gambar validasi ini relatif sedikit, seharusnya bisa diubah dengan menggunakan train-test-split dari sklearn sehingga pembagian dari train dan validasi lebih _imbang_."
   ]
  },
  {
   "cell_type": "code",
   "execution_count": 58,
   "metadata": {},
   "outputs": [],
   "source": [
    "test_fold = np.concatenate([\n",
    "    # The training data.\n",
    "    np.full(len(X_train), -1, dtype=np.int8),\n",
    "    # The development data.\n",
    "    np.zeros(len(X_val), dtype=np.int8)\n",
    "])\n",
    "cv = PredefinedSplit(test_fold)\n",
    "\n",
    "X = np.concatenate([X_loaded, X_loaded_val])\n",
    "y = np.concatenate([y_train, y_val])\n",
    "\n",
    "# dtrain = xgb.DMatrix(X_loaded, label=y_train)\n",
    "# dval = xgb.DMatrix(X_loaded_val, label=y_val)"
   ]
  },
  {
   "cell_type": "markdown",
   "metadata": {},
   "source": [
    "### Save features and label for use later"
   ]
  },
  {
   "cell_type": "markdown",
   "metadata": {},
   "source": [
    "Data numpy array dari flattened array disimpan kedalam npy file agar bisa digunakan kembali tanpa perlu melakukan preprocess dari gambar, dan variable yang sudah tidak digunakan dan mengambil ruang memory dihapus terlebih dahulu sebelum dimulai fitting"
   ]
  },
  {
   "cell_type": "code",
   "execution_count": 60,
   "metadata": {},
   "outputs": [],
   "source": [
    "np.save(\"coco_dog_cat_feature_{}_{}.npy\".format(N_TRAIN, IMG_SIZE), X)\n",
    "np.save(\"coco_dog_cat_label_{}_{}.npy\".format(N_TRAIN, IMG_SIZE), y)\n",
    "\n",
    "# X = np.load(\"coco_dog_cat_feature_{}_{}.npy\".format(N_TRAIN, IMG_SIZE))\n",
    "# y = np.load(\"coco_dog_cat_label_{}_{}.npy\".format(N_TRAIN, IMG_SIZE))"
   ]
  },
  {
   "cell_type": "code",
   "execution_count": 61,
   "metadata": {},
   "outputs": [
    {
     "name": "stdin",
     "output_type": "stream",
     "text": [
      "Once deleted, variables cannot be recovered. Proceed (y/[n])?   y\n",
      "Once deleted, variables cannot be recovered. Proceed (y/[n])?   y\n"
     ]
    }
   ],
   "source": [
    "# Magic to delete unneeded variable (in this case the features array and label array) as it has been aggregated to X and y respectively\n",
    "# %reset_selective \"^X_loaded(_train)?$\"\n",
    "# %reset_selective \"^y_(train|val)$\""
   ]
  },
  {
   "cell_type": "markdown",
   "metadata": {},
   "source": [
    "# Grid Search Model Parameter\n",
    "\n",
    "Pada bagian ini dilakukan grid search pada setiap model dengan parameter yang telah ditentukan sebelumnya untuk menemukan kombinasi parameter yang memberi akurasi rata-rata terbaik. Dan digunakan scorer default dari masing-masing model, atau dalam kasus ini merupakan [mean_accuracy dari model tersebut ](https://scikit-learn.org/stable/modules/generated/sklearn.base.ClassifierMixin.html)\n",
    "\n",
    "> **Whats Next**\n",
    "> - Explore scoring yang sesuai untuk task binary classification yang lebih informatif (e.g. F1-score, AUC-ROC, etc.)\n",
    "> - Gunakan SKlearn classification_report untuk mendapatkan report yang lebih komprehensif\n",
    "\n",
    "## Decision Tree Learning "
   ]
  },
  {
   "cell_type": "code",
   "execution_count": 62,
   "metadata": {},
   "outputs": [],
   "source": [
    "base = DecisionTreeClassifier()\n",
    "grid = {\n",
    "\"max_depth\" : [10, 100, 1000],\n",
    "\"criterion\" : [\"gini\", \"entropy\"]\n",
    "}\n",
    "model = GridSearchCV(base, grid, cv=cv,n_jobs=4, verbose=100)"
   ]
  },
  {
   "cell_type": "code",
   "execution_count": 63,
   "metadata": {},
   "outputs": [
    {
     "name": "stdout",
     "output_type": "stream",
     "text": [
      "Fitting 1 folds for each of 6 candidates, totalling 6 fits\n",
      "[Parallel(n_jobs=4)]: Using backend LokyBackend with 4 concurrent workers.\n",
      "[Parallel(n_jobs=4)]: Done   1 tasks      | elapsed:  1.8min\n",
      "[Parallel(n_jobs=4)]: Done   2 out of   6 | elapsed:  2.6min remaining:  5.3min\n",
      "[Parallel(n_jobs=4)]: Done   3 out of   6 | elapsed:  2.6min remaining:  2.6min\n",
      "[Parallel(n_jobs=4)]: Done   4 out of   6 | elapsed:  2.7min remaining:  1.3min\n",
      "[Parallel(n_jobs=4)]: Done   6 out of   6 | elapsed:  5.1min remaining:    0.0s\n",
      "[Parallel(n_jobs=4)]: Done   6 out of   6 | elapsed:  5.1min finished\n"
     ]
    }
   ],
   "source": [
    "model = model.fit(X,y)"
   ]
  },
  {
   "cell_type": "code",
   "execution_count": 81,
   "metadata": {},
   "outputs": [
    {
     "data": {
      "text/html": [
       "<div>\n",
       "<style scoped>\n",
       "    .dataframe tbody tr th:only-of-type {\n",
       "        vertical-align: middle;\n",
       "    }\n",
       "\n",
       "    .dataframe tbody tr th {\n",
       "        vertical-align: top;\n",
       "    }\n",
       "\n",
       "    .dataframe thead th {\n",
       "        text-align: right;\n",
       "    }\n",
       "</style>\n",
       "<table border=\"1\" class=\"dataframe\">\n",
       "  <thead>\n",
       "    <tr style=\"text-align: right;\">\n",
       "      <th></th>\n",
       "      <th>Rank</th>\n",
       "      <th>criterion</th>\n",
       "      <th>max_depth</th>\n",
       "      <th>Accuracy</th>\n",
       "    </tr>\n",
       "  </thead>\n",
       "  <tbody>\n",
       "    <tr>\n",
       "      <th>0</th>\n",
       "      <td>1</td>\n",
       "      <td>gini</td>\n",
       "      <td>10</td>\n",
       "      <td>0.557864</td>\n",
       "    </tr>\n",
       "    <tr>\n",
       "      <th>1</th>\n",
       "      <td>4</td>\n",
       "      <td>gini</td>\n",
       "      <td>100</td>\n",
       "      <td>0.519288</td>\n",
       "    </tr>\n",
       "    <tr>\n",
       "      <th>2</th>\n",
       "      <td>2</td>\n",
       "      <td>gini</td>\n",
       "      <td>1000</td>\n",
       "      <td>0.545994</td>\n",
       "    </tr>\n",
       "    <tr>\n",
       "      <th>3</th>\n",
       "      <td>6</td>\n",
       "      <td>entropy</td>\n",
       "      <td>10</td>\n",
       "      <td>0.504451</td>\n",
       "    </tr>\n",
       "    <tr>\n",
       "      <th>4</th>\n",
       "      <td>3</td>\n",
       "      <td>entropy</td>\n",
       "      <td>100</td>\n",
       "      <td>0.531157</td>\n",
       "    </tr>\n",
       "    <tr>\n",
       "      <th>5</th>\n",
       "      <td>4</td>\n",
       "      <td>entropy</td>\n",
       "      <td>1000</td>\n",
       "      <td>0.519288</td>\n",
       "    </tr>\n",
       "  </tbody>\n",
       "</table>\n",
       "</div>"
      ],
      "text/plain": [
       "   Rank criterion  max_depth  Accuracy\n",
       "0     1      gini         10  0.557864\n",
       "1     4      gini        100  0.519288\n",
       "2     2      gini       1000  0.545994\n",
       "3     6   entropy         10  0.504451\n",
       "4     3   entropy        100  0.531157\n",
       "5     4   entropy       1000  0.519288"
      ]
     },
     "execution_count": 81,
     "metadata": {},
     "output_type": "execute_result"
    }
   ],
   "source": [
    "pd.concat([pd.DataFrame(model.cv_results_[\"rank_test_score\"], columns=[\"Rank\"]), pd.DataFrame(model.cv_results_[\"params\"]),pd.DataFrame(model.cv_results_[\"mean_test_score\"], columns=[\"Accuracy\"])],axis=1)"
   ]
  },
  {
   "cell_type": "code",
   "execution_count": 65,
   "metadata": {},
   "outputs": [
    {
     "data": {
      "text/plain": [
       "['gs_dtl_4000_64.pkl']"
      ]
     },
     "execution_count": 65,
     "metadata": {},
     "output_type": "execute_result"
    }
   ],
   "source": [
    "# dump(model, 'gs_dtl_{}_{}.pkl'.format(N_TRAIN, IMG_SIZE))"
   ]
  },
  {
   "cell_type": "code",
   "execution_count": null,
   "metadata": {},
   "outputs": [],
   "source": [
    "# %reset_selective \"^model$\""
   ]
  },
  {
   "cell_type": "markdown",
   "metadata": {},
   "source": [
    "Bisa diamati bahwa untuk decision tree classifier, hasil terbaik untuk dataset ini bisa didapatkan dengan `max_depth = 10` dan `criterion = gini`"
   ]
  },
  {
   "cell_type": "markdown",
   "metadata": {},
   "source": [
    "## Random Forest Classifier"
   ]
  },
  {
   "cell_type": "code",
   "execution_count": 66,
   "metadata": {},
   "outputs": [],
   "source": [
    "rf_base = xgb.XGBRFClassifier()\n",
    "rf_grid = {\n",
    "\"max_depth\" : [4, 6, 10],\n",
    "\"learning_rate\" : [0.1, 0.3],\n",
    "\"n_estimators\" : [1, 5, 10, 50]\n",
    "}\n",
    "rf_model = GridSearchCV(rf_base, rf_grid, cv=cv,n_jobs=4, verbose=100, return_train_score = True)"
   ]
  },
  {
   "cell_type": "code",
   "execution_count": 67,
   "metadata": {},
   "outputs": [
    {
     "name": "stdout",
     "output_type": "stream",
     "text": [
      "Fitting 1 folds for each of 24 candidates, totalling 24 fits\n",
      "[Parallel(n_jobs=4)]: Using backend LokyBackend with 4 concurrent workers.\n",
      "[Parallel(n_jobs=4)]: Done   1 tasks      | elapsed:   24.2s\n",
      "[Parallel(n_jobs=4)]: Done   2 tasks      | elapsed:   44.5s\n",
      "[Parallel(n_jobs=4)]: Done   3 tasks      | elapsed:   47.4s\n",
      "[Parallel(n_jobs=4)]: Done   4 tasks      | elapsed:  1.1min\n",
      "[Parallel(n_jobs=4)]: Done   5 tasks      | elapsed:  1.7min\n",
      "[Parallel(n_jobs=4)]: Done   6 tasks      | elapsed:  2.3min\n",
      "[Parallel(n_jobs=4)]: Done   7 tasks      | elapsed:  2.5min\n",
      "[Parallel(n_jobs=4)]: Done   8 tasks      | elapsed:  4.1min\n",
      "[Parallel(n_jobs=4)]: Done   9 tasks      | elapsed:  4.5min\n",
      "[Parallel(n_jobs=4)]: Done  10 tasks      | elapsed:  4.8min\n",
      "[Parallel(n_jobs=4)]: Done  11 tasks      | elapsed:  5.4min\n",
      "[Parallel(n_jobs=4)]: Done  12 tasks      | elapsed:  6.0min\n",
      "[Parallel(n_jobs=4)]: Done  13 tasks      | elapsed:  6.5min\n",
      "[Parallel(n_jobs=4)]: Done  14 tasks      | elapsed:  6.9min\n",
      "[Parallel(n_jobs=4)]: Done  15 tasks      | elapsed:  7.9min\n",
      "[Parallel(n_jobs=4)]: Done  16 tasks      | elapsed:  8.9min\n",
      "[Parallel(n_jobs=4)]: Done  17 tasks      | elapsed:  9.6min\n",
      "[Parallel(n_jobs=4)]: Done  18 out of  24 | elapsed: 10.2min remaining:  3.4min\n",
      "[Parallel(n_jobs=4)]: Done  19 out of  24 | elapsed: 10.5min remaining:  2.8min\n",
      "[Parallel(n_jobs=4)]: Done  20 out of  24 | elapsed: 12.0min remaining:  2.4min\n",
      "[Parallel(n_jobs=4)]: Done  21 out of  24 | elapsed: 13.9min remaining:  2.0min\n",
      "[Parallel(n_jobs=4)]: Done  22 out of  24 | elapsed: 16.5min remaining:  1.5min\n",
      "[Parallel(n_jobs=4)]: Done  24 out of  24 | elapsed: 24.2min remaining:    0.0s\n",
      "[Parallel(n_jobs=4)]: Done  24 out of  24 | elapsed: 24.2min finished\n"
     ]
    }
   ],
   "source": [
    "rf_model = rf_model.fit(X, y)"
   ]
  },
  {
   "cell_type": "code",
   "execution_count": 83,
   "metadata": {},
   "outputs": [
    {
     "data": {
      "text/html": [
       "<div>\n",
       "<style scoped>\n",
       "    .dataframe tbody tr th:only-of-type {\n",
       "        vertical-align: middle;\n",
       "    }\n",
       "\n",
       "    .dataframe tbody tr th {\n",
       "        vertical-align: top;\n",
       "    }\n",
       "\n",
       "    .dataframe thead th {\n",
       "        text-align: right;\n",
       "    }\n",
       "</style>\n",
       "<table border=\"1\" class=\"dataframe\">\n",
       "  <thead>\n",
       "    <tr style=\"text-align: right;\">\n",
       "      <th></th>\n",
       "      <th>Rank</th>\n",
       "      <th>learning_rate</th>\n",
       "      <th>max_depth</th>\n",
       "      <th>n_estimators</th>\n",
       "      <th>Accuracy</th>\n",
       "      <th>Fit Time</th>\n",
       "    </tr>\n",
       "  </thead>\n",
       "  <tbody>\n",
       "    <tr>\n",
       "      <th>0</th>\n",
       "      <td>15</td>\n",
       "      <td>0.1</td>\n",
       "      <td>4</td>\n",
       "      <td>1</td>\n",
       "      <td>0.608309</td>\n",
       "      <td>21.783935</td>\n",
       "    </tr>\n",
       "    <tr>\n",
       "      <th>1</th>\n",
       "      <td>17</td>\n",
       "      <td>0.1</td>\n",
       "      <td>4</td>\n",
       "      <td>5</td>\n",
       "      <td>0.590504</td>\n",
       "      <td>42.091922</td>\n",
       "    </tr>\n",
       "    <tr>\n",
       "      <th>2</th>\n",
       "      <td>1</td>\n",
       "      <td>0.1</td>\n",
       "      <td>4</td>\n",
       "      <td>10</td>\n",
       "      <td>0.623145</td>\n",
       "      <td>66.157668</td>\n",
       "    </tr>\n",
       "    <tr>\n",
       "      <th>3</th>\n",
       "      <td>13</td>\n",
       "      <td>0.1</td>\n",
       "      <td>4</td>\n",
       "      <td>50</td>\n",
       "      <td>0.611276</td>\n",
       "      <td>265.103034</td>\n",
       "    </tr>\n",
       "    <tr>\n",
       "      <th>4</th>\n",
       "      <td>21</td>\n",
       "      <td>0.1</td>\n",
       "      <td>6</td>\n",
       "      <td>1</td>\n",
       "      <td>0.569733</td>\n",
       "      <td>23.052423</td>\n",
       "    </tr>\n",
       "    <tr>\n",
       "      <th>5</th>\n",
       "      <td>9</td>\n",
       "      <td>0.1</td>\n",
       "      <td>6</td>\n",
       "      <td>5</td>\n",
       "      <td>0.614243</td>\n",
       "      <td>59.693890</td>\n",
       "    </tr>\n",
       "    <tr>\n",
       "      <th>6</th>\n",
       "      <td>9</td>\n",
       "      <td>0.1</td>\n",
       "      <td>6</td>\n",
       "      <td>10</td>\n",
       "      <td>0.614243</td>\n",
       "      <td>104.709658</td>\n",
       "    </tr>\n",
       "    <tr>\n",
       "      <th>7</th>\n",
       "      <td>7</td>\n",
       "      <td>0.1</td>\n",
       "      <td>6</td>\n",
       "      <td>50</td>\n",
       "      <td>0.617211</td>\n",
       "      <td>467.231941</td>\n",
       "    </tr>\n",
       "    <tr>\n",
       "      <th>8</th>\n",
       "      <td>19</td>\n",
       "      <td>0.1</td>\n",
       "      <td>10</td>\n",
       "      <td>1</td>\n",
       "      <td>0.575668</td>\n",
       "      <td>32.680511</td>\n",
       "    </tr>\n",
       "    <tr>\n",
       "      <th>9</th>\n",
       "      <td>23</td>\n",
       "      <td>0.1</td>\n",
       "      <td>10</td>\n",
       "      <td>5</td>\n",
       "      <td>0.560831</td>\n",
       "      <td>109.912144</td>\n",
       "    </tr>\n",
       "    <tr>\n",
       "      <th>10</th>\n",
       "      <td>5</td>\n",
       "      <td>0.1</td>\n",
       "      <td>10</td>\n",
       "      <td>10</td>\n",
       "      <td>0.620178</td>\n",
       "      <td>205.352820</td>\n",
       "    </tr>\n",
       "    <tr>\n",
       "      <th>11</th>\n",
       "      <td>1</td>\n",
       "      <td>0.1</td>\n",
       "      <td>10</td>\n",
       "      <td>50</td>\n",
       "      <td>0.623145</td>\n",
       "      <td>874.848997</td>\n",
       "    </tr>\n",
       "    <tr>\n",
       "      <th>12</th>\n",
       "      <td>15</td>\n",
       "      <td>0.3</td>\n",
       "      <td>4</td>\n",
       "      <td>1</td>\n",
       "      <td>0.608309</td>\n",
       "      <td>19.280566</td>\n",
       "    </tr>\n",
       "    <tr>\n",
       "      <th>13</th>\n",
       "      <td>17</td>\n",
       "      <td>0.3</td>\n",
       "      <td>4</td>\n",
       "      <td>5</td>\n",
       "      <td>0.590504</td>\n",
       "      <td>38.743218</td>\n",
       "    </tr>\n",
       "    <tr>\n",
       "      <th>14</th>\n",
       "      <td>1</td>\n",
       "      <td>0.3</td>\n",
       "      <td>4</td>\n",
       "      <td>10</td>\n",
       "      <td>0.623145</td>\n",
       "      <td>63.646388</td>\n",
       "    </tr>\n",
       "    <tr>\n",
       "      <th>15</th>\n",
       "      <td>13</td>\n",
       "      <td>0.3</td>\n",
       "      <td>4</td>\n",
       "      <td>50</td>\n",
       "      <td>0.611276</td>\n",
       "      <td>270.907022</td>\n",
       "    </tr>\n",
       "    <tr>\n",
       "      <th>16</th>\n",
       "      <td>21</td>\n",
       "      <td>0.3</td>\n",
       "      <td>6</td>\n",
       "      <td>1</td>\n",
       "      <td>0.569733</td>\n",
       "      <td>23.068451</td>\n",
       "    </tr>\n",
       "    <tr>\n",
       "      <th>17</th>\n",
       "      <td>9</td>\n",
       "      <td>0.3</td>\n",
       "      <td>6</td>\n",
       "      <td>5</td>\n",
       "      <td>0.614243</td>\n",
       "      <td>59.237466</td>\n",
       "    </tr>\n",
       "    <tr>\n",
       "      <th>18</th>\n",
       "      <td>9</td>\n",
       "      <td>0.3</td>\n",
       "      <td>6</td>\n",
       "      <td>10</td>\n",
       "      <td>0.614243</td>\n",
       "      <td>106.326756</td>\n",
       "    </tr>\n",
       "    <tr>\n",
       "      <th>19</th>\n",
       "      <td>7</td>\n",
       "      <td>0.3</td>\n",
       "      <td>6</td>\n",
       "      <td>50</td>\n",
       "      <td>0.617211</td>\n",
       "      <td>453.621104</td>\n",
       "    </tr>\n",
       "    <tr>\n",
       "      <th>20</th>\n",
       "      <td>19</td>\n",
       "      <td>0.3</td>\n",
       "      <td>10</td>\n",
       "      <td>1</td>\n",
       "      <td>0.575668</td>\n",
       "      <td>33.368746</td>\n",
       "    </tr>\n",
       "    <tr>\n",
       "      <th>21</th>\n",
       "      <td>23</td>\n",
       "      <td>0.3</td>\n",
       "      <td>10</td>\n",
       "      <td>5</td>\n",
       "      <td>0.560831</td>\n",
       "      <td>109.945566</td>\n",
       "    </tr>\n",
       "    <tr>\n",
       "      <th>22</th>\n",
       "      <td>5</td>\n",
       "      <td>0.3</td>\n",
       "      <td>10</td>\n",
       "      <td>10</td>\n",
       "      <td>0.620178</td>\n",
       "      <td>206.168233</td>\n",
       "    </tr>\n",
       "    <tr>\n",
       "      <th>23</th>\n",
       "      <td>1</td>\n",
       "      <td>0.3</td>\n",
       "      <td>10</td>\n",
       "      <td>50</td>\n",
       "      <td>0.623145</td>\n",
       "      <td>730.081334</td>\n",
       "    </tr>\n",
       "  </tbody>\n",
       "</table>\n",
       "</div>"
      ],
      "text/plain": [
       "    Rank  learning_rate  max_depth  n_estimators  Accuracy    Fit Time\n",
       "0     15            0.1          4             1  0.608309   21.783935\n",
       "1     17            0.1          4             5  0.590504   42.091922\n",
       "2      1            0.1          4            10  0.623145   66.157668\n",
       "3     13            0.1          4            50  0.611276  265.103034\n",
       "4     21            0.1          6             1  0.569733   23.052423\n",
       "5      9            0.1          6             5  0.614243   59.693890\n",
       "6      9            0.1          6            10  0.614243  104.709658\n",
       "7      7            0.1          6            50  0.617211  467.231941\n",
       "8     19            0.1         10             1  0.575668   32.680511\n",
       "9     23            0.1         10             5  0.560831  109.912144\n",
       "10     5            0.1         10            10  0.620178  205.352820\n",
       "11     1            0.1         10            50  0.623145  874.848997\n",
       "12    15            0.3          4             1  0.608309   19.280566\n",
       "13    17            0.3          4             5  0.590504   38.743218\n",
       "14     1            0.3          4            10  0.623145   63.646388\n",
       "15    13            0.3          4            50  0.611276  270.907022\n",
       "16    21            0.3          6             1  0.569733   23.068451\n",
       "17     9            0.3          6             5  0.614243   59.237466\n",
       "18     9            0.3          6            10  0.614243  106.326756\n",
       "19     7            0.3          6            50  0.617211  453.621104\n",
       "20    19            0.3         10             1  0.575668   33.368746\n",
       "21    23            0.3         10             5  0.560831  109.945566\n",
       "22     5            0.3         10            10  0.620178  206.168233\n",
       "23     1            0.3         10            50  0.623145  730.081334"
      ]
     },
     "execution_count": 83,
     "metadata": {},
     "output_type": "execute_result"
    }
   ],
   "source": [
    "pd.concat([pd.DataFrame(rf_model.cv_results_[\"rank_test_score\"], columns=[\"Rank\"]), pd.DataFrame(rf_model.cv_results_[\"params\"]),pd.DataFrame(rf_model.cv_results_[\"mean_test_score\"], columns=[\"Accuracy\"]),pd.DataFrame(rf_model.cv_results_[\"mean_fit_time\"], columns=[\"Fit Time\"])],axis=1)"
   ]
  },
  {
   "cell_type": "code",
   "execution_count": null,
   "metadata": {},
   "outputs": [],
   "source": [
    "# dump(rf_model, 'gs_rf_{}_{}.pkl'.format(N_TRAIN, IMG_SIZE))"
   ]
  },
  {
   "cell_type": "code",
   "execution_count": null,
   "metadata": {},
   "outputs": [],
   "source": [
    "# %reset_selective \"^rf_model$\""
   ]
  },
  {
   "cell_type": "markdown",
   "metadata": {},
   "source": [
    "Untuk Random Forest ini bisa diamati bahwa `learning_rate` tidak mempengaruhi akurasi dari model, namun berpengaruh pada fit time, terutama untuk model dengna jumlah estimator dan tree depth yang tinggi.\n",
    "\n",
    "## XGBoost Classifier"
   ]
  },
  {
   "cell_type": "code",
   "execution_count": 70,
   "metadata": {},
   "outputs": [],
   "source": [
    "xg_base = xgb.XGBClassifier()\n",
    "xg_grid = {\n",
    "\"max_depth\" : [4, 6, 10],\n",
    "\"learning_rate\" : [0.1, 0.3],\n",
    "\"n_estimators\" : [1, 5, 10, 50]\n",
    "}\n",
    "xg_model = GridSearchCV(xg_base, xg_grid, cv=cv, n_jobs=4, verbose=100)"
   ]
  },
  {
   "cell_type": "code",
   "execution_count": 71,
   "metadata": {},
   "outputs": [
    {
     "name": "stdout",
     "output_type": "stream",
     "text": [
      "Fitting 1 folds for each of 24 candidates, totalling 24 fits\n",
      "[Parallel(n_jobs=4)]: Using backend LokyBackend with 4 concurrent workers.\n",
      "[Parallel(n_jobs=4)]: Done   1 tasks      | elapsed:   24.8s\n",
      "[Parallel(n_jobs=4)]: Done   2 tasks      | elapsed:   50.3s\n",
      "[Parallel(n_jobs=4)]: Done   3 tasks      | elapsed:   50.3s\n",
      "[Parallel(n_jobs=4)]: Done   4 tasks      | elapsed:  1.4min\n",
      "[Parallel(n_jobs=4)]: Done   5 tasks      | elapsed:  2.1min\n",
      "[Parallel(n_jobs=4)]: Done   6 tasks      | elapsed:  2.7min\n",
      "[Parallel(n_jobs=4)]: Done   7 tasks      | elapsed:  3.0min\n",
      "[Parallel(n_jobs=4)]: Done   8 tasks      | elapsed:  5.1min\n",
      "[Parallel(n_jobs=4)]: Done   9 tasks      | elapsed:  5.4min\n",
      "[Parallel(n_jobs=4)]: Done  10 tasks      | elapsed:  5.7min\n",
      "[Parallel(n_jobs=4)]: Done  11 tasks      | elapsed:  6.5min\n",
      "[Parallel(n_jobs=4)]: Done  12 tasks      | elapsed:  7.5min\n",
      "[Parallel(n_jobs=4)]: Done  13 tasks      | elapsed:  7.8min\n",
      "[Parallel(n_jobs=4)]: Done  14 tasks      | elapsed:  8.2min\n",
      "[Parallel(n_jobs=4)]: Done  15 tasks      | elapsed:  9.4min\n",
      "[Parallel(n_jobs=4)]: Done  16 tasks      | elapsed: 10.6min\n",
      "[Parallel(n_jobs=4)]: Done  17 tasks      | elapsed: 11.5min\n",
      "[Parallel(n_jobs=4)]: Done  18 out of  24 | elapsed: 12.2min remaining:  4.1min\n",
      "[Parallel(n_jobs=4)]: Done  19 out of  24 | elapsed: 12.7min remaining:  3.3min\n",
      "[Parallel(n_jobs=4)]: Done  20 out of  24 | elapsed: 14.6min remaining:  2.9min\n",
      "[Parallel(n_jobs=4)]: Done  21 out of  24 | elapsed: 17.1min remaining:  2.4min\n",
      "[Parallel(n_jobs=4)]: Done  22 out of  24 | elapsed: 19.4min remaining:  1.8min\n",
      "[Parallel(n_jobs=4)]: Done  24 out of  24 | elapsed: 28.0min remaining:    0.0s\n",
      "[Parallel(n_jobs=4)]: Done  24 out of  24 | elapsed: 28.0min finished\n"
     ]
    }
   ],
   "source": [
    "xg_model = xg_model.fit(X, y)"
   ]
  },
  {
   "cell_type": "code",
   "execution_count": 84,
   "metadata": {},
   "outputs": [
    {
     "data": {
      "text/html": [
       "<div>\n",
       "<style scoped>\n",
       "    .dataframe tbody tr th:only-of-type {\n",
       "        vertical-align: middle;\n",
       "    }\n",
       "\n",
       "    .dataframe tbody tr th {\n",
       "        vertical-align: top;\n",
       "    }\n",
       "\n",
       "    .dataframe thead th {\n",
       "        text-align: right;\n",
       "    }\n",
       "</style>\n",
       "<table border=\"1\" class=\"dataframe\">\n",
       "  <thead>\n",
       "    <tr style=\"text-align: right;\">\n",
       "      <th></th>\n",
       "      <th>Rank</th>\n",
       "      <th>learning_rate</th>\n",
       "      <th>max_depth</th>\n",
       "      <th>n_estimators</th>\n",
       "      <th>Accuracy</th>\n",
       "      <th>Fit Time</th>\n",
       "    </tr>\n",
       "  </thead>\n",
       "  <tbody>\n",
       "    <tr>\n",
       "      <th>0</th>\n",
       "      <td>23</td>\n",
       "      <td>0.1</td>\n",
       "      <td>4</td>\n",
       "      <td>1</td>\n",
       "      <td>0.551929</td>\n",
       "      <td>22.435227</td>\n",
       "    </tr>\n",
       "    <tr>\n",
       "      <th>1</th>\n",
       "      <td>5</td>\n",
       "      <td>0.1</td>\n",
       "      <td>4</td>\n",
       "      <td>5</td>\n",
       "      <td>0.632047</td>\n",
       "      <td>47.953519</td>\n",
       "    </tr>\n",
       "    <tr>\n",
       "      <th>2</th>\n",
       "      <td>3</td>\n",
       "      <td>0.1</td>\n",
       "      <td>4</td>\n",
       "      <td>10</td>\n",
       "      <td>0.637982</td>\n",
       "      <td>79.806288</td>\n",
       "    </tr>\n",
       "    <tr>\n",
       "      <th>3</th>\n",
       "      <td>2</td>\n",
       "      <td>0.1</td>\n",
       "      <td>4</td>\n",
       "      <td>50</td>\n",
       "      <td>0.643917</td>\n",
       "      <td>319.830331</td>\n",
       "    </tr>\n",
       "    <tr>\n",
       "      <th>4</th>\n",
       "      <td>21</td>\n",
       "      <td>0.1</td>\n",
       "      <td>6</td>\n",
       "      <td>1</td>\n",
       "      <td>0.554896</td>\n",
       "      <td>25.296498</td>\n",
       "    </tr>\n",
       "    <tr>\n",
       "      <th>5</th>\n",
       "      <td>15</td>\n",
       "      <td>0.1</td>\n",
       "      <td>6</td>\n",
       "      <td>5</td>\n",
       "      <td>0.578635</td>\n",
       "      <td>72.879623</td>\n",
       "    </tr>\n",
       "    <tr>\n",
       "      <th>6</th>\n",
       "      <td>11</td>\n",
       "      <td>0.1</td>\n",
       "      <td>6</td>\n",
       "      <td>10</td>\n",
       "      <td>0.602374</td>\n",
       "      <td>130.896523</td>\n",
       "    </tr>\n",
       "    <tr>\n",
       "      <th>7</th>\n",
       "      <td>4</td>\n",
       "      <td>0.1</td>\n",
       "      <td>6</td>\n",
       "      <td>50</td>\n",
       "      <td>0.635015</td>\n",
       "      <td>556.089526</td>\n",
       "    </tr>\n",
       "    <tr>\n",
       "      <th>8</th>\n",
       "      <td>19</td>\n",
       "      <td>0.1</td>\n",
       "      <td>10</td>\n",
       "      <td>1</td>\n",
       "      <td>0.560831</td>\n",
       "      <td>40.804119</td>\n",
       "    </tr>\n",
       "    <tr>\n",
       "      <th>9</th>\n",
       "      <td>15</td>\n",
       "      <td>0.1</td>\n",
       "      <td>10</td>\n",
       "      <td>5</td>\n",
       "      <td>0.578635</td>\n",
       "      <td>140.886188</td>\n",
       "    </tr>\n",
       "    <tr>\n",
       "      <th>10</th>\n",
       "      <td>6</td>\n",
       "      <td>0.1</td>\n",
       "      <td>10</td>\n",
       "      <td>10</td>\n",
       "      <td>0.620178</td>\n",
       "      <td>266.774423</td>\n",
       "    </tr>\n",
       "    <tr>\n",
       "      <th>11</th>\n",
       "      <td>1</td>\n",
       "      <td>0.1</td>\n",
       "      <td>10</td>\n",
       "      <td>50</td>\n",
       "      <td>0.649852</td>\n",
       "      <td>1085.707308</td>\n",
       "    </tr>\n",
       "    <tr>\n",
       "      <th>12</th>\n",
       "      <td>23</td>\n",
       "      <td>0.3</td>\n",
       "      <td>4</td>\n",
       "      <td>1</td>\n",
       "      <td>0.551929</td>\n",
       "      <td>20.281339</td>\n",
       "    </tr>\n",
       "    <tr>\n",
       "      <th>13</th>\n",
       "      <td>8</td>\n",
       "      <td>0.3</td>\n",
       "      <td>4</td>\n",
       "      <td>5</td>\n",
       "      <td>0.611276</td>\n",
       "      <td>46.105438</td>\n",
       "    </tr>\n",
       "    <tr>\n",
       "      <th>14</th>\n",
       "      <td>9</td>\n",
       "      <td>0.3</td>\n",
       "      <td>4</td>\n",
       "      <td>10</td>\n",
       "      <td>0.608309</td>\n",
       "      <td>77.248423</td>\n",
       "    </tr>\n",
       "    <tr>\n",
       "      <th>15</th>\n",
       "      <td>9</td>\n",
       "      <td>0.3</td>\n",
       "      <td>4</td>\n",
       "      <td>50</td>\n",
       "      <td>0.608309</td>\n",
       "      <td>313.834774</td>\n",
       "    </tr>\n",
       "    <tr>\n",
       "      <th>16</th>\n",
       "      <td>21</td>\n",
       "      <td>0.3</td>\n",
       "      <td>6</td>\n",
       "      <td>1</td>\n",
       "      <td>0.554896</td>\n",
       "      <td>25.530035</td>\n",
       "    </tr>\n",
       "    <tr>\n",
       "      <th>17</th>\n",
       "      <td>18</td>\n",
       "      <td>0.3</td>\n",
       "      <td>6</td>\n",
       "      <td>5</td>\n",
       "      <td>0.572700</td>\n",
       "      <td>70.007715</td>\n",
       "    </tr>\n",
       "    <tr>\n",
       "      <th>18</th>\n",
       "      <td>17</td>\n",
       "      <td>0.3</td>\n",
       "      <td>6</td>\n",
       "      <td>10</td>\n",
       "      <td>0.575668</td>\n",
       "      <td>129.908074</td>\n",
       "    </tr>\n",
       "    <tr>\n",
       "      <th>19</th>\n",
       "      <td>11</td>\n",
       "      <td>0.3</td>\n",
       "      <td>6</td>\n",
       "      <td>50</td>\n",
       "      <td>0.602374</td>\n",
       "      <td>523.086445</td>\n",
       "    </tr>\n",
       "    <tr>\n",
       "      <th>20</th>\n",
       "      <td>19</td>\n",
       "      <td>0.3</td>\n",
       "      <td>10</td>\n",
       "      <td>1</td>\n",
       "      <td>0.560831</td>\n",
       "      <td>40.230542</td>\n",
       "    </tr>\n",
       "    <tr>\n",
       "      <th>21</th>\n",
       "      <td>14</td>\n",
       "      <td>0.3</td>\n",
       "      <td>10</td>\n",
       "      <td>5</td>\n",
       "      <td>0.584570</td>\n",
       "      <td>141.347467</td>\n",
       "    </tr>\n",
       "    <tr>\n",
       "      <th>22</th>\n",
       "      <td>13</td>\n",
       "      <td>0.3</td>\n",
       "      <td>10</td>\n",
       "      <td>10</td>\n",
       "      <td>0.587537</td>\n",
       "      <td>263.670961</td>\n",
       "    </tr>\n",
       "    <tr>\n",
       "      <th>23</th>\n",
       "      <td>7</td>\n",
       "      <td>0.3</td>\n",
       "      <td>10</td>\n",
       "      <td>50</td>\n",
       "      <td>0.617211</td>\n",
       "      <td>808.373518</td>\n",
       "    </tr>\n",
       "  </tbody>\n",
       "</table>\n",
       "</div>"
      ],
      "text/plain": [
       "    Rank  learning_rate  max_depth  n_estimators  Accuracy     Fit Time\n",
       "0     23            0.1          4             1  0.551929    22.435227\n",
       "1      5            0.1          4             5  0.632047    47.953519\n",
       "2      3            0.1          4            10  0.637982    79.806288\n",
       "3      2            0.1          4            50  0.643917   319.830331\n",
       "4     21            0.1          6             1  0.554896    25.296498\n",
       "5     15            0.1          6             5  0.578635    72.879623\n",
       "6     11            0.1          6            10  0.602374   130.896523\n",
       "7      4            0.1          6            50  0.635015   556.089526\n",
       "8     19            0.1         10             1  0.560831    40.804119\n",
       "9     15            0.1         10             5  0.578635   140.886188\n",
       "10     6            0.1         10            10  0.620178   266.774423\n",
       "11     1            0.1         10            50  0.649852  1085.707308\n",
       "12    23            0.3          4             1  0.551929    20.281339\n",
       "13     8            0.3          4             5  0.611276    46.105438\n",
       "14     9            0.3          4            10  0.608309    77.248423\n",
       "15     9            0.3          4            50  0.608309   313.834774\n",
       "16    21            0.3          6             1  0.554896    25.530035\n",
       "17    18            0.3          6             5  0.572700    70.007715\n",
       "18    17            0.3          6            10  0.575668   129.908074\n",
       "19    11            0.3          6            50  0.602374   523.086445\n",
       "20    19            0.3         10             1  0.560831    40.230542\n",
       "21    14            0.3         10             5  0.584570   141.347467\n",
       "22    13            0.3         10            10  0.587537   263.670961\n",
       "23     7            0.3         10            50  0.617211   808.373518"
      ]
     },
     "execution_count": 84,
     "metadata": {},
     "output_type": "execute_result"
    }
   ],
   "source": [
    "pd.concat([pd.DataFrame(xg_model.cv_results_[\"rank_test_score\"], columns=[\"Rank\"]), pd.DataFrame(xg_model.cv_results_[\"params\"]),pd.DataFrame(xg_model.cv_results_[\"mean_test_score\"], columns=[\"Accuracy\"]),pd.DataFrame(xg_model.cv_results_[\"mean_fit_time\"], columns=[\"Fit Time\"])],axis=1)"
   ]
  },
  {
   "cell_type": "code",
   "execution_count": null,
   "metadata": {},
   "outputs": [],
   "source": [
    "# dump(xg_model, 'gs_xg_{}_{}.pkl'.format(N_TRAIN, IMG_SIZE))"
   ]
  },
  {
   "cell_type": "markdown",
   "metadata": {},
   "source": [
    "Bisa diamati bahwa XGBoost memiliki mean accuracy yang lebih tinggi dibandingkan dua model lainnya. Yang dihasilkan oleh parameter learning rate, tre depth, dan jumlah estimator respectively 0.1, 10, 50 dengan mean accuracy 0.649852"
   ]
  },
  {
   "cell_type": "markdown",
   "metadata": {},
   "source": [
    "# Kesimpulan\n",
    "\n",
    "Telah dilakukan eksperimen dengan berbagai kombinasi parameter. Jika kita melihat performa terbaik yang dihasilkan per model, bisa diamati bahwa model DTL memberikan performa terburuk dan mendekati performa bila komputer menebak kelas dengan uniformly random (mean accuration 0.558). Lalu untuk Random Forest memiliki performa yang relatif lebih baik dengan mean accuration 0.623. Dan XGBoost memberikan performa terbaik dengna mean accuration 0.649."
   ]
  }
 ],
 "metadata": {
  "accelerator": "GPU",
  "colab": {
   "collapsed_sections": [],
   "name": "Sintel.ipynb",
   "provenance": []
  },
  "environment": {
   "name": "pytorch-gpu.1-4.m58",
   "type": "gcloud",
   "uri": "gcr.io/deeplearning-platform-release/pytorch-gpu.1-4:m58"
  },
  "kernelspec": {
   "display_name": "Python 3",
   "language": "python",
   "name": "python3"
  },
  "language_info": {
   "codemirror_mode": {
    "name": "ipython",
    "version": 3
   },
   "file_extension": ".py",
   "mimetype": "text/x-python",
   "name": "python",
   "nbconvert_exporter": "python",
   "pygments_lexer": "ipython3",
   "version": "3.7.8"
  },
  "widgets": {
   "application/vnd.jupyter.widget-state+json": {
    "1ba07bf923504223a3944b5eb2048d92": {
     "model_module": "@jupyter-widgets/controls",
     "model_name": "ProgressStyleModel",
     "state": {
      "_model_module": "@jupyter-widgets/controls",
      "_model_module_version": "1.5.0",
      "_model_name": "ProgressStyleModel",
      "_view_count": null,
      "_view_module": "@jupyter-widgets/base",
      "_view_module_version": "1.2.0",
      "_view_name": "StyleView",
      "bar_color": null,
      "description_width": "initial"
     }
    },
    "29fc66c3621346cf8d1a028b5d85445a": {
     "model_module": "@jupyter-widgets/base",
     "model_name": "LayoutModel",
     "state": {
      "_model_module": "@jupyter-widgets/base",
      "_model_module_version": "1.2.0",
      "_model_name": "LayoutModel",
      "_view_count": null,
      "_view_module": "@jupyter-widgets/base",
      "_view_module_version": "1.2.0",
      "_view_name": "LayoutView",
      "align_content": null,
      "align_items": null,
      "align_self": null,
      "border": null,
      "bottom": null,
      "display": null,
      "flex": null,
      "flex_flow": null,
      "grid_area": null,
      "grid_auto_columns": null,
      "grid_auto_flow": null,
      "grid_auto_rows": null,
      "grid_column": null,
      "grid_gap": null,
      "grid_row": null,
      "grid_template_areas": null,
      "grid_template_columns": null,
      "grid_template_rows": null,
      "height": null,
      "justify_content": null,
      "justify_items": null,
      "left": null,
      "margin": null,
      "max_height": null,
      "max_width": null,
      "min_height": null,
      "min_width": null,
      "object_fit": null,
      "object_position": null,
      "order": null,
      "overflow": null,
      "overflow_x": null,
      "overflow_y": null,
      "padding": null,
      "right": null,
      "top": null,
      "visibility": null,
      "width": null
     }
    },
    "2b9f3618dabf4ad7a6c75fcd820ccc43": {
     "model_module": "@jupyter-widgets/controls",
     "model_name": "ProgressStyleModel",
     "state": {
      "_model_module": "@jupyter-widgets/controls",
      "_model_module_version": "1.5.0",
      "_model_name": "ProgressStyleModel",
      "_view_count": null,
      "_view_module": "@jupyter-widgets/base",
      "_view_module_version": "1.2.0",
      "_view_name": "StyleView",
      "bar_color": null,
      "description_width": "initial"
     }
    },
    "357d12b8cd11449e941beafe5b6a263e": {
     "model_module": "@jupyter-widgets/base",
     "model_name": "LayoutModel",
     "state": {
      "_model_module": "@jupyter-widgets/base",
      "_model_module_version": "1.2.0",
      "_model_name": "LayoutModel",
      "_view_count": null,
      "_view_module": "@jupyter-widgets/base",
      "_view_module_version": "1.2.0",
      "_view_name": "LayoutView",
      "align_content": null,
      "align_items": null,
      "align_self": null,
      "border": null,
      "bottom": null,
      "display": null,
      "flex": null,
      "flex_flow": null,
      "grid_area": null,
      "grid_auto_columns": null,
      "grid_auto_flow": null,
      "grid_auto_rows": null,
      "grid_column": null,
      "grid_gap": null,
      "grid_row": null,
      "grid_template_areas": null,
      "grid_template_columns": null,
      "grid_template_rows": null,
      "height": null,
      "justify_content": null,
      "justify_items": null,
      "left": null,
      "margin": null,
      "max_height": null,
      "max_width": null,
      "min_height": null,
      "min_width": null,
      "object_fit": null,
      "object_position": null,
      "order": null,
      "overflow": null,
      "overflow_x": null,
      "overflow_y": null,
      "padding": null,
      "right": null,
      "top": null,
      "visibility": null,
      "width": null
     }
    },
    "46dd0c626c594f75ab8c4719336cf6da": {
     "model_module": "@jupyter-widgets/controls",
     "model_name": "HBoxModel",
     "state": {
      "_dom_classes": [],
      "_model_module": "@jupyter-widgets/controls",
      "_model_module_version": "1.5.0",
      "_model_name": "HBoxModel",
      "_view_count": null,
      "_view_module": "@jupyter-widgets/controls",
      "_view_module_version": "1.5.0",
      "_view_name": "HBoxView",
      "box_style": "",
      "children": [
       "IPY_MODEL_fba2dcdda61f4487ae35041ed543b894",
       "IPY_MODEL_b62fe48541444737bf23ead5fe8ec948"
      ],
      "layout": "IPY_MODEL_c829650c9f1d4485a0648569a147926f"
     }
    },
    "4cf3ff9fb3b74d1f85aa32930f41f0f6": {
     "model_module": "@jupyter-widgets/base",
     "model_name": "LayoutModel",
     "state": {
      "_model_module": "@jupyter-widgets/base",
      "_model_module_version": "1.2.0",
      "_model_name": "LayoutModel",
      "_view_count": null,
      "_view_module": "@jupyter-widgets/base",
      "_view_module_version": "1.2.0",
      "_view_name": "LayoutView",
      "align_content": null,
      "align_items": null,
      "align_self": null,
      "border": null,
      "bottom": null,
      "display": null,
      "flex": null,
      "flex_flow": null,
      "grid_area": null,
      "grid_auto_columns": null,
      "grid_auto_flow": null,
      "grid_auto_rows": null,
      "grid_column": null,
      "grid_gap": null,
      "grid_row": null,
      "grid_template_areas": null,
      "grid_template_columns": null,
      "grid_template_rows": null,
      "height": null,
      "justify_content": null,
      "justify_items": null,
      "left": null,
      "margin": null,
      "max_height": null,
      "max_width": null,
      "min_height": null,
      "min_width": null,
      "object_fit": null,
      "object_position": null,
      "order": null,
      "overflow": null,
      "overflow_x": null,
      "overflow_y": null,
      "padding": null,
      "right": null,
      "top": null,
      "visibility": null,
      "width": null
     }
    },
    "50a6fb05c5054876b233ef7e17e2d424": {
     "model_module": "@jupyter-widgets/base",
     "model_name": "LayoutModel",
     "state": {
      "_model_module": "@jupyter-widgets/base",
      "_model_module_version": "1.2.0",
      "_model_name": "LayoutModel",
      "_view_count": null,
      "_view_module": "@jupyter-widgets/base",
      "_view_module_version": "1.2.0",
      "_view_name": "LayoutView",
      "align_content": null,
      "align_items": null,
      "align_self": null,
      "border": null,
      "bottom": null,
      "display": null,
      "flex": null,
      "flex_flow": null,
      "grid_area": null,
      "grid_auto_columns": null,
      "grid_auto_flow": null,
      "grid_auto_rows": null,
      "grid_column": null,
      "grid_gap": null,
      "grid_row": null,
      "grid_template_areas": null,
      "grid_template_columns": null,
      "grid_template_rows": null,
      "height": null,
      "justify_content": null,
      "justify_items": null,
      "left": null,
      "margin": null,
      "max_height": null,
      "max_width": null,
      "min_height": null,
      "min_width": null,
      "object_fit": null,
      "object_position": null,
      "order": null,
      "overflow": null,
      "overflow_x": null,
      "overflow_y": null,
      "padding": null,
      "right": null,
      "top": null,
      "visibility": null,
      "width": null
     }
    },
    "6ed1af10ecd5479c95c06c872a567375": {
     "model_module": "@jupyter-widgets/base",
     "model_name": "LayoutModel",
     "state": {
      "_model_module": "@jupyter-widgets/base",
      "_model_module_version": "1.2.0",
      "_model_name": "LayoutModel",
      "_view_count": null,
      "_view_module": "@jupyter-widgets/base",
      "_view_module_version": "1.2.0",
      "_view_name": "LayoutView",
      "align_content": null,
      "align_items": null,
      "align_self": null,
      "border": null,
      "bottom": null,
      "display": null,
      "flex": null,
      "flex_flow": null,
      "grid_area": null,
      "grid_auto_columns": null,
      "grid_auto_flow": null,
      "grid_auto_rows": null,
      "grid_column": null,
      "grid_gap": null,
      "grid_row": null,
      "grid_template_areas": null,
      "grid_template_columns": null,
      "grid_template_rows": null,
      "height": null,
      "justify_content": null,
      "justify_items": null,
      "left": null,
      "margin": null,
      "max_height": null,
      "max_width": null,
      "min_height": null,
      "min_width": null,
      "object_fit": null,
      "object_position": null,
      "order": null,
      "overflow": null,
      "overflow_x": null,
      "overflow_y": null,
      "padding": null,
      "right": null,
      "top": null,
      "visibility": null,
      "width": null
     }
    },
    "7374b92fe66a488d91b7277db8b1cae2": {
     "model_module": "@jupyter-widgets/controls",
     "model_name": "FloatProgressModel",
     "state": {
      "_dom_classes": [],
      "_model_module": "@jupyter-widgets/controls",
      "_model_module_version": "1.5.0",
      "_model_name": "FloatProgressModel",
      "_view_count": null,
      "_view_module": "@jupyter-widgets/controls",
      "_view_module_version": "1.5.0",
      "_view_name": "ProgressView",
      "bar_style": "success",
      "description": "100%",
      "description_tooltip": null,
      "layout": "IPY_MODEL_6ed1af10ecd5479c95c06c872a567375",
      "max": 8083,
      "min": 0,
      "orientation": "horizontal",
      "style": "IPY_MODEL_2b9f3618dabf4ad7a6c75fcd820ccc43",
      "value": 8083
     }
    },
    "7808034df40b4daa99b8a90a88eeeac0": {
     "model_module": "@jupyter-widgets/controls",
     "model_name": "HBoxModel",
     "state": {
      "_dom_classes": [],
      "_model_module": "@jupyter-widgets/controls",
      "_model_module_version": "1.5.0",
      "_model_name": "HBoxModel",
      "_view_count": null,
      "_view_module": "@jupyter-widgets/controls",
      "_view_module_version": "1.5.0",
      "_view_name": "HBoxView",
      "box_style": "",
      "children": [
       "IPY_MODEL_7374b92fe66a488d91b7277db8b1cae2",
       "IPY_MODEL_ce6f1cfbd894485dbcf23d8712a1544a"
      ],
      "layout": "IPY_MODEL_4cf3ff9fb3b74d1f85aa32930f41f0f6"
     }
    },
    "88ed03204be749249ba49878ba613f4b": {
     "model_module": "@jupyter-widgets/controls",
     "model_name": "DescriptionStyleModel",
     "state": {
      "_model_module": "@jupyter-widgets/controls",
      "_model_module_version": "1.5.0",
      "_model_name": "DescriptionStyleModel",
      "_view_count": null,
      "_view_module": "@jupyter-widgets/base",
      "_view_module_version": "1.2.0",
      "_view_name": "StyleView",
      "description_width": ""
     }
    },
    "b62fe48541444737bf23ead5fe8ec948": {
     "model_module": "@jupyter-widgets/controls",
     "model_name": "HTMLModel",
     "state": {
      "_dom_classes": [],
      "_model_module": "@jupyter-widgets/controls",
      "_model_module_version": "1.5.0",
      "_model_name": "HTMLModel",
      "_view_count": null,
      "_view_module": "@jupyter-widgets/controls",
      "_view_module_version": "1.5.0",
      "_view_name": "HTMLView",
      "description": "",
      "description_tooltip": null,
      "layout": "IPY_MODEL_357d12b8cd11449e941beafe5b6a263e",
      "placeholder": "​",
      "style": "IPY_MODEL_e894ee71dd4041b1b05d4f9f364be52e",
      "value": " 337/337 [00:34&lt;00:00,  9.79it/s]"
     }
    },
    "c829650c9f1d4485a0648569a147926f": {
     "model_module": "@jupyter-widgets/base",
     "model_name": "LayoutModel",
     "state": {
      "_model_module": "@jupyter-widgets/base",
      "_model_module_version": "1.2.0",
      "_model_name": "LayoutModel",
      "_view_count": null,
      "_view_module": "@jupyter-widgets/base",
      "_view_module_version": "1.2.0",
      "_view_name": "LayoutView",
      "align_content": null,
      "align_items": null,
      "align_self": null,
      "border": null,
      "bottom": null,
      "display": null,
      "flex": null,
      "flex_flow": null,
      "grid_area": null,
      "grid_auto_columns": null,
      "grid_auto_flow": null,
      "grid_auto_rows": null,
      "grid_column": null,
      "grid_gap": null,
      "grid_row": null,
      "grid_template_areas": null,
      "grid_template_columns": null,
      "grid_template_rows": null,
      "height": null,
      "justify_content": null,
      "justify_items": null,
      "left": null,
      "margin": null,
      "max_height": null,
      "max_width": null,
      "min_height": null,
      "min_width": null,
      "object_fit": null,
      "object_position": null,
      "order": null,
      "overflow": null,
      "overflow_x": null,
      "overflow_y": null,
      "padding": null,
      "right": null,
      "top": null,
      "visibility": null,
      "width": null
     }
    },
    "ce6f1cfbd894485dbcf23d8712a1544a": {
     "model_module": "@jupyter-widgets/controls",
     "model_name": "HTMLModel",
     "state": {
      "_dom_classes": [],
      "_model_module": "@jupyter-widgets/controls",
      "_model_module_version": "1.5.0",
      "_model_name": "HTMLModel",
      "_view_count": null,
      "_view_module": "@jupyter-widgets/controls",
      "_view_module_version": "1.5.0",
      "_view_name": "HTMLView",
      "description": "",
      "description_tooltip": null,
      "layout": "IPY_MODEL_29fc66c3621346cf8d1a028b5d85445a",
      "placeholder": "​",
      "style": "IPY_MODEL_88ed03204be749249ba49878ba613f4b",
      "value": " 8083/8083 [39:18&lt;00:00,  3.43it/s]"
     }
    },
    "e894ee71dd4041b1b05d4f9f364be52e": {
     "model_module": "@jupyter-widgets/controls",
     "model_name": "DescriptionStyleModel",
     "state": {
      "_model_module": "@jupyter-widgets/controls",
      "_model_module_version": "1.5.0",
      "_model_name": "DescriptionStyleModel",
      "_view_count": null,
      "_view_module": "@jupyter-widgets/base",
      "_view_module_version": "1.2.0",
      "_view_name": "StyleView",
      "description_width": ""
     }
    },
    "fba2dcdda61f4487ae35041ed543b894": {
     "model_module": "@jupyter-widgets/controls",
     "model_name": "FloatProgressModel",
     "state": {
      "_dom_classes": [],
      "_model_module": "@jupyter-widgets/controls",
      "_model_module_version": "1.5.0",
      "_model_name": "FloatProgressModel",
      "_view_count": null,
      "_view_module": "@jupyter-widgets/controls",
      "_view_module_version": "1.5.0",
      "_view_name": "ProgressView",
      "bar_style": "success",
      "description": "100%",
      "description_tooltip": null,
      "layout": "IPY_MODEL_50a6fb05c5054876b233ef7e17e2d424",
      "max": 337,
      "min": 0,
      "orientation": "horizontal",
      "style": "IPY_MODEL_1ba07bf923504223a3944b5eb2048d92",
      "value": 337
     }
    }
   }
  }
 },
 "nbformat": 4,
 "nbformat_minor": 4
}
