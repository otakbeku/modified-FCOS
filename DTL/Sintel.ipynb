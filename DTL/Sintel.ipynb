{
 "cells": [
  {
   "cell_type": "markdown",
   "metadata": {
    "id": "Udf-Jiqyserm"
   },
   "source": [
    "# Setup COCO API\n"
   ]
  },
  {
   "cell_type": "code",
   "execution_count": 1,
   "metadata": {
    "colab": {
     "base_uri": "https://localhost:8080/"
    },
    "id": "ROt71vfIeFyz",
    "outputId": "a54936ef-e087-4d82-dec8-c16cd8bac581"
   },
   "outputs": [
    {
     "name": "stdout",
     "output_type": "stream",
     "text": [
      "Requirement already satisfied: Cython in /opt/conda/lib/python3.7/site-packages (0.29.21)\n",
      "Requirement already satisfied: xgboost in /opt/conda/lib/python3.7/site-packages (1.2.1)\n",
      "Requirement already satisfied: numpy in /opt/conda/lib/python3.7/site-packages (from xgboost) (1.18.5)\n",
      "Requirement already satisfied: scipy in /opt/conda/lib/python3.7/site-packages (from xgboost) (1.5.2)\n",
      "Requirement already satisfied: scikit-image in /opt/conda/lib/python3.7/site-packages (0.17.2)\n",
      "Requirement already satisfied: scikit-learn in /opt/conda/lib/python3.7/site-packages (0.23.2)\n",
      "Requirement already satisfied: graphviz in /opt/conda/lib/python3.7/site-packages (0.14.2)\n",
      "Requirement already satisfied: numpy>=1.15.1 in /opt/conda/lib/python3.7/site-packages (from scikit-image) (1.18.5)\n",
      "Requirement already satisfied: scipy>=1.0.1 in /opt/conda/lib/python3.7/site-packages (from scikit-image) (1.5.2)\n",
      "Requirement already satisfied: matplotlib!=3.0.0,>=2.0.0 in /opt/conda/lib/python3.7/site-packages (from scikit-image) (3.3.2)\n",
      "Requirement already satisfied: networkx>=2.0 in /opt/conda/lib/python3.7/site-packages (from scikit-image) (2.5)\n",
      "Requirement already satisfied: pillow!=7.1.0,!=7.1.1,>=4.3.0 in /opt/conda/lib/python3.7/site-packages (from scikit-image) (7.2.0)\n",
      "Requirement already satisfied: imageio>=2.3.0 in /opt/conda/lib/python3.7/site-packages (from scikit-image) (2.9.0)\n",
      "Requirement already satisfied: tifffile>=2019.7.26 in /opt/conda/lib/python3.7/site-packages (from scikit-image) (2020.10.1)\n",
      "Requirement already satisfied: PyWavelets>=1.1.1 in /opt/conda/lib/python3.7/site-packages (from scikit-image) (1.1.1)\n",
      "Requirement already satisfied: joblib>=0.11 in /opt/conda/lib/python3.7/site-packages (from scikit-learn) (0.17.0)\n",
      "Requirement already satisfied: threadpoolctl>=2.0.0 in /opt/conda/lib/python3.7/site-packages (from scikit-learn) (2.1.0)\n",
      "Requirement already satisfied: pyparsing!=2.0.4,!=2.1.2,!=2.1.6,>=2.0.3 in /opt/conda/lib/python3.7/site-packages (from matplotlib!=3.0.0,>=2.0.0->scikit-image) (2.4.7)\n",
      "Requirement already satisfied: kiwisolver>=1.0.1 in /opt/conda/lib/python3.7/site-packages (from matplotlib!=3.0.0,>=2.0.0->scikit-image) (1.2.0)\n",
      "Requirement already satisfied: cycler>=0.10 in /opt/conda/lib/python3.7/site-packages (from matplotlib!=3.0.0,>=2.0.0->scikit-image) (0.10.0)\n",
      "Requirement already satisfied: certifi>=2020.06.20 in /opt/conda/lib/python3.7/site-packages (from matplotlib!=3.0.0,>=2.0.0->scikit-image) (2020.6.20)\n",
      "Requirement already satisfied: python-dateutil>=2.1 in /opt/conda/lib/python3.7/site-packages (from matplotlib!=3.0.0,>=2.0.0->scikit-image) (2.8.1)\n",
      "Requirement already satisfied: decorator>=4.3.0 in /opt/conda/lib/python3.7/site-packages (from networkx>=2.0->scikit-image) (4.4.2)\n",
      "Requirement already satisfied: six in /opt/conda/lib/python3.7/site-packages (from cycler>=0.10->matplotlib!=3.0.0,>=2.0.0->scikit-image) (1.15.0)\n"
     ]
    }
   ],
   "source": [
    "!pip install Cython\n",
    "!pip install -q \"tqdm>=4.36.1\"\n",
    "!pip3 install xgboost\n",
    "!pip3 install scikit-image scikit-learn graphviz"
   ]
  },
  {
   "cell_type": "code",
   "execution_count": 2,
   "metadata": {
    "id": "D5Ij1uvrZL2I"
   },
   "outputs": [
    {
     "name": "stdout",
     "output_type": "stream",
     "text": [
      "fatal: destination path 'coco' already exists and is not an empty directory.\n",
      "Requirement already up-to-date: setuptools in /opt/conda/lib/python3.7/site-packages (50.3.2)\n",
      "Requirement already up-to-date: wheel in /opt/conda/lib/python3.7/site-packages (0.35.1)\n",
      "make: Entering directory '/home/jupyter/modified-FCOS/DTL/coco/PythonAPI'\n",
      "# install pycocotools to the Python site-packages\n",
      "python setup.py build_ext install\n",
      "running build_ext\n",
      "building 'pycocotools._mask' extension\n",
      "creating build\n",
      "creating build/temp.linux-x86_64-3.7\n",
      "creating build/temp.linux-x86_64-3.7/pycocotools\n",
      "creating build/common\n",
      "gcc -pthread -B /opt/conda/compiler_compat -Wl,--sysroot=/ -Wsign-compare -DNDEBUG -g -fwrapv -O3 -Wall -Wstrict-prototypes -fPIC -I/opt/conda/lib/python3.7/site-packages/numpy/core/include -I../common -I/opt/conda/include/python3.7m -c pycocotools/_mask.c -o build/temp.linux-x86_64-3.7/pycocotools/_mask.o -Wno-cpp -Wno-unused-function -std=c99\n",
      "^C\n",
      "interrupted\n",
      "Makefile:7: recipe for target 'install' failed\n",
      "make: *** [install] Error 1\n"
     ]
    }
   ],
   "source": [
    "!git clone https://github.com/waleedka/coco\n",
    "!pip install -U setuptools\n",
    "!pip install -U wheel\n",
    "!make install -C coco/PythonAPI"
   ]
  },
  {
   "cell_type": "code",
   "execution_count": 3,
   "metadata": {
    "id": "4ZaNPw5wq1vy",
    "tags": []
   },
   "outputs": [
    {
     "name": "stdout",
     "output_type": "stream",
     "text": [
      "--2020-11-06 01:44:33--  http://images.cocodataset.org/annotations/annotations_trainval2017.zip\n",
      "Resolving images.cocodataset.org (images.cocodataset.org)... 52.216.88.163\n",
      "Connecting to images.cocodataset.org (images.cocodataset.org)|52.216.88.163|:80... connected.\n",
      "HTTP request sent, awaiting response... 200 OK\n",
      "Length: 252907541 (241M) [application/zip]\n",
      "Saving to: ‘annotations_trainval2017.zip’\n",
      "\n",
      "      annotations_t   0%[                    ] 223.26K   263KB/s               ^C\n",
      "Archive:  ./annotations_trainval2017.zip\n",
      "  End-of-central-directory signature not found.  Either this file is not\n",
      "  a zipfile, or it constitutes one disk of a multi-part archive.  In the\n",
      "  latter case the central directory and zipfile comment will be found on\n",
      "  the last disk(s) of this archive.\n",
      "unzip:  cannot find zipfile directory in one of ./annotations_trainval2017.zip or\n",
      "        ./annotations_trainval2017.zip.zip, and cannot find ./annotations_trainval2017.zip.ZIP, period.\n"
     ]
    }
   ],
   "source": [
    "!wget http://images.cocodataset.org/annotations/annotations_trainval2017.zip\n",
    "!unzip ./annotations_trainval2017.zip"
   ]
  },
  {
   "cell_type": "markdown",
   "metadata": {
    "id": "2mzeZ7QvslF2"
   },
   "source": [
    "# Import needed and Load COCO categories"
   ]
  },
  {
   "cell_type": "code",
   "execution_count": 5,
   "metadata": {
    "id": "sLnXn4DBZM_C"
   },
   "outputs": [],
   "source": [
    "from pycocotools.coco import COCO\n",
    "from sklearn import metrics\n",
    "from sklearn.tree import DecisionTreeClassifier\n",
    "from sklearn.ensemble import RandomForestClassifier\n",
    "from sklearn.model_selection import GridSearchCV, PredefinedSplit\n",
    "from skimage.transform import rescale, resize, downscale_local_mean\n",
    "from skimage.util import crop\n",
    "from skimage import io, color\n",
    "from math import floor, ceil\n",
    "from PIL import Image\n",
    "from joblib import dump, load\n",
    "from tqdm.notebook import tqdm\n",
    "from os import path\n",
    "import xgboost as xgb\n",
    "import numpy as np\n",
    "import pandas as pd\n",
    "import matplotlib.pyplot as plt\n",
    "import graphviz \n",
    "import json\n",
    "import pandas as pd"
   ]
  },
  {
   "cell_type": "code",
   "execution_count": 6,
   "metadata": {},
   "outputs": [],
   "source": [
    "def split_integer(num):\n",
    "    return (floor(num/2), ceil(num/2))\n",
    "\n",
    "def create_dataset_id(coco):\n",
    "    catIds = coco.getCatIds(catNms=['dog','cat'])\n",
    "    img_catdog = coco.getImgIds(catIds=catIds)\n",
    "    img_dog = list(set(coco.getImgIds(catIds=coco.getCatIds(catNms=['dog']))) - set(img_catdog))\n",
    "    img_cat = list(set(coco.getImgIds(catIds=coco.getCatIds(catNms=['cat']))) - set(img_catdog))\n",
    "    print(\"Dog Image Total: \",len(img_dog),\"\\nCat Image Total: \", len(img_cat))\n",
    "    return img_dog + img_cat, np.array(len(img_dog) * [1] + len(img_cat) * [0])\n",
    "\n",
    "def load_resize_crop_img(img_url, target_width=64, rgb = True):\n",
    "    I = io.imread(img_url)\n",
    "    factor = target_width/min(I.shape[0:2])\n",
    "    resize_target = (round(I.shape[0] * factor), round(I.shape[1] * factor))\n",
    "    resized_image = (resize(I, resize_target, anti_aliasing=False) * 255).astype(np.uint8)\n",
    "    crop_width = (split_integer(resize_target[0] - target_width), split_integer(resize_target[1] - target_width), (0,0))\n",
    "    if rgb:\n",
    "        cropped_image = crop(color.gray2rgb(resized_image), crop_width)\n",
    "    else:\n",
    "        cropped_image = crop(color.rgb2gray(resized_image), crop_width)\n",
    "    return cropped_image\n",
    "\n",
    "def flatten_img(img):\n",
    "    return img.flatten()"
   ]
  },
  {
   "cell_type": "code",
   "execution_count": 57,
   "metadata": {
    "colab": {
     "base_uri": "https://localhost:8080/",
     "height": 35
    },
    "id": "kFs5QFY_K2ZB",
    "outputId": "3114c041-b87f-4d33-b764-87147a5eb7ee"
   },
   "outputs": [],
   "source": [
    "train_path=\"annotations/instances_train2017.json\"\n",
    "val_path=\"annotations/instances_val2017.json\"\n",
    "annotation = {\"train\":train_path, \"val\":val_path}\n",
    "\n",
    "N_TRAIN = 4000\n",
    "IMG_SIZE = 64"
   ]
  },
  {
   "cell_type": "markdown",
   "metadata": {
    "id": "Qr2ZDd-JwB41"
   },
   "source": [
    "\n",
    "\n",
    "*   Gabungin Data training dan validasi,\n",
    "*   Cari tau kalau di DTL, Random Forest sama XGBoost ada train/val/test ga?\n",
    "- Apakah urutan pengaruh untuk hasil?\n",
    "- Bikin fungsi buat evaluate hasilnya ke set tertentu. Coba cari tau evaluation metrics apa yang relevan buat ini  di SKLearn\n",
    "\n"
   ]
  },
  {
   "cell_type": "markdown",
   "metadata": {},
   "source": [
    "# Get COCO Image Data"
   ]
  },
  {
   "cell_type": "code",
   "execution_count": 8,
   "metadata": {},
   "outputs": [],
   "source": [
    "def get_coco_id(annotation_file, cat1 = \"dog\", cat2 = \"cat\", n = None):\n",
    "    coco = COCO(annotation_file)\n",
    "    catIds = coco.getCatIds(catNms=[cat1,cat2])\n",
    "    img_combine = coco.getImgIds(catIds=catIds)\n",
    "    img_cat1 = list(set(coco.getImgIds(catIds=coco.getCatIds(catNms=[cat1]))) - set(img_combine))\n",
    "    img_cat2 = list(set(coco.getImgIds(catIds=coco.getCatIds(catNms=[cat2]))) - set(img_combine))\n",
    "    if n is None:\n",
    "        return img_cat1 + img_cat2, np.array(len(img_cat1) * [1] + len(img_cat2) * [0])\n",
    "    return img_cat1[:n] + img_cat2[:n], np.array(len(img_cat1[:n]) * [1] + len(img_cat2[:n]) * [0])"
   ]
  },
  {
   "cell_type": "code",
   "execution_count": 54,
   "metadata": {},
   "outputs": [
    {
     "name": "stdout",
     "output_type": "stream",
     "text": [
      "loading annotations into memory...\n",
      "Done (t=15.57s)\n",
      "creating index...\n",
      "index created!\n",
      "loading annotations into memory...\n",
      "Done (t=0.40s)\n",
      "creating index...\n",
      "index created!\n"
     ]
    }
   ],
   "source": [
    "X_train, y_train = get_coco_id(annotation[\"train\"], n=N_TRAIN)\n",
    "X_val, y_val = get_coco_id(annotation[\"val\"])"
   ]
  },
  {
   "cell_type": "code",
   "execution_count": 16,
   "metadata": {},
   "outputs": [
    {
     "name": "stdout",
     "output_type": "stream",
     "text": [
      "loading annotations into memory...\n",
      "Done (t=18.34s)\n",
      "creating index...\n",
      "index created!\n"
     ]
    },
    {
     "data": {
      "application/vnd.jupyter.widget-view+json": {
       "model_id": "2c20496fa2124e32915590acab037470",
       "version_major": 2,
       "version_minor": 0
      },
      "text/plain": [
       "HBox(children=(HTML(value=''), FloatProgress(value=0.0, max=8083.0), HTML(value='')))"
      ]
     },
     "metadata": {},
     "output_type": "display_data"
    },
    {
     "name": "stdout",
     "output_type": "stream",
     "text": [
      "\n"
     ]
    }
   ],
   "source": [
    "coco = COCO(annotation[\"train\"])\n",
    "for x in tqdm(X_train):\n",
    "    fn = \"train/{}.png\".format(x)\n",
    "    if path.exists(fn):\n",
    "#         print(f\"skipping {x}\")\n",
    "        continue\n",
    "    I = io.imread(coco.loadImgs(x)[0]['coco_url'])\n",
    "    io.imsave(fn,I)"
   ]
  },
  {
   "cell_type": "code",
   "execution_count": 17,
   "metadata": {},
   "outputs": [
    {
     "name": "stdout",
     "output_type": "stream",
     "text": [
      "loading annotations into memory...\n",
      "Done (t=1.89s)\n",
      "creating index...\n",
      "index created!\n"
     ]
    },
    {
     "data": {
      "application/vnd.jupyter.widget-view+json": {
       "model_id": "725d974b85b44901bced728b1421473e",
       "version_major": 2,
       "version_minor": 0
      },
      "text/plain": [
       "HBox(children=(HTML(value=''), FloatProgress(value=0.0, max=337.0), HTML(value='')))"
      ]
     },
     "metadata": {},
     "output_type": "display_data"
    },
    {
     "name": "stdout",
     "output_type": "stream",
     "text": [
      "\n"
     ]
    }
   ],
   "source": [
    "coco = COCO(annotation[\"val\"])\n",
    "for x in tqdm(X_val):\n",
    "    fn = \"val/{}.png\".format(x)\n",
    "    if path.exists(fn):\n",
    "#         print(f\"skipping {x}\")\n",
    "        continue\n",
    "    I = io.imread(coco.loadImgs(x)[0]['coco_url'])\n",
    "    io.imsave(fn,I)"
   ]
  },
  {
   "cell_type": "markdown",
   "metadata": {},
   "source": [
    "## Preprocess the image and flatten it"
   ]
  },
  {
   "cell_type": "code",
   "execution_count": 55,
   "metadata": {},
   "outputs": [
    {
     "data": {
      "application/vnd.jupyter.widget-view+json": {
       "model_id": "3fadb610b1824aaca5c25ed2b5df7508",
       "version_major": 2,
       "version_minor": 0
      },
      "text/plain": [
       "HBox(children=(HTML(value=''), FloatProgress(value=0.0, max=8083.0), HTML(value='')))"
      ]
     },
     "metadata": {},
     "output_type": "display_data"
    },
    {
     "name": "stderr",
     "output_type": "stream",
     "text": [
      "/opt/conda/lib/python3.7/site-packages/ipykernel_launcher.py:19: FutureWarning: Pass-through of possibly RGB images in gray2rgb is deprecated. In version 0.19, input arrays will always be considered grayscale, even if the last dimension has length 3 or 4. To prevent this warning and ensure compatibility with future versions, detect RGB images outside of this function.\n"
     ]
    },
    {
     "name": "stdout",
     "output_type": "stream",
     "text": [
      "\n",
      "Finished with length:  8083\n",
      "Converted to ndarray with shape:  (8083, 12288) (8083,)\n"
     ]
    }
   ],
   "source": [
    "# coco = COCO(annotation[\"train\"])\n",
    "X_loaded = []\n",
    "for x in tqdm(X_train):\n",
    "    try : \n",
    "        fn = \"train/{}.png\".format(x)\n",
    "        X_loaded += [load_resize_crop_img(fn, target_width=IMG_SIZE).flatten()]\n",
    "    except :\n",
    "        print(x)\n",
    "print(\"Finished with length: \",len(X_loaded))\n",
    "X_loaded = np.array(X_loaded)\n",
    "# df_train = pd.Dataframe({\"X\":X_loaded,\"y\":y_train})\n",
    "print(\"Converted to ndarray with shape: \",X_loaded.shape, y_train.shape)"
   ]
  },
  {
   "cell_type": "code",
   "execution_count": 56,
   "metadata": {},
   "outputs": [
    {
     "data": {
      "application/vnd.jupyter.widget-view+json": {
       "model_id": "5cc9fa0d99e14814b2663c20596a9bb5",
       "version_major": 2,
       "version_minor": 0
      },
      "text/plain": [
       "HBox(children=(HTML(value=''), FloatProgress(value=0.0, max=337.0), HTML(value='')))"
      ]
     },
     "metadata": {},
     "output_type": "display_data"
    },
    {
     "name": "stderr",
     "output_type": "stream",
     "text": [
      "/opt/conda/lib/python3.7/site-packages/ipykernel_launcher.py:19: FutureWarning: Pass-through of possibly RGB images in gray2rgb is deprecated. In version 0.19, input arrays will always be considered grayscale, even if the last dimension has length 3 or 4. To prevent this warning and ensure compatibility with future versions, detect RGB images outside of this function.\n"
     ]
    },
    {
     "name": "stdout",
     "output_type": "stream",
     "text": [
      "\n",
      "Finished with length:  337\n",
      "Converted to ndarray with shape:  (337, 12288) (337,)\n"
     ]
    }
   ],
   "source": [
    "# coco = COCO(annotation[\"val\"])\n",
    "X_loaded_val = []\n",
    "for x in tqdm(X_val):\n",
    "    try : \n",
    "        fn = \"val/{}.png\".format(x)\n",
    "        X_loaded_val += [load_resize_crop_img(fn, target_width=IMG_SIZE).flatten()]\n",
    "    except :\n",
    "        print(x)\n",
    "print(\"Finished with length: \",len(X_loaded_val))\n",
    "X_loaded_val = np.array(X_loaded_val)\n",
    "print(\"Converted to ndarray with shape: \",X_loaded_val.shape, y_val.shape)"
   ]
  },
  {
   "cell_type": "markdown",
   "metadata": {},
   "source": [
    "## Prepare the fold for train - validate GridSearch"
   ]
  },
  {
   "cell_type": "code",
   "execution_count": 58,
   "metadata": {},
   "outputs": [],
   "source": [
    "test_fold = np.concatenate([\n",
    "    # The training data.\n",
    "    np.full(len(X_train), -1, dtype=np.int8),\n",
    "    # The development data.\n",
    "    np.zeros(len(X_val), dtype=np.int8)\n",
    "])\n",
    "cv = PredefinedSplit(test_fold)\n",
    "\n",
    "X = np.concatenate([X_loaded, X_loaded_val])\n",
    "y = np.concatenate([y_train, y_val])\n",
    "\n",
    "# dtrain = xgb.DMatrix(X_loaded, label=y_train)\n",
    "# dval = xgb.DMatrix(X_loaded_val, label=y_val)"
   ]
  },
  {
   "cell_type": "markdown",
   "metadata": {},
   "source": [
    "### Save features and label for use later"
   ]
  },
  {
   "cell_type": "code",
   "execution_count": 60,
   "metadata": {},
   "outputs": [],
   "source": [
    "np.save(\"coco_dog_cat_feature_{}_{}.npy\".format(N_TRAIN, IMG_SIZE), X)\n",
    "np.save(\"coco_dog_cat_label_{}_{}.npy\".format(N_TRAIN, IMG_SIZE), y)"
   ]
  },
  {
   "cell_type": "code",
   "execution_count": 61,
   "metadata": {},
   "outputs": [
    {
     "name": "stdin",
     "output_type": "stream",
     "text": [
      "Once deleted, variables cannot be recovered. Proceed (y/[n])?   y\n",
      "Once deleted, variables cannot be recovered. Proceed (y/[n])?   y\n"
     ]
    }
   ],
   "source": [
    "# Magic to delete unneeded variable (in this case the features array and label array) as it has been aggregated to X and y respectively\n",
    "# %reset_selective \"^X_loaded(_train)?$\"\n",
    "# %reset_selective \"^y_(train|val)$\""
   ]
  },
  {
   "cell_type": "markdown",
   "metadata": {},
   "source": [
    "# Grid Search \"Training\"\n",
    "## Decision Tree Learning "
   ]
  },
  {
   "cell_type": "code",
   "execution_count": 62,
   "metadata": {},
   "outputs": [],
   "source": [
    "base = DecisionTreeClassifier()\n",
    "grid = {\n",
    "\"max_depth\" : [10, 100, 1000],\n",
    "\"criterion\" : [\"gini\", \"entropy\"]\n",
    "}\n",
    "model = GridSearchCV(base, grid, cv=cv,n_jobs=4, verbose=100)"
   ]
  },
  {
   "cell_type": "code",
   "execution_count": 63,
   "metadata": {},
   "outputs": [
    {
     "name": "stdout",
     "output_type": "stream",
     "text": [
      "Fitting 1 folds for each of 6 candidates, totalling 6 fits\n",
      "[Parallel(n_jobs=4)]: Using backend LokyBackend with 4 concurrent workers.\n",
      "[Parallel(n_jobs=4)]: Done   1 tasks      | elapsed:  1.8min\n",
      "[Parallel(n_jobs=4)]: Done   2 out of   6 | elapsed:  2.6min remaining:  5.3min\n",
      "[Parallel(n_jobs=4)]: Done   3 out of   6 | elapsed:  2.6min remaining:  2.6min\n",
      "[Parallel(n_jobs=4)]: Done   4 out of   6 | elapsed:  2.7min remaining:  1.3min\n",
      "[Parallel(n_jobs=4)]: Done   6 out of   6 | elapsed:  5.1min remaining:    0.0s\n",
      "[Parallel(n_jobs=4)]: Done   6 out of   6 | elapsed:  5.1min finished\n"
     ]
    }
   ],
   "source": [
    "model = model.fit(X,y)"
   ]
  },
  {
   "cell_type": "code",
   "execution_count": 64,
   "metadata": {},
   "outputs": [
    {
     "name": "stdout",
     "output_type": "stream",
     "text": [
      "{'mean_fit_time': array([105.8601377 , 154.87533522, 155.65522337, 155.00233984,\n",
      "       165.83737779, 150.17876673]), 'std_fit_time': array([0., 0., 0., 0., 0., 0.]), 'mean_score_time': array([0.01488638, 0.01361084, 0.01064777, 0.01514888, 0.01022601,\n",
      "       0.00982618]), 'std_score_time': array([0., 0., 0., 0., 0., 0.]), 'param_criterion': masked_array(data=['gini', 'gini', 'gini', 'entropy', 'entropy',\n",
      "                   'entropy'],\n",
      "             mask=[False, False, False, False, False, False],\n",
      "       fill_value='?',\n",
      "            dtype=object), 'param_max_depth': masked_array(data=[10, 100, 1000, 10, 100, 1000],\n",
      "             mask=[False, False, False, False, False, False],\n",
      "       fill_value='?',\n",
      "            dtype=object), 'params': [{'criterion': 'gini', 'max_depth': 10}, {'criterion': 'gini', 'max_depth': 100}, {'criterion': 'gini', 'max_depth': 1000}, {'criterion': 'entropy', 'max_depth': 10}, {'criterion': 'entropy', 'max_depth': 100}, {'criterion': 'entropy', 'max_depth': 1000}], 'split0_test_score': array([0.5578635 , 0.51928783, 0.54599407, 0.50445104, 0.53115727,\n",
      "       0.51928783]), 'mean_test_score': array([0.5578635 , 0.51928783, 0.54599407, 0.50445104, 0.53115727,\n",
      "       0.51928783]), 'std_test_score': array([0., 0., 0., 0., 0., 0.]), 'rank_test_score': array([1, 4, 2, 6, 3, 4], dtype=int32)}\n"
     ]
    }
   ],
   "source": [
    "print(model.cv_results_)"
   ]
  },
  {
   "cell_type": "code",
   "execution_count": 65,
   "metadata": {},
   "outputs": [
    {
     "data": {
      "text/plain": [
       "['gs_dtl_4000_64.pkl']"
      ]
     },
     "execution_count": 65,
     "metadata": {},
     "output_type": "execute_result"
    }
   ],
   "source": [
    "dump(model, 'gs_dtl_{}_{}.pkl'.format(N_TRAIN, IMG_SIZE))"
   ]
  },
  {
   "cell_type": "code",
   "execution_count": null,
   "metadata": {},
   "outputs": [],
   "source": [
    "%reset_selective \"^model$\""
   ]
  },
  {
   "cell_type": "markdown",
   "metadata": {},
   "source": [
    "## Random Forest Classifier"
   ]
  },
  {
   "cell_type": "code",
   "execution_count": 66,
   "metadata": {},
   "outputs": [],
   "source": [
    "rf_base = xgb.XGBRFClassifier()\n",
    "rf_grid = {\n",
    "\"max_depth\" : [4, 6, 10],\n",
    "\"learning_rate\" : [0.1, 0.3],\n",
    "\"n_estimators\" : [1, 5, 10, 50]\n",
    "}\n",
    "rf_model = GridSearchCV(rf_base, rf_grid, cv=cv,n_jobs=4, verbose=100)"
   ]
  },
  {
   "cell_type": "code",
   "execution_count": 67,
   "metadata": {},
   "outputs": [
    {
     "name": "stdout",
     "output_type": "stream",
     "text": [
      "Fitting 1 folds for each of 24 candidates, totalling 24 fits\n",
      "[Parallel(n_jobs=4)]: Using backend LokyBackend with 4 concurrent workers.\n",
      "[Parallel(n_jobs=4)]: Done   1 tasks      | elapsed:   24.2s\n",
      "[Parallel(n_jobs=4)]: Done   2 tasks      | elapsed:   44.5s\n",
      "[Parallel(n_jobs=4)]: Done   3 tasks      | elapsed:   47.4s\n",
      "[Parallel(n_jobs=4)]: Done   4 tasks      | elapsed:  1.1min\n",
      "[Parallel(n_jobs=4)]: Done   5 tasks      | elapsed:  1.7min\n",
      "[Parallel(n_jobs=4)]: Done   6 tasks      | elapsed:  2.3min\n",
      "[Parallel(n_jobs=4)]: Done   7 tasks      | elapsed:  2.5min\n",
      "[Parallel(n_jobs=4)]: Done   8 tasks      | elapsed:  4.1min\n",
      "[Parallel(n_jobs=4)]: Done   9 tasks      | elapsed:  4.5min\n",
      "[Parallel(n_jobs=4)]: Done  10 tasks      | elapsed:  4.8min\n",
      "[Parallel(n_jobs=4)]: Done  11 tasks      | elapsed:  5.4min\n",
      "[Parallel(n_jobs=4)]: Done  12 tasks      | elapsed:  6.0min\n",
      "[Parallel(n_jobs=4)]: Done  13 tasks      | elapsed:  6.5min\n",
      "[Parallel(n_jobs=4)]: Done  14 tasks      | elapsed:  6.9min\n",
      "[Parallel(n_jobs=4)]: Done  15 tasks      | elapsed:  7.9min\n",
      "[Parallel(n_jobs=4)]: Done  16 tasks      | elapsed:  8.9min\n",
      "[Parallel(n_jobs=4)]: Done  17 tasks      | elapsed:  9.6min\n",
      "[Parallel(n_jobs=4)]: Done  18 out of  24 | elapsed: 10.2min remaining:  3.4min\n",
      "[Parallel(n_jobs=4)]: Done  19 out of  24 | elapsed: 10.5min remaining:  2.8min\n",
      "[Parallel(n_jobs=4)]: Done  20 out of  24 | elapsed: 12.0min remaining:  2.4min\n",
      "[Parallel(n_jobs=4)]: Done  21 out of  24 | elapsed: 13.9min remaining:  2.0min\n",
      "[Parallel(n_jobs=4)]: Done  22 out of  24 | elapsed: 16.5min remaining:  1.5min\n",
      "[Parallel(n_jobs=4)]: Done  24 out of  24 | elapsed: 24.2min remaining:    0.0s\n",
      "[Parallel(n_jobs=4)]: Done  24 out of  24 | elapsed: 24.2min finished\n"
     ]
    }
   ],
   "source": [
    "rf_model = rf_model.fit(X, y)"
   ]
  },
  {
   "cell_type": "code",
   "execution_count": 73,
   "metadata": {},
   "outputs": [
    {
     "name": "stdout",
     "output_type": "stream",
     "text": [
      "{'mean_fit_time': array([ 21.78393483,  42.09192157,  66.15766811, 265.10303378,\n",
      "        23.05242348,  59.69388962, 104.70965838, 467.23194075,\n",
      "        32.68051052, 109.91214442, 205.3528204 , 874.84899735,\n",
      "        19.28056598,  38.74321795,  63.64638782, 270.90702176,\n",
      "        23.06845093,  59.23746562, 106.32675576, 453.62110424,\n",
      "        33.36874604, 109.94556618, 206.16823339, 730.08133388]), 'std_fit_time': array([0., 0., 0., 0., 0., 0., 0., 0., 0., 0., 0., 0., 0., 0., 0., 0., 0.,\n",
      "       0., 0., 0., 0., 0., 0., 0.]), 'mean_score_time': array([0.15431142, 0.14929819, 0.15170312, 0.15451217, 0.13797402,\n",
      "       0.1436832 , 0.12515092, 0.14837337, 0.12343049, 0.12434363,\n",
      "       0.12623191, 0.08292913, 0.14132214, 0.12437248, 0.12249684,\n",
      "       0.12707281, 0.12272716, 0.12494969, 0.14289641, 0.09648132,\n",
      "       0.138412  , 0.12769341, 0.12619448, 0.08285069]), 'std_score_time': array([0., 0., 0., 0., 0., 0., 0., 0., 0., 0., 0., 0., 0., 0., 0., 0., 0.,\n",
      "       0., 0., 0., 0., 0., 0., 0.]), 'param_learning_rate': masked_array(data=[0.1, 0.1, 0.1, 0.1, 0.1, 0.1, 0.1, 0.1, 0.1, 0.1, 0.1,\n",
      "                   0.1, 0.3, 0.3, 0.3, 0.3, 0.3, 0.3, 0.3, 0.3, 0.3, 0.3,\n",
      "                   0.3, 0.3],\n",
      "             mask=[False, False, False, False, False, False, False, False,\n",
      "                   False, False, False, False, False, False, False, False,\n",
      "                   False, False, False, False, False, False, False, False],\n",
      "       fill_value='?',\n",
      "            dtype=object), 'param_max_depth': masked_array(data=[4, 4, 4, 4, 6, 6, 6, 6, 10, 10, 10, 10, 4, 4, 4, 4, 6,\n",
      "                   6, 6, 6, 10, 10, 10, 10],\n",
      "             mask=[False, False, False, False, False, False, False, False,\n",
      "                   False, False, False, False, False, False, False, False,\n",
      "                   False, False, False, False, False, False, False, False],\n",
      "       fill_value='?',\n",
      "            dtype=object), 'param_n_estimators': masked_array(data=[1, 5, 10, 50, 1, 5, 10, 50, 1, 5, 10, 50, 1, 5, 10, 50,\n",
      "                   1, 5, 10, 50, 1, 5, 10, 50],\n",
      "             mask=[False, False, False, False, False, False, False, False,\n",
      "                   False, False, False, False, False, False, False, False,\n",
      "                   False, False, False, False, False, False, False, False],\n",
      "       fill_value='?',\n",
      "            dtype=object), 'params': [{'learning_rate': 0.1, 'max_depth': 4, 'n_estimators': 1}, {'learning_rate': 0.1, 'max_depth': 4, 'n_estimators': 5}, {'learning_rate': 0.1, 'max_depth': 4, 'n_estimators': 10}, {'learning_rate': 0.1, 'max_depth': 4, 'n_estimators': 50}, {'learning_rate': 0.1, 'max_depth': 6, 'n_estimators': 1}, {'learning_rate': 0.1, 'max_depth': 6, 'n_estimators': 5}, {'learning_rate': 0.1, 'max_depth': 6, 'n_estimators': 10}, {'learning_rate': 0.1, 'max_depth': 6, 'n_estimators': 50}, {'learning_rate': 0.1, 'max_depth': 10, 'n_estimators': 1}, {'learning_rate': 0.1, 'max_depth': 10, 'n_estimators': 5}, {'learning_rate': 0.1, 'max_depth': 10, 'n_estimators': 10}, {'learning_rate': 0.1, 'max_depth': 10, 'n_estimators': 50}, {'learning_rate': 0.3, 'max_depth': 4, 'n_estimators': 1}, {'learning_rate': 0.3, 'max_depth': 4, 'n_estimators': 5}, {'learning_rate': 0.3, 'max_depth': 4, 'n_estimators': 10}, {'learning_rate': 0.3, 'max_depth': 4, 'n_estimators': 50}, {'learning_rate': 0.3, 'max_depth': 6, 'n_estimators': 1}, {'learning_rate': 0.3, 'max_depth': 6, 'n_estimators': 5}, {'learning_rate': 0.3, 'max_depth': 6, 'n_estimators': 10}, {'learning_rate': 0.3, 'max_depth': 6, 'n_estimators': 50}, {'learning_rate': 0.3, 'max_depth': 10, 'n_estimators': 1}, {'learning_rate': 0.3, 'max_depth': 10, 'n_estimators': 5}, {'learning_rate': 0.3, 'max_depth': 10, 'n_estimators': 10}, {'learning_rate': 0.3, 'max_depth': 10, 'n_estimators': 50}], 'split0_test_score': array([0.60830861, 0.59050445, 0.6231454 , 0.61127596, 0.56973294,\n",
      "       0.61424332, 0.61424332, 0.61721068, 0.57566766, 0.56083086,\n",
      "       0.62017804, 0.6231454 , 0.60830861, 0.59050445, 0.6231454 ,\n",
      "       0.61127596, 0.56973294, 0.61424332, 0.61424332, 0.61721068,\n",
      "       0.57566766, 0.56083086, 0.62017804, 0.6231454 ]), 'mean_test_score': array([0.60830861, 0.59050445, 0.6231454 , 0.61127596, 0.56973294,\n",
      "       0.61424332, 0.61424332, 0.61721068, 0.57566766, 0.56083086,\n",
      "       0.62017804, 0.6231454 , 0.60830861, 0.59050445, 0.6231454 ,\n",
      "       0.61127596, 0.56973294, 0.61424332, 0.61424332, 0.61721068,\n",
      "       0.57566766, 0.56083086, 0.62017804, 0.6231454 ]), 'std_test_score': array([0., 0., 0., 0., 0., 0., 0., 0., 0., 0., 0., 0., 0., 0., 0., 0., 0.,\n",
      "       0., 0., 0., 0., 0., 0., 0.]), 'rank_test_score': array([15, 17,  1, 13, 21,  9,  9,  7, 19, 23,  5,  1, 15, 17,  1, 13, 21,\n",
      "        9,  9,  7, 19, 23,  5,  1], dtype=int32)}\n"
     ]
    },
    {
     "data": {
      "text/plain": [
       "['gs_rf_4000_64.pkl']"
      ]
     },
     "execution_count": 73,
     "metadata": {},
     "output_type": "execute_result"
    }
   ],
   "source": [
    "print(rf_model.cv_results_)\n",
    "dump(rf_model, 'gs_rf_{}_{}.pkl'.format(N_TRAIN, IMG_SIZE))"
   ]
  },
  {
   "cell_type": "code",
   "execution_count": null,
   "metadata": {},
   "outputs": [],
   "source": [
    "%reset_selective \"^rf_model$\""
   ]
  },
  {
   "cell_type": "markdown",
   "metadata": {},
   "source": []
  },
  {
   "cell_type": "code",
   "execution_count": 70,
   "metadata": {},
   "outputs": [],
   "source": [
    "xg_base = xgb.XGBClassifier()\n",
    "xg_grid = {\n",
    "\"max_depth\" : [4, 6, 10],\n",
    "\"learning_rate\" : [0.1, 0.3],\n",
    "\"n_estimators\" : [1, 5, 10, 50]\n",
    "}\n",
    "xg_model = GridSearchCV(xg_base, xg_grid, cv=cv, n_jobs=4, verbose=100)"
   ]
  },
  {
   "cell_type": "code",
   "execution_count": 71,
   "metadata": {},
   "outputs": [
    {
     "name": "stdout",
     "output_type": "stream",
     "text": [
      "Fitting 1 folds for each of 24 candidates, totalling 24 fits\n",
      "[Parallel(n_jobs=4)]: Using backend LokyBackend with 4 concurrent workers.\n",
      "[Parallel(n_jobs=4)]: Done   1 tasks      | elapsed:   24.8s\n",
      "[Parallel(n_jobs=4)]: Done   2 tasks      | elapsed:   50.3s\n",
      "[Parallel(n_jobs=4)]: Done   3 tasks      | elapsed:   50.3s\n",
      "[Parallel(n_jobs=4)]: Done   4 tasks      | elapsed:  1.4min\n",
      "[Parallel(n_jobs=4)]: Done   5 tasks      | elapsed:  2.1min\n",
      "[Parallel(n_jobs=4)]: Done   6 tasks      | elapsed:  2.7min\n",
      "[Parallel(n_jobs=4)]: Done   7 tasks      | elapsed:  3.0min\n",
      "[Parallel(n_jobs=4)]: Done   8 tasks      | elapsed:  5.1min\n",
      "[Parallel(n_jobs=4)]: Done   9 tasks      | elapsed:  5.4min\n",
      "[Parallel(n_jobs=4)]: Done  10 tasks      | elapsed:  5.7min\n",
      "[Parallel(n_jobs=4)]: Done  11 tasks      | elapsed:  6.5min\n",
      "[Parallel(n_jobs=4)]: Done  12 tasks      | elapsed:  7.5min\n",
      "[Parallel(n_jobs=4)]: Done  13 tasks      | elapsed:  7.8min\n",
      "[Parallel(n_jobs=4)]: Done  14 tasks      | elapsed:  8.2min\n",
      "[Parallel(n_jobs=4)]: Done  15 tasks      | elapsed:  9.4min\n",
      "[Parallel(n_jobs=4)]: Done  16 tasks      | elapsed: 10.6min\n",
      "[Parallel(n_jobs=4)]: Done  17 tasks      | elapsed: 11.5min\n",
      "[Parallel(n_jobs=4)]: Done  18 out of  24 | elapsed: 12.2min remaining:  4.1min\n",
      "[Parallel(n_jobs=4)]: Done  19 out of  24 | elapsed: 12.7min remaining:  3.3min\n",
      "[Parallel(n_jobs=4)]: Done  20 out of  24 | elapsed: 14.6min remaining:  2.9min\n",
      "[Parallel(n_jobs=4)]: Done  21 out of  24 | elapsed: 17.1min remaining:  2.4min\n",
      "[Parallel(n_jobs=4)]: Done  22 out of  24 | elapsed: 19.4min remaining:  1.8min\n",
      "[Parallel(n_jobs=4)]: Done  24 out of  24 | elapsed: 28.0min remaining:    0.0s\n",
      "[Parallel(n_jobs=4)]: Done  24 out of  24 | elapsed: 28.0min finished\n"
     ]
    }
   ],
   "source": [
    "xg_model = xg_model.fit(X, y)"
   ]
  },
  {
   "cell_type": "code",
   "execution_count": 72,
   "metadata": {},
   "outputs": [
    {
     "name": "stdout",
     "output_type": "stream",
     "text": [
      "{'mean_fit_time': array([  22.43522739,   47.95351934,   79.80628848,  319.83033085,\n",
      "         25.29649806,   72.8796227 ,  130.89652324,  556.08952594,\n",
      "         40.80411887,  140.88618803,  266.77442312, 1085.70730758,\n",
      "         20.28133869,   46.10543799,   77.24842286,  313.83477449,\n",
      "         25.53003454,   70.00771546,  129.9080739 ,  523.08644485,\n",
      "         40.23054242,  141.34746671,  263.67096138,  808.37351775]), 'std_fit_time': array([0., 0., 0., 0., 0., 0., 0., 0., 0., 0., 0., 0., 0., 0., 0., 0., 0.,\n",
      "       0., 0., 0., 0., 0., 0., 0.]), 'mean_score_time': array([0.15814829, 0.15463328, 0.15414119, 0.15768194, 0.16423941,\n",
      "       0.12761998, 0.14999938, 0.16115379, 0.12289   , 0.12598634,\n",
      "       0.12820029, 0.08213401, 0.14898276, 0.12322354, 0.12716866,\n",
      "       0.13542223, 0.12214041, 0.12492013, 0.12589145, 0.11032391,\n",
      "       0.12317371, 0.12402463, 0.12928724, 0.08245492]), 'std_score_time': array([0., 0., 0., 0., 0., 0., 0., 0., 0., 0., 0., 0., 0., 0., 0., 0., 0.,\n",
      "       0., 0., 0., 0., 0., 0., 0.]), 'param_learning_rate': masked_array(data=[0.1, 0.1, 0.1, 0.1, 0.1, 0.1, 0.1, 0.1, 0.1, 0.1, 0.1,\n",
      "                   0.1, 0.3, 0.3, 0.3, 0.3, 0.3, 0.3, 0.3, 0.3, 0.3, 0.3,\n",
      "                   0.3, 0.3],\n",
      "             mask=[False, False, False, False, False, False, False, False,\n",
      "                   False, False, False, False, False, False, False, False,\n",
      "                   False, False, False, False, False, False, False, False],\n",
      "       fill_value='?',\n",
      "            dtype=object), 'param_max_depth': masked_array(data=[4, 4, 4, 4, 6, 6, 6, 6, 10, 10, 10, 10, 4, 4, 4, 4, 6,\n",
      "                   6, 6, 6, 10, 10, 10, 10],\n",
      "             mask=[False, False, False, False, False, False, False, False,\n",
      "                   False, False, False, False, False, False, False, False,\n",
      "                   False, False, False, False, False, False, False, False],\n",
      "       fill_value='?',\n",
      "            dtype=object), 'param_n_estimators': masked_array(data=[1, 5, 10, 50, 1, 5, 10, 50, 1, 5, 10, 50, 1, 5, 10, 50,\n",
      "                   1, 5, 10, 50, 1, 5, 10, 50],\n",
      "             mask=[False, False, False, False, False, False, False, False,\n",
      "                   False, False, False, False, False, False, False, False,\n",
      "                   False, False, False, False, False, False, False, False],\n",
      "       fill_value='?',\n",
      "            dtype=object), 'params': [{'learning_rate': 0.1, 'max_depth': 4, 'n_estimators': 1}, {'learning_rate': 0.1, 'max_depth': 4, 'n_estimators': 5}, {'learning_rate': 0.1, 'max_depth': 4, 'n_estimators': 10}, {'learning_rate': 0.1, 'max_depth': 4, 'n_estimators': 50}, {'learning_rate': 0.1, 'max_depth': 6, 'n_estimators': 1}, {'learning_rate': 0.1, 'max_depth': 6, 'n_estimators': 5}, {'learning_rate': 0.1, 'max_depth': 6, 'n_estimators': 10}, {'learning_rate': 0.1, 'max_depth': 6, 'n_estimators': 50}, {'learning_rate': 0.1, 'max_depth': 10, 'n_estimators': 1}, {'learning_rate': 0.1, 'max_depth': 10, 'n_estimators': 5}, {'learning_rate': 0.1, 'max_depth': 10, 'n_estimators': 10}, {'learning_rate': 0.1, 'max_depth': 10, 'n_estimators': 50}, {'learning_rate': 0.3, 'max_depth': 4, 'n_estimators': 1}, {'learning_rate': 0.3, 'max_depth': 4, 'n_estimators': 5}, {'learning_rate': 0.3, 'max_depth': 4, 'n_estimators': 10}, {'learning_rate': 0.3, 'max_depth': 4, 'n_estimators': 50}, {'learning_rate': 0.3, 'max_depth': 6, 'n_estimators': 1}, {'learning_rate': 0.3, 'max_depth': 6, 'n_estimators': 5}, {'learning_rate': 0.3, 'max_depth': 6, 'n_estimators': 10}, {'learning_rate': 0.3, 'max_depth': 6, 'n_estimators': 50}, {'learning_rate': 0.3, 'max_depth': 10, 'n_estimators': 1}, {'learning_rate': 0.3, 'max_depth': 10, 'n_estimators': 5}, {'learning_rate': 0.3, 'max_depth': 10, 'n_estimators': 10}, {'learning_rate': 0.3, 'max_depth': 10, 'n_estimators': 50}], 'split0_test_score': array([0.55192878, 0.63204748, 0.6379822 , 0.64391691, 0.55489614,\n",
      "       0.57863501, 0.60237389, 0.63501484, 0.56083086, 0.57863501,\n",
      "       0.62017804, 0.64985163, 0.55192878, 0.61127596, 0.60830861,\n",
      "       0.60830861, 0.55489614, 0.5727003 , 0.57566766, 0.60237389,\n",
      "       0.56083086, 0.58456973, 0.58753709, 0.61721068]), 'mean_test_score': array([0.55192878, 0.63204748, 0.6379822 , 0.64391691, 0.55489614,\n",
      "       0.57863501, 0.60237389, 0.63501484, 0.56083086, 0.57863501,\n",
      "       0.62017804, 0.64985163, 0.55192878, 0.61127596, 0.60830861,\n",
      "       0.60830861, 0.55489614, 0.5727003 , 0.57566766, 0.60237389,\n",
      "       0.56083086, 0.58456973, 0.58753709, 0.61721068]), 'std_test_score': array([0., 0., 0., 0., 0., 0., 0., 0., 0., 0., 0., 0., 0., 0., 0., 0., 0.,\n",
      "       0., 0., 0., 0., 0., 0., 0.]), 'rank_test_score': array([23,  5,  3,  2, 21, 15, 11,  4, 19, 15,  6,  1, 23,  8,  9,  9, 21,\n",
      "       18, 17, 11, 19, 14, 13,  7], dtype=int32)}\n"
     ]
    },
    {
     "data": {
      "text/plain": [
       "['gs_xg_4000_64.pkl']"
      ]
     },
     "execution_count": 72,
     "metadata": {},
     "output_type": "execute_result"
    }
   ],
   "source": [
    "print(xg_model.cv_results_)\n",
    "dump(xg_model, 'gs_xg_{}_{}.pkl'.format(N_TRAIN, IMG_SIZE))"
   ]
  }
 ],
 "metadata": {
  "accelerator": "GPU",
  "colab": {
   "collapsed_sections": [],
   "name": "Sintel.ipynb",
   "provenance": []
  },
  "environment": {
   "name": "pytorch-gpu.1-4.m58",
   "type": "gcloud",
   "uri": "gcr.io/deeplearning-platform-release/pytorch-gpu.1-4:m58"
  },
  "kernelspec": {
   "display_name": "Python 3",
   "language": "python",
   "name": "python3"
  },
  "language_info": {
   "codemirror_mode": {
    "name": "ipython",
    "version": 3
   },
   "file_extension": ".py",
   "mimetype": "text/x-python",
   "name": "python",
   "nbconvert_exporter": "python",
   "pygments_lexer": "ipython3",
   "version": "3.7.8"
  },
  "widgets": {
   "application/vnd.jupyter.widget-state+json": {
    "1ba07bf923504223a3944b5eb2048d92": {
     "model_module": "@jupyter-widgets/controls",
     "model_name": "ProgressStyleModel",
     "state": {
      "_model_module": "@jupyter-widgets/controls",
      "_model_module_version": "1.5.0",
      "_model_name": "ProgressStyleModel",
      "_view_count": null,
      "_view_module": "@jupyter-widgets/base",
      "_view_module_version": "1.2.0",
      "_view_name": "StyleView",
      "bar_color": null,
      "description_width": "initial"
     }
    },
    "29fc66c3621346cf8d1a028b5d85445a": {
     "model_module": "@jupyter-widgets/base",
     "model_name": "LayoutModel",
     "state": {
      "_model_module": "@jupyter-widgets/base",
      "_model_module_version": "1.2.0",
      "_model_name": "LayoutModel",
      "_view_count": null,
      "_view_module": "@jupyter-widgets/base",
      "_view_module_version": "1.2.0",
      "_view_name": "LayoutView",
      "align_content": null,
      "align_items": null,
      "align_self": null,
      "border": null,
      "bottom": null,
      "display": null,
      "flex": null,
      "flex_flow": null,
      "grid_area": null,
      "grid_auto_columns": null,
      "grid_auto_flow": null,
      "grid_auto_rows": null,
      "grid_column": null,
      "grid_gap": null,
      "grid_row": null,
      "grid_template_areas": null,
      "grid_template_columns": null,
      "grid_template_rows": null,
      "height": null,
      "justify_content": null,
      "justify_items": null,
      "left": null,
      "margin": null,
      "max_height": null,
      "max_width": null,
      "min_height": null,
      "min_width": null,
      "object_fit": null,
      "object_position": null,
      "order": null,
      "overflow": null,
      "overflow_x": null,
      "overflow_y": null,
      "padding": null,
      "right": null,
      "top": null,
      "visibility": null,
      "width": null
     }
    },
    "2b9f3618dabf4ad7a6c75fcd820ccc43": {
     "model_module": "@jupyter-widgets/controls",
     "model_name": "ProgressStyleModel",
     "state": {
      "_model_module": "@jupyter-widgets/controls",
      "_model_module_version": "1.5.0",
      "_model_name": "ProgressStyleModel",
      "_view_count": null,
      "_view_module": "@jupyter-widgets/base",
      "_view_module_version": "1.2.0",
      "_view_name": "StyleView",
      "bar_color": null,
      "description_width": "initial"
     }
    },
    "357d12b8cd11449e941beafe5b6a263e": {
     "model_module": "@jupyter-widgets/base",
     "model_name": "LayoutModel",
     "state": {
      "_model_module": "@jupyter-widgets/base",
      "_model_module_version": "1.2.0",
      "_model_name": "LayoutModel",
      "_view_count": null,
      "_view_module": "@jupyter-widgets/base",
      "_view_module_version": "1.2.0",
      "_view_name": "LayoutView",
      "align_content": null,
      "align_items": null,
      "align_self": null,
      "border": null,
      "bottom": null,
      "display": null,
      "flex": null,
      "flex_flow": null,
      "grid_area": null,
      "grid_auto_columns": null,
      "grid_auto_flow": null,
      "grid_auto_rows": null,
      "grid_column": null,
      "grid_gap": null,
      "grid_row": null,
      "grid_template_areas": null,
      "grid_template_columns": null,
      "grid_template_rows": null,
      "height": null,
      "justify_content": null,
      "justify_items": null,
      "left": null,
      "margin": null,
      "max_height": null,
      "max_width": null,
      "min_height": null,
      "min_width": null,
      "object_fit": null,
      "object_position": null,
      "order": null,
      "overflow": null,
      "overflow_x": null,
      "overflow_y": null,
      "padding": null,
      "right": null,
      "top": null,
      "visibility": null,
      "width": null
     }
    },
    "46dd0c626c594f75ab8c4719336cf6da": {
     "model_module": "@jupyter-widgets/controls",
     "model_name": "HBoxModel",
     "state": {
      "_dom_classes": [],
      "_model_module": "@jupyter-widgets/controls",
      "_model_module_version": "1.5.0",
      "_model_name": "HBoxModel",
      "_view_count": null,
      "_view_module": "@jupyter-widgets/controls",
      "_view_module_version": "1.5.0",
      "_view_name": "HBoxView",
      "box_style": "",
      "children": [
       "IPY_MODEL_fba2dcdda61f4487ae35041ed543b894",
       "IPY_MODEL_b62fe48541444737bf23ead5fe8ec948"
      ],
      "layout": "IPY_MODEL_c829650c9f1d4485a0648569a147926f"
     }
    },
    "4cf3ff9fb3b74d1f85aa32930f41f0f6": {
     "model_module": "@jupyter-widgets/base",
     "model_name": "LayoutModel",
     "state": {
      "_model_module": "@jupyter-widgets/base",
      "_model_module_version": "1.2.0",
      "_model_name": "LayoutModel",
      "_view_count": null,
      "_view_module": "@jupyter-widgets/base",
      "_view_module_version": "1.2.0",
      "_view_name": "LayoutView",
      "align_content": null,
      "align_items": null,
      "align_self": null,
      "border": null,
      "bottom": null,
      "display": null,
      "flex": null,
      "flex_flow": null,
      "grid_area": null,
      "grid_auto_columns": null,
      "grid_auto_flow": null,
      "grid_auto_rows": null,
      "grid_column": null,
      "grid_gap": null,
      "grid_row": null,
      "grid_template_areas": null,
      "grid_template_columns": null,
      "grid_template_rows": null,
      "height": null,
      "justify_content": null,
      "justify_items": null,
      "left": null,
      "margin": null,
      "max_height": null,
      "max_width": null,
      "min_height": null,
      "min_width": null,
      "object_fit": null,
      "object_position": null,
      "order": null,
      "overflow": null,
      "overflow_x": null,
      "overflow_y": null,
      "padding": null,
      "right": null,
      "top": null,
      "visibility": null,
      "width": null
     }
    },
    "50a6fb05c5054876b233ef7e17e2d424": {
     "model_module": "@jupyter-widgets/base",
     "model_name": "LayoutModel",
     "state": {
      "_model_module": "@jupyter-widgets/base",
      "_model_module_version": "1.2.0",
      "_model_name": "LayoutModel",
      "_view_count": null,
      "_view_module": "@jupyter-widgets/base",
      "_view_module_version": "1.2.0",
      "_view_name": "LayoutView",
      "align_content": null,
      "align_items": null,
      "align_self": null,
      "border": null,
      "bottom": null,
      "display": null,
      "flex": null,
      "flex_flow": null,
      "grid_area": null,
      "grid_auto_columns": null,
      "grid_auto_flow": null,
      "grid_auto_rows": null,
      "grid_column": null,
      "grid_gap": null,
      "grid_row": null,
      "grid_template_areas": null,
      "grid_template_columns": null,
      "grid_template_rows": null,
      "height": null,
      "justify_content": null,
      "justify_items": null,
      "left": null,
      "margin": null,
      "max_height": null,
      "max_width": null,
      "min_height": null,
      "min_width": null,
      "object_fit": null,
      "object_position": null,
      "order": null,
      "overflow": null,
      "overflow_x": null,
      "overflow_y": null,
      "padding": null,
      "right": null,
      "top": null,
      "visibility": null,
      "width": null
     }
    },
    "6ed1af10ecd5479c95c06c872a567375": {
     "model_module": "@jupyter-widgets/base",
     "model_name": "LayoutModel",
     "state": {
      "_model_module": "@jupyter-widgets/base",
      "_model_module_version": "1.2.0",
      "_model_name": "LayoutModel",
      "_view_count": null,
      "_view_module": "@jupyter-widgets/base",
      "_view_module_version": "1.2.0",
      "_view_name": "LayoutView",
      "align_content": null,
      "align_items": null,
      "align_self": null,
      "border": null,
      "bottom": null,
      "display": null,
      "flex": null,
      "flex_flow": null,
      "grid_area": null,
      "grid_auto_columns": null,
      "grid_auto_flow": null,
      "grid_auto_rows": null,
      "grid_column": null,
      "grid_gap": null,
      "grid_row": null,
      "grid_template_areas": null,
      "grid_template_columns": null,
      "grid_template_rows": null,
      "height": null,
      "justify_content": null,
      "justify_items": null,
      "left": null,
      "margin": null,
      "max_height": null,
      "max_width": null,
      "min_height": null,
      "min_width": null,
      "object_fit": null,
      "object_position": null,
      "order": null,
      "overflow": null,
      "overflow_x": null,
      "overflow_y": null,
      "padding": null,
      "right": null,
      "top": null,
      "visibility": null,
      "width": null
     }
    },
    "7374b92fe66a488d91b7277db8b1cae2": {
     "model_module": "@jupyter-widgets/controls",
     "model_name": "FloatProgressModel",
     "state": {
      "_dom_classes": [],
      "_model_module": "@jupyter-widgets/controls",
      "_model_module_version": "1.5.0",
      "_model_name": "FloatProgressModel",
      "_view_count": null,
      "_view_module": "@jupyter-widgets/controls",
      "_view_module_version": "1.5.0",
      "_view_name": "ProgressView",
      "bar_style": "success",
      "description": "100%",
      "description_tooltip": null,
      "layout": "IPY_MODEL_6ed1af10ecd5479c95c06c872a567375",
      "max": 8083,
      "min": 0,
      "orientation": "horizontal",
      "style": "IPY_MODEL_2b9f3618dabf4ad7a6c75fcd820ccc43",
      "value": 8083
     }
    },
    "7808034df40b4daa99b8a90a88eeeac0": {
     "model_module": "@jupyter-widgets/controls",
     "model_name": "HBoxModel",
     "state": {
      "_dom_classes": [],
      "_model_module": "@jupyter-widgets/controls",
      "_model_module_version": "1.5.0",
      "_model_name": "HBoxModel",
      "_view_count": null,
      "_view_module": "@jupyter-widgets/controls",
      "_view_module_version": "1.5.0",
      "_view_name": "HBoxView",
      "box_style": "",
      "children": [
       "IPY_MODEL_7374b92fe66a488d91b7277db8b1cae2",
       "IPY_MODEL_ce6f1cfbd894485dbcf23d8712a1544a"
      ],
      "layout": "IPY_MODEL_4cf3ff9fb3b74d1f85aa32930f41f0f6"
     }
    },
    "88ed03204be749249ba49878ba613f4b": {
     "model_module": "@jupyter-widgets/controls",
     "model_name": "DescriptionStyleModel",
     "state": {
      "_model_module": "@jupyter-widgets/controls",
      "_model_module_version": "1.5.0",
      "_model_name": "DescriptionStyleModel",
      "_view_count": null,
      "_view_module": "@jupyter-widgets/base",
      "_view_module_version": "1.2.0",
      "_view_name": "StyleView",
      "description_width": ""
     }
    },
    "b62fe48541444737bf23ead5fe8ec948": {
     "model_module": "@jupyter-widgets/controls",
     "model_name": "HTMLModel",
     "state": {
      "_dom_classes": [],
      "_model_module": "@jupyter-widgets/controls",
      "_model_module_version": "1.5.0",
      "_model_name": "HTMLModel",
      "_view_count": null,
      "_view_module": "@jupyter-widgets/controls",
      "_view_module_version": "1.5.0",
      "_view_name": "HTMLView",
      "description": "",
      "description_tooltip": null,
      "layout": "IPY_MODEL_357d12b8cd11449e941beafe5b6a263e",
      "placeholder": "​",
      "style": "IPY_MODEL_e894ee71dd4041b1b05d4f9f364be52e",
      "value": " 337/337 [00:34&lt;00:00,  9.79it/s]"
     }
    },
    "c829650c9f1d4485a0648569a147926f": {
     "model_module": "@jupyter-widgets/base",
     "model_name": "LayoutModel",
     "state": {
      "_model_module": "@jupyter-widgets/base",
      "_model_module_version": "1.2.0",
      "_model_name": "LayoutModel",
      "_view_count": null,
      "_view_module": "@jupyter-widgets/base",
      "_view_module_version": "1.2.0",
      "_view_name": "LayoutView",
      "align_content": null,
      "align_items": null,
      "align_self": null,
      "border": null,
      "bottom": null,
      "display": null,
      "flex": null,
      "flex_flow": null,
      "grid_area": null,
      "grid_auto_columns": null,
      "grid_auto_flow": null,
      "grid_auto_rows": null,
      "grid_column": null,
      "grid_gap": null,
      "grid_row": null,
      "grid_template_areas": null,
      "grid_template_columns": null,
      "grid_template_rows": null,
      "height": null,
      "justify_content": null,
      "justify_items": null,
      "left": null,
      "margin": null,
      "max_height": null,
      "max_width": null,
      "min_height": null,
      "min_width": null,
      "object_fit": null,
      "object_position": null,
      "order": null,
      "overflow": null,
      "overflow_x": null,
      "overflow_y": null,
      "padding": null,
      "right": null,
      "top": null,
      "visibility": null,
      "width": null
     }
    },
    "ce6f1cfbd894485dbcf23d8712a1544a": {
     "model_module": "@jupyter-widgets/controls",
     "model_name": "HTMLModel",
     "state": {
      "_dom_classes": [],
      "_model_module": "@jupyter-widgets/controls",
      "_model_module_version": "1.5.0",
      "_model_name": "HTMLModel",
      "_view_count": null,
      "_view_module": "@jupyter-widgets/controls",
      "_view_module_version": "1.5.0",
      "_view_name": "HTMLView",
      "description": "",
      "description_tooltip": null,
      "layout": "IPY_MODEL_29fc66c3621346cf8d1a028b5d85445a",
      "placeholder": "​",
      "style": "IPY_MODEL_88ed03204be749249ba49878ba613f4b",
      "value": " 8083/8083 [39:18&lt;00:00,  3.43it/s]"
     }
    },
    "e894ee71dd4041b1b05d4f9f364be52e": {
     "model_module": "@jupyter-widgets/controls",
     "model_name": "DescriptionStyleModel",
     "state": {
      "_model_module": "@jupyter-widgets/controls",
      "_model_module_version": "1.5.0",
      "_model_name": "DescriptionStyleModel",
      "_view_count": null,
      "_view_module": "@jupyter-widgets/base",
      "_view_module_version": "1.2.0",
      "_view_name": "StyleView",
      "description_width": ""
     }
    },
    "fba2dcdda61f4487ae35041ed543b894": {
     "model_module": "@jupyter-widgets/controls",
     "model_name": "FloatProgressModel",
     "state": {
      "_dom_classes": [],
      "_model_module": "@jupyter-widgets/controls",
      "_model_module_version": "1.5.0",
      "_model_name": "FloatProgressModel",
      "_view_count": null,
      "_view_module": "@jupyter-widgets/controls",
      "_view_module_version": "1.5.0",
      "_view_name": "ProgressView",
      "bar_style": "success",
      "description": "100%",
      "description_tooltip": null,
      "layout": "IPY_MODEL_50a6fb05c5054876b233ef7e17e2d424",
      "max": 337,
      "min": 0,
      "orientation": "horizontal",
      "style": "IPY_MODEL_1ba07bf923504223a3944b5eb2048d92",
      "value": 337
     }
    }
   }
  }
 },
 "nbformat": 4,
 "nbformat_minor": 4
}
