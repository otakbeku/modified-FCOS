{
 "metadata": {
  "language_info": {
   "codemirror_mode": {
    "name": "ipython",
    "version": 3
   },
   "file_extension": ".py",
   "mimetype": "text/x-python",
   "name": "python",
   "nbconvert_exporter": "python",
   "pygments_lexer": "ipython3",
   "version": "3.7.6-final"
  },
  "orig_nbformat": 2,
  "kernelspec": {
   "name": "python37664bitcompvisconda2d3448796e3e49d498304dbbfe353f71",
   "display_name": "Python 3.7.6 64-bit ('compvis': conda)"
  }
 },
 "nbformat": 4,
 "nbformat_minor": 2,
 "cells": [
  {
   "source": [
    "# Feature Engineering \n",
    "\n",
    "- Aditya Rachman Putra -23520032\n",
    "\n",
    "- Harits Abdurrohman - 23520047\n",
    "\n",
    "## GLCM (Gray level co-occurrence Matrix)\n",
    "\n",
    "## Color Moments (4 moments)\n",
    "\n",
    "## Kombinasi (GLCM dan Color Moment)"
   ],
   "cell_type": "markdown",
   "metadata": {}
  },
  {
   "cell_type": "code",
   "execution_count": 1,
   "metadata": {},
   "outputs": [],
   "source": [
    "from pycocotools.coco import COCO\n",
    "from sklearn import tree, metrics\n",
    "from skimage.transform import rescale, resize, downscale_local_mean\n",
    "from skimage.util import crop\n",
    "from skimage import io, color\n",
    "from math import floor, ceil\n",
    "from PIL import Image\n",
    "import numpy as np\n",
    "import pandas as pd\n",
    "import matplotlib.pyplot as plt\n",
    "from sklearn.model_selection import train_test_split\n",
    "from sklearn.decomposition import PCA\n",
    "from sklearn.decomposition import FastICA\n",
    "from sklearn.decomposition import TruncatedSVD\n",
    "import json\n",
    "from LoadLocalCOCO import LoadLocalCOCO as llc\n",
    "import matplotlib.pyplot as plt\n",
    "from sklearn.metrics import classification_report, confusion_matrix\n",
    "import pickle\n",
    "from joblib import dump, load\n",
    "from tqdm import tqdm\n",
    "import cv2\n",
    "from sklearn.tree import DecisionTreeClassifier\n",
    "from sklearn.ensemble import RandomForestClassifier\n",
    "from sklearn.model_selection import GridSearchCV, PredefinedSplit\n",
    "import xgboost as xgb\n",
    "\n",
    "# GLCM\n",
    "from skimage.feature import greycomatrix, greycoprops\n",
    "\n",
    "%matplotlib inline\n"
   ]
  },
  {
   "cell_type": "code",
   "execution_count": 2,
   "metadata": {},
   "outputs": [],
   "source": [
    "def flatten_list(qlist):\n",
    "    return [y for x in qlist for y in x]"
   ]
  },
  {
   "cell_type": "code",
   "execution_count": 3,
   "metadata": {},
   "outputs": [
    {
     "output_type": "stream",
     "name": "stdout",
     "text": [
      "loading annotations into memory...\n",
      "Done (t=28.41s)\n",
      "creating index...\n",
      "index created!\n",
      "loading annotations into memory...\n",
      "Done (t=0.76s)\n",
      "creating index...\n",
      "index created!\n"
     ]
    }
   ],
   "source": [
    "train_instance=\"annotations/instances_train2017.json\"\n",
    "val_instance=\"annotations/instances_val2017.json\"\n",
    "\n",
    "coco_path = \"D:/FSR/COCO/train2017\"\n",
    "\n",
    "classes = ['dog', 'cat']\n",
    "\n",
    "coco_train = llc(train_instance, coco_path)\n",
    "coco_val = llc(val_instance, coco_path)"
   ]
  },
  {
   "cell_type": "code",
   "execution_count": 4,
   "metadata": {},
   "outputs": [
    {
     "output_type": "stream",
     "name": "stderr",
     "text": [
      "5508it [05:30, 16.69it/s]\n",
      "2it [00:00, 17.62it/s]Broken images: [7125, 16775, 24247, 24247, 55296, 47386, 69468, 35613, 77325, 12696, 22427, 26321, 54957, 790, 1360, 55478, 42341, 57631, 2400, 10276, 94049, 58741, 5782, 44613, 58741, 24159, 44613, 29176] images\n",
      "4768it [04:42, 16.91it/s]Broken images: [5617, 711, 39171, 9413, 46749, 18211, 26375, 26375, 26375, 66041] images\n",
      "\n"
     ]
    }
   ],
   "source": [
    "data_train = []\n",
    "y_train = []\n",
    "for i, category in enumerate(classes):\n",
    "    data = coco_train.get_cropped_images_flatten_and_resized(category, resize=(64, 64), flatten=False)\n",
    "    data_train.append(data)\n",
    "    y_train += np.array(len(data)) *[abs(1-i)]"
   ]
  },
  {
   "cell_type": "code",
   "execution_count": null,
   "metadata": {},
   "outputs": [],
   "source": [
    "data_val = []\n",
    "y_val = []\n",
    "for i, category in enumerate(classes):\n",
    "    data = coco_val.get_cropped_images_flatten_and_resized(category, resize=(64, 64), flatten=False)\n",
    "    data_train.append(data)\n",
    "    y_label += np.array(len(data)) *[abs(1-i)]"
   ]
  },
  {
   "cell_type": "code",
   "execution_count": 5,
   "metadata": {},
   "outputs": [
    {
     "output_type": "execute_result",
     "data": {
      "text/plain": [
       "(5480, 64, 64, 3)"
      ]
     },
     "metadata": {},
     "execution_count": 5
    }
   ],
   "source": [
    "np.shape(data_train[0])"
   ]
  },
  {
   "cell_type": "code",
   "execution_count": 11,
   "metadata": {},
   "outputs": [
    {
     "output_type": "execute_result",
     "data": {
      "text/plain": [
       "(10238,)"
      ]
     },
     "metadata": {},
     "execution_count": 11
    }
   ],
   "source": [
    "y_train = np.array(len(data_train[0]) *[1] + len(data_train[1]) *[0])\n",
    "np.shape(y_train)"
   ]
  },
  {
   "cell_type": "code",
   "execution_count": 6,
   "metadata": {},
   "outputs": [],
   "source": [
    "data_train_flat = flatten_list(data_train)"
   ]
  },
  {
   "cell_type": "code",
   "execution_count": 7,
   "metadata": {},
   "outputs": [
    {
     "output_type": "execute_result",
     "data": {
      "text/plain": [
       "(10238, 64, 64, 3)"
      ]
     },
     "metadata": {},
     "execution_count": 7
    }
   ],
   "source": [
    "np.shape(data_train_flat)"
   ]
  },
  {
   "cell_type": "code",
   "execution_count": 12,
   "metadata": {},
   "outputs": [],
   "source": [
    "X_train, X_test, y_train, y_test = train_test_split(data_train_flat, y_train, test_size=0.3, random_state=101)"
   ]
  },
  {
   "cell_type": "code",
   "execution_count": 23,
   "metadata": {},
   "outputs": [
    {
     "output_type": "stream",
     "name": "stdout",
     "text": [
      "data train dimension: (7166, 64, 64, 3)\nlabel train dimension: (7166,)\ndata test dimension: (3072, 64, 64, 3)\nlabel test dimension: (3072,)\n"
     ]
    }
   ],
   "source": [
    "print('data train dimension:', np.shape(X_train))\n",
    "print('label train dimension:', np.shape(y_train))\n",
    "print('data test dimension:', np.shape(X_test))\n",
    "print('label test dimension:', np.shape(y_test))"
   ]
  },
  {
   "cell_type": "code",
   "execution_count": 19,
   "metadata": {},
   "outputs": [],
   "source": [
    "# tekstur\n",
    "# glcm\n",
    "def glcm_feature_extraction(image_data, distance=[5], angles=[0], levels=256, symmetric=True, normed=True, features=['contrast', 'dissimilarity', 'homogeneity', 'ASM', 'energy', 'correlation']):\n",
    "    feature_data = []\n",
    "    for image in image_data:\n",
    "        patch_feature = {}\n",
    "        if len(image.shape)==3:\n",
    "            image = cv2.cvtColor(image, cv2.COLOR_BGR2GRAY)\n",
    "        glcm = greycomatrix(image, distances=distance, angles=angles, levels=levels, symmetric=symmetric, normed=normed)\n",
    "        for feature in features:\n",
    "            patch_feature[feature] = greycoprops(glcm, feature)[0, 0]\n",
    "        feature_data.append(patch_feature)\n",
    "    feature_data = pd.DataFrame(feature_data)\n",
    "    return feature_data"
   ]
  },
  {
   "cell_type": "code",
   "execution_count": 20,
   "metadata": {},
   "outputs": [],
   "source": [
    "glcm_data_train = glcm_feature_extraction(X_train)"
   ]
  },
  {
   "cell_type": "code",
   "execution_count": 24,
   "metadata": {},
   "outputs": [
    {
     "output_type": "execute_result",
     "data": {
      "text/plain": [
       "(7166, 6)"
      ]
     },
     "metadata": {},
     "execution_count": 24
    }
   ],
   "source": [
    "np.shape(glcm_data_train)"
   ]
  },
  {
   "cell_type": "code",
   "execution_count": 25,
   "metadata": {},
   "outputs": [
    {
     "output_type": "execute_result",
     "data": {
      "text/plain": [
       "      contrast  dissimilarity  homogeneity       ASM    energy  correlation\n",
       "0  3420.117585      38.985169     0.180919  0.020414  0.142879     0.469978\n",
       "1  1924.596928      31.621292     0.043353  0.000183  0.013513     0.672204\n",
       "2  2398.074682      37.066737     0.036011  0.000185  0.013612     0.581640\n",
       "3  2249.118114      33.344280     0.045304  0.000217  0.014744     0.457202\n",
       "4  3398.435117      43.893803     0.037141  0.000173  0.013139     0.466568"
      ],
      "text/html": "<div>\n<style scoped>\n    .dataframe tbody tr th:only-of-type {\n        vertical-align: middle;\n    }\n\n    .dataframe tbody tr th {\n        vertical-align: top;\n    }\n\n    .dataframe thead th {\n        text-align: right;\n    }\n</style>\n<table border=\"1\" class=\"dataframe\">\n  <thead>\n    <tr style=\"text-align: right;\">\n      <th></th>\n      <th>contrast</th>\n      <th>dissimilarity</th>\n      <th>homogeneity</th>\n      <th>ASM</th>\n      <th>energy</th>\n      <th>correlation</th>\n    </tr>\n  </thead>\n  <tbody>\n    <tr>\n      <th>0</th>\n      <td>3420.117585</td>\n      <td>38.985169</td>\n      <td>0.180919</td>\n      <td>0.020414</td>\n      <td>0.142879</td>\n      <td>0.469978</td>\n    </tr>\n    <tr>\n      <th>1</th>\n      <td>1924.596928</td>\n      <td>31.621292</td>\n      <td>0.043353</td>\n      <td>0.000183</td>\n      <td>0.013513</td>\n      <td>0.672204</td>\n    </tr>\n    <tr>\n      <th>2</th>\n      <td>2398.074682</td>\n      <td>37.066737</td>\n      <td>0.036011</td>\n      <td>0.000185</td>\n      <td>0.013612</td>\n      <td>0.581640</td>\n    </tr>\n    <tr>\n      <th>3</th>\n      <td>2249.118114</td>\n      <td>33.344280</td>\n      <td>0.045304</td>\n      <td>0.000217</td>\n      <td>0.014744</td>\n      <td>0.457202</td>\n    </tr>\n    <tr>\n      <th>4</th>\n      <td>3398.435117</td>\n      <td>43.893803</td>\n      <td>0.037141</td>\n      <td>0.000173</td>\n      <td>0.013139</td>\n      <td>0.466568</td>\n    </tr>\n  </tbody>\n</table>\n</div>"
     },
     "metadata": {},
     "execution_count": 25
    }
   ],
   "source": [
    "glcm_data_train.head()"
   ]
  },
  {
   "cell_type": "code",
   "execution_count": 26,
   "metadata": {},
   "outputs": [],
   "source": [
    "glcm_data_train.to_csv('glcm_data_train.csv')"
   ]
  },
  {
   "cell_type": "code",
   "execution_count": 27,
   "metadata": {},
   "outputs": [
    {
     "output_type": "execute_result",
     "data": {
      "text/plain": [
       "      contrast  dissimilarity  homogeneity       ASM    energy  correlation\n",
       "0  3773.738877      37.036017     0.059179  0.000343  0.018514     0.512819\n",
       "1  4234.574153      51.815678     0.018144  0.000163  0.012770     0.245960\n",
       "2  2978.331568      35.094280     0.076492  0.000277  0.016652     0.549114\n",
       "3  1631.094280      26.395657     0.079384  0.000433  0.020813     0.635220\n",
       "4  2421.687235      29.733845     0.140922  0.001294  0.035967     0.807161"
      ],
      "text/html": "<div>\n<style scoped>\n    .dataframe tbody tr th:only-of-type {\n        vertical-align: middle;\n    }\n\n    .dataframe tbody tr th {\n        vertical-align: top;\n    }\n\n    .dataframe thead th {\n        text-align: right;\n    }\n</style>\n<table border=\"1\" class=\"dataframe\">\n  <thead>\n    <tr style=\"text-align: right;\">\n      <th></th>\n      <th>contrast</th>\n      <th>dissimilarity</th>\n      <th>homogeneity</th>\n      <th>ASM</th>\n      <th>energy</th>\n      <th>correlation</th>\n    </tr>\n  </thead>\n  <tbody>\n    <tr>\n      <th>0</th>\n      <td>3773.738877</td>\n      <td>37.036017</td>\n      <td>0.059179</td>\n      <td>0.000343</td>\n      <td>0.018514</td>\n      <td>0.512819</td>\n    </tr>\n    <tr>\n      <th>1</th>\n      <td>4234.574153</td>\n      <td>51.815678</td>\n      <td>0.018144</td>\n      <td>0.000163</td>\n      <td>0.012770</td>\n      <td>0.245960</td>\n    </tr>\n    <tr>\n      <th>2</th>\n      <td>2978.331568</td>\n      <td>35.094280</td>\n      <td>0.076492</td>\n      <td>0.000277</td>\n      <td>0.016652</td>\n      <td>0.549114</td>\n    </tr>\n    <tr>\n      <th>3</th>\n      <td>1631.094280</td>\n      <td>26.395657</td>\n      <td>0.079384</td>\n      <td>0.000433</td>\n      <td>0.020813</td>\n      <td>0.635220</td>\n    </tr>\n    <tr>\n      <th>4</th>\n      <td>2421.687235</td>\n      <td>29.733845</td>\n      <td>0.140922</td>\n      <td>0.001294</td>\n      <td>0.035967</td>\n      <td>0.807161</td>\n    </tr>\n  </tbody>\n</table>\n</div>"
     },
     "metadata": {},
     "execution_count": 27
    }
   ],
   "source": [
    "glcm_data_test = glcm_feature_extraction(X_test)\n",
    "glcm_data_test.head()"
   ]
  },
  {
   "cell_type": "code",
   "execution_count": 28,
   "metadata": {},
   "outputs": [
    {
     "output_type": "execute_result",
     "data": {
      "text/plain": [
       "(3072, 6)"
      ]
     },
     "metadata": {},
     "execution_count": 28
    }
   ],
   "source": [
    "np.shape(glcm_data_test)"
   ]
  },
  {
   "cell_type": "code",
   "execution_count": 29,
   "metadata": {},
   "outputs": [],
   "source": [
    "glcm_data_test.to_csv('glcm_data_test.csv')"
   ]
  },
  {
   "cell_type": "code",
   "execution_count": 36,
   "metadata": {},
   "outputs": [],
   "source": [
    "# color moment\n",
    "# moment 1: mean\n",
    "# moment 2: standard deviation\n",
    "# moment 3: skewness\n",
    "# moment 4: kurtosis\n",
    "\n",
    "def modified_skew(image):\n",
    "    mean = np.average(image)\n",
    "    dime = np.shape(image)[0]*np.shape(image)[1]\n",
    "    skew_img = np.power((image.astype(np.int8) - mean), 3).sum()\n",
    "    skew_img *= 1/dime\n",
    "    skew_img = np.cbrt(skew_img)\n",
    "    return skew_img\n",
    "\n",
    "def modified_skew2(image):\n",
    "    mean = np.average(image)\n",
    "    dime = np.shape(image)[0]*np.shape(image)[1]\n",
    "    std = np.std(image)\n",
    "    skew_img = np.power(((image.astype(np.int8) - mean)/std), 3)\n",
    "    skew_img *= 1/dime\n",
    "    return skew_img\n",
    "\n",
    "def modified_kurtosis(image):\n",
    "    mean = np.average(image)\n",
    "    std = np.std(image)\n",
    "    dime = np.shape(image)[0]*np.shape(image)[1]\n",
    "    kurt = (np.power(((image.astype(np.int8) - mean)/std), 4)-3).sum()\n",
    "    kurt *= 1/dime\n",
    "    return kurt\n",
    "\n",
    "\n",
    "def color_moment_extraction_3channel(image_data):\n",
    "    feature_data = []\n",
    "    for image in image_data:\n",
    "        image_features = {}\n",
    "        for ch in range(image.shape[2]):\n",
    "            mean_img = np.average(image[:,:,ch])\n",
    "            image_features[f'mean_{ch}'] = mean_img\n",
    "            std_img = np.std(image[:,:,ch])\n",
    "            image_features[f'std_{ch}'] = std_img\n",
    "            skew_img = modified_skew(image[:,:,ch])\n",
    "            image_features[f'skewness_{ch}'] = skew_img\n",
    "            kurtosis_img = modified_kurtosis(image[:,:,ch])\n",
    "            image_features[f'kurtosis_{ch}'] = kurtosis_img\n",
    "        feature_data.append(image_features)\n",
    "    feature_data = pd.DataFrame(feature_data)\n",
    "    return feature_data\n",
    "\n",
    "def color_moment_extraction_1channel(image_data):\n",
    "    feature_data = []\n",
    "    for image in image_data:\n",
    "        image_features = {}\n",
    "        mean_img = np.average(image)\n",
    "        image_features['mean'] = mean_img\n",
    "        std_img = np.std(image)\n",
    "        image_features['std'] = std_img\n",
    "        skew_img = modified_skew(image)\n",
    "        image_features['skewness'] = skew_img\n",
    "        kurtosis_img = modified_kurtosis(image)\n",
    "        image_features['kurtosis'] = kurtosis_img\n",
    "        feature_data.append(image_features)\n",
    "    feature_data = pd.DataFrame(feature_data)\n",
    "    return feature_data\n"
   ]
  },
  {
   "cell_type": "code",
   "execution_count": 37,
   "metadata": {},
   "outputs": [],
   "source": [
    "color_moment_data_train = color_moment_extraction_3channel(X_train)"
   ]
  },
  {
   "cell_type": "code",
   "execution_count": 38,
   "metadata": {},
   "outputs": [
    {
     "output_type": "execute_result",
     "data": {
      "text/plain": [
       "(7166, 12)"
      ]
     },
     "metadata": {},
     "execution_count": 38
    }
   ],
   "source": [
    "np.shape(color_moment_data_train)"
   ]
  },
  {
   "cell_type": "code",
   "execution_count": 39,
   "metadata": {
    "tags": []
   },
   "outputs": [
    {
     "output_type": "execute_result",
     "data": {
      "text/plain": [
       "       mean_0      std_0  skewness_0  kurtosis_0      mean_1      std_1  \\\n",
       "0   40.283691  47.217526  -51.452960    1.824191   50.716553  54.542173   \n",
       "1  117.266113  54.028064 -169.618781  119.385076  137.581299  53.966440   \n",
       "2  102.685059  46.271431 -140.534325  121.591130  114.159180  53.148433   \n",
       "3  100.934082  43.009731 -151.855815  214.096365   95.221436  43.440451   \n",
       "4   81.591797  58.973444 -113.327495   17.895513  143.205566  61.120165   \n",
       "\n",
       "   skewness_1  kurtosis_1      mean_2      std_2  skewness_2  kurtosis_2  \n",
       "0  -69.332647    2.886897   59.271729  66.280396  -78.626445    0.815929  \n",
       "1 -182.708996  159.307759  150.463623  61.453811 -194.050390  116.677815  \n",
       "2 -158.986903  102.063759  131.738770  61.683033 -172.325381   72.075658  \n",
       "3 -143.086858  168.094073  105.747070  49.894992 -160.805095  136.802244  \n",
       "4 -177.192808   86.709248  194.368652  53.827913 -233.429790  386.808901  "
      ],
      "text/html": "<div>\n<style scoped>\n    .dataframe tbody tr th:only-of-type {\n        vertical-align: middle;\n    }\n\n    .dataframe tbody tr th {\n        vertical-align: top;\n    }\n\n    .dataframe thead th {\n        text-align: right;\n    }\n</style>\n<table border=\"1\" class=\"dataframe\">\n  <thead>\n    <tr style=\"text-align: right;\">\n      <th></th>\n      <th>mean_0</th>\n      <th>std_0</th>\n      <th>skewness_0</th>\n      <th>kurtosis_0</th>\n      <th>mean_1</th>\n      <th>std_1</th>\n      <th>skewness_1</th>\n      <th>kurtosis_1</th>\n      <th>mean_2</th>\n      <th>std_2</th>\n      <th>skewness_2</th>\n      <th>kurtosis_2</th>\n    </tr>\n  </thead>\n  <tbody>\n    <tr>\n      <th>0</th>\n      <td>40.283691</td>\n      <td>47.217526</td>\n      <td>-51.452960</td>\n      <td>1.824191</td>\n      <td>50.716553</td>\n      <td>54.542173</td>\n      <td>-69.332647</td>\n      <td>2.886897</td>\n      <td>59.271729</td>\n      <td>66.280396</td>\n      <td>-78.626445</td>\n      <td>0.815929</td>\n    </tr>\n    <tr>\n      <th>1</th>\n      <td>117.266113</td>\n      <td>54.028064</td>\n      <td>-169.618781</td>\n      <td>119.385076</td>\n      <td>137.581299</td>\n      <td>53.966440</td>\n      <td>-182.708996</td>\n      <td>159.307759</td>\n      <td>150.463623</td>\n      <td>61.453811</td>\n      <td>-194.050390</td>\n      <td>116.677815</td>\n    </tr>\n    <tr>\n      <th>2</th>\n      <td>102.685059</td>\n      <td>46.271431</td>\n      <td>-140.534325</td>\n      <td>121.591130</td>\n      <td>114.159180</td>\n      <td>53.148433</td>\n      <td>-158.986903</td>\n      <td>102.063759</td>\n      <td>131.738770</td>\n      <td>61.683033</td>\n      <td>-172.325381</td>\n      <td>72.075658</td>\n    </tr>\n    <tr>\n      <th>3</th>\n      <td>100.934082</td>\n      <td>43.009731</td>\n      <td>-151.855815</td>\n      <td>214.096365</td>\n      <td>95.221436</td>\n      <td>43.440451</td>\n      <td>-143.086858</td>\n      <td>168.094073</td>\n      <td>105.747070</td>\n      <td>49.894992</td>\n      <td>-160.805095</td>\n      <td>136.802244</td>\n    </tr>\n    <tr>\n      <th>4</th>\n      <td>81.591797</td>\n      <td>58.973444</td>\n      <td>-113.327495</td>\n      <td>17.895513</td>\n      <td>143.205566</td>\n      <td>61.120165</td>\n      <td>-177.192808</td>\n      <td>86.709248</td>\n      <td>194.368652</td>\n      <td>53.827913</td>\n      <td>-233.429790</td>\n      <td>386.808901</td>\n    </tr>\n  </tbody>\n</table>\n</div>"
     },
     "metadata": {},
     "execution_count": 39
    }
   ],
   "source": [
    "color_moment_data_train.head()"
   ]
  },
  {
   "cell_type": "code",
   "execution_count": 40,
   "metadata": {},
   "outputs": [],
   "source": [
    "color_moment_data_train.to_csv('color_moment_data_train.csv')"
   ]
  },
  {
   "cell_type": "code",
   "execution_count": 42,
   "metadata": {},
   "outputs": [],
   "source": [
    "color_moment_data_test = color_moment_extraction_3channel(X_test)"
   ]
  },
  {
   "cell_type": "code",
   "execution_count": 43,
   "metadata": {},
   "outputs": [
    {
     "output_type": "execute_result",
     "data": {
      "text/plain": [
       "(3072, 12)"
      ]
     },
     "metadata": {},
     "execution_count": 43
    }
   ],
   "source": [
    "np.shape(color_moment_data_test)"
   ]
  },
  {
   "cell_type": "code",
   "execution_count": 44,
   "metadata": {},
   "outputs": [
    {
     "output_type": "execute_result",
     "data": {
      "text/plain": [
       "       mean_0      std_0  skewness_0  kurtosis_0      mean_1      std_1  \\\n",
       "0   60.152100  65.079407  -62.010704   -1.183716   69.447021  66.074385   \n",
       "1   80.335449  46.997063  -99.113339   33.314412  113.894043  55.695610   \n",
       "2  115.224365  56.153656 -130.018200   42.320266  116.757324  57.341133   \n",
       "3   42.412354  37.417019  -18.033385    0.856238   60.638672  47.685312   \n",
       "4   72.557617  73.811422  -95.680237    1.480019   89.187500  78.396413   \n",
       "\n",
       "   skewness_1  kurtosis_1      mean_2      std_2  skewness_2  kurtosis_2  \n",
       "0  -71.241946   -0.143536   87.151123  64.355157  -91.016590    4.596184  \n",
       "1 -156.984285   81.010740  127.169678  54.839149 -174.157767  125.894199  \n",
       "2 -125.358601   33.340832  115.312012  61.742897 -126.016276   23.901065  \n",
       "3  -81.618153   17.466625   68.400146  52.706224 -114.183328   31.767681  \n",
       "4 -119.348424    4.649973  112.766846  86.220503 -143.934361    6.840237  "
      ],
      "text/html": "<div>\n<style scoped>\n    .dataframe tbody tr th:only-of-type {\n        vertical-align: middle;\n    }\n\n    .dataframe tbody tr th {\n        vertical-align: top;\n    }\n\n    .dataframe thead th {\n        text-align: right;\n    }\n</style>\n<table border=\"1\" class=\"dataframe\">\n  <thead>\n    <tr style=\"text-align: right;\">\n      <th></th>\n      <th>mean_0</th>\n      <th>std_0</th>\n      <th>skewness_0</th>\n      <th>kurtosis_0</th>\n      <th>mean_1</th>\n      <th>std_1</th>\n      <th>skewness_1</th>\n      <th>kurtosis_1</th>\n      <th>mean_2</th>\n      <th>std_2</th>\n      <th>skewness_2</th>\n      <th>kurtosis_2</th>\n    </tr>\n  </thead>\n  <tbody>\n    <tr>\n      <th>0</th>\n      <td>60.152100</td>\n      <td>65.079407</td>\n      <td>-62.010704</td>\n      <td>-1.183716</td>\n      <td>69.447021</td>\n      <td>66.074385</td>\n      <td>-71.241946</td>\n      <td>-0.143536</td>\n      <td>87.151123</td>\n      <td>64.355157</td>\n      <td>-91.016590</td>\n      <td>4.596184</td>\n    </tr>\n    <tr>\n      <th>1</th>\n      <td>80.335449</td>\n      <td>46.997063</td>\n      <td>-99.113339</td>\n      <td>33.314412</td>\n      <td>113.894043</td>\n      <td>55.695610</td>\n      <td>-156.984285</td>\n      <td>81.010740</td>\n      <td>127.169678</td>\n      <td>54.839149</td>\n      <td>-174.157767</td>\n      <td>125.894199</td>\n    </tr>\n    <tr>\n      <th>2</th>\n      <td>115.224365</td>\n      <td>56.153656</td>\n      <td>-130.018200</td>\n      <td>42.320266</td>\n      <td>116.757324</td>\n      <td>57.341133</td>\n      <td>-125.358601</td>\n      <td>33.340832</td>\n      <td>115.312012</td>\n      <td>61.742897</td>\n      <td>-126.016276</td>\n      <td>23.901065</td>\n    </tr>\n    <tr>\n      <th>3</th>\n      <td>42.412354</td>\n      <td>37.417019</td>\n      <td>-18.033385</td>\n      <td>0.856238</td>\n      <td>60.638672</td>\n      <td>47.685312</td>\n      <td>-81.618153</td>\n      <td>17.466625</td>\n      <td>68.400146</td>\n      <td>52.706224</td>\n      <td>-114.183328</td>\n      <td>31.767681</td>\n    </tr>\n    <tr>\n      <th>4</th>\n      <td>72.557617</td>\n      <td>73.811422</td>\n      <td>-95.680237</td>\n      <td>1.480019</td>\n      <td>89.187500</td>\n      <td>78.396413</td>\n      <td>-119.348424</td>\n      <td>4.649973</td>\n      <td>112.766846</td>\n      <td>86.220503</td>\n      <td>-143.934361</td>\n      <td>6.840237</td>\n    </tr>\n  </tbody>\n</table>\n</div>"
     },
     "metadata": {},
     "execution_count": 44
    }
   ],
   "source": [
    "color_moment_data_test.head()"
   ]
  },
  {
   "cell_type": "code",
   "execution_count": 45,
   "metadata": {},
   "outputs": [],
   "source": [
    "color_moment_data_test.to_csv('color_moment_data_test.csv')"
   ]
  },
  {
   "cell_type": "code",
   "execution_count": 43,
   "metadata": {},
   "outputs": [],
   "source": [
    "# texture\n",
    "# HOG\n",
    "from skimage import feature\n",
    "from sklearn.decomposition import PCA, IncrementalPCA\n",
    "from scipy import sparse\n",
    "def hog_feature_extraction(image_data, orientations=9, pixels_per_cell=(8, 8),\n",
    "\tcells_per_block=(2, 2), transform_sqrt=True, block_norm=\"L1\", n_components=10, threshold=0.45):\n",
    "    feature_data = []\n",
    "    hog_features = []\n",
    "    # pca = PCA(n_components = n_components, svd_solver='full')\n",
    "    pca = IncrementalPCA(n_components=n_components, batch_size=300)\n",
    "    for image in image_data:\n",
    "        hog_f = feature.hog(image, orientations=orientations, pixels_per_cell=pixels_per_cell,\n",
    "\tcells_per_block=cells_per_block, transform_sqrt=transform_sqrt, block_norm=block_norm)\n",
    "        hog_features.append(hog_f)\n",
    "    hog_features = np.array(hog_features)\n",
    "    hog_features[hog_features==np.inf] = 0\n",
    "    hog_features[hog_features==np.nan] = 0\n",
    "    print(hog_features.shape)\n",
    "    # print(np.isnan(np.sum(hog_features)))\n",
    "    pca.partial_fit(hog_features[:100, :])\n",
    "    hog_features_sparse = sparse.csr_matrix(hog_features)\n",
    "    # pca.fit(hog_features_sparse)\n",
    "    reduced_data_pca = pca.fit_transform(hog_features_sparse)\n",
    "    for image_pc in reduced_data_pca:\n",
    "        selected_pc = []\n",
    "        pc_sum = 0\n",
    "        for pc in image_pc:\n",
    "            if pc_sum <=threshold:\n",
    "                pc_sum += pc\n",
    "                selected_pc.append(pc)\n",
    "        features_tmp = {}\n",
    "        for i, pc in enumerate(selected_pc):\n",
    "            features_tmp[f'pc_{i}'] = pc\n",
    "        feature_data.append(features_tmp)    \n",
    "    feature_data = pd.DataFrame(feature_data)       \n",
    "    return feature_data"
   ]
  },
  {
   "cell_type": "code",
   "execution_count": 129,
   "metadata": {},
   "outputs": [],
   "source": [
    "## Bagian GridSearch\n",
    "# Eksperimen dengan GLCM\n",
    "test_fold = np.concatenate([\n",
    "    # The training data.\n",
    "    np.full(len(glcm_data_train), -1, dtype=np.int8),\n",
    "    # The development data.\n",
    "    np.zeros(len(glcm_data_test), dtype=np.int8)\n",
    "])\n",
    "\n",
    "cv = PredefinedSplit(test_fold)\n",
    "\n",
    "X = np.concatenate([glcm_data_train, glcm_data_test])\n",
    "y = np.concatenate([y_train, y_test])"
   ]
  },
  {
   "cell_type": "code",
   "execution_count": 130,
   "metadata": {},
   "outputs": [],
   "source": [
    "base = DecisionTreeClassifier()\n",
    "grid = {\n",
    "\"max_depth\" : [10, 100, 1000],\n",
    "\"criterion\" : [\"gini\", \"entropy\"]\n",
    "}\n",
    "model = GridSearchCV(base, grid, cv=cv,n_jobs=4, verbose=100, return_train_score = True)"
   ]
  },
  {
   "cell_type": "code",
   "execution_count": 131,
   "metadata": {},
   "outputs": [
    {
     "output_type": "stream",
     "name": "stdout",
     "text": [
      "Fitting 1 folds for each of 6 candidates, totalling 6 fits\n",
      "[Parallel(n_jobs=4)]: Using backend LokyBackend with 4 concurrent workers.\n",
      "Pickling array (shape=(10238, 6), dtype=float64).\n",
      "Pickling array (shape=(10238,), dtype=int32).\n",
      "Pickling array (shape=(7166,), dtype=int32).\n",
      "Pickling array (shape=(3072,), dtype=int32).\n",
      "Pickling array (shape=(10238, 6), dtype=float64).\n",
      "Pickling array (shape=(10238,), dtype=int32).\n",
      "Pickling array (shape=(7166,), dtype=int32).\n",
      "Pickling array (shape=(3072,), dtype=int32).\n",
      "Pickling array (shape=(10238, 6), dtype=float64).\n",
      "Pickling array (shape=(10238,), dtype=int32).\n",
      "Pickling array (shape=(7166,), dtype=int32).\n",
      "Pickling array (shape=(3072,), dtype=int32).\n",
      "Pickling array (shape=(10238, 6), dtype=float64).\n",
      "Pickling array (shape=(10238,), dtype=int32).\n",
      "Pickling array (shape=(7166,), dtype=int32).\n",
      "Pickling array (shape=(3072,), dtype=int32).\n",
      "Pickling array (shape=(10238, 6), dtype=float64).\n",
      "Pickling array (shape=(10238,), dtype=int32).\n",
      "Pickling array (shape=(7166,), dtype=int32).\n",
      "Pickling array (shape=(3072,), dtype=int32).\n",
      "[Parallel(n_jobs=4)]: Done   1 tasks      | elapsed:    0.0s\n",
      "[Parallel(n_jobs=4)]: Batch computation too fast (0.0570s.) Setting batch_size=2.\n",
      "Pickling array (shape=(10238, 6), dtype=float64).\n",
      "Pickling array (shape=(10238,), dtype=int32).\n",
      "Pickling array (shape=(7166,), dtype=int32).\n",
      "Pickling array (shape=(3072,), dtype=int32).\n",
      "[Parallel(n_jobs=4)]: Done   2 out of   6 | elapsed:    0.0s remaining:    0.1s\n",
      "[Parallel(n_jobs=4)]: Done   3 out of   6 | elapsed:    0.0s remaining:    0.0s\n",
      "[Parallel(n_jobs=4)]: Done   4 out of   6 | elapsed:    0.0s remaining:    0.0s\n",
      "[Parallel(n_jobs=4)]: Done   6 out of   6 | elapsed:    0.2s remaining:    0.0s\n",
      "[Parallel(n_jobs=4)]: Done   6 out of   6 | elapsed:    0.2s finished\n"
     ]
    }
   ],
   "source": [
    "model = model.fit(X,y)"
   ]
  },
  {
   "cell_type": "code",
   "execution_count": 132,
   "metadata": {},
   "outputs": [
    {
     "output_type": "stream",
     "name": "stdout",
     "text": [
      "{'mean_fit_time': array([0.04999995, 0.07399964, 0.07499647, 0.08149743, 0.18499851,\n       0.15199995]), 'std_fit_time': array([0., 0., 0., 0., 0., 0.]), 'mean_score_time': array([0.00100064, 0.00099945, 0.00149989, 0.00050187, 0.00099969,\n       0.00099969]), 'std_score_time': array([0., 0., 0., 0., 0., 0.]), 'param_criterion': masked_array(data=['gini', 'gini', 'gini', 'entropy', 'entropy',\n                   'entropy'],\n             mask=[False, False, False, False, False, False],\n       fill_value='?',\n            dtype=object), 'param_max_depth': masked_array(data=[10, 100, 1000, 10, 100, 1000],\n             mask=[False, False, False, False, False, False],\n       fill_value='?',\n            dtype=object), 'params': [{'criterion': 'gini', 'max_depth': 10}, {'criterion': 'gini', 'max_depth': 100}, {'criterion': 'gini', 'max_depth': 1000}, {'criterion': 'entropy', 'max_depth': 10}, {'criterion': 'entropy', 'max_depth': 100}, {'criterion': 'entropy', 'max_depth': 1000}], 'split0_test_score': array([0.55436198, 0.53125   , 0.52669271, 0.56152344, 0.51041667,\n       0.51367188]), 'mean_test_score': array([0.55436198, 0.53125   , 0.52669271, 0.56152344, 0.51041667,\n       0.51367188]), 'std_test_score': array([0., 0., 0., 0., 0., 0.]), 'rank_test_score': array([2, 3, 4, 1, 6, 5]), 'split0_train_score': array([0.67010885, 1.        , 1.        , 0.63647781, 1.        ,\n       1.        ]), 'mean_train_score': array([0.67010885, 1.        , 1.        , 0.63647781, 1.        ,\n       1.        ]), 'std_train_score': array([0., 0., 0., 0., 0., 0.])}\n"
     ]
    }
   ],
   "source": [
    "print(model.cv_results_)"
   ]
  },
  {
   "cell_type": "code",
   "execution_count": 133,
   "metadata": {},
   "outputs": [
    {
     "output_type": "execute_result",
     "data": {
      "text/plain": [
       "   Rank criterion  max_depth  Accuracy  Fit Time\n",
       "0     2      gini         10  0.554362  0.050000\n",
       "1     3      gini        100  0.531250  0.074000\n",
       "2     4      gini       1000  0.526693  0.074996\n",
       "3     1   entropy         10  0.561523  0.081497\n",
       "4     6   entropy        100  0.510417  0.184999\n",
       "5     5   entropy       1000  0.513672  0.152000"
      ],
      "text/html": "<div>\n<style scoped>\n    .dataframe tbody tr th:only-of-type {\n        vertical-align: middle;\n    }\n\n    .dataframe tbody tr th {\n        vertical-align: top;\n    }\n\n    .dataframe thead th {\n        text-align: right;\n    }\n</style>\n<table border=\"1\" class=\"dataframe\">\n  <thead>\n    <tr style=\"text-align: right;\">\n      <th></th>\n      <th>Rank</th>\n      <th>criterion</th>\n      <th>max_depth</th>\n      <th>Accuracy</th>\n      <th>Fit Time</th>\n    </tr>\n  </thead>\n  <tbody>\n    <tr>\n      <th>0</th>\n      <td>2</td>\n      <td>gini</td>\n      <td>10</td>\n      <td>0.554362</td>\n      <td>0.050000</td>\n    </tr>\n    <tr>\n      <th>1</th>\n      <td>3</td>\n      <td>gini</td>\n      <td>100</td>\n      <td>0.531250</td>\n      <td>0.074000</td>\n    </tr>\n    <tr>\n      <th>2</th>\n      <td>4</td>\n      <td>gini</td>\n      <td>1000</td>\n      <td>0.526693</td>\n      <td>0.074996</td>\n    </tr>\n    <tr>\n      <th>3</th>\n      <td>1</td>\n      <td>entropy</td>\n      <td>10</td>\n      <td>0.561523</td>\n      <td>0.081497</td>\n    </tr>\n    <tr>\n      <th>4</th>\n      <td>6</td>\n      <td>entropy</td>\n      <td>100</td>\n      <td>0.510417</td>\n      <td>0.184999</td>\n    </tr>\n    <tr>\n      <th>5</th>\n      <td>5</td>\n      <td>entropy</td>\n      <td>1000</td>\n      <td>0.513672</td>\n      <td>0.152000</td>\n    </tr>\n  </tbody>\n</table>\n</div>"
     },
     "metadata": {},
     "execution_count": 133
    }
   ],
   "source": [
    "pd.concat([pd.DataFrame(model.cv_results_[\"rank_test_score\"], columns=[\"Rank\"]), pd.DataFrame(model.cv_results_[\"params\"]),pd.DataFrame(model.cv_results_[\"mean_test_score\"], columns=[\"Accuracy\"]),pd.DataFrame(model.cv_results_[\"mean_fit_time\"], columns=[\"Fit Time\"])],axis=1)"
   ]
  },
  {
   "cell_type": "code",
   "execution_count": 134,
   "metadata": {},
   "outputs": [
    {
     "output_type": "execute_result",
     "data": {
      "text/plain": [
       "   Rank criterion  max_depth  Accuracy  Train Score\n",
       "0     2      gini         10  0.554362     0.670109\n",
       "1     3      gini        100  0.531250     1.000000\n",
       "2     4      gini       1000  0.526693     1.000000\n",
       "3     1   entropy         10  0.561523     0.636478\n",
       "4     6   entropy        100  0.510417     1.000000\n",
       "5     5   entropy       1000  0.513672     1.000000"
      ],
      "text/html": "<div>\n<style scoped>\n    .dataframe tbody tr th:only-of-type {\n        vertical-align: middle;\n    }\n\n    .dataframe tbody tr th {\n        vertical-align: top;\n    }\n\n    .dataframe thead th {\n        text-align: right;\n    }\n</style>\n<table border=\"1\" class=\"dataframe\">\n  <thead>\n    <tr style=\"text-align: right;\">\n      <th></th>\n      <th>Rank</th>\n      <th>criterion</th>\n      <th>max_depth</th>\n      <th>Accuracy</th>\n      <th>Train Score</th>\n    </tr>\n  </thead>\n  <tbody>\n    <tr>\n      <th>0</th>\n      <td>2</td>\n      <td>gini</td>\n      <td>10</td>\n      <td>0.554362</td>\n      <td>0.670109</td>\n    </tr>\n    <tr>\n      <th>1</th>\n      <td>3</td>\n      <td>gini</td>\n      <td>100</td>\n      <td>0.531250</td>\n      <td>1.000000</td>\n    </tr>\n    <tr>\n      <th>2</th>\n      <td>4</td>\n      <td>gini</td>\n      <td>1000</td>\n      <td>0.526693</td>\n      <td>1.000000</td>\n    </tr>\n    <tr>\n      <th>3</th>\n      <td>1</td>\n      <td>entropy</td>\n      <td>10</td>\n      <td>0.561523</td>\n      <td>0.636478</td>\n    </tr>\n    <tr>\n      <th>4</th>\n      <td>6</td>\n      <td>entropy</td>\n      <td>100</td>\n      <td>0.510417</td>\n      <td>1.000000</td>\n    </tr>\n    <tr>\n      <th>5</th>\n      <td>5</td>\n      <td>entropy</td>\n      <td>1000</td>\n      <td>0.513672</td>\n      <td>1.000000</td>\n    </tr>\n  </tbody>\n</table>\n</div>"
     },
     "metadata": {},
     "execution_count": 134
    }
   ],
   "source": [
    "pd.concat([pd.DataFrame(model.cv_results_[\"rank_test_score\"], columns=[\"Rank\"]), pd.DataFrame(model.cv_results_[\"params\"]),pd.DataFrame(model.cv_results_[\"mean_test_score\"], columns=[\"Accuracy\"]),pd.DataFrame(model.cv_results_[\"mean_train_score\"], columns=[\"Train Score\"])],axis=1)"
   ]
  },
  {
   "cell_type": "code",
   "execution_count": 135,
   "metadata": {},
   "outputs": [
    {
     "output_type": "execute_result",
     "data": {
      "text/plain": [
       "['local_dtl_70p_64_glcm.pkl']"
      ]
     },
     "metadata": {},
     "execution_count": 135
    }
   ],
   "source": [
    "dump(model, 'local_dtl_{}_{}_glcm.pkl'.format('70p', 64))"
   ]
  },
  {
   "cell_type": "code",
   "execution_count": 136,
   "metadata": {},
   "outputs": [],
   "source": [
    "# Random Forest classifier\n",
    "rf_base = xgb.XGBRFClassifier()\n",
    "rf_grid = {\n",
    "\"max_depth\" : [4, 6, 10],\n",
    "\"learning_rate\" : [0.1, 0.3],\n",
    "\"n_estimators\" : [1, 5, 10, 50]\n",
    "}\n",
    "rf_model = GridSearchCV(rf_base, rf_grid, cv=cv,n_jobs=4, verbose=100, return_train_score = True)"
   ]
  },
  {
   "cell_type": "code",
   "execution_count": 137,
   "metadata": {},
   "outputs": [
    {
     "output_type": "stream",
     "name": "stdout",
     "text": [
      "Fitting 1 folds for each of 24 candidates, totalling 24 fits\n",
      "[Parallel(n_jobs=4)]: Using backend LokyBackend with 4 concurrent workers.\n",
      "Pickling array (shape=(10238, 6), dtype=float64).\n",
      "Pickling array (shape=(10238,), dtype=int32).\n",
      "Pickling array (shape=(7166,), dtype=int32).\n",
      "Pickling array (shape=(3072,), dtype=int32).\n",
      "Pickling array (shape=(10238, 6), dtype=float64).\n",
      "Pickling array (shape=(10238,), dtype=int32).\n",
      "Pickling array (shape=(7166,), dtype=int32).\n",
      "Pickling array (shape=(3072,), dtype=int32).\n",
      "Pickling array (shape=(10238, 6), dtype=float64).\n",
      "Pickling array (shape=(10238,), dtype=int32).\n",
      "Pickling array (shape=(7166,), dtype=int32).\n",
      "Pickling array (shape=(3072,), dtype=int32).\n",
      "Pickling array (shape=(10238, 6), dtype=float64).\n",
      "Pickling array (shape=(10238,), dtype=int32).\n",
      "Pickling array (shape=(7166,), dtype=int32).\n",
      "Pickling array (shape=(3072,), dtype=int32).\n",
      "Pickling array (shape=(10238, 6), dtype=float64).\n",
      "Pickling array (shape=(10238,), dtype=int32).\n",
      "Pickling array (shape=(7166,), dtype=int32).\n",
      "Pickling array (shape=(3072,), dtype=int32).\n",
      "[Parallel(n_jobs=4)]: Done   1 tasks      | elapsed:    0.0s\n",
      "[Parallel(n_jobs=4)]: Batch computation too fast (0.0275s.) Setting batch_size=2.\n",
      "[Parallel(n_jobs=4)]: Done   2 tasks      | elapsed:    0.0s\n",
      "Pickling array (shape=(10238, 6), dtype=float64).\n",
      "Pickling array (shape=(10238,), dtype=int32).\n",
      "Pickling array (shape=(7166,), dtype=int32).\n",
      "Pickling array (shape=(3072,), dtype=int32).\n",
      "[Parallel(n_jobs=4)]: Done   3 tasks      | elapsed:    0.0s\n",
      "Pickling array (shape=(10238, 6), dtype=float64).\n",
      "Pickling array (shape=(10238,), dtype=int32).\n",
      "Pickling array (shape=(7166,), dtype=int32).\n",
      "Pickling array (shape=(3072,), dtype=int32).\n",
      "[Parallel(n_jobs=4)]: Done   4 tasks      | elapsed:    0.0s\n",
      "Pickling array (shape=(10238, 6), dtype=float64).\n",
      "Pickling array (shape=(10238,), dtype=int32).\n",
      "Pickling array (shape=(7166,), dtype=int32).\n",
      "Pickling array (shape=(3072,), dtype=int32).\n",
      "Pickling array (shape=(10238, 6), dtype=float64).\n",
      "Pickling array (shape=(10238,), dtype=int32).\n",
      "Pickling array (shape=(7166,), dtype=int32).\n",
      "Pickling array (shape=(3072,), dtype=int32).\n",
      "[Parallel(n_jobs=4)]: Done   5 tasks      | elapsed:    0.0s\n",
      "Pickling array (shape=(10238, 6), dtype=float64).\n",
      "Pickling array (shape=(10238,), dtype=int32).\n",
      "Pickling array (shape=(7166,), dtype=int32).\n",
      "Pickling array (shape=(3072,), dtype=int32).\n",
      "[Parallel(n_jobs=4)]: Done   6 tasks      | elapsed:    0.0s\n",
      "Pickling array (shape=(10238, 6), dtype=float64).\n",
      "Pickling array (shape=(10238,), dtype=int32).\n",
      "Pickling array (shape=(7166,), dtype=int32).\n",
      "Pickling array (shape=(3072,), dtype=int32).\n",
      "[Parallel(n_jobs=4)]: Done   7 tasks      | elapsed:    0.1s\n",
      "[Parallel(n_jobs=4)]: Done   9 tasks      | elapsed:    0.1s\n",
      "Pickling array (shape=(10238, 6), dtype=float64).[Parallel(n_jobs=4)]: Batch computation too fast (0.1640s.) Setting batch_size=4.\n",
      "\n",
      "Pickling array (shape=(10238,), dtype=int32).\n",
      "Pickling array (shape=(7166,), dtype=int32).\n",
      "Pickling array (shape=(3072,), dtype=int32).\n",
      "Pickling array (shape=(10238, 6), dtype=float64).\n",
      "Pickling array (shape=(10238,), dtype=int32).\n",
      "Pickling array (shape=(7166,), dtype=int32).\n",
      "Pickling array (shape=(3072,), dtype=int32).\n",
      "[Parallel(n_jobs=4)]: Done  11 tasks      | elapsed:    0.2s\n",
      "Pickling array (shape=(10238, 6), dtype=float64).\n",
      "Pickling array (shape=(10238,), dtype=int32).\n",
      "Pickling array (shape=(7166,), dtype=int32).\n",
      "Pickling array (shape=(3072,), dtype=int32).\n",
      "[Parallel(n_jobs=4)]: Done  13 out of  24 | elapsed:    0.2s remaining:    0.2s\n",
      "Pickling array (shape=(10238, 6), dtype=float64).\n",
      "Pickling array (shape=(10238,), dtype=int32).\n",
      "Pickling array (shape=(7166,), dtype=int32).\n",
      "Pickling array (shape=(3072,), dtype=int32).\n",
      "[Parallel(n_jobs=4)]: Done  14 out of  24 | elapsed:    0.3s remaining:    0.2s\n",
      "Pickling array (shape=(10238, 6), dtype=float64).\n",
      "Pickling array (shape=(10238,), dtype=int32).\n",
      "Pickling array (shape=(7166,), dtype=int32).\n",
      "Pickling array (shape=(3072,), dtype=int32).\n",
      "[Parallel(n_jobs=4)]: Done  16 out of  24 | elapsed:    0.3s remaining:    0.1s\n",
      "[Parallel(n_jobs=4)]: Done  18 out of  24 | elapsed:    0.4s remaining:    0.1s\n",
      "[Parallel(n_jobs=4)]: Done  20 out of  24 | elapsed:    0.5s remaining:    0.0s\n",
      "[Parallel(n_jobs=4)]: Done  22 out of  24 | elapsed:    0.6s remaining:    0.0s\n",
      "[Parallel(n_jobs=4)]: Done  24 out of  24 | elapsed:    0.8s remaining:    0.0s\n",
      "[Parallel(n_jobs=4)]: Done  24 out of  24 | elapsed:    0.8s finished\n"
     ]
    }
   ],
   "source": [
    "rf_model = rf_model.fit(X, y)"
   ]
  },
  {
   "cell_type": "code",
   "execution_count": 138,
   "metadata": {},
   "outputs": [
    {
     "output_type": "stream",
     "name": "stdout",
     "text": [
      "{'mean_fit_time': array([0.01099873, 0.02799964, 0.04100013, 0.16299868, 0.01500034,\n       0.0384984 , 0.05799937, 0.24850035, 0.0199995 , 0.04900002,\n       0.08999753, 0.40200114, 0.01700115, 0.02500105, 0.04400134,\n       0.1709969 , 0.01649833, 0.03950024, 0.06049871, 0.23050237,\n       0.02000165, 0.05199909, 0.08399987, 0.31301069]), 'std_fit_time': array([0., 0., 0., 0., 0., 0., 0., 0., 0., 0., 0., 0., 0., 0., 0., 0., 0.,\n       0., 0., 0., 0., 0., 0., 0.]), 'mean_score_time': array([0.00299883, 0.00300002, 0.00299954, 0.00400162, 0.00250053,\n       0.00300002, 0.00349975, 0.00650024, 0.00249934, 0.00350046,\n       0.00350094, 0.00899911, 0.0025003 , 0.00299931, 0.00249839,\n       0.00449967, 0.00250149, 0.00300312, 0.00300145, 0.00599909,\n       0.00250006, 0.00299931, 0.00349998, 0.00848889]), 'std_score_time': array([0., 0., 0., 0., 0., 0., 0., 0., 0., 0., 0., 0., 0., 0., 0., 0., 0.,\n       0., 0., 0., 0., 0., 0., 0.]), 'param_learning_rate': masked_array(data=[0.1, 0.1, 0.1, 0.1, 0.1, 0.1, 0.1, 0.1, 0.1, 0.1, 0.1,\n                   0.1, 0.3, 0.3, 0.3, 0.3, 0.3, 0.3, 0.3, 0.3, 0.3, 0.3,\n                   0.3, 0.3],\n             mask=[False, False, False, False, False, False, False, False,\n                   False, False, False, False, False, False, False, False,\n                   False, False, False, False, False, False, False, False],\n       fill_value='?',\n            dtype=object), 'param_max_depth': masked_array(data=[4, 4, 4, 4, 6, 6, 6, 6, 10, 10, 10, 10, 4, 4, 4, 4, 6,\n                   6, 6, 6, 10, 10, 10, 10],\n             mask=[False, False, False, False, False, False, False, False,\n                   False, False, False, False, False, False, False, False,\n                   False, False, False, False, False, False, False, False],\n       fill_value='?',\n            dtype=object), 'param_n_estimators': masked_array(data=[1, 5, 10, 50, 1, 5, 10, 50, 1, 5, 10, 50, 1, 5, 10, 50,\n                   1, 5, 10, 50, 1, 5, 10, 50],\n             mask=[False, False, False, False, False, False, False, False,\n                   False, False, False, False, False, False, False, False,\n                   False, False, False, False, False, False, False, False],\n       fill_value='?',\n            dtype=object), 'params': [{'learning_rate': 0.1, 'max_depth': 4, 'n_estimators': 1}, {'learning_rate': 0.1, 'max_depth': 4, 'n_estimators': 5}, {'learning_rate': 0.1, 'max_depth': 4, 'n_estimators': 10}, {'learning_rate': 0.1, 'max_depth': 4, 'n_estimators': 50}, {'learning_rate': 0.1, 'max_depth': 6, 'n_estimators': 1}, {'learning_rate': 0.1, 'max_depth': 6, 'n_estimators': 5}, {'learning_rate': 0.1, 'max_depth': 6, 'n_estimators': 10}, {'learning_rate': 0.1, 'max_depth': 6, 'n_estimators': 50}, {'learning_rate': 0.1, 'max_depth': 10, 'n_estimators': 1}, {'learning_rate': 0.1, 'max_depth': 10, 'n_estimators': 5}, {'learning_rate': 0.1, 'max_depth': 10, 'n_estimators': 10}, {'learning_rate': 0.1, 'max_depth': 10, 'n_estimators': 50}, {'learning_rate': 0.3, 'max_depth': 4, 'n_estimators': 1}, {'learning_rate': 0.3, 'max_depth': 4, 'n_estimators': 5}, {'learning_rate': 0.3, 'max_depth': 4, 'n_estimators': 10}, {'learning_rate': 0.3, 'max_depth': 4, 'n_estimators': 50}, {'learning_rate': 0.3, 'max_depth': 6, 'n_estimators': 1}, {'learning_rate': 0.3, 'max_depth': 6, 'n_estimators': 5}, {'learning_rate': 0.3, 'max_depth': 6, 'n_estimators': 10}, {'learning_rate': 0.3, 'max_depth': 6, 'n_estimators': 50}, {'learning_rate': 0.3, 'max_depth': 10, 'n_estimators': 1}, {'learning_rate': 0.3, 'max_depth': 10, 'n_estimators': 5}, {'learning_rate': 0.3, 'max_depth': 10, 'n_estimators': 10}, {'learning_rate': 0.3, 'max_depth': 10, 'n_estimators': 50}], 'split0_test_score': array([0.55957031, 0.56575521, 0.57486979, 0.58007812, 0.56673177,\n       0.56738281, 0.56835938, 0.57226562, 0.55403646, 0.56673177,\n       0.56184896, 0.56770833, 0.55957031, 0.56575521, 0.57486979,\n       0.58007812, 0.56673177, 0.56738281, 0.56835938, 0.57226562,\n       0.55403646, 0.56673177, 0.56184896, 0.56770833]), 'mean_test_score': array([0.55957031, 0.56575521, 0.57486979, 0.58007812, 0.56673177,\n       0.56738281, 0.56835938, 0.57226562, 0.55403646, 0.56673177,\n       0.56184896, 0.56770833, 0.55957031, 0.56575521, 0.57486979,\n       0.58007812, 0.56673177, 0.56738281, 0.56835938, 0.57226562,\n       0.55403646, 0.56673177, 0.56184896, 0.56770833]), 'std_test_score': array([0., 0., 0., 0., 0., 0., 0., 0., 0., 0., 0., 0., 0., 0., 0., 0., 0.,\n       0., 0., 0., 0., 0., 0., 0.]), 'rank_test_score': array([21, 17,  3,  1, 13, 11,  7,  5, 23, 13, 19,  9, 21, 17,  3,  1, 13,\n       11,  7,  5, 23, 13, 19,  9]), 'split0_train_score': array([0.57884454, 0.59335752, 0.59866034, 0.5944739 , 0.59140385,\n       0.63005861, 0.62922132, 0.63284957, 0.62838404, 0.72746302,\n       0.74476696, 0.77518839, 0.57884454, 0.59335752, 0.59866034,\n       0.5944739 , 0.59140385, 0.63005861, 0.62922132, 0.63284957,\n       0.62838404, 0.72746302, 0.74476696, 0.77518839]), 'mean_train_score': array([0.57884454, 0.59335752, 0.59866034, 0.5944739 , 0.59140385,\n       0.63005861, 0.62922132, 0.63284957, 0.62838404, 0.72746302,\n       0.74476696, 0.77518839, 0.57884454, 0.59335752, 0.59866034,\n       0.5944739 , 0.59140385, 0.63005861, 0.62922132, 0.63284957,\n       0.62838404, 0.72746302, 0.74476696, 0.77518839]), 'std_train_score': array([0., 0., 0., 0., 0., 0., 0., 0., 0., 0., 0., 0., 0., 0., 0., 0., 0.,\n       0., 0., 0., 0., 0., 0., 0.])}\n"
     ]
    }
   ],
   "source": [
    "print(rf_model.cv_results_)"
   ]
  },
  {
   "cell_type": "code",
   "execution_count": 140,
   "metadata": {},
   "outputs": [
    {
     "output_type": "execute_result",
     "data": {
      "text/plain": [
       "    Rank  learning_rate  max_depth  n_estimators  Accuracy  Fit Time\n",
       "0     21            0.1          4             1  0.559570  0.010999\n",
       "1     17            0.1          4             5  0.565755  0.028000\n",
       "2      3            0.1          4            10  0.574870  0.041000\n",
       "3      1            0.1          4            50  0.580078  0.162999\n",
       "4     13            0.1          6             1  0.566732  0.015000\n",
       "5     11            0.1          6             5  0.567383  0.038498\n",
       "6      7            0.1          6            10  0.568359  0.057999\n",
       "7      5            0.1          6            50  0.572266  0.248500\n",
       "8     23            0.1         10             1  0.554036  0.020000\n",
       "9     13            0.1         10             5  0.566732  0.049000\n",
       "10    19            0.1         10            10  0.561849  0.089998\n",
       "11     9            0.1         10            50  0.567708  0.402001\n",
       "12    21            0.3          4             1  0.559570  0.017001\n",
       "13    17            0.3          4             5  0.565755  0.025001\n",
       "14     3            0.3          4            10  0.574870  0.044001\n",
       "15     1            0.3          4            50  0.580078  0.170997\n",
       "16    13            0.3          6             1  0.566732  0.016498\n",
       "17    11            0.3          6             5  0.567383  0.039500\n",
       "18     7            0.3          6            10  0.568359  0.060499\n",
       "19     5            0.3          6            50  0.572266  0.230502\n",
       "20    23            0.3         10             1  0.554036  0.020002\n",
       "21    13            0.3         10             5  0.566732  0.051999\n",
       "22    19            0.3         10            10  0.561849  0.084000\n",
       "23     9            0.3         10            50  0.567708  0.313011"
      ],
      "text/html": "<div>\n<style scoped>\n    .dataframe tbody tr th:only-of-type {\n        vertical-align: middle;\n    }\n\n    .dataframe tbody tr th {\n        vertical-align: top;\n    }\n\n    .dataframe thead th {\n        text-align: right;\n    }\n</style>\n<table border=\"1\" class=\"dataframe\">\n  <thead>\n    <tr style=\"text-align: right;\">\n      <th></th>\n      <th>Rank</th>\n      <th>learning_rate</th>\n      <th>max_depth</th>\n      <th>n_estimators</th>\n      <th>Accuracy</th>\n      <th>Fit Time</th>\n    </tr>\n  </thead>\n  <tbody>\n    <tr>\n      <th>0</th>\n      <td>21</td>\n      <td>0.1</td>\n      <td>4</td>\n      <td>1</td>\n      <td>0.559570</td>\n      <td>0.010999</td>\n    </tr>\n    <tr>\n      <th>1</th>\n      <td>17</td>\n      <td>0.1</td>\n      <td>4</td>\n      <td>5</td>\n      <td>0.565755</td>\n      <td>0.028000</td>\n    </tr>\n    <tr>\n      <th>2</th>\n      <td>3</td>\n      <td>0.1</td>\n      <td>4</td>\n      <td>10</td>\n      <td>0.574870</td>\n      <td>0.041000</td>\n    </tr>\n    <tr>\n      <th>3</th>\n      <td>1</td>\n      <td>0.1</td>\n      <td>4</td>\n      <td>50</td>\n      <td>0.580078</td>\n      <td>0.162999</td>\n    </tr>\n    <tr>\n      <th>4</th>\n      <td>13</td>\n      <td>0.1</td>\n      <td>6</td>\n      <td>1</td>\n      <td>0.566732</td>\n      <td>0.015000</td>\n    </tr>\n    <tr>\n      <th>5</th>\n      <td>11</td>\n      <td>0.1</td>\n      <td>6</td>\n      <td>5</td>\n      <td>0.567383</td>\n      <td>0.038498</td>\n    </tr>\n    <tr>\n      <th>6</th>\n      <td>7</td>\n      <td>0.1</td>\n      <td>6</td>\n      <td>10</td>\n      <td>0.568359</td>\n      <td>0.057999</td>\n    </tr>\n    <tr>\n      <th>7</th>\n      <td>5</td>\n      <td>0.1</td>\n      <td>6</td>\n      <td>50</td>\n      <td>0.572266</td>\n      <td>0.248500</td>\n    </tr>\n    <tr>\n      <th>8</th>\n      <td>23</td>\n      <td>0.1</td>\n      <td>10</td>\n      <td>1</td>\n      <td>0.554036</td>\n      <td>0.020000</td>\n    </tr>\n    <tr>\n      <th>9</th>\n      <td>13</td>\n      <td>0.1</td>\n      <td>10</td>\n      <td>5</td>\n      <td>0.566732</td>\n      <td>0.049000</td>\n    </tr>\n    <tr>\n      <th>10</th>\n      <td>19</td>\n      <td>0.1</td>\n      <td>10</td>\n      <td>10</td>\n      <td>0.561849</td>\n      <td>0.089998</td>\n    </tr>\n    <tr>\n      <th>11</th>\n      <td>9</td>\n      <td>0.1</td>\n      <td>10</td>\n      <td>50</td>\n      <td>0.567708</td>\n      <td>0.402001</td>\n    </tr>\n    <tr>\n      <th>12</th>\n      <td>21</td>\n      <td>0.3</td>\n      <td>4</td>\n      <td>1</td>\n      <td>0.559570</td>\n      <td>0.017001</td>\n    </tr>\n    <tr>\n      <th>13</th>\n      <td>17</td>\n      <td>0.3</td>\n      <td>4</td>\n      <td>5</td>\n      <td>0.565755</td>\n      <td>0.025001</td>\n    </tr>\n    <tr>\n      <th>14</th>\n      <td>3</td>\n      <td>0.3</td>\n      <td>4</td>\n      <td>10</td>\n      <td>0.574870</td>\n      <td>0.044001</td>\n    </tr>\n    <tr>\n      <th>15</th>\n      <td>1</td>\n      <td>0.3</td>\n      <td>4</td>\n      <td>50</td>\n      <td>0.580078</td>\n      <td>0.170997</td>\n    </tr>\n    <tr>\n      <th>16</th>\n      <td>13</td>\n      <td>0.3</td>\n      <td>6</td>\n      <td>1</td>\n      <td>0.566732</td>\n      <td>0.016498</td>\n    </tr>\n    <tr>\n      <th>17</th>\n      <td>11</td>\n      <td>0.3</td>\n      <td>6</td>\n      <td>5</td>\n      <td>0.567383</td>\n      <td>0.039500</td>\n    </tr>\n    <tr>\n      <th>18</th>\n      <td>7</td>\n      <td>0.3</td>\n      <td>6</td>\n      <td>10</td>\n      <td>0.568359</td>\n      <td>0.060499</td>\n    </tr>\n    <tr>\n      <th>19</th>\n      <td>5</td>\n      <td>0.3</td>\n      <td>6</td>\n      <td>50</td>\n      <td>0.572266</td>\n      <td>0.230502</td>\n    </tr>\n    <tr>\n      <th>20</th>\n      <td>23</td>\n      <td>0.3</td>\n      <td>10</td>\n      <td>1</td>\n      <td>0.554036</td>\n      <td>0.020002</td>\n    </tr>\n    <tr>\n      <th>21</th>\n      <td>13</td>\n      <td>0.3</td>\n      <td>10</td>\n      <td>5</td>\n      <td>0.566732</td>\n      <td>0.051999</td>\n    </tr>\n    <tr>\n      <th>22</th>\n      <td>19</td>\n      <td>0.3</td>\n      <td>10</td>\n      <td>10</td>\n      <td>0.561849</td>\n      <td>0.084000</td>\n    </tr>\n    <tr>\n      <th>23</th>\n      <td>9</td>\n      <td>0.3</td>\n      <td>10</td>\n      <td>50</td>\n      <td>0.567708</td>\n      <td>0.313011</td>\n    </tr>\n  </tbody>\n</table>\n</div>"
     },
     "metadata": {},
     "execution_count": 140
    }
   ],
   "source": [
    "pd.concat([pd.DataFrame(rf_model.cv_results_[\"rank_test_score\"], columns=[\"Rank\"]), pd.DataFrame(rf_model.cv_results_[\"params\"]),pd.DataFrame(rf_model.cv_results_[\"mean_test_score\"], columns=[\"Accuracy\"]),pd.DataFrame(rf_model.cv_results_[\"mean_fit_time\"], columns=[\"Fit Time\"])],axis=1)"
   ]
  },
  {
   "cell_type": "code",
   "execution_count": 141,
   "metadata": {},
   "outputs": [
    {
     "output_type": "execute_result",
     "data": {
      "text/plain": [
       "    Rank  learning_rate  max_depth  n_estimators  Accuracy  Train Score\n",
       "0     21            0.1          4             1  0.559570     0.578845\n",
       "1     17            0.1          4             5  0.565755     0.593358\n",
       "2      3            0.1          4            10  0.574870     0.598660\n",
       "3      1            0.1          4            50  0.580078     0.594474\n",
       "4     13            0.1          6             1  0.566732     0.591404\n",
       "5     11            0.1          6             5  0.567383     0.630059\n",
       "6      7            0.1          6            10  0.568359     0.629221\n",
       "7      5            0.1          6            50  0.572266     0.632850\n",
       "8     23            0.1         10             1  0.554036     0.628384\n",
       "9     13            0.1         10             5  0.566732     0.727463\n",
       "10    19            0.1         10            10  0.561849     0.744767\n",
       "11     9            0.1         10            50  0.567708     0.775188\n",
       "12    21            0.3          4             1  0.559570     0.578845\n",
       "13    17            0.3          4             5  0.565755     0.593358\n",
       "14     3            0.3          4            10  0.574870     0.598660\n",
       "15     1            0.3          4            50  0.580078     0.594474\n",
       "16    13            0.3          6             1  0.566732     0.591404\n",
       "17    11            0.3          6             5  0.567383     0.630059\n",
       "18     7            0.3          6            10  0.568359     0.629221\n",
       "19     5            0.3          6            50  0.572266     0.632850\n",
       "20    23            0.3         10             1  0.554036     0.628384\n",
       "21    13            0.3         10             5  0.566732     0.727463\n",
       "22    19            0.3         10            10  0.561849     0.744767\n",
       "23     9            0.3         10            50  0.567708     0.775188"
      ],
      "text/html": "<div>\n<style scoped>\n    .dataframe tbody tr th:only-of-type {\n        vertical-align: middle;\n    }\n\n    .dataframe tbody tr th {\n        vertical-align: top;\n    }\n\n    .dataframe thead th {\n        text-align: right;\n    }\n</style>\n<table border=\"1\" class=\"dataframe\">\n  <thead>\n    <tr style=\"text-align: right;\">\n      <th></th>\n      <th>Rank</th>\n      <th>learning_rate</th>\n      <th>max_depth</th>\n      <th>n_estimators</th>\n      <th>Accuracy</th>\n      <th>Train Score</th>\n    </tr>\n  </thead>\n  <tbody>\n    <tr>\n      <th>0</th>\n      <td>21</td>\n      <td>0.1</td>\n      <td>4</td>\n      <td>1</td>\n      <td>0.559570</td>\n      <td>0.578845</td>\n    </tr>\n    <tr>\n      <th>1</th>\n      <td>17</td>\n      <td>0.1</td>\n      <td>4</td>\n      <td>5</td>\n      <td>0.565755</td>\n      <td>0.593358</td>\n    </tr>\n    <tr>\n      <th>2</th>\n      <td>3</td>\n      <td>0.1</td>\n      <td>4</td>\n      <td>10</td>\n      <td>0.574870</td>\n      <td>0.598660</td>\n    </tr>\n    <tr>\n      <th>3</th>\n      <td>1</td>\n      <td>0.1</td>\n      <td>4</td>\n      <td>50</td>\n      <td>0.580078</td>\n      <td>0.594474</td>\n    </tr>\n    <tr>\n      <th>4</th>\n      <td>13</td>\n      <td>0.1</td>\n      <td>6</td>\n      <td>1</td>\n      <td>0.566732</td>\n      <td>0.591404</td>\n    </tr>\n    <tr>\n      <th>5</th>\n      <td>11</td>\n      <td>0.1</td>\n      <td>6</td>\n      <td>5</td>\n      <td>0.567383</td>\n      <td>0.630059</td>\n    </tr>\n    <tr>\n      <th>6</th>\n      <td>7</td>\n      <td>0.1</td>\n      <td>6</td>\n      <td>10</td>\n      <td>0.568359</td>\n      <td>0.629221</td>\n    </tr>\n    <tr>\n      <th>7</th>\n      <td>5</td>\n      <td>0.1</td>\n      <td>6</td>\n      <td>50</td>\n      <td>0.572266</td>\n      <td>0.632850</td>\n    </tr>\n    <tr>\n      <th>8</th>\n      <td>23</td>\n      <td>0.1</td>\n      <td>10</td>\n      <td>1</td>\n      <td>0.554036</td>\n      <td>0.628384</td>\n    </tr>\n    <tr>\n      <th>9</th>\n      <td>13</td>\n      <td>0.1</td>\n      <td>10</td>\n      <td>5</td>\n      <td>0.566732</td>\n      <td>0.727463</td>\n    </tr>\n    <tr>\n      <th>10</th>\n      <td>19</td>\n      <td>0.1</td>\n      <td>10</td>\n      <td>10</td>\n      <td>0.561849</td>\n      <td>0.744767</td>\n    </tr>\n    <tr>\n      <th>11</th>\n      <td>9</td>\n      <td>0.1</td>\n      <td>10</td>\n      <td>50</td>\n      <td>0.567708</td>\n      <td>0.775188</td>\n    </tr>\n    <tr>\n      <th>12</th>\n      <td>21</td>\n      <td>0.3</td>\n      <td>4</td>\n      <td>1</td>\n      <td>0.559570</td>\n      <td>0.578845</td>\n    </tr>\n    <tr>\n      <th>13</th>\n      <td>17</td>\n      <td>0.3</td>\n      <td>4</td>\n      <td>5</td>\n      <td>0.565755</td>\n      <td>0.593358</td>\n    </tr>\n    <tr>\n      <th>14</th>\n      <td>3</td>\n      <td>0.3</td>\n      <td>4</td>\n      <td>10</td>\n      <td>0.574870</td>\n      <td>0.598660</td>\n    </tr>\n    <tr>\n      <th>15</th>\n      <td>1</td>\n      <td>0.3</td>\n      <td>4</td>\n      <td>50</td>\n      <td>0.580078</td>\n      <td>0.594474</td>\n    </tr>\n    <tr>\n      <th>16</th>\n      <td>13</td>\n      <td>0.3</td>\n      <td>6</td>\n      <td>1</td>\n      <td>0.566732</td>\n      <td>0.591404</td>\n    </tr>\n    <tr>\n      <th>17</th>\n      <td>11</td>\n      <td>0.3</td>\n      <td>6</td>\n      <td>5</td>\n      <td>0.567383</td>\n      <td>0.630059</td>\n    </tr>\n    <tr>\n      <th>18</th>\n      <td>7</td>\n      <td>0.3</td>\n      <td>6</td>\n      <td>10</td>\n      <td>0.568359</td>\n      <td>0.629221</td>\n    </tr>\n    <tr>\n      <th>19</th>\n      <td>5</td>\n      <td>0.3</td>\n      <td>6</td>\n      <td>50</td>\n      <td>0.572266</td>\n      <td>0.632850</td>\n    </tr>\n    <tr>\n      <th>20</th>\n      <td>23</td>\n      <td>0.3</td>\n      <td>10</td>\n      <td>1</td>\n      <td>0.554036</td>\n      <td>0.628384</td>\n    </tr>\n    <tr>\n      <th>21</th>\n      <td>13</td>\n      <td>0.3</td>\n      <td>10</td>\n      <td>5</td>\n      <td>0.566732</td>\n      <td>0.727463</td>\n    </tr>\n    <tr>\n      <th>22</th>\n      <td>19</td>\n      <td>0.3</td>\n      <td>10</td>\n      <td>10</td>\n      <td>0.561849</td>\n      <td>0.744767</td>\n    </tr>\n    <tr>\n      <th>23</th>\n      <td>9</td>\n      <td>0.3</td>\n      <td>10</td>\n      <td>50</td>\n      <td>0.567708</td>\n      <td>0.775188</td>\n    </tr>\n  </tbody>\n</table>\n</div>"
     },
     "metadata": {},
     "execution_count": 141
    }
   ],
   "source": [
    "pd.concat([pd.DataFrame(rf_model.cv_results_[\"rank_test_score\"], columns=[\"Rank\"]), pd.DataFrame(rf_model.cv_results_[\"params\"]),pd.DataFrame(rf_model.cv_results_[\"mean_test_score\"], columns=[\"Accuracy\"]),pd.DataFrame(rf_model.cv_results_[\"mean_train_score\"], columns=[\"Train Score\"])],axis=1)"
   ]
  },
  {
   "cell_type": "code",
   "execution_count": 142,
   "metadata": {},
   "outputs": [
    {
     "output_type": "execute_result",
     "data": {
      "text/plain": [
       "['local_rf_70p_64_glcm.pkl']"
      ]
     },
     "metadata": {},
     "execution_count": 142
    }
   ],
   "source": [
    "dump(rf_model, 'local_rf_{}_{}_glcm.pkl'.format('70p', 64))"
   ]
  },
  {
   "cell_type": "code",
   "execution_count": 143,
   "metadata": {},
   "outputs": [],
   "source": [
    "xg_base = xgb.XGBClassifier()\n",
    "xg_grid = {\n",
    "\"max_depth\" : [4, 6, 10],\n",
    "\"learning_rate\" : [0.1, 0.3],\n",
    "\"n_estimators\" : [1, 5, 10, 50]\n",
    "}\n",
    "xg_model = GridSearchCV(xg_base, xg_grid, cv=cv, n_jobs=4, verbose=100, return_train_score = True)"
   ]
  },
  {
   "cell_type": "code",
   "execution_count": 144,
   "metadata": {},
   "outputs": [
    {
     "output_type": "stream",
     "name": "stdout",
     "text": [
      "Fitting 1 folds for each of 24 candidates, totalling 24 fits\n",
      "[Parallel(n_jobs=4)]: Using backend LokyBackend with 4 concurrent workers.\n",
      "Pickling array (shape=(10238, 6), dtype=float64).\n",
      "Pickling array (shape=(10238,), dtype=int32).\n",
      "Pickling array (shape=(7166,), dtype=int32).\n",
      "Pickling array (shape=(3072,), dtype=int32).\n",
      "Pickling array (shape=(10238, 6), dtype=float64).\n",
      "Pickling array (shape=(10238,), dtype=int32).\n",
      "Pickling array (shape=(7166,), dtype=int32).\n",
      "Pickling array (shape=(3072,), dtype=int32).\n",
      "Pickling array (shape=(10238, 6), dtype=float64).\n",
      "Pickling array (shape=(10238,), dtype=int32).\n",
      "Pickling array (shape=(7166,), dtype=int32).\n",
      "Pickling array (shape=(3072,), dtype=int32).\n",
      "Pickling array (shape=(10238, 6), dtype=float64).\n",
      "Pickling array (shape=(10238,), dtype=int32).\n",
      "Pickling array (shape=(7166,), dtype=int32).\n",
      "Pickling array (shape=(3072,), dtype=int32).\n",
      "Pickling array (shape=(10238, 6), dtype=float64).\n",
      "Pickling array (shape=(10238,), dtype=int32).\n",
      "Pickling array (shape=(7166,), dtype=int32).\n",
      "Pickling array (shape=(3072,), dtype=int32).\n",
      "[Parallel(n_jobs=4)]: Done   1 tasks      | elapsed:    0.0s\n",
      "[Parallel(n_jobs=4)]: Batch computation too fast (0.0440s.) Setting batch_size=2.\n",
      "Pickling array (shape=(10238, 6), dtype=float64).\n",
      "Pickling array (shape=(10238,), dtype=int32).\n",
      "Pickling array (shape=(7166,), dtype=int32).\n",
      "Pickling array (shape=(3072,), dtype=int32).\n",
      "[Parallel(n_jobs=4)]: Done   2 tasks      | elapsed:    0.0s\n",
      "[Parallel(n_jobs=4)]: Done   3 tasks      | elapsed:    0.0s\n",
      "Pickling array (shape=(10238, 6), dtype=float64).\n",
      "Pickling array (shape=(10238,), dtype=int32).\n",
      "Pickling array (shape=(7166,), dtype=int32).\n",
      "Pickling array (shape=(3072,), dtype=int32).\n",
      "Pickling array (shape=(10238, 6), dtype=float64).\n",
      "Pickling array (shape=(10238,), dtype=int32).\n",
      "Pickling array (shape=(7166,), dtype=int32).\n",
      "Pickling array (shape=(3072,), dtype=int32).\n",
      "[Parallel(n_jobs=4)]: Done   4 tasks      | elapsed:    0.0s\n",
      "Pickling array (shape=(10238, 6), dtype=float64).\n",
      "Pickling array (shape=(10238,), dtype=int32).\n",
      "Pickling array (shape=(7166,), dtype=int32).\n",
      "Pickling array (shape=(3072,), dtype=int32).\n",
      "[Parallel(n_jobs=4)]: Done   5 tasks      | elapsed:    0.1s\n",
      "Pickling array (shape=(10238, 6), dtype=float64).\n",
      "Pickling array (shape=(10238,), dtype=int32).\n",
      "Pickling array (shape=(7166,), dtype=int32).\n",
      "Pickling array (shape=(3072,), dtype=int32).\n",
      "[Parallel(n_jobs=4)]: Done   6 tasks      | elapsed:    0.1s\n",
      "Pickling array (shape=(10238, 6), dtype=float64).\n",
      "Pickling array (shape=(10238,), dtype=int32).\n",
      "Pickling array (shape=(7166,), dtype=int32).\n",
      "Pickling array (shape=(3072,), dtype=int32).\n",
      "[Parallel(n_jobs=4)]: Done   8 tasks      | elapsed:    0.2s\n",
      "Pickling array (shape=(10238, 6), dtype=float64).\n",
      "Pickling array (shape=(10238,), dtype=int32).\n",
      "Pickling array (shape=(7166,), dtype=int32).\n",
      "Pickling array (shape=(3072,), dtype=int32).\n",
      "[Parallel(n_jobs=4)]: Done   9 tasks      | elapsed:    0.2s\n",
      "Pickling array (shape=(10238, 6), dtype=float64).\n",
      "Pickling array (shape=(10238,), dtype=int32).\n",
      "Pickling array (shape=(7166,), dtype=int32).\n",
      "Pickling array (shape=(3072,), dtype=int32).\n",
      "[Parallel(n_jobs=4)]: Done  11 tasks      | elapsed:    0.2s\n",
      "Pickling array (shape=(10238, 6), dtype=float64).\n",
      "Pickling array (shape=(10238,), dtype=int32).\n",
      "Pickling array (shape=(7166,), dtype=int32).\n",
      "Pickling array (shape=(3072,), dtype=int32).\n",
      "[Parallel(n_jobs=4)]: Done  13 out of  24 | elapsed:    0.3s remaining:    0.3s\n",
      "Pickling array (shape=(10238, 6), dtype=float64).\n",
      "Pickling array (shape=(10238,), dtype=int32).\n",
      "Pickling array (shape=(7166,), dtype=int32).\n",
      "Pickling array (shape=(3072,), dtype=int32).\n",
      "[Parallel(n_jobs=4)]: Done  14 out of  24 | elapsed:    0.4s remaining:    0.2s\n",
      "Pickling array (shape=(10238, 6), dtype=float64).\n",
      "Pickling array (shape=(10238,), dtype=int32).\n",
      "Pickling array (shape=(7166,), dtype=int32).\n",
      "Pickling array (shape=(3072,), dtype=int32).\n",
      "[Parallel(n_jobs=4)]: Done  16 out of  24 | elapsed:    0.5s remaining:    0.2s\n",
      "[Parallel(n_jobs=4)]: Done  18 out of  24 | elapsed:    0.5s remaining:    0.1s\n",
      "[Parallel(n_jobs=4)]: Done  20 out of  24 | elapsed:    0.7s remaining:    0.1s\n",
      "[Parallel(n_jobs=4)]: Done  22 out of  24 | elapsed:    0.7s remaining:    0.0s\n",
      "[Parallel(n_jobs=4)]: Done  24 out of  24 | elapsed:    1.0s remaining:    0.0s\n",
      "[Parallel(n_jobs=4)]: Done  24 out of  24 | elapsed:    1.0s finished\n"
     ]
    }
   ],
   "source": [
    "xg_model = xg_model.fit(X, y)"
   ]
  },
  {
   "cell_type": "code",
   "execution_count": 145,
   "metadata": {},
   "outputs": [
    {
     "output_type": "stream",
     "name": "stdout",
     "text": [
      "{'mean_fit_time': array([0.02900028, 0.0979991 , 0.06999755, 0.28349924, 0.0224998 ,\n       0.06049514, 0.08199859, 0.32499909, 0.0199995 , 0.06749892,\n       0.11599851, 0.46350026, 0.01549959, 0.03799272, 0.05301571,\n       0.20699716, 0.01897931, 0.03950119, 0.07550097, 0.2785008 ,\n       0.02100611, 0.06049967, 0.11200023, 0.33850265]), 'std_fit_time': array([0., 0., 0., 0., 0., 0., 0., 0., 0., 0., 0., 0., 0., 0., 0., 0., 0.,\n       0., 0., 0., 0., 0., 0., 0.]), 'mean_score_time': array([0.00399899, 0.00599957, 0.00400019, 0.00450134, 0.00450158,\n       0.00350237, 0.00400019, 0.00550103, 0.00299978, 0.00350237,\n       0.00350046, 0.00850058, 0.0025003 , 0.00300097, 0.0030005 ,\n       0.00499988, 0.00350094, 0.00299835, 0.00301719, 0.00549817,\n       0.00249243, 0.00300193, 0.00399899, 0.00702667]), 'std_score_time': array([0., 0., 0., 0., 0., 0., 0., 0., 0., 0., 0., 0., 0., 0., 0., 0., 0.,\n       0., 0., 0., 0., 0., 0., 0.]), 'param_learning_rate': masked_array(data=[0.1, 0.1, 0.1, 0.1, 0.1, 0.1, 0.1, 0.1, 0.1, 0.1, 0.1,\n                   0.1, 0.3, 0.3, 0.3, 0.3, 0.3, 0.3, 0.3, 0.3, 0.3, 0.3,\n                   0.3, 0.3],\n             mask=[False, False, False, False, False, False, False, False,\n                   False, False, False, False, False, False, False, False,\n                   False, False, False, False, False, False, False, False],\n       fill_value='?',\n            dtype=object), 'param_max_depth': masked_array(data=[4, 4, 4, 4, 6, 6, 6, 6, 10, 10, 10, 10, 4, 4, 4, 4, 6,\n                   6, 6, 6, 10, 10, 10, 10],\n             mask=[False, False, False, False, False, False, False, False,\n                   False, False, False, False, False, False, False, False,\n                   False, False, False, False, False, False, False, False],\n       fill_value='?',\n            dtype=object), 'param_n_estimators': masked_array(data=[1, 5, 10, 50, 1, 5, 10, 50, 1, 5, 10, 50, 1, 5, 10, 50,\n                   1, 5, 10, 50, 1, 5, 10, 50],\n             mask=[False, False, False, False, False, False, False, False,\n                   False, False, False, False, False, False, False, False,\n                   False, False, False, False, False, False, False, False],\n       fill_value='?',\n            dtype=object), 'params': [{'learning_rate': 0.1, 'max_depth': 4, 'n_estimators': 1}, {'learning_rate': 0.1, 'max_depth': 4, 'n_estimators': 5}, {'learning_rate': 0.1, 'max_depth': 4, 'n_estimators': 10}, {'learning_rate': 0.1, 'max_depth': 4, 'n_estimators': 50}, {'learning_rate': 0.1, 'max_depth': 6, 'n_estimators': 1}, {'learning_rate': 0.1, 'max_depth': 6, 'n_estimators': 5}, {'learning_rate': 0.1, 'max_depth': 6, 'n_estimators': 10}, {'learning_rate': 0.1, 'max_depth': 6, 'n_estimators': 50}, {'learning_rate': 0.1, 'max_depth': 10, 'n_estimators': 1}, {'learning_rate': 0.1, 'max_depth': 10, 'n_estimators': 5}, {'learning_rate': 0.1, 'max_depth': 10, 'n_estimators': 10}, {'learning_rate': 0.1, 'max_depth': 10, 'n_estimators': 50}, {'learning_rate': 0.3, 'max_depth': 4, 'n_estimators': 1}, {'learning_rate': 0.3, 'max_depth': 4, 'n_estimators': 5}, {'learning_rate': 0.3, 'max_depth': 4, 'n_estimators': 10}, {'learning_rate': 0.3, 'max_depth': 4, 'n_estimators': 50}, {'learning_rate': 0.3, 'max_depth': 6, 'n_estimators': 1}, {'learning_rate': 0.3, 'max_depth': 6, 'n_estimators': 5}, {'learning_rate': 0.3, 'max_depth': 6, 'n_estimators': 10}, {'learning_rate': 0.3, 'max_depth': 6, 'n_estimators': 50}, {'learning_rate': 0.3, 'max_depth': 10, 'n_estimators': 1}, {'learning_rate': 0.3, 'max_depth': 10, 'n_estimators': 5}, {'learning_rate': 0.3, 'max_depth': 10, 'n_estimators': 10}, {'learning_rate': 0.3, 'max_depth': 10, 'n_estimators': 50}], 'split0_test_score': array([0.56119792, 0.56803385, 0.5719401 , 0.57291667, 0.56119792,\n       0.5641276 , 0.56315104, 0.57128906, 0.54882812, 0.55696615,\n       0.55143229, 0.55826823, 0.56119792, 0.56835938, 0.5641276 ,\n       0.56152344, 0.56119792, 0.57519531, 0.56477865, 0.56673177,\n       0.54882812, 0.56640625, 0.55371094, 0.55794271]), 'mean_test_score': array([0.56119792, 0.56803385, 0.5719401 , 0.57291667, 0.56119792,\n       0.5641276 , 0.56315104, 0.57128906, 0.54882812, 0.55696615,\n       0.55143229, 0.55826823, 0.56119792, 0.56835938, 0.5641276 ,\n       0.56152344, 0.56119792, 0.57519531, 0.56477865, 0.56673177,\n       0.54882812, 0.56640625, 0.55371094, 0.55794271]), 'std_test_score': array([0., 0., 0., 0., 0., 0., 0., 0., 0., 0., 0., 0., 0., 0., 0., 0., 0.,\n       0., 0., 0., 0., 0., 0., 0.]), 'rank_test_score': array([14,  6,  3,  2, 14, 10, 12,  4, 23, 20, 22, 18, 14,  5, 10, 13, 14,\n        1,  9,  7, 23,  8, 21, 19]), 'split0_train_score': array([0.58958973, 0.60270723, 0.60912643, 0.63187273, 0.60982417,\n       0.63536143, 0.64610661, 0.70080938, 0.68197042, 0.741976  ,\n       0.77672342, 0.85821937, 0.58958973, 0.60452135, 0.61791795,\n       0.69425063, 0.60982417, 0.65433994, 0.6766676 , 0.7938878 ,\n       0.68197042, 0.76876919, 0.80686575, 0.94599498]), 'mean_train_score': array([0.58958973, 0.60270723, 0.60912643, 0.63187273, 0.60982417,\n       0.63536143, 0.64610661, 0.70080938, 0.68197042, 0.741976  ,\n       0.77672342, 0.85821937, 0.58958973, 0.60452135, 0.61791795,\n       0.69425063, 0.60982417, 0.65433994, 0.6766676 , 0.7938878 ,\n       0.68197042, 0.76876919, 0.80686575, 0.94599498]), 'std_train_score': array([0., 0., 0., 0., 0., 0., 0., 0., 0., 0., 0., 0., 0., 0., 0., 0., 0.,\n       0., 0., 0., 0., 0., 0., 0.])}\n"
     ]
    }
   ],
   "source": [
    "print(xg_model.cv_results_)"
   ]
  },
  {
   "cell_type": "code",
   "execution_count": 147,
   "metadata": {},
   "outputs": [
    {
     "output_type": "execute_result",
     "data": {
      "text/plain": [
       "    Rank  learning_rate  max_depth  n_estimators  Accuracy  Fit Time\n",
       "0     14            0.1          4             1  0.561198  0.029000\n",
       "1      6            0.1          4             5  0.568034  0.097999\n",
       "2      3            0.1          4            10  0.571940  0.069998\n",
       "3      2            0.1          4            50  0.572917  0.283499\n",
       "4     14            0.1          6             1  0.561198  0.022500\n",
       "5     10            0.1          6             5  0.564128  0.060495\n",
       "6     12            0.1          6            10  0.563151  0.081999\n",
       "7      4            0.1          6            50  0.571289  0.324999\n",
       "8     23            0.1         10             1  0.548828  0.020000\n",
       "9     20            0.1         10             5  0.556966  0.067499\n",
       "10    22            0.1         10            10  0.551432  0.115999\n",
       "11    18            0.1         10            50  0.558268  0.463500\n",
       "12    14            0.3          4             1  0.561198  0.015500\n",
       "13     5            0.3          4             5  0.568359  0.037993\n",
       "14    10            0.3          4            10  0.564128  0.053016\n",
       "15    13            0.3          4            50  0.561523  0.206997\n",
       "16    14            0.3          6             1  0.561198  0.018979\n",
       "17     1            0.3          6             5  0.575195  0.039501\n",
       "18     9            0.3          6            10  0.564779  0.075501\n",
       "19     7            0.3          6            50  0.566732  0.278501\n",
       "20    23            0.3         10             1  0.548828  0.021006\n",
       "21     8            0.3         10             5  0.566406  0.060500\n",
       "22    21            0.3         10            10  0.553711  0.112000\n",
       "23    19            0.3         10            50  0.557943  0.338503"
      ],
      "text/html": "<div>\n<style scoped>\n    .dataframe tbody tr th:only-of-type {\n        vertical-align: middle;\n    }\n\n    .dataframe tbody tr th {\n        vertical-align: top;\n    }\n\n    .dataframe thead th {\n        text-align: right;\n    }\n</style>\n<table border=\"1\" class=\"dataframe\">\n  <thead>\n    <tr style=\"text-align: right;\">\n      <th></th>\n      <th>Rank</th>\n      <th>learning_rate</th>\n      <th>max_depth</th>\n      <th>n_estimators</th>\n      <th>Accuracy</th>\n      <th>Fit Time</th>\n    </tr>\n  </thead>\n  <tbody>\n    <tr>\n      <th>0</th>\n      <td>14</td>\n      <td>0.1</td>\n      <td>4</td>\n      <td>1</td>\n      <td>0.561198</td>\n      <td>0.029000</td>\n    </tr>\n    <tr>\n      <th>1</th>\n      <td>6</td>\n      <td>0.1</td>\n      <td>4</td>\n      <td>5</td>\n      <td>0.568034</td>\n      <td>0.097999</td>\n    </tr>\n    <tr>\n      <th>2</th>\n      <td>3</td>\n      <td>0.1</td>\n      <td>4</td>\n      <td>10</td>\n      <td>0.571940</td>\n      <td>0.069998</td>\n    </tr>\n    <tr>\n      <th>3</th>\n      <td>2</td>\n      <td>0.1</td>\n      <td>4</td>\n      <td>50</td>\n      <td>0.572917</td>\n      <td>0.283499</td>\n    </tr>\n    <tr>\n      <th>4</th>\n      <td>14</td>\n      <td>0.1</td>\n      <td>6</td>\n      <td>1</td>\n      <td>0.561198</td>\n      <td>0.022500</td>\n    </tr>\n    <tr>\n      <th>5</th>\n      <td>10</td>\n      <td>0.1</td>\n      <td>6</td>\n      <td>5</td>\n      <td>0.564128</td>\n      <td>0.060495</td>\n    </tr>\n    <tr>\n      <th>6</th>\n      <td>12</td>\n      <td>0.1</td>\n      <td>6</td>\n      <td>10</td>\n      <td>0.563151</td>\n      <td>0.081999</td>\n    </tr>\n    <tr>\n      <th>7</th>\n      <td>4</td>\n      <td>0.1</td>\n      <td>6</td>\n      <td>50</td>\n      <td>0.571289</td>\n      <td>0.324999</td>\n    </tr>\n    <tr>\n      <th>8</th>\n      <td>23</td>\n      <td>0.1</td>\n      <td>10</td>\n      <td>1</td>\n      <td>0.548828</td>\n      <td>0.020000</td>\n    </tr>\n    <tr>\n      <th>9</th>\n      <td>20</td>\n      <td>0.1</td>\n      <td>10</td>\n      <td>5</td>\n      <td>0.556966</td>\n      <td>0.067499</td>\n    </tr>\n    <tr>\n      <th>10</th>\n      <td>22</td>\n      <td>0.1</td>\n      <td>10</td>\n      <td>10</td>\n      <td>0.551432</td>\n      <td>0.115999</td>\n    </tr>\n    <tr>\n      <th>11</th>\n      <td>18</td>\n      <td>0.1</td>\n      <td>10</td>\n      <td>50</td>\n      <td>0.558268</td>\n      <td>0.463500</td>\n    </tr>\n    <tr>\n      <th>12</th>\n      <td>14</td>\n      <td>0.3</td>\n      <td>4</td>\n      <td>1</td>\n      <td>0.561198</td>\n      <td>0.015500</td>\n    </tr>\n    <tr>\n      <th>13</th>\n      <td>5</td>\n      <td>0.3</td>\n      <td>4</td>\n      <td>5</td>\n      <td>0.568359</td>\n      <td>0.037993</td>\n    </tr>\n    <tr>\n      <th>14</th>\n      <td>10</td>\n      <td>0.3</td>\n      <td>4</td>\n      <td>10</td>\n      <td>0.564128</td>\n      <td>0.053016</td>\n    </tr>\n    <tr>\n      <th>15</th>\n      <td>13</td>\n      <td>0.3</td>\n      <td>4</td>\n      <td>50</td>\n      <td>0.561523</td>\n      <td>0.206997</td>\n    </tr>\n    <tr>\n      <th>16</th>\n      <td>14</td>\n      <td>0.3</td>\n      <td>6</td>\n      <td>1</td>\n      <td>0.561198</td>\n      <td>0.018979</td>\n    </tr>\n    <tr>\n      <th>17</th>\n      <td>1</td>\n      <td>0.3</td>\n      <td>6</td>\n      <td>5</td>\n      <td>0.575195</td>\n      <td>0.039501</td>\n    </tr>\n    <tr>\n      <th>18</th>\n      <td>9</td>\n      <td>0.3</td>\n      <td>6</td>\n      <td>10</td>\n      <td>0.564779</td>\n      <td>0.075501</td>\n    </tr>\n    <tr>\n      <th>19</th>\n      <td>7</td>\n      <td>0.3</td>\n      <td>6</td>\n      <td>50</td>\n      <td>0.566732</td>\n      <td>0.278501</td>\n    </tr>\n    <tr>\n      <th>20</th>\n      <td>23</td>\n      <td>0.3</td>\n      <td>10</td>\n      <td>1</td>\n      <td>0.548828</td>\n      <td>0.021006</td>\n    </tr>\n    <tr>\n      <th>21</th>\n      <td>8</td>\n      <td>0.3</td>\n      <td>10</td>\n      <td>5</td>\n      <td>0.566406</td>\n      <td>0.060500</td>\n    </tr>\n    <tr>\n      <th>22</th>\n      <td>21</td>\n      <td>0.3</td>\n      <td>10</td>\n      <td>10</td>\n      <td>0.553711</td>\n      <td>0.112000</td>\n    </tr>\n    <tr>\n      <th>23</th>\n      <td>19</td>\n      <td>0.3</td>\n      <td>10</td>\n      <td>50</td>\n      <td>0.557943</td>\n      <td>0.338503</td>\n    </tr>\n  </tbody>\n</table>\n</div>"
     },
     "metadata": {},
     "execution_count": 147
    }
   ],
   "source": [
    "pd.concat([pd.DataFrame(xg_model.cv_results_[\"rank_test_score\"], columns=[\"Rank\"]), pd.DataFrame(xg_model.cv_results_[\"params\"]),pd.DataFrame(xg_model.cv_results_[\"mean_test_score\"], columns=[\"Accuracy\"]),pd.DataFrame(xg_model.cv_results_[\"mean_fit_time\"], columns=[\"Fit Time\"])],axis=1)"
   ]
  },
  {
   "cell_type": "code",
   "execution_count": 148,
   "metadata": {},
   "outputs": [
    {
     "output_type": "execute_result",
     "data": {
      "text/plain": [
       "    Rank  learning_rate  max_depth  n_estimators  Accuracy  Train Score\n",
       "0     14            0.1          4             1  0.561198     0.589590\n",
       "1      6            0.1          4             5  0.568034     0.602707\n",
       "2      3            0.1          4            10  0.571940     0.609126\n",
       "3      2            0.1          4            50  0.572917     0.631873\n",
       "4     14            0.1          6             1  0.561198     0.609824\n",
       "5     10            0.1          6             5  0.564128     0.635361\n",
       "6     12            0.1          6            10  0.563151     0.646107\n",
       "7      4            0.1          6            50  0.571289     0.700809\n",
       "8     23            0.1         10             1  0.548828     0.681970\n",
       "9     20            0.1         10             5  0.556966     0.741976\n",
       "10    22            0.1         10            10  0.551432     0.776723\n",
       "11    18            0.1         10            50  0.558268     0.858219\n",
       "12    14            0.3          4             1  0.561198     0.589590\n",
       "13     5            0.3          4             5  0.568359     0.604521\n",
       "14    10            0.3          4            10  0.564128     0.617918\n",
       "15    13            0.3          4            50  0.561523     0.694251\n",
       "16    14            0.3          6             1  0.561198     0.609824\n",
       "17     1            0.3          6             5  0.575195     0.654340\n",
       "18     9            0.3          6            10  0.564779     0.676668\n",
       "19     7            0.3          6            50  0.566732     0.793888\n",
       "20    23            0.3         10             1  0.548828     0.681970\n",
       "21     8            0.3         10             5  0.566406     0.768769\n",
       "22    21            0.3         10            10  0.553711     0.806866\n",
       "23    19            0.3         10            50  0.557943     0.945995"
      ],
      "text/html": "<div>\n<style scoped>\n    .dataframe tbody tr th:only-of-type {\n        vertical-align: middle;\n    }\n\n    .dataframe tbody tr th {\n        vertical-align: top;\n    }\n\n    .dataframe thead th {\n        text-align: right;\n    }\n</style>\n<table border=\"1\" class=\"dataframe\">\n  <thead>\n    <tr style=\"text-align: right;\">\n      <th></th>\n      <th>Rank</th>\n      <th>learning_rate</th>\n      <th>max_depth</th>\n      <th>n_estimators</th>\n      <th>Accuracy</th>\n      <th>Train Score</th>\n    </tr>\n  </thead>\n  <tbody>\n    <tr>\n      <th>0</th>\n      <td>14</td>\n      <td>0.1</td>\n      <td>4</td>\n      <td>1</td>\n      <td>0.561198</td>\n      <td>0.589590</td>\n    </tr>\n    <tr>\n      <th>1</th>\n      <td>6</td>\n      <td>0.1</td>\n      <td>4</td>\n      <td>5</td>\n      <td>0.568034</td>\n      <td>0.602707</td>\n    </tr>\n    <tr>\n      <th>2</th>\n      <td>3</td>\n      <td>0.1</td>\n      <td>4</td>\n      <td>10</td>\n      <td>0.571940</td>\n      <td>0.609126</td>\n    </tr>\n    <tr>\n      <th>3</th>\n      <td>2</td>\n      <td>0.1</td>\n      <td>4</td>\n      <td>50</td>\n      <td>0.572917</td>\n      <td>0.631873</td>\n    </tr>\n    <tr>\n      <th>4</th>\n      <td>14</td>\n      <td>0.1</td>\n      <td>6</td>\n      <td>1</td>\n      <td>0.561198</td>\n      <td>0.609824</td>\n    </tr>\n    <tr>\n      <th>5</th>\n      <td>10</td>\n      <td>0.1</td>\n      <td>6</td>\n      <td>5</td>\n      <td>0.564128</td>\n      <td>0.635361</td>\n    </tr>\n    <tr>\n      <th>6</th>\n      <td>12</td>\n      <td>0.1</td>\n      <td>6</td>\n      <td>10</td>\n      <td>0.563151</td>\n      <td>0.646107</td>\n    </tr>\n    <tr>\n      <th>7</th>\n      <td>4</td>\n      <td>0.1</td>\n      <td>6</td>\n      <td>50</td>\n      <td>0.571289</td>\n      <td>0.700809</td>\n    </tr>\n    <tr>\n      <th>8</th>\n      <td>23</td>\n      <td>0.1</td>\n      <td>10</td>\n      <td>1</td>\n      <td>0.548828</td>\n      <td>0.681970</td>\n    </tr>\n    <tr>\n      <th>9</th>\n      <td>20</td>\n      <td>0.1</td>\n      <td>10</td>\n      <td>5</td>\n      <td>0.556966</td>\n      <td>0.741976</td>\n    </tr>\n    <tr>\n      <th>10</th>\n      <td>22</td>\n      <td>0.1</td>\n      <td>10</td>\n      <td>10</td>\n      <td>0.551432</td>\n      <td>0.776723</td>\n    </tr>\n    <tr>\n      <th>11</th>\n      <td>18</td>\n      <td>0.1</td>\n      <td>10</td>\n      <td>50</td>\n      <td>0.558268</td>\n      <td>0.858219</td>\n    </tr>\n    <tr>\n      <th>12</th>\n      <td>14</td>\n      <td>0.3</td>\n      <td>4</td>\n      <td>1</td>\n      <td>0.561198</td>\n      <td>0.589590</td>\n    </tr>\n    <tr>\n      <th>13</th>\n      <td>5</td>\n      <td>0.3</td>\n      <td>4</td>\n      <td>5</td>\n      <td>0.568359</td>\n      <td>0.604521</td>\n    </tr>\n    <tr>\n      <th>14</th>\n      <td>10</td>\n      <td>0.3</td>\n      <td>4</td>\n      <td>10</td>\n      <td>0.564128</td>\n      <td>0.617918</td>\n    </tr>\n    <tr>\n      <th>15</th>\n      <td>13</td>\n      <td>0.3</td>\n      <td>4</td>\n      <td>50</td>\n      <td>0.561523</td>\n      <td>0.694251</td>\n    </tr>\n    <tr>\n      <th>16</th>\n      <td>14</td>\n      <td>0.3</td>\n      <td>6</td>\n      <td>1</td>\n      <td>0.561198</td>\n      <td>0.609824</td>\n    </tr>\n    <tr>\n      <th>17</th>\n      <td>1</td>\n      <td>0.3</td>\n      <td>6</td>\n      <td>5</td>\n      <td>0.575195</td>\n      <td>0.654340</td>\n    </tr>\n    <tr>\n      <th>18</th>\n      <td>9</td>\n      <td>0.3</td>\n      <td>6</td>\n      <td>10</td>\n      <td>0.564779</td>\n      <td>0.676668</td>\n    </tr>\n    <tr>\n      <th>19</th>\n      <td>7</td>\n      <td>0.3</td>\n      <td>6</td>\n      <td>50</td>\n      <td>0.566732</td>\n      <td>0.793888</td>\n    </tr>\n    <tr>\n      <th>20</th>\n      <td>23</td>\n      <td>0.3</td>\n      <td>10</td>\n      <td>1</td>\n      <td>0.548828</td>\n      <td>0.681970</td>\n    </tr>\n    <tr>\n      <th>21</th>\n      <td>8</td>\n      <td>0.3</td>\n      <td>10</td>\n      <td>5</td>\n      <td>0.566406</td>\n      <td>0.768769</td>\n    </tr>\n    <tr>\n      <th>22</th>\n      <td>21</td>\n      <td>0.3</td>\n      <td>10</td>\n      <td>10</td>\n      <td>0.553711</td>\n      <td>0.806866</td>\n    </tr>\n    <tr>\n      <th>23</th>\n      <td>19</td>\n      <td>0.3</td>\n      <td>10</td>\n      <td>50</td>\n      <td>0.557943</td>\n      <td>0.945995</td>\n    </tr>\n  </tbody>\n</table>\n</div>"
     },
     "metadata": {},
     "execution_count": 148
    }
   ],
   "source": [
    "pd.concat([pd.DataFrame(xg_model.cv_results_[\"rank_test_score\"], columns=[\"Rank\"]), pd.DataFrame(xg_model.cv_results_[\"params\"]),pd.DataFrame(xg_model.cv_results_[\"mean_test_score\"], columns=[\"Accuracy\"]),pd.DataFrame(xg_model.cv_results_[\"mean_train_score\"], columns=[\"Train Score\"])],axis=1)"
   ]
  },
  {
   "cell_type": "code",
   "execution_count": 149,
   "metadata": {},
   "outputs": [
    {
     "output_type": "execute_result",
     "data": {
      "text/plain": [
       "['local_xg_70p_64_glcm.pkl']"
      ]
     },
     "metadata": {},
     "execution_count": 149
    }
   ],
   "source": [
    "dump(xg_model, 'local_xg_{}_{}_glcm.pkl'.format('70p', 64))"
   ]
  },
  {
   "cell_type": "code",
   "execution_count": 150,
   "metadata": {},
   "outputs": [],
   "source": [
    "# Eksperimen dengan Color moment\n",
    "test_fold = np.concatenate([\n",
    "    # The training data.\n",
    "    np.full(len(color_moment_data_train), -1, dtype=np.int8),\n",
    "    # The development data.\n",
    "    np.zeros(len(color_moment_data_test), dtype=np.int8)\n",
    "])\n",
    "\n",
    "cv = PredefinedSplit(test_fold)\n",
    "\n",
    "X = np.concatenate([color_moment_data_train, color_moment_data_test])\n",
    "y = np.concatenate([y_train, y_test])"
   ]
  },
  {
   "cell_type": "code",
   "execution_count": 151,
   "metadata": {},
   "outputs": [],
   "source": [
    "base = DecisionTreeClassifier()\n",
    "grid = {\n",
    "\"max_depth\" : [10, 100, 1000],\n",
    "\"criterion\" : [\"gini\", \"entropy\"]\n",
    "}\n",
    "model = GridSearchCV(base, grid, cv=cv,n_jobs=4, verbose=100, return_train_score = True)"
   ]
  },
  {
   "cell_type": "code",
   "execution_count": 152,
   "metadata": {},
   "outputs": [
    {
     "output_type": "stream",
     "name": "stdout",
     "text": [
      "Fitting 1 folds for each of 6 candidates, totalling 6 fits\n[Parallel(n_jobs=4)]: Using backend LokyBackend with 4 concurrent workers.\nPickling array (shape=(10238, 12), dtype=int8).\nPickling array (shape=(10238,), dtype=int32).\nPickling array (shape=(7166,), dtype=int32).\nPickling array (shape=(3072,), dtype=int32).\nPickling array (shape=(10238, 12), dtype=int8).\nPickling array (shape=(10238,), dtype=int32).\nPickling array (shape=(7166,), dtype=int32).\nPickling array (shape=(3072,), dtype=int32).\nPickling array (shape=(10238, 12), dtype=int8).\nPickling array (shape=(10238,), dtype=int32).\nPickling array (shape=(7166,), dtype=int32).\nPickling array (shape=(3072,), dtype=int32).\nPickling array (shape=(10238, 12), dtype=int8).\nPickling array (shape=(10238,), dtype=int32).\nPickling array (shape=(7166,), dtype=int32).\nPickling array (shape=(3072,), dtype=int32).\nPickling array (shape=(10238, 12), dtype=int8).\nPickling array (shape=(10238,), dtype=int32).\nPickling array (shape=(7166,), dtype=int32).\nPickling array (shape=(3072,), dtype=int32).\n[Parallel(n_jobs=4)]: Done   1 tasks      | elapsed:    0.0s\n[Parallel(n_jobs=4)]: Batch computation too fast (0.0465s.) Setting batch_size=2.\nPickling array (shape=(10238, 12), dtype=int8).\nPickling array (shape=(10238,), dtype=int32).\nPickling array (shape=(7166,), dtype=int32).\nPickling array (shape=(3072,), dtype=int32).\n[Parallel(n_jobs=4)]: Done   2 out of   6 | elapsed:    0.0s remaining:    0.0s\n[Parallel(n_jobs=4)]: Done   3 out of   6 | elapsed:    0.0s remaining:    0.0s\n[Parallel(n_jobs=4)]: Done   4 out of   6 | elapsed:    0.0s remaining:    0.0s\n[Parallel(n_jobs=4)]: Done   6 out of   6 | elapsed:    0.1s remaining:    0.0s\n[Parallel(n_jobs=4)]: Done   6 out of   6 | elapsed:    0.1s finished\n"
     ]
    }
   ],
   "source": [
    "dtl_X = np.nan_to_num(X)\n",
    "model = model.fit(dtl_X.astype(np.int8),y)"
   ]
  },
  {
   "cell_type": "code",
   "execution_count": 153,
   "metadata": {},
   "outputs": [
    {
     "output_type": "stream",
     "name": "stdout",
     "text": [
      "{'mean_fit_time': array([0.04003072, 0.07152939, 0.06704116, 0.05053806, 0.09450006,\n       0.09696388]), 'std_fit_time': array([0., 0., 0., 0., 0., 0.]), 'mean_score_time': array([0.00099969, 0.00147128, 0.00148726, 0.00099492, 0.00100017,\n       0.00100183]), 'std_score_time': array([0., 0., 0., 0., 0., 0.]), 'param_criterion': masked_array(data=['gini', 'gini', 'gini', 'entropy', 'entropy',\n                   'entropy'],\n             mask=[False, False, False, False, False, False],\n       fill_value='?',\n            dtype=object), 'param_max_depth': masked_array(data=[10, 100, 1000, 10, 100, 1000],\n             mask=[False, False, False, False, False, False],\n       fill_value='?',\n            dtype=object), 'params': [{'criterion': 'gini', 'max_depth': 10}, {'criterion': 'gini', 'max_depth': 100}, {'criterion': 'gini', 'max_depth': 1000}, {'criterion': 'entropy', 'max_depth': 10}, {'criterion': 'entropy', 'max_depth': 100}, {'criterion': 'entropy', 'max_depth': 1000}], 'split0_test_score': array([0.5406901 , 0.51204427, 0.51269531, 0.52604167, 0.52246094,\n       0.5296224 ]), 'mean_test_score': array([0.5406901 , 0.51204427, 0.51269531, 0.52604167, 0.52246094,\n       0.5296224 ]), 'std_test_score': array([0., 0., 0., 0., 0., 0.]), 'rank_test_score': array([1, 6, 5, 3, 4, 2]), 'split0_train_score': array([0.68350544, 1.        , 1.        , 0.64331566, 1.        ,\n       1.        ]), 'mean_train_score': array([0.68350544, 1.        , 1.        , 0.64331566, 1.        ,\n       1.        ]), 'std_train_score': array([0., 0., 0., 0., 0., 0.])}\n"
     ]
    }
   ],
   "source": [
    "print(model.cv_results_)"
   ]
  },
  {
   "cell_type": "code",
   "execution_count": 154,
   "metadata": {},
   "outputs": [
    {
     "output_type": "execute_result",
     "data": {
      "text/plain": [
       "   Rank criterion  max_depth  Accuracy  Fit Time\n",
       "0     1      gini         10  0.540690  0.040031\n",
       "1     6      gini        100  0.512044  0.071529\n",
       "2     5      gini       1000  0.512695  0.067041\n",
       "3     3   entropy         10  0.526042  0.050538\n",
       "4     4   entropy        100  0.522461  0.094500\n",
       "5     2   entropy       1000  0.529622  0.096964"
      ],
      "text/html": "<div>\n<style scoped>\n    .dataframe tbody tr th:only-of-type {\n        vertical-align: middle;\n    }\n\n    .dataframe tbody tr th {\n        vertical-align: top;\n    }\n\n    .dataframe thead th {\n        text-align: right;\n    }\n</style>\n<table border=\"1\" class=\"dataframe\">\n  <thead>\n    <tr style=\"text-align: right;\">\n      <th></th>\n      <th>Rank</th>\n      <th>criterion</th>\n      <th>max_depth</th>\n      <th>Accuracy</th>\n      <th>Fit Time</th>\n    </tr>\n  </thead>\n  <tbody>\n    <tr>\n      <th>0</th>\n      <td>1</td>\n      <td>gini</td>\n      <td>10</td>\n      <td>0.540690</td>\n      <td>0.040031</td>\n    </tr>\n    <tr>\n      <th>1</th>\n      <td>6</td>\n      <td>gini</td>\n      <td>100</td>\n      <td>0.512044</td>\n      <td>0.071529</td>\n    </tr>\n    <tr>\n      <th>2</th>\n      <td>5</td>\n      <td>gini</td>\n      <td>1000</td>\n      <td>0.512695</td>\n      <td>0.067041</td>\n    </tr>\n    <tr>\n      <th>3</th>\n      <td>3</td>\n      <td>entropy</td>\n      <td>10</td>\n      <td>0.526042</td>\n      <td>0.050538</td>\n    </tr>\n    <tr>\n      <th>4</th>\n      <td>4</td>\n      <td>entropy</td>\n      <td>100</td>\n      <td>0.522461</td>\n      <td>0.094500</td>\n    </tr>\n    <tr>\n      <th>5</th>\n      <td>2</td>\n      <td>entropy</td>\n      <td>1000</td>\n      <td>0.529622</td>\n      <td>0.096964</td>\n    </tr>\n  </tbody>\n</table>\n</div>"
     },
     "metadata": {},
     "execution_count": 154
    }
   ],
   "source": [
    "pd.concat([pd.DataFrame(model.cv_results_[\"rank_test_score\"], columns=[\"Rank\"]), pd.DataFrame(model.cv_results_[\"params\"]),pd.DataFrame(model.cv_results_[\"mean_test_score\"], columns=[\"Accuracy\"]),pd.DataFrame(model.cv_results_[\"mean_fit_time\"], columns=[\"Fit Time\"])],axis=1)"
   ]
  },
  {
   "cell_type": "code",
   "execution_count": 155,
   "metadata": {},
   "outputs": [
    {
     "output_type": "execute_result",
     "data": {
      "text/plain": [
       "   Rank criterion  max_depth  Accuracy  Train Score\n",
       "0     1      gini         10  0.540690     0.683505\n",
       "1     6      gini        100  0.512044     1.000000\n",
       "2     5      gini       1000  0.512695     1.000000\n",
       "3     3   entropy         10  0.526042     0.643316\n",
       "4     4   entropy        100  0.522461     1.000000\n",
       "5     2   entropy       1000  0.529622     1.000000"
      ],
      "text/html": "<div>\n<style scoped>\n    .dataframe tbody tr th:only-of-type {\n        vertical-align: middle;\n    }\n\n    .dataframe tbody tr th {\n        vertical-align: top;\n    }\n\n    .dataframe thead th {\n        text-align: right;\n    }\n</style>\n<table border=\"1\" class=\"dataframe\">\n  <thead>\n    <tr style=\"text-align: right;\">\n      <th></th>\n      <th>Rank</th>\n      <th>criterion</th>\n      <th>max_depth</th>\n      <th>Accuracy</th>\n      <th>Train Score</th>\n    </tr>\n  </thead>\n  <tbody>\n    <tr>\n      <th>0</th>\n      <td>1</td>\n      <td>gini</td>\n      <td>10</td>\n      <td>0.540690</td>\n      <td>0.683505</td>\n    </tr>\n    <tr>\n      <th>1</th>\n      <td>6</td>\n      <td>gini</td>\n      <td>100</td>\n      <td>0.512044</td>\n      <td>1.000000</td>\n    </tr>\n    <tr>\n      <th>2</th>\n      <td>5</td>\n      <td>gini</td>\n      <td>1000</td>\n      <td>0.512695</td>\n      <td>1.000000</td>\n    </tr>\n    <tr>\n      <th>3</th>\n      <td>3</td>\n      <td>entropy</td>\n      <td>10</td>\n      <td>0.526042</td>\n      <td>0.643316</td>\n    </tr>\n    <tr>\n      <th>4</th>\n      <td>4</td>\n      <td>entropy</td>\n      <td>100</td>\n      <td>0.522461</td>\n      <td>1.000000</td>\n    </tr>\n    <tr>\n      <th>5</th>\n      <td>2</td>\n      <td>entropy</td>\n      <td>1000</td>\n      <td>0.529622</td>\n      <td>1.000000</td>\n    </tr>\n  </tbody>\n</table>\n</div>"
     },
     "metadata": {},
     "execution_count": 155
    }
   ],
   "source": [
    "pd.concat([pd.DataFrame(model.cv_results_[\"rank_test_score\"], columns=[\"Rank\"]), pd.DataFrame(model.cv_results_[\"params\"]),pd.DataFrame(model.cv_results_[\"mean_test_score\"], columns=[\"Accuracy\"]),pd.DataFrame(model.cv_results_[\"mean_train_score\"], columns=[\"Train Score\"])],axis=1)"
   ]
  },
  {
   "cell_type": "code",
   "execution_count": 156,
   "metadata": {},
   "outputs": [
    {
     "output_type": "execute_result",
     "data": {
      "text/plain": [
       "['local_dtl_70p_64_cm.pkl']"
      ]
     },
     "metadata": {},
     "execution_count": 156
    }
   ],
   "source": [
    "dump(model, 'local_dtl_{}_{}_cm.pkl'.format('70p', 64))"
   ]
  },
  {
   "cell_type": "code",
   "execution_count": 157,
   "metadata": {},
   "outputs": [],
   "source": [
    "# Random Forest classifier\n",
    "rf_base = xgb.XGBRFClassifier()\n",
    "rf_grid = {\n",
    "\"max_depth\" : [4, 6, 10],\n",
    "\"learning_rate\" : [0.1, 0.3],\n",
    "\"n_estimators\" : [1, 5, 10, 50]\n",
    "}\n",
    "rf_model = GridSearchCV(rf_base, rf_grid, cv=cv,n_jobs=4, verbose=100, return_train_score = True)"
   ]
  },
  {
   "cell_type": "code",
   "execution_count": 158,
   "metadata": {},
   "outputs": [
    {
     "output_type": "stream",
     "name": "stdout",
     "text": [
      "Fitting 1 folds for each of 24 candidates, totalling 24 fits\n",
      "[Parallel(n_jobs=4)]: Using backend LokyBackend with 4 concurrent workers.\n",
      "Pickling array (shape=(10238, 12), dtype=float64).\n",
      "Pickling array (shape=(10238,), dtype=int32).\n",
      "Pickling array (shape=(7166,), dtype=int32).\n",
      "Pickling array (shape=(3072,), dtype=int32).\n",
      "Pickling array (shape=(10238, 12), dtype=float64).\n",
      "Pickling array (shape=(10238,), dtype=int32).\n",
      "Pickling array (shape=(7166,), dtype=int32).\n",
      "Pickling array (shape=(3072,), dtype=int32).\n",
      "Pickling array (shape=(10238, 12), dtype=float64).\n",
      "Pickling array (shape=(10238,), dtype=int32).\n",
      "Pickling array (shape=(7166,), dtype=int32).\n",
      "Pickling array (shape=(3072,), dtype=int32).\n",
      "Pickling array (shape=(10238, 12), dtype=float64).\n",
      "Pickling array (shape=(10238,), dtype=int32).\n",
      "Pickling array (shape=(7166,), dtype=int32).\n",
      "Pickling array (shape=(3072,), dtype=int32).\n",
      "Pickling array (shape=(10238, 12), dtype=float64).\n",
      "Pickling array (shape=(10238,), dtype=int32).\n",
      "Pickling array (shape=(7166,), dtype=int32).\n",
      "Pickling array (shape=(3072,), dtype=int32).\n",
      "[Parallel(n_jobs=4)]: Done   1 tasks      | elapsed:    0.0s\n",
      "[Parallel(n_jobs=4)]: Batch computation too fast (0.0360s.) Setting batch_size=2.\n",
      "Pickling array (shape=(10238, 12), dtype=float64).\n",
      "Pickling array (shape=(10238,), dtype=int32).\n",
      "Pickling array (shape=(7166,), dtype=int32).[Parallel(n_jobs=4)]: Done   2 tasks      | elapsed:    0.0s\n",
      "\n",
      "Pickling array (shape=(3072,), dtype=int32).\n",
      "Pickling array (shape=(10238, 12), dtype=float64).\n",
      "Pickling array (shape=(10238,), dtype=int32).\n",
      "Pickling array (shape=(7166,), dtype=int32).\n",
      "Pickling array (shape=(3072,), dtype=int32).\n",
      "[Parallel(n_jobs=4)]: Done   3 tasks      | elapsed:    0.0s\n",
      "Pickling array (shape=(10238, 12), dtype=float64).\n",
      "[Parallel(n_jobs=4)]: Done   4 tasks      | elapsed:    0.0s\n",
      "Pickling array (shape=(10238,), dtype=int32).\n",
      "Pickling array (shape=(7166,), dtype=int32).\n",
      "Pickling array (shape=(3072,), dtype=int32).\n",
      "Pickling array (shape=(10238, 12), dtype=float64).\n",
      "Pickling array (shape=(10238,), dtype=int32).\n",
      "Pickling array (shape=(7166,), dtype=int32).\n",
      "Pickling array (shape=(3072,), dtype=int32).\n",
      "[Parallel(n_jobs=4)]: Done   5 tasks      | elapsed:    0.0s\n",
      "Pickling array (shape=(10238, 12), dtype=float64).\n",
      "Pickling array (shape=(10238,), dtype=int32).\n",
      "Pickling array (shape=(7166,), dtype=int32).\n",
      "Pickling array (shape=(3072,), dtype=int32).\n",
      "[Parallel(n_jobs=4)]: Done   6 tasks      | elapsed:    0.1s\n",
      "Pickling array (shape=(10238, 12), dtype=float64).\n",
      "Pickling array (shape=(10238,), dtype=int32).\n",
      "Pickling array (shape=(7166,), dtype=int32).\n",
      "Pickling array (shape=(3072,), dtype=int32).\n",
      "[Parallel(n_jobs=4)]: Done   8 tasks      | elapsed:    0.2s\n",
      "Pickling array (shape=(10238, 12), dtype=float64).\n",
      "Pickling array (shape=(10238,), dtype=int32).\n",
      "Pickling array (shape=(7166,), dtype=int32).\n",
      "Pickling array (shape=(3072,), dtype=int32).\n",
      "[Parallel(n_jobs=4)]: Done   9 tasks      | elapsed:    0.2s\n",
      "Pickling array (shape=(10238, 12), dtype=float64).\n",
      "Pickling array (shape=(10238,), dtype=int32).\n",
      "Pickling array (shape=(7166,), dtype=int32).\n",
      "Pickling array (shape=(3072,), dtype=int32).\n",
      "[Parallel(n_jobs=4)]: Done  11 tasks      | elapsed:    0.3s\n",
      "Pickling array (shape=(10238, 12), dtype=float64).\n",
      "Pickling array (shape=(10238,), dtype=int32).\n",
      "Pickling array (shape=(7166,), dtype=int32).\n",
      "Pickling array (shape=(3072,), dtype=int32).\n",
      "[Parallel(n_jobs=4)]: Done  13 out of  24 | elapsed:    0.4s remaining:    0.3s\n",
      "Pickling array (shape=(10238, 12), dtype=float64).\n",
      "Pickling array (shape=(10238,), dtype=int32).\n",
      "Pickling array (shape=(7166,), dtype=int32).\n",
      "Pickling array (shape=(3072,), dtype=int32).\n",
      "[Parallel(n_jobs=4)]: Done  14 out of  24 | elapsed:    0.5s remaining:    0.4s\n",
      "Pickling array (shape=(10238, 12), dtype=float64).\n",
      "Pickling array (shape=(10238,), dtype=int32).\n",
      "Pickling array (shape=(7166,), dtype=int32).\n",
      "Pickling array (shape=(3072,), dtype=int32).\n",
      "[Parallel(n_jobs=4)]: Done  16 out of  24 | elapsed:    0.7s remaining:    0.3s\n",
      "[Parallel(n_jobs=4)]: Done  18 out of  24 | elapsed:    0.7s remaining:    0.2s\n",
      "[Parallel(n_jobs=4)]: Done  20 out of  24 | elapsed:    1.0s remaining:    0.1s\n",
      "[Parallel(n_jobs=4)]: Done  22 out of  24 | elapsed:    1.0s remaining:    0.0s\n",
      "[Parallel(n_jobs=4)]: Done  24 out of  24 | elapsed:    1.3s remaining:    0.0s\n",
      "[Parallel(n_jobs=4)]: Done  24 out of  24 | elapsed:    1.3s finished\n"
     ]
    }
   ],
   "source": [
    "rf_model = rf_model.fit(X, y)"
   ]
  },
  {
   "cell_type": "code",
   "execution_count": 159,
   "metadata": {},
   "outputs": [
    {
     "output_type": "stream",
     "name": "stdout",
     "text": [
      "{'mean_fit_time': array([0.01699615, 0.03599524, 0.06599641, 0.26050043, 0.02300024,\n       0.05249858, 0.07799911, 0.48349833, 0.02600217, 0.09149981,\n       0.14200091, 0.73699832, 0.02049851, 0.03999901, 0.06499696,\n       0.35449958, 0.02349973, 0.08249974, 0.16050005, 0.3599987 ,\n       0.03999996, 0.08349919, 0.1349988 , 0.47399926]), 'std_fit_time': array([0., 0., 0., 0., 0., 0., 0., 0., 0., 0., 0., 0., 0., 0., 0., 0., 0.,\n       0., 0., 0., 0., 0., 0., 0.]), 'mean_score_time': array([0.00399995, 0.00400209, 0.00400043, 0.00500107, 0.00400043,\n       0.00299931, 0.00400233, 0.00749993, 0.00349784, 0.00349998,\n       0.00399947, 0.00949955, 0.00349998, 0.00350142, 0.00300121,\n       0.00550127, 0.00349951, 0.00500035, 0.00449944, 0.00700164,\n       0.0040009 , 0.00500011, 0.00449944, 0.00749993]), 'std_score_time': array([0., 0., 0., 0., 0., 0., 0., 0., 0., 0., 0., 0., 0., 0., 0., 0., 0.,\n       0., 0., 0., 0., 0., 0., 0.]), 'param_learning_rate': masked_array(data=[0.1, 0.1, 0.1, 0.1, 0.1, 0.1, 0.1, 0.1, 0.1, 0.1, 0.1,\n                   0.1, 0.3, 0.3, 0.3, 0.3, 0.3, 0.3, 0.3, 0.3, 0.3, 0.3,\n                   0.3, 0.3],\n             mask=[False, False, False, False, False, False, False, False,\n                   False, False, False, False, False, False, False, False,\n                   False, False, False, False, False, False, False, False],\n       fill_value='?',\n            dtype=object), 'param_max_depth': masked_array(data=[4, 4, 4, 4, 6, 6, 6, 6, 10, 10, 10, 10, 4, 4, 4, 4, 6,\n                   6, 6, 6, 10, 10, 10, 10],\n             mask=[False, False, False, False, False, False, False, False,\n                   False, False, False, False, False, False, False, False,\n                   False, False, False, False, False, False, False, False],\n       fill_value='?',\n            dtype=object), 'param_n_estimators': masked_array(data=[1, 5, 10, 50, 1, 5, 10, 50, 1, 5, 10, 50, 1, 5, 10, 50,\n                   1, 5, 10, 50, 1, 5, 10, 50],\n             mask=[False, False, False, False, False, False, False, False,\n                   False, False, False, False, False, False, False, False,\n                   False, False, False, False, False, False, False, False],\n       fill_value='?',\n            dtype=object), 'params': [{'learning_rate': 0.1, 'max_depth': 4, 'n_estimators': 1}, {'learning_rate': 0.1, 'max_depth': 4, 'n_estimators': 5}, {'learning_rate': 0.1, 'max_depth': 4, 'n_estimators': 10}, {'learning_rate': 0.1, 'max_depth': 4, 'n_estimators': 50}, {'learning_rate': 0.1, 'max_depth': 6, 'n_estimators': 1}, {'learning_rate': 0.1, 'max_depth': 6, 'n_estimators': 5}, {'learning_rate': 0.1, 'max_depth': 6, 'n_estimators': 10}, {'learning_rate': 0.1, 'max_depth': 6, 'n_estimators': 50}, {'learning_rate': 0.1, 'max_depth': 10, 'n_estimators': 1}, {'learning_rate': 0.1, 'max_depth': 10, 'n_estimators': 5}, {'learning_rate': 0.1, 'max_depth': 10, 'n_estimators': 10}, {'learning_rate': 0.1, 'max_depth': 10, 'n_estimators': 50}, {'learning_rate': 0.3, 'max_depth': 4, 'n_estimators': 1}, {'learning_rate': 0.3, 'max_depth': 4, 'n_estimators': 5}, {'learning_rate': 0.3, 'max_depth': 4, 'n_estimators': 10}, {'learning_rate': 0.3, 'max_depth': 4, 'n_estimators': 50}, {'learning_rate': 0.3, 'max_depth': 6, 'n_estimators': 1}, {'learning_rate': 0.3, 'max_depth': 6, 'n_estimators': 5}, {'learning_rate': 0.3, 'max_depth': 6, 'n_estimators': 10}, {'learning_rate': 0.3, 'max_depth': 6, 'n_estimators': 50}, {'learning_rate': 0.3, 'max_depth': 10, 'n_estimators': 1}, {'learning_rate': 0.3, 'max_depth': 10, 'n_estimators': 5}, {'learning_rate': 0.3, 'max_depth': 10, 'n_estimators': 10}, {'learning_rate': 0.3, 'max_depth': 10, 'n_estimators': 50}], 'split0_test_score': array([0.53450521, 0.56770833, 0.57291667, 0.58007812, 0.54882812,\n       0.56770833, 0.57096354, 0.58007812, 0.54036458, 0.56347656,\n       0.57096354, 0.57454427, 0.53450521, 0.56770833, 0.57291667,\n       0.58007812, 0.54882812, 0.56770833, 0.57096354, 0.58007812,\n       0.54036458, 0.56347656, 0.57096354, 0.57454427]), 'mean_test_score': array([0.53450521, 0.56770833, 0.57291667, 0.58007812, 0.54882812,\n       0.56770833, 0.57096354, 0.58007812, 0.54036458, 0.56347656,\n       0.57096354, 0.57454427, 0.53450521, 0.56770833, 0.57291667,\n       0.58007812, 0.54882812, 0.56770833, 0.57096354, 0.58007812,\n       0.54036458, 0.56347656, 0.57096354, 0.57454427]), 'std_test_score': array([0., 0., 0., 0., 0., 0., 0., 0., 0., 0., 0., 0., 0., 0., 0., 0., 0.,\n       0., 0., 0., 0., 0., 0., 0.]), 'rank_test_score': array([23, 13,  7,  1, 19, 13,  9,  1, 21, 17,  9,  5, 23, 13,  7,  1, 19,\n       13,  9,  1, 21, 17,  9,  5]), 'split0_train_score': array([0.57298353, 0.5918225 , 0.59224114, 0.59810215, 0.58847335,\n       0.6239185 , 0.63843148, 0.64457159, 0.63103545, 0.74616243,\n       0.7906782 , 0.80658666, 0.57298353, 0.5918225 , 0.59224114,\n       0.59810215, 0.58847335, 0.6239185 , 0.63843148, 0.64457159,\n       0.63103545, 0.74616243, 0.7906782 , 0.80658666]), 'mean_train_score': array([0.57298353, 0.5918225 , 0.59224114, 0.59810215, 0.58847335,\n       0.6239185 , 0.63843148, 0.64457159, 0.63103545, 0.74616243,\n       0.7906782 , 0.80658666, 0.57298353, 0.5918225 , 0.59224114,\n       0.59810215, 0.58847335, 0.6239185 , 0.63843148, 0.64457159,\n       0.63103545, 0.74616243, 0.7906782 , 0.80658666]), 'std_train_score': array([0., 0., 0., 0., 0., 0., 0., 0., 0., 0., 0., 0., 0., 0., 0., 0., 0.,\n       0., 0., 0., 0., 0., 0., 0.])}\n"
     ]
    }
   ],
   "source": [
    "print(rf_model.cv_results_)"
   ]
  },
  {
   "cell_type": "code",
   "execution_count": 160,
   "metadata": {},
   "outputs": [
    {
     "output_type": "execute_result",
     "data": {
      "text/plain": [
       "    Rank  learning_rate  max_depth  n_estimators  Accuracy  Fit Time\n",
       "0     23            0.1          4             1  0.534505  0.016996\n",
       "1     13            0.1          4             5  0.567708  0.035995\n",
       "2      7            0.1          4            10  0.572917  0.065996\n",
       "3      1            0.1          4            50  0.580078  0.260500\n",
       "4     19            0.1          6             1  0.548828  0.023000\n",
       "5     13            0.1          6             5  0.567708  0.052499\n",
       "6      9            0.1          6            10  0.570964  0.077999\n",
       "7      1            0.1          6            50  0.580078  0.483498\n",
       "8     21            0.1         10             1  0.540365  0.026002\n",
       "9     17            0.1         10             5  0.563477  0.091500\n",
       "10     9            0.1         10            10  0.570964  0.142001\n",
       "11     5            0.1         10            50  0.574544  0.736998\n",
       "12    23            0.3          4             1  0.534505  0.020499\n",
       "13    13            0.3          4             5  0.567708  0.039999\n",
       "14     7            0.3          4            10  0.572917  0.064997\n",
       "15     1            0.3          4            50  0.580078  0.354500\n",
       "16    19            0.3          6             1  0.548828  0.023500\n",
       "17    13            0.3          6             5  0.567708  0.082500\n",
       "18     9            0.3          6            10  0.570964  0.160500\n",
       "19     1            0.3          6            50  0.580078  0.359999\n",
       "20    21            0.3         10             1  0.540365  0.040000\n",
       "21    17            0.3         10             5  0.563477  0.083499\n",
       "22     9            0.3         10            10  0.570964  0.134999\n",
       "23     5            0.3         10            50  0.574544  0.473999"
      ],
      "text/html": "<div>\n<style scoped>\n    .dataframe tbody tr th:only-of-type {\n        vertical-align: middle;\n    }\n\n    .dataframe tbody tr th {\n        vertical-align: top;\n    }\n\n    .dataframe thead th {\n        text-align: right;\n    }\n</style>\n<table border=\"1\" class=\"dataframe\">\n  <thead>\n    <tr style=\"text-align: right;\">\n      <th></th>\n      <th>Rank</th>\n      <th>learning_rate</th>\n      <th>max_depth</th>\n      <th>n_estimators</th>\n      <th>Accuracy</th>\n      <th>Fit Time</th>\n    </tr>\n  </thead>\n  <tbody>\n    <tr>\n      <th>0</th>\n      <td>23</td>\n      <td>0.1</td>\n      <td>4</td>\n      <td>1</td>\n      <td>0.534505</td>\n      <td>0.016996</td>\n    </tr>\n    <tr>\n      <th>1</th>\n      <td>13</td>\n      <td>0.1</td>\n      <td>4</td>\n      <td>5</td>\n      <td>0.567708</td>\n      <td>0.035995</td>\n    </tr>\n    <tr>\n      <th>2</th>\n      <td>7</td>\n      <td>0.1</td>\n      <td>4</td>\n      <td>10</td>\n      <td>0.572917</td>\n      <td>0.065996</td>\n    </tr>\n    <tr>\n      <th>3</th>\n      <td>1</td>\n      <td>0.1</td>\n      <td>4</td>\n      <td>50</td>\n      <td>0.580078</td>\n      <td>0.260500</td>\n    </tr>\n    <tr>\n      <th>4</th>\n      <td>19</td>\n      <td>0.1</td>\n      <td>6</td>\n      <td>1</td>\n      <td>0.548828</td>\n      <td>0.023000</td>\n    </tr>\n    <tr>\n      <th>5</th>\n      <td>13</td>\n      <td>0.1</td>\n      <td>6</td>\n      <td>5</td>\n      <td>0.567708</td>\n      <td>0.052499</td>\n    </tr>\n    <tr>\n      <th>6</th>\n      <td>9</td>\n      <td>0.1</td>\n      <td>6</td>\n      <td>10</td>\n      <td>0.570964</td>\n      <td>0.077999</td>\n    </tr>\n    <tr>\n      <th>7</th>\n      <td>1</td>\n      <td>0.1</td>\n      <td>6</td>\n      <td>50</td>\n      <td>0.580078</td>\n      <td>0.483498</td>\n    </tr>\n    <tr>\n      <th>8</th>\n      <td>21</td>\n      <td>0.1</td>\n      <td>10</td>\n      <td>1</td>\n      <td>0.540365</td>\n      <td>0.026002</td>\n    </tr>\n    <tr>\n      <th>9</th>\n      <td>17</td>\n      <td>0.1</td>\n      <td>10</td>\n      <td>5</td>\n      <td>0.563477</td>\n      <td>0.091500</td>\n    </tr>\n    <tr>\n      <th>10</th>\n      <td>9</td>\n      <td>0.1</td>\n      <td>10</td>\n      <td>10</td>\n      <td>0.570964</td>\n      <td>0.142001</td>\n    </tr>\n    <tr>\n      <th>11</th>\n      <td>5</td>\n      <td>0.1</td>\n      <td>10</td>\n      <td>50</td>\n      <td>0.574544</td>\n      <td>0.736998</td>\n    </tr>\n    <tr>\n      <th>12</th>\n      <td>23</td>\n      <td>0.3</td>\n      <td>4</td>\n      <td>1</td>\n      <td>0.534505</td>\n      <td>0.020499</td>\n    </tr>\n    <tr>\n      <th>13</th>\n      <td>13</td>\n      <td>0.3</td>\n      <td>4</td>\n      <td>5</td>\n      <td>0.567708</td>\n      <td>0.039999</td>\n    </tr>\n    <tr>\n      <th>14</th>\n      <td>7</td>\n      <td>0.3</td>\n      <td>4</td>\n      <td>10</td>\n      <td>0.572917</td>\n      <td>0.064997</td>\n    </tr>\n    <tr>\n      <th>15</th>\n      <td>1</td>\n      <td>0.3</td>\n      <td>4</td>\n      <td>50</td>\n      <td>0.580078</td>\n      <td>0.354500</td>\n    </tr>\n    <tr>\n      <th>16</th>\n      <td>19</td>\n      <td>0.3</td>\n      <td>6</td>\n      <td>1</td>\n      <td>0.548828</td>\n      <td>0.023500</td>\n    </tr>\n    <tr>\n      <th>17</th>\n      <td>13</td>\n      <td>0.3</td>\n      <td>6</td>\n      <td>5</td>\n      <td>0.567708</td>\n      <td>0.082500</td>\n    </tr>\n    <tr>\n      <th>18</th>\n      <td>9</td>\n      <td>0.3</td>\n      <td>6</td>\n      <td>10</td>\n      <td>0.570964</td>\n      <td>0.160500</td>\n    </tr>\n    <tr>\n      <th>19</th>\n      <td>1</td>\n      <td>0.3</td>\n      <td>6</td>\n      <td>50</td>\n      <td>0.580078</td>\n      <td>0.359999</td>\n    </tr>\n    <tr>\n      <th>20</th>\n      <td>21</td>\n      <td>0.3</td>\n      <td>10</td>\n      <td>1</td>\n      <td>0.540365</td>\n      <td>0.040000</td>\n    </tr>\n    <tr>\n      <th>21</th>\n      <td>17</td>\n      <td>0.3</td>\n      <td>10</td>\n      <td>5</td>\n      <td>0.563477</td>\n      <td>0.083499</td>\n    </tr>\n    <tr>\n      <th>22</th>\n      <td>9</td>\n      <td>0.3</td>\n      <td>10</td>\n      <td>10</td>\n      <td>0.570964</td>\n      <td>0.134999</td>\n    </tr>\n    <tr>\n      <th>23</th>\n      <td>5</td>\n      <td>0.3</td>\n      <td>10</td>\n      <td>50</td>\n      <td>0.574544</td>\n      <td>0.473999</td>\n    </tr>\n  </tbody>\n</table>\n</div>"
     },
     "metadata": {},
     "execution_count": 160
    }
   ],
   "source": [
    "pd.concat([pd.DataFrame(rf_model.cv_results_[\"rank_test_score\"], columns=[\"Rank\"]), pd.DataFrame(rf_model.cv_results_[\"params\"]),pd.DataFrame(rf_model.cv_results_[\"mean_test_score\"], columns=[\"Accuracy\"]),pd.DataFrame(rf_model.cv_results_[\"mean_fit_time\"], columns=[\"Fit Time\"])],axis=1)"
   ]
  },
  {
   "cell_type": "code",
   "execution_count": 161,
   "metadata": {},
   "outputs": [
    {
     "output_type": "execute_result",
     "data": {
      "text/plain": [
       "    Rank  learning_rate  max_depth  n_estimators  Accuracy  Train Score\n",
       "0     23            0.1          4             1  0.534505     0.572984\n",
       "1     13            0.1          4             5  0.567708     0.591822\n",
       "2      7            0.1          4            10  0.572917     0.592241\n",
       "3      1            0.1          4            50  0.580078     0.598102\n",
       "4     19            0.1          6             1  0.548828     0.588473\n",
       "5     13            0.1          6             5  0.567708     0.623919\n",
       "6      9            0.1          6            10  0.570964     0.638431\n",
       "7      1            0.1          6            50  0.580078     0.644572\n",
       "8     21            0.1         10             1  0.540365     0.631035\n",
       "9     17            0.1         10             5  0.563477     0.746162\n",
       "10     9            0.1         10            10  0.570964     0.790678\n",
       "11     5            0.1         10            50  0.574544     0.806587\n",
       "12    23            0.3          4             1  0.534505     0.572984\n",
       "13    13            0.3          4             5  0.567708     0.591822\n",
       "14     7            0.3          4            10  0.572917     0.592241\n",
       "15     1            0.3          4            50  0.580078     0.598102\n",
       "16    19            0.3          6             1  0.548828     0.588473\n",
       "17    13            0.3          6             5  0.567708     0.623919\n",
       "18     9            0.3          6            10  0.570964     0.638431\n",
       "19     1            0.3          6            50  0.580078     0.644572\n",
       "20    21            0.3         10             1  0.540365     0.631035\n",
       "21    17            0.3         10             5  0.563477     0.746162\n",
       "22     9            0.3         10            10  0.570964     0.790678\n",
       "23     5            0.3         10            50  0.574544     0.806587"
      ],
      "text/html": "<div>\n<style scoped>\n    .dataframe tbody tr th:only-of-type {\n        vertical-align: middle;\n    }\n\n    .dataframe tbody tr th {\n        vertical-align: top;\n    }\n\n    .dataframe thead th {\n        text-align: right;\n    }\n</style>\n<table border=\"1\" class=\"dataframe\">\n  <thead>\n    <tr style=\"text-align: right;\">\n      <th></th>\n      <th>Rank</th>\n      <th>learning_rate</th>\n      <th>max_depth</th>\n      <th>n_estimators</th>\n      <th>Accuracy</th>\n      <th>Train Score</th>\n    </tr>\n  </thead>\n  <tbody>\n    <tr>\n      <th>0</th>\n      <td>23</td>\n      <td>0.1</td>\n      <td>4</td>\n      <td>1</td>\n      <td>0.534505</td>\n      <td>0.572984</td>\n    </tr>\n    <tr>\n      <th>1</th>\n      <td>13</td>\n      <td>0.1</td>\n      <td>4</td>\n      <td>5</td>\n      <td>0.567708</td>\n      <td>0.591822</td>\n    </tr>\n    <tr>\n      <th>2</th>\n      <td>7</td>\n      <td>0.1</td>\n      <td>4</td>\n      <td>10</td>\n      <td>0.572917</td>\n      <td>0.592241</td>\n    </tr>\n    <tr>\n      <th>3</th>\n      <td>1</td>\n      <td>0.1</td>\n      <td>4</td>\n      <td>50</td>\n      <td>0.580078</td>\n      <td>0.598102</td>\n    </tr>\n    <tr>\n      <th>4</th>\n      <td>19</td>\n      <td>0.1</td>\n      <td>6</td>\n      <td>1</td>\n      <td>0.548828</td>\n      <td>0.588473</td>\n    </tr>\n    <tr>\n      <th>5</th>\n      <td>13</td>\n      <td>0.1</td>\n      <td>6</td>\n      <td>5</td>\n      <td>0.567708</td>\n      <td>0.623919</td>\n    </tr>\n    <tr>\n      <th>6</th>\n      <td>9</td>\n      <td>0.1</td>\n      <td>6</td>\n      <td>10</td>\n      <td>0.570964</td>\n      <td>0.638431</td>\n    </tr>\n    <tr>\n      <th>7</th>\n      <td>1</td>\n      <td>0.1</td>\n      <td>6</td>\n      <td>50</td>\n      <td>0.580078</td>\n      <td>0.644572</td>\n    </tr>\n    <tr>\n      <th>8</th>\n      <td>21</td>\n      <td>0.1</td>\n      <td>10</td>\n      <td>1</td>\n      <td>0.540365</td>\n      <td>0.631035</td>\n    </tr>\n    <tr>\n      <th>9</th>\n      <td>17</td>\n      <td>0.1</td>\n      <td>10</td>\n      <td>5</td>\n      <td>0.563477</td>\n      <td>0.746162</td>\n    </tr>\n    <tr>\n      <th>10</th>\n      <td>9</td>\n      <td>0.1</td>\n      <td>10</td>\n      <td>10</td>\n      <td>0.570964</td>\n      <td>0.790678</td>\n    </tr>\n    <tr>\n      <th>11</th>\n      <td>5</td>\n      <td>0.1</td>\n      <td>10</td>\n      <td>50</td>\n      <td>0.574544</td>\n      <td>0.806587</td>\n    </tr>\n    <tr>\n      <th>12</th>\n      <td>23</td>\n      <td>0.3</td>\n      <td>4</td>\n      <td>1</td>\n      <td>0.534505</td>\n      <td>0.572984</td>\n    </tr>\n    <tr>\n      <th>13</th>\n      <td>13</td>\n      <td>0.3</td>\n      <td>4</td>\n      <td>5</td>\n      <td>0.567708</td>\n      <td>0.591822</td>\n    </tr>\n    <tr>\n      <th>14</th>\n      <td>7</td>\n      <td>0.3</td>\n      <td>4</td>\n      <td>10</td>\n      <td>0.572917</td>\n      <td>0.592241</td>\n    </tr>\n    <tr>\n      <th>15</th>\n      <td>1</td>\n      <td>0.3</td>\n      <td>4</td>\n      <td>50</td>\n      <td>0.580078</td>\n      <td>0.598102</td>\n    </tr>\n    <tr>\n      <th>16</th>\n      <td>19</td>\n      <td>0.3</td>\n      <td>6</td>\n      <td>1</td>\n      <td>0.548828</td>\n      <td>0.588473</td>\n    </tr>\n    <tr>\n      <th>17</th>\n      <td>13</td>\n      <td>0.3</td>\n      <td>6</td>\n      <td>5</td>\n      <td>0.567708</td>\n      <td>0.623919</td>\n    </tr>\n    <tr>\n      <th>18</th>\n      <td>9</td>\n      <td>0.3</td>\n      <td>6</td>\n      <td>10</td>\n      <td>0.570964</td>\n      <td>0.638431</td>\n    </tr>\n    <tr>\n      <th>19</th>\n      <td>1</td>\n      <td>0.3</td>\n      <td>6</td>\n      <td>50</td>\n      <td>0.580078</td>\n      <td>0.644572</td>\n    </tr>\n    <tr>\n      <th>20</th>\n      <td>21</td>\n      <td>0.3</td>\n      <td>10</td>\n      <td>1</td>\n      <td>0.540365</td>\n      <td>0.631035</td>\n    </tr>\n    <tr>\n      <th>21</th>\n      <td>17</td>\n      <td>0.3</td>\n      <td>10</td>\n      <td>5</td>\n      <td>0.563477</td>\n      <td>0.746162</td>\n    </tr>\n    <tr>\n      <th>22</th>\n      <td>9</td>\n      <td>0.3</td>\n      <td>10</td>\n      <td>10</td>\n      <td>0.570964</td>\n      <td>0.790678</td>\n    </tr>\n    <tr>\n      <th>23</th>\n      <td>5</td>\n      <td>0.3</td>\n      <td>10</td>\n      <td>50</td>\n      <td>0.574544</td>\n      <td>0.806587</td>\n    </tr>\n  </tbody>\n</table>\n</div>"
     },
     "metadata": {},
     "execution_count": 161
    }
   ],
   "source": [
    "pd.concat([pd.DataFrame(rf_model.cv_results_[\"rank_test_score\"], columns=[\"Rank\"]), pd.DataFrame(rf_model.cv_results_[\"params\"]),pd.DataFrame(rf_model.cv_results_[\"mean_test_score\"], columns=[\"Accuracy\"]),pd.DataFrame(rf_model.cv_results_[\"mean_train_score\"], columns=[\"Train Score\"])],axis=1)\n"
   ]
  },
  {
   "cell_type": "code",
   "execution_count": 162,
   "metadata": {},
   "outputs": [
    {
     "output_type": "execute_result",
     "data": {
      "text/plain": [
       "['local_rf_70p_64_cm.pkl']"
      ]
     },
     "metadata": {},
     "execution_count": 162
    }
   ],
   "source": [
    "dump(rf_model, 'local_rf_{}_{}_cm.pkl'.format('70p', 64))"
   ]
  },
  {
   "cell_type": "code",
   "execution_count": 163,
   "metadata": {},
   "outputs": [],
   "source": [
    "xg_base = xgb.XGBClassifier()\n",
    "xg_grid = {\n",
    "\"max_depth\" : [4, 6, 10],\n",
    "\"learning_rate\" : [0.1, 0.3],\n",
    "\"n_estimators\" : [1, 5, 10, 50]\n",
    "}\n",
    "xg_model = GridSearchCV(xg_base, xg_grid, cv=cv, n_jobs=4, verbose=100, return_train_score = True)"
   ]
  },
  {
   "cell_type": "code",
   "execution_count": 164,
   "metadata": {},
   "outputs": [
    {
     "output_type": "stream",
     "name": "stdout",
     "text": [
      "Fitting 1 folds for each of 24 candidates, totalling 24 fits\n",
      "[Parallel(n_jobs=4)]: Using backend LokyBackend with 4 concurrent workers.\n",
      "Pickling array (shape=(10238, 12), dtype=float64).\n",
      "Pickling array (shape=(10238,), dtype=int32).\n",
      "Pickling array (shape=(7166,), dtype=int32).\n",
      "Pickling array (shape=(3072,), dtype=int32).\n",
      "Pickling array (shape=(10238, 12), dtype=float64).\n",
      "Pickling array (shape=(10238,), dtype=int32).\n",
      "Pickling array (shape=(7166,), dtype=int32).\n",
      "Pickling array (shape=(3072,), dtype=int32).\n",
      "Pickling array (shape=(10238, 12), dtype=float64).\n",
      "Pickling array (shape=(10238,), dtype=int32).\n",
      "Pickling array (shape=(7166,), dtype=int32).\n",
      "Pickling array (shape=(3072,), dtype=int32).\n",
      "Pickling array (shape=(10238, 12), dtype=float64).\n",
      "Pickling array (shape=(10238,), dtype=int32).\n",
      "Pickling array (shape=(7166,), dtype=int32).\n",
      "Pickling array (shape=(3072,), dtype=int32).\n",
      "Pickling array (shape=(10238, 12), dtype=float64).\n",
      "Pickling array (shape=(10238,), dtype=int32).\n",
      "Pickling array (shape=(7166,), dtype=int32).\n",
      "Pickling array (shape=(3072,), dtype=int32).\n",
      "[Parallel(n_jobs=4)]: Done   1 tasks      | elapsed:    0.0s\n",
      "[Parallel(n_jobs=4)]: Batch computation too fast (0.0415s.) Setting batch_size=2.\n",
      "Pickling array (shape=(10238, 12), dtype=float64).\n",
      "Pickling array (shape=(10238,), dtype=int32).\n",
      "Pickling array (shape=(7166,), dtype=int32).\n",
      "Pickling array (shape=(3072,), dtype=int32).\n",
      "[Parallel(n_jobs=4)]: Done   2 tasks      | elapsed:    0.0s\n",
      "Pickling array (shape=(10238, 12), dtype=float64).\n",
      "Pickling array (shape=(10238,), dtype=int32).\n",
      "Pickling array (shape=(7166,), dtype=int32).\n",
      "Pickling array (shape=(3072,), dtype=int32).\n",
      "[Parallel(n_jobs=4)]: Done   3 tasks      | elapsed:    0.0s\n",
      "Pickling array (shape=(10238, 12), dtype=float64).\n",
      "Pickling array (shape=(10238,), dtype=int32).\n",
      "Pickling array (shape=(7166,), dtype=int32).\n",
      "Pickling array (shape=(3072,), dtype=int32).\n",
      "[Parallel(n_jobs=4)]: Done   4 tasks      | elapsed:    0.0s\n",
      "Pickling array (shape=(10238, 12), dtype=float64).\n",
      "Pickling array (shape=(10238,), dtype=int32).\n",
      "Pickling array (shape=(7166,), dtype=int32).\n",
      "Pickling array (shape=(3072,), dtype=int32).\n",
      "[Parallel(n_jobs=4)]: Done   5 tasks      | elapsed:    0.1s\n",
      "Pickling array (shape=(10238, 12), dtype=float64).\n",
      "Pickling array (shape=(10238,), dtype=int32).\n",
      "Pickling array (shape=(7166,), dtype=int32).\n",
      "Pickling array (shape=(3072,), dtype=int32).\n",
      "[Parallel(n_jobs=4)]: Done   6 tasks      | elapsed:    0.1s\n",
      "Pickling array (shape=(10238, 12), dtype=float64).\n",
      "Pickling array (shape=(10238,), dtype=int32).\n",
      "Pickling array (shape=(7166,), dtype=int32).\n",
      "Pickling array (shape=(3072,), dtype=int32).\n",
      "[Parallel(n_jobs=4)]: Done   8 tasks      | elapsed:    0.3s\n",
      "Pickling array (shape=(10238, 12), dtype=float64).\n",
      "Pickling array (shape=(10238,), dtype=int32).\n",
      "Pickling array (shape=(7166,), dtype=int32).\n",
      "Pickling array (shape=(3072,), dtype=int32).\n",
      "[Parallel(n_jobs=4)]: Done   9 tasks      | elapsed:    0.3s\n",
      "Pickling array (shape=(10238, 12), dtype=float64).\n",
      "Pickling array (shape=(10238,), dtype=int32).\n",
      "Pickling array (shape=(7166,), dtype=int32).\n",
      "Pickling array (shape=(3072,), dtype=int32).\n",
      "[Parallel(n_jobs=4)]: Done  11 tasks      | elapsed:    0.4s\n",
      "Pickling array (shape=(10238, 12), dtype=float64).\n",
      "Pickling array (shape=(10238,), dtype=int32).\n",
      "Pickling array (shape=(7166,), dtype=int32).\n",
      "Pickling array (shape=(3072,), dtype=int32).\n",
      "[Parallel(n_jobs=4)]: Done  13 out of  24 | elapsed:    0.5s remaining:    0.4s\n",
      "Pickling array (shape=(10238, 12), dtype=float64).\n",
      "Pickling array (shape=(10238,), dtype=int32).\n",
      "Pickling array (shape=(7166,), dtype=int32).\n",
      "Pickling array (shape=(3072,), dtype=int32).\n",
      "[Parallel(n_jobs=4)]: Done  14 out of  24 | elapsed:    0.6s remaining:    0.4s\n",
      "Pickling array (shape=(10238, 12), dtype=float64).\n",
      "Pickling array (shape=(10238,), dtype=int32).\n",
      "Pickling array (shape=(7166,), dtype=int32).\n",
      "Pickling array (shape=(3072,), dtype=int32).\n",
      "[Parallel(n_jobs=4)]: Done  16 out of  24 | elapsed:    0.7s remaining:    0.3s\n",
      "[Parallel(n_jobs=4)]: Done  18 out of  24 | elapsed:    0.8s remaining:    0.2s\n",
      "[Parallel(n_jobs=4)]: Done  20 out of  24 | elapsed:    1.1s remaining:    0.1s\n",
      "[Parallel(n_jobs=4)]: Done  22 out of  24 | elapsed:    1.2s remaining:    0.0s\n",
      "[Parallel(n_jobs=4)]: Done  24 out of  24 | elapsed:    1.5s remaining:    0.0s\n",
      "[Parallel(n_jobs=4)]: Done  24 out of  24 | elapsed:    1.5s finished\n"
     ]
    }
   ],
   "source": [
    "xg_model = xg_model.fit(X, y)"
   ]
  },
  {
   "cell_type": "code",
   "execution_count": 165,
   "metadata": {},
   "outputs": [
    {
     "output_type": "stream",
     "name": "stdout",
     "text": [
      "{'mean_fit_time': array([0.02099943, 0.04650021, 0.08100343, 0.34550047, 0.02450252,\n       0.07201338, 0.13000131, 0.52150226, 0.03300095, 0.12899923,\n       0.2385025 , 0.82899976, 0.02250051, 0.04699898, 0.08651376,\n       0.34200001, 0.02649951, 0.06149983, 0.11249924, 0.48849916,\n       0.02998972, 0.11750031, 0.17449927, 0.58299828]), 'std_fit_time': array([0., 0., 0., 0., 0., 0., 0., 0., 0., 0., 0., 0., 0., 0., 0., 0., 0.,\n       0., 0., 0., 0., 0., 0., 0.]), 'mean_score_time': array([0.00299931, 0.00399923, 0.00449824, 0.00600243, 0.00349903,\n       0.00398636, 0.00349689, 0.00699949, 0.00349951, 0.00400257,\n       0.00399899, 0.00600052, 0.00400043, 0.0040009 , 0.00248384,\n       0.00500131, 0.0035007 , 0.00450158, 0.00450277, 0.00551081,\n       0.00350046, 0.00499988, 0.00249958, 0.00600195]), 'std_score_time': array([0., 0., 0., 0., 0., 0., 0., 0., 0., 0., 0., 0., 0., 0., 0., 0., 0.,\n       0., 0., 0., 0., 0., 0., 0.]), 'param_learning_rate': masked_array(data=[0.1, 0.1, 0.1, 0.1, 0.1, 0.1, 0.1, 0.1, 0.1, 0.1, 0.1,\n                   0.1, 0.3, 0.3, 0.3, 0.3, 0.3, 0.3, 0.3, 0.3, 0.3, 0.3,\n                   0.3, 0.3],\n             mask=[False, False, False, False, False, False, False, False,\n                   False, False, False, False, False, False, False, False,\n                   False, False, False, False, False, False, False, False],\n       fill_value='?',\n            dtype=object), 'param_max_depth': masked_array(data=[4, 4, 4, 4, 6, 6, 6, 6, 10, 10, 10, 10, 4, 4, 4, 4, 6,\n                   6, 6, 6, 10, 10, 10, 10],\n             mask=[False, False, False, False, False, False, False, False,\n                   False, False, False, False, False, False, False, False,\n                   False, False, False, False, False, False, False, False],\n       fill_value='?',\n            dtype=object), 'param_n_estimators': masked_array(data=[1, 5, 10, 50, 1, 5, 10, 50, 1, 5, 10, 50, 1, 5, 10, 50,\n                   1, 5, 10, 50, 1, 5, 10, 50],\n             mask=[False, False, False, False, False, False, False, False,\n                   False, False, False, False, False, False, False, False,\n                   False, False, False, False, False, False, False, False],\n       fill_value='?',\n            dtype=object), 'params': [{'learning_rate': 0.1, 'max_depth': 4, 'n_estimators': 1}, {'learning_rate': 0.1, 'max_depth': 4, 'n_estimators': 5}, {'learning_rate': 0.1, 'max_depth': 4, 'n_estimators': 10}, {'learning_rate': 0.1, 'max_depth': 4, 'n_estimators': 50}, {'learning_rate': 0.1, 'max_depth': 6, 'n_estimators': 1}, {'learning_rate': 0.1, 'max_depth': 6, 'n_estimators': 5}, {'learning_rate': 0.1, 'max_depth': 6, 'n_estimators': 10}, {'learning_rate': 0.1, 'max_depth': 6, 'n_estimators': 50}, {'learning_rate': 0.1, 'max_depth': 10, 'n_estimators': 1}, {'learning_rate': 0.1, 'max_depth': 10, 'n_estimators': 5}, {'learning_rate': 0.1, 'max_depth': 10, 'n_estimators': 10}, {'learning_rate': 0.1, 'max_depth': 10, 'n_estimators': 50}, {'learning_rate': 0.3, 'max_depth': 4, 'n_estimators': 1}, {'learning_rate': 0.3, 'max_depth': 4, 'n_estimators': 5}, {'learning_rate': 0.3, 'max_depth': 4, 'n_estimators': 10}, {'learning_rate': 0.3, 'max_depth': 4, 'n_estimators': 50}, {'learning_rate': 0.3, 'max_depth': 6, 'n_estimators': 1}, {'learning_rate': 0.3, 'max_depth': 6, 'n_estimators': 5}, {'learning_rate': 0.3, 'max_depth': 6, 'n_estimators': 10}, {'learning_rate': 0.3, 'max_depth': 6, 'n_estimators': 50}, {'learning_rate': 0.3, 'max_depth': 10, 'n_estimators': 1}, {'learning_rate': 0.3, 'max_depth': 10, 'n_estimators': 5}, {'learning_rate': 0.3, 'max_depth': 10, 'n_estimators': 10}, {'learning_rate': 0.3, 'max_depth': 10, 'n_estimators': 50}], 'split0_test_score': array([0.54980469, 0.56380208, 0.57486979, 0.57389323, 0.5485026 ,\n       0.55794271, 0.56510417, 0.57063802, 0.55371094, 0.55403646,\n       0.56575521, 0.56998698, 0.54980469, 0.57486979, 0.58138021,\n       0.57584635, 0.5485026 , 0.56054688, 0.55924479, 0.56445312,\n       0.55371094, 0.56640625, 0.57161458, 0.56119792]), 'mean_test_score': array([0.54980469, 0.56380208, 0.57486979, 0.57389323, 0.5485026 ,\n       0.55794271, 0.56510417, 0.57063802, 0.55371094, 0.55403646,\n       0.56575521, 0.56998698, 0.54980469, 0.57486979, 0.58138021,\n       0.57584635, 0.5485026 , 0.56054688, 0.55924479, 0.56445312,\n       0.55371094, 0.56640625, 0.57161458, 0.56119792]), 'std_test_score': array([0., 0., 0., 0., 0., 0., 0., 0., 0., 0., 0., 0., 0., 0., 0., 0., 0.,\n       0., 0., 0., 0., 0., 0., 0.]), 'rank_test_score': array([21, 13,  3,  5, 23, 17, 11,  7, 19, 18, 10,  8, 21,  3,  1,  2, 23,\n       15, 16, 12, 19,  9,  6, 14]), 'split0_train_score': array([0.58372872, 0.59140385, 0.60521909, 0.64094334, 0.60591683,\n       0.63117499, 0.65531677, 0.73513815, 0.69201786, 0.76304773,\n       0.81509908, 0.93008652, 0.58372872, 0.61010327, 0.62140664,\n       0.72188111, 0.60591683, 0.6603405 , 0.68643595, 0.84398549,\n       0.69201786, 0.7775607 , 0.85375384, 0.98255652]), 'mean_train_score': array([0.58372872, 0.59140385, 0.60521909, 0.64094334, 0.60591683,\n       0.63117499, 0.65531677, 0.73513815, 0.69201786, 0.76304773,\n       0.81509908, 0.93008652, 0.58372872, 0.61010327, 0.62140664,\n       0.72188111, 0.60591683, 0.6603405 , 0.68643595, 0.84398549,\n       0.69201786, 0.7775607 , 0.85375384, 0.98255652]), 'std_train_score': array([0., 0., 0., 0., 0., 0., 0., 0., 0., 0., 0., 0., 0., 0., 0., 0., 0.,\n       0., 0., 0., 0., 0., 0., 0.])}\n"
     ]
    }
   ],
   "source": [
    "print(xg_model.cv_results_)"
   ]
  },
  {
   "cell_type": "code",
   "execution_count": 167,
   "metadata": {},
   "outputs": [
    {
     "output_type": "execute_result",
     "data": {
      "text/plain": [
       "    Rank  learning_rate  max_depth  n_estimators  Accuracy  Fit Time\n",
       "0     21            0.1          4             1  0.549805  0.020999\n",
       "1     13            0.1          4             5  0.563802  0.046500\n",
       "2      3            0.1          4            10  0.574870  0.081003\n",
       "3      5            0.1          4            50  0.573893  0.345500\n",
       "4     23            0.1          6             1  0.548503  0.024503\n",
       "5     17            0.1          6             5  0.557943  0.072013\n",
       "6     11            0.1          6            10  0.565104  0.130001\n",
       "7      7            0.1          6            50  0.570638  0.521502\n",
       "8     19            0.1         10             1  0.553711  0.033001\n",
       "9     18            0.1         10             5  0.554036  0.128999\n",
       "10    10            0.1         10            10  0.565755  0.238503\n",
       "11     8            0.1         10            50  0.569987  0.829000\n",
       "12    21            0.3          4             1  0.549805  0.022501\n",
       "13     3            0.3          4             5  0.574870  0.046999\n",
       "14     1            0.3          4            10  0.581380  0.086514\n",
       "15     2            0.3          4            50  0.575846  0.342000\n",
       "16    23            0.3          6             1  0.548503  0.026500\n",
       "17    15            0.3          6             5  0.560547  0.061500\n",
       "18    16            0.3          6            10  0.559245  0.112499\n",
       "19    12            0.3          6            50  0.564453  0.488499\n",
       "20    19            0.3         10             1  0.553711  0.029990\n",
       "21     9            0.3         10             5  0.566406  0.117500\n",
       "22     6            0.3         10            10  0.571615  0.174499\n",
       "23    14            0.3         10            50  0.561198  0.582998"
      ],
      "text/html": "<div>\n<style scoped>\n    .dataframe tbody tr th:only-of-type {\n        vertical-align: middle;\n    }\n\n    .dataframe tbody tr th {\n        vertical-align: top;\n    }\n\n    .dataframe thead th {\n        text-align: right;\n    }\n</style>\n<table border=\"1\" class=\"dataframe\">\n  <thead>\n    <tr style=\"text-align: right;\">\n      <th></th>\n      <th>Rank</th>\n      <th>learning_rate</th>\n      <th>max_depth</th>\n      <th>n_estimators</th>\n      <th>Accuracy</th>\n      <th>Fit Time</th>\n    </tr>\n  </thead>\n  <tbody>\n    <tr>\n      <th>0</th>\n      <td>21</td>\n      <td>0.1</td>\n      <td>4</td>\n      <td>1</td>\n      <td>0.549805</td>\n      <td>0.020999</td>\n    </tr>\n    <tr>\n      <th>1</th>\n      <td>13</td>\n      <td>0.1</td>\n      <td>4</td>\n      <td>5</td>\n      <td>0.563802</td>\n      <td>0.046500</td>\n    </tr>\n    <tr>\n      <th>2</th>\n      <td>3</td>\n      <td>0.1</td>\n      <td>4</td>\n      <td>10</td>\n      <td>0.574870</td>\n      <td>0.081003</td>\n    </tr>\n    <tr>\n      <th>3</th>\n      <td>5</td>\n      <td>0.1</td>\n      <td>4</td>\n      <td>50</td>\n      <td>0.573893</td>\n      <td>0.345500</td>\n    </tr>\n    <tr>\n      <th>4</th>\n      <td>23</td>\n      <td>0.1</td>\n      <td>6</td>\n      <td>1</td>\n      <td>0.548503</td>\n      <td>0.024503</td>\n    </tr>\n    <tr>\n      <th>5</th>\n      <td>17</td>\n      <td>0.1</td>\n      <td>6</td>\n      <td>5</td>\n      <td>0.557943</td>\n      <td>0.072013</td>\n    </tr>\n    <tr>\n      <th>6</th>\n      <td>11</td>\n      <td>0.1</td>\n      <td>6</td>\n      <td>10</td>\n      <td>0.565104</td>\n      <td>0.130001</td>\n    </tr>\n    <tr>\n      <th>7</th>\n      <td>7</td>\n      <td>0.1</td>\n      <td>6</td>\n      <td>50</td>\n      <td>0.570638</td>\n      <td>0.521502</td>\n    </tr>\n    <tr>\n      <th>8</th>\n      <td>19</td>\n      <td>0.1</td>\n      <td>10</td>\n      <td>1</td>\n      <td>0.553711</td>\n      <td>0.033001</td>\n    </tr>\n    <tr>\n      <th>9</th>\n      <td>18</td>\n      <td>0.1</td>\n      <td>10</td>\n      <td>5</td>\n      <td>0.554036</td>\n      <td>0.128999</td>\n    </tr>\n    <tr>\n      <th>10</th>\n      <td>10</td>\n      <td>0.1</td>\n      <td>10</td>\n      <td>10</td>\n      <td>0.565755</td>\n      <td>0.238503</td>\n    </tr>\n    <tr>\n      <th>11</th>\n      <td>8</td>\n      <td>0.1</td>\n      <td>10</td>\n      <td>50</td>\n      <td>0.569987</td>\n      <td>0.829000</td>\n    </tr>\n    <tr>\n      <th>12</th>\n      <td>21</td>\n      <td>0.3</td>\n      <td>4</td>\n      <td>1</td>\n      <td>0.549805</td>\n      <td>0.022501</td>\n    </tr>\n    <tr>\n      <th>13</th>\n      <td>3</td>\n      <td>0.3</td>\n      <td>4</td>\n      <td>5</td>\n      <td>0.574870</td>\n      <td>0.046999</td>\n    </tr>\n    <tr>\n      <th>14</th>\n      <td>1</td>\n      <td>0.3</td>\n      <td>4</td>\n      <td>10</td>\n      <td>0.581380</td>\n      <td>0.086514</td>\n    </tr>\n    <tr>\n      <th>15</th>\n      <td>2</td>\n      <td>0.3</td>\n      <td>4</td>\n      <td>50</td>\n      <td>0.575846</td>\n      <td>0.342000</td>\n    </tr>\n    <tr>\n      <th>16</th>\n      <td>23</td>\n      <td>0.3</td>\n      <td>6</td>\n      <td>1</td>\n      <td>0.548503</td>\n      <td>0.026500</td>\n    </tr>\n    <tr>\n      <th>17</th>\n      <td>15</td>\n      <td>0.3</td>\n      <td>6</td>\n      <td>5</td>\n      <td>0.560547</td>\n      <td>0.061500</td>\n    </tr>\n    <tr>\n      <th>18</th>\n      <td>16</td>\n      <td>0.3</td>\n      <td>6</td>\n      <td>10</td>\n      <td>0.559245</td>\n      <td>0.112499</td>\n    </tr>\n    <tr>\n      <th>19</th>\n      <td>12</td>\n      <td>0.3</td>\n      <td>6</td>\n      <td>50</td>\n      <td>0.564453</td>\n      <td>0.488499</td>\n    </tr>\n    <tr>\n      <th>20</th>\n      <td>19</td>\n      <td>0.3</td>\n      <td>10</td>\n      <td>1</td>\n      <td>0.553711</td>\n      <td>0.029990</td>\n    </tr>\n    <tr>\n      <th>21</th>\n      <td>9</td>\n      <td>0.3</td>\n      <td>10</td>\n      <td>5</td>\n      <td>0.566406</td>\n      <td>0.117500</td>\n    </tr>\n    <tr>\n      <th>22</th>\n      <td>6</td>\n      <td>0.3</td>\n      <td>10</td>\n      <td>10</td>\n      <td>0.571615</td>\n      <td>0.174499</td>\n    </tr>\n    <tr>\n      <th>23</th>\n      <td>14</td>\n      <td>0.3</td>\n      <td>10</td>\n      <td>50</td>\n      <td>0.561198</td>\n      <td>0.582998</td>\n    </tr>\n  </tbody>\n</table>\n</div>"
     },
     "metadata": {},
     "execution_count": 167
    }
   ],
   "source": [
    "pd.concat([pd.DataFrame(xg_model.cv_results_[\"rank_test_score\"], columns=[\"Rank\"]), pd.DataFrame(xg_model.cv_results_[\"params\"]),pd.DataFrame(xg_model.cv_results_[\"mean_test_score\"], columns=[\"Accuracy\"]),pd.DataFrame(xg_model.cv_results_[\"mean_fit_time\"], columns=[\"Fit Time\"])],axis=1)\n",
    "\n",
    "\n"
   ]
  },
  {
   "cell_type": "code",
   "execution_count": 168,
   "metadata": {},
   "outputs": [
    {
     "output_type": "execute_result",
     "data": {
      "text/plain": [
       "    Rank  learning_rate  max_depth  n_estimators  Accuracy  Train Score\n",
       "0     21            0.1          4             1  0.549805     0.583729\n",
       "1     13            0.1          4             5  0.563802     0.591404\n",
       "2      3            0.1          4            10  0.574870     0.605219\n",
       "3      5            0.1          4            50  0.573893     0.640943\n",
       "4     23            0.1          6             1  0.548503     0.605917\n",
       "5     17            0.1          6             5  0.557943     0.631175\n",
       "6     11            0.1          6            10  0.565104     0.655317\n",
       "7      7            0.1          6            50  0.570638     0.735138\n",
       "8     19            0.1         10             1  0.553711     0.692018\n",
       "9     18            0.1         10             5  0.554036     0.763048\n",
       "10    10            0.1         10            10  0.565755     0.815099\n",
       "11     8            0.1         10            50  0.569987     0.930087\n",
       "12    21            0.3          4             1  0.549805     0.583729\n",
       "13     3            0.3          4             5  0.574870     0.610103\n",
       "14     1            0.3          4            10  0.581380     0.621407\n",
       "15     2            0.3          4            50  0.575846     0.721881\n",
       "16    23            0.3          6             1  0.548503     0.605917\n",
       "17    15            0.3          6             5  0.560547     0.660340\n",
       "18    16            0.3          6            10  0.559245     0.686436\n",
       "19    12            0.3          6            50  0.564453     0.843985\n",
       "20    19            0.3         10             1  0.553711     0.692018\n",
       "21     9            0.3         10             5  0.566406     0.777561\n",
       "22     6            0.3         10            10  0.571615     0.853754\n",
       "23    14            0.3         10            50  0.561198     0.982557"
      ],
      "text/html": "<div>\n<style scoped>\n    .dataframe tbody tr th:only-of-type {\n        vertical-align: middle;\n    }\n\n    .dataframe tbody tr th {\n        vertical-align: top;\n    }\n\n    .dataframe thead th {\n        text-align: right;\n    }\n</style>\n<table border=\"1\" class=\"dataframe\">\n  <thead>\n    <tr style=\"text-align: right;\">\n      <th></th>\n      <th>Rank</th>\n      <th>learning_rate</th>\n      <th>max_depth</th>\n      <th>n_estimators</th>\n      <th>Accuracy</th>\n      <th>Train Score</th>\n    </tr>\n  </thead>\n  <tbody>\n    <tr>\n      <th>0</th>\n      <td>21</td>\n      <td>0.1</td>\n      <td>4</td>\n      <td>1</td>\n      <td>0.549805</td>\n      <td>0.583729</td>\n    </tr>\n    <tr>\n      <th>1</th>\n      <td>13</td>\n      <td>0.1</td>\n      <td>4</td>\n      <td>5</td>\n      <td>0.563802</td>\n      <td>0.591404</td>\n    </tr>\n    <tr>\n      <th>2</th>\n      <td>3</td>\n      <td>0.1</td>\n      <td>4</td>\n      <td>10</td>\n      <td>0.574870</td>\n      <td>0.605219</td>\n    </tr>\n    <tr>\n      <th>3</th>\n      <td>5</td>\n      <td>0.1</td>\n      <td>4</td>\n      <td>50</td>\n      <td>0.573893</td>\n      <td>0.640943</td>\n    </tr>\n    <tr>\n      <th>4</th>\n      <td>23</td>\n      <td>0.1</td>\n      <td>6</td>\n      <td>1</td>\n      <td>0.548503</td>\n      <td>0.605917</td>\n    </tr>\n    <tr>\n      <th>5</th>\n      <td>17</td>\n      <td>0.1</td>\n      <td>6</td>\n      <td>5</td>\n      <td>0.557943</td>\n      <td>0.631175</td>\n    </tr>\n    <tr>\n      <th>6</th>\n      <td>11</td>\n      <td>0.1</td>\n      <td>6</td>\n      <td>10</td>\n      <td>0.565104</td>\n      <td>0.655317</td>\n    </tr>\n    <tr>\n      <th>7</th>\n      <td>7</td>\n      <td>0.1</td>\n      <td>6</td>\n      <td>50</td>\n      <td>0.570638</td>\n      <td>0.735138</td>\n    </tr>\n    <tr>\n      <th>8</th>\n      <td>19</td>\n      <td>0.1</td>\n      <td>10</td>\n      <td>1</td>\n      <td>0.553711</td>\n      <td>0.692018</td>\n    </tr>\n    <tr>\n      <th>9</th>\n      <td>18</td>\n      <td>0.1</td>\n      <td>10</td>\n      <td>5</td>\n      <td>0.554036</td>\n      <td>0.763048</td>\n    </tr>\n    <tr>\n      <th>10</th>\n      <td>10</td>\n      <td>0.1</td>\n      <td>10</td>\n      <td>10</td>\n      <td>0.565755</td>\n      <td>0.815099</td>\n    </tr>\n    <tr>\n      <th>11</th>\n      <td>8</td>\n      <td>0.1</td>\n      <td>10</td>\n      <td>50</td>\n      <td>0.569987</td>\n      <td>0.930087</td>\n    </tr>\n    <tr>\n      <th>12</th>\n      <td>21</td>\n      <td>0.3</td>\n      <td>4</td>\n      <td>1</td>\n      <td>0.549805</td>\n      <td>0.583729</td>\n    </tr>\n    <tr>\n      <th>13</th>\n      <td>3</td>\n      <td>0.3</td>\n      <td>4</td>\n      <td>5</td>\n      <td>0.574870</td>\n      <td>0.610103</td>\n    </tr>\n    <tr>\n      <th>14</th>\n      <td>1</td>\n      <td>0.3</td>\n      <td>4</td>\n      <td>10</td>\n      <td>0.581380</td>\n      <td>0.621407</td>\n    </tr>\n    <tr>\n      <th>15</th>\n      <td>2</td>\n      <td>0.3</td>\n      <td>4</td>\n      <td>50</td>\n      <td>0.575846</td>\n      <td>0.721881</td>\n    </tr>\n    <tr>\n      <th>16</th>\n      <td>23</td>\n      <td>0.3</td>\n      <td>6</td>\n      <td>1</td>\n      <td>0.548503</td>\n      <td>0.605917</td>\n    </tr>\n    <tr>\n      <th>17</th>\n      <td>15</td>\n      <td>0.3</td>\n      <td>6</td>\n      <td>5</td>\n      <td>0.560547</td>\n      <td>0.660340</td>\n    </tr>\n    <tr>\n      <th>18</th>\n      <td>16</td>\n      <td>0.3</td>\n      <td>6</td>\n      <td>10</td>\n      <td>0.559245</td>\n      <td>0.686436</td>\n    </tr>\n    <tr>\n      <th>19</th>\n      <td>12</td>\n      <td>0.3</td>\n      <td>6</td>\n      <td>50</td>\n      <td>0.564453</td>\n      <td>0.843985</td>\n    </tr>\n    <tr>\n      <th>20</th>\n      <td>19</td>\n      <td>0.3</td>\n      <td>10</td>\n      <td>1</td>\n      <td>0.553711</td>\n      <td>0.692018</td>\n    </tr>\n    <tr>\n      <th>21</th>\n      <td>9</td>\n      <td>0.3</td>\n      <td>10</td>\n      <td>5</td>\n      <td>0.566406</td>\n      <td>0.777561</td>\n    </tr>\n    <tr>\n      <th>22</th>\n      <td>6</td>\n      <td>0.3</td>\n      <td>10</td>\n      <td>10</td>\n      <td>0.571615</td>\n      <td>0.853754</td>\n    </tr>\n    <tr>\n      <th>23</th>\n      <td>14</td>\n      <td>0.3</td>\n      <td>10</td>\n      <td>50</td>\n      <td>0.561198</td>\n      <td>0.982557</td>\n    </tr>\n  </tbody>\n</table>\n</div>"
     },
     "metadata": {},
     "execution_count": 168
    }
   ],
   "source": [
    "pd.concat([pd.DataFrame(xg_model.cv_results_[\"rank_test_score\"], columns=[\"Rank\"]), pd.DataFrame(xg_model.cv_results_[\"params\"]),pd.DataFrame(xg_model.cv_results_[\"mean_test_score\"], columns=[\"Accuracy\"]),pd.DataFrame(xg_model.cv_results_[\"mean_train_score\"], columns=[\"Train Score\"])],axis=1)"
   ]
  },
  {
   "cell_type": "code",
   "execution_count": 166,
   "metadata": {},
   "outputs": [
    {
     "output_type": "execute_result",
     "data": {
      "text/plain": [
       "['local_xg_70p_64_cm.pkl']"
      ]
     },
     "metadata": {},
     "execution_count": 166
    }
   ],
   "source": [
    "dump(xg_model, 'local_xg_{}_{}_cm.pkl'.format('70p', 64))"
   ]
  },
  {
   "cell_type": "code",
   "execution_count": null,
   "metadata": {},
   "outputs": [],
   "source": []
  },
  {
   "cell_type": "code",
   "execution_count": 169,
   "metadata": {},
   "outputs": [],
   "source": [
    "all_features_train = pd.concat([glcm_data_train, color_moment_data_train],  axis=1, sort=False)\n",
    "all_features_test = pd.concat([glcm_data_test, color_moment_data_test],  axis=1, sort=False)"
   ]
  },
  {
   "cell_type": "code",
   "execution_count": 170,
   "metadata": {},
   "outputs": [],
   "source": [
    "# Eksperimen dengan seluruh data\n",
    "test_fold = np.concatenate([\n",
    "    # The training data.\n",
    "    np.full(len(all_features_train), -1, dtype=np.int8),\n",
    "    # The development data.\n",
    "    np.zeros(len(all_features_test), dtype=np.int8)\n",
    "])\n",
    "\n",
    "cv = PredefinedSplit(test_fold)\n",
    "\n",
    "X = np.concatenate([all_features_train, all_features_test])\n",
    "y = np.concatenate([y_train, y_test])"
   ]
  },
  {
   "cell_type": "code",
   "execution_count": 171,
   "metadata": {},
   "outputs": [],
   "source": [
    "base = DecisionTreeClassifier()\n",
    "grid = {\n",
    "\"max_depth\" : [10, 100, 1000],\n",
    "\"criterion\" : [\"gini\", \"entropy\"]\n",
    "}\n",
    "model = GridSearchCV(base, grid, cv=cv,n_jobs=4, verbose=100, return_train_score = True)"
   ]
  },
  {
   "cell_type": "code",
   "execution_count": 172,
   "metadata": {},
   "outputs": [
    {
     "output_type": "stream",
     "name": "stdout",
     "text": [
      "Fitting 1 folds for each of 6 candidates, totalling 6 fits\n[Parallel(n_jobs=4)]: Using backend LokyBackend with 4 concurrent workers.\nPickling array (shape=(10238, 18), dtype=int8).\nPickling array (shape=(10238,), dtype=int32).\nPickling array (shape=(7166,), dtype=int32).\nPickling array (shape=(3072,), dtype=int32).\nPickling array (shape=(10238, 18), dtype=int8).\nPickling array (shape=(10238,), dtype=int32).\nPickling array (shape=(7166,), dtype=int32).\nPickling array (shape=(3072,), dtype=int32).\nPickling array (shape=(10238, 18), dtype=int8).\nPickling array (shape=(10238,), dtype=int32).\nPickling array (shape=(7166,), dtype=int32).\nPickling array (shape=(3072,), dtype=int32).\nPickling array (shape=(10238, 18), dtype=int8).\nPickling array (shape=(10238,), dtype=int32).\nPickling array (shape=(7166,), dtype=int32).\nPickling array (shape=(3072,), dtype=int32).\nPickling array (shape=(10238, 18), dtype=int8).\nPickling array (shape=(10238,), dtype=int32).\nPickling array (shape=(7166,), dtype=int32).\nPickling array (shape=(3072,), dtype=int32).\n[Parallel(n_jobs=4)]: Done   1 tasks      | elapsed:    0.0s\n[Parallel(n_jobs=4)]: Batch computation too fast (0.0570s.) Setting batch_size=2.\nPickling array (shape=(10238, 18), dtype=int8).\nPickling array (shape=(10238,), dtype=int32).\nPickling array (shape=(7166,), dtype=int32).\nPickling array (shape=(3072,), dtype=int32).\n[Parallel(n_jobs=4)]: Done   2 out of   6 | elapsed:    0.0s remaining:    0.1s\n[Parallel(n_jobs=4)]: Done   3 out of   6 | elapsed:    0.0s remaining:    0.0s\n[Parallel(n_jobs=4)]: Done   4 out of   6 | elapsed:    0.0s remaining:    0.0s\n[Parallel(n_jobs=4)]: Done   6 out of   6 | elapsed:    0.1s remaining:    0.0s\n[Parallel(n_jobs=4)]: Done   6 out of   6 | elapsed:    0.1s finished\n"
     ]
    }
   ],
   "source": [
    "dtl_X = np.nan_to_num(X)\n",
    "model = model.fit(dtl_X.astype(np.int8),y)"
   ]
  },
  {
   "cell_type": "code",
   "execution_count": 173,
   "metadata": {},
   "outputs": [
    {
     "output_type": "stream",
     "name": "stdout",
     "text": [
      "{'mean_fit_time': array([0.04944849, 0.07149673, 0.07653236, 0.06499624, 0.10202837,\n       0.0969975 ]), 'std_fit_time': array([0., 0., 0., 0., 0., 0.]), 'mean_score_time': array([0.00099635, 0.00099969, 0.00100112, 0.00049996, 0.00097227,\n       0.00102401]), 'std_score_time': array([0., 0., 0., 0., 0., 0.]), 'param_criterion': masked_array(data=['gini', 'gini', 'gini', 'entropy', 'entropy',\n                   'entropy'],\n             mask=[False, False, False, False, False, False],\n       fill_value='?',\n            dtype=object), 'param_max_depth': masked_array(data=[10, 100, 1000, 10, 100, 1000],\n             mask=[False, False, False, False, False, False],\n       fill_value='?',\n            dtype=object), 'params': [{'criterion': 'gini', 'max_depth': 10}, {'criterion': 'gini', 'max_depth': 100}, {'criterion': 'gini', 'max_depth': 1000}, {'criterion': 'entropy', 'max_depth': 10}, {'criterion': 'entropy', 'max_depth': 100}, {'criterion': 'entropy', 'max_depth': 1000}], 'split0_test_score': array([0.56445312, 0.53450521, 0.52832031, 0.5686849 , 0.53092448,\n       0.53548177]), 'mean_test_score': array([0.56445312, 0.53450521, 0.52832031, 0.5686849 , 0.53092448,\n       0.53548177]), 'std_test_score': array([0., 0., 0., 0., 0., 0.]), 'rank_test_score': array([2, 4, 6, 1, 5, 3]), 'split0_train_score': array([0.72188111, 1.        , 1.        , 0.70164666, 1.        ,\n       1.        ]), 'mean_train_score': array([0.72188111, 1.        , 1.        , 0.70164666, 1.        ,\n       1.        ]), 'std_train_score': array([0., 0., 0., 0., 0., 0.])}\n"
     ]
    }
   ],
   "source": [
    "print(model.cv_results_)"
   ]
  },
  {
   "cell_type": "code",
   "execution_count": 174,
   "metadata": {},
   "outputs": [
    {
     "output_type": "execute_result",
     "data": {
      "text/plain": [
       "   Rank criterion  max_depth  Accuracy  Fit Time\n",
       "0     2      gini         10  0.564453  0.049448\n",
       "1     4      gini        100  0.534505  0.071497\n",
       "2     6      gini       1000  0.528320  0.076532\n",
       "3     1   entropy         10  0.568685  0.064996\n",
       "4     5   entropy        100  0.530924  0.102028\n",
       "5     3   entropy       1000  0.535482  0.096997"
      ],
      "text/html": "<div>\n<style scoped>\n    .dataframe tbody tr th:only-of-type {\n        vertical-align: middle;\n    }\n\n    .dataframe tbody tr th {\n        vertical-align: top;\n    }\n\n    .dataframe thead th {\n        text-align: right;\n    }\n</style>\n<table border=\"1\" class=\"dataframe\">\n  <thead>\n    <tr style=\"text-align: right;\">\n      <th></th>\n      <th>Rank</th>\n      <th>criterion</th>\n      <th>max_depth</th>\n      <th>Accuracy</th>\n      <th>Fit Time</th>\n    </tr>\n  </thead>\n  <tbody>\n    <tr>\n      <th>0</th>\n      <td>2</td>\n      <td>gini</td>\n      <td>10</td>\n      <td>0.564453</td>\n      <td>0.049448</td>\n    </tr>\n    <tr>\n      <th>1</th>\n      <td>4</td>\n      <td>gini</td>\n      <td>100</td>\n      <td>0.534505</td>\n      <td>0.071497</td>\n    </tr>\n    <tr>\n      <th>2</th>\n      <td>6</td>\n      <td>gini</td>\n      <td>1000</td>\n      <td>0.528320</td>\n      <td>0.076532</td>\n    </tr>\n    <tr>\n      <th>3</th>\n      <td>1</td>\n      <td>entropy</td>\n      <td>10</td>\n      <td>0.568685</td>\n      <td>0.064996</td>\n    </tr>\n    <tr>\n      <th>4</th>\n      <td>5</td>\n      <td>entropy</td>\n      <td>100</td>\n      <td>0.530924</td>\n      <td>0.102028</td>\n    </tr>\n    <tr>\n      <th>5</th>\n      <td>3</td>\n      <td>entropy</td>\n      <td>1000</td>\n      <td>0.535482</td>\n      <td>0.096997</td>\n    </tr>\n  </tbody>\n</table>\n</div>"
     },
     "metadata": {},
     "execution_count": 174
    }
   ],
   "source": [
    "pd.concat([pd.DataFrame(model.cv_results_[\"rank_test_score\"], columns=[\"Rank\"]), pd.DataFrame(model.cv_results_[\"params\"]),pd.DataFrame(model.cv_results_[\"mean_test_score\"], columns=[\"Accuracy\"]),pd.DataFrame(model.cv_results_[\"mean_fit_time\"], columns=[\"Fit Time\"])],axis=1)"
   ]
  },
  {
   "cell_type": "code",
   "execution_count": 175,
   "metadata": {},
   "outputs": [
    {
     "output_type": "execute_result",
     "data": {
      "text/plain": [
       "   Rank criterion  max_depth  Accuracy  Train Score\n",
       "0     2      gini         10  0.564453     0.721881\n",
       "1     4      gini        100  0.534505     1.000000\n",
       "2     6      gini       1000  0.528320     1.000000\n",
       "3     1   entropy         10  0.568685     0.701647\n",
       "4     5   entropy        100  0.530924     1.000000\n",
       "5     3   entropy       1000  0.535482     1.000000"
      ],
      "text/html": "<div>\n<style scoped>\n    .dataframe tbody tr th:only-of-type {\n        vertical-align: middle;\n    }\n\n    .dataframe tbody tr th {\n        vertical-align: top;\n    }\n\n    .dataframe thead th {\n        text-align: right;\n    }\n</style>\n<table border=\"1\" class=\"dataframe\">\n  <thead>\n    <tr style=\"text-align: right;\">\n      <th></th>\n      <th>Rank</th>\n      <th>criterion</th>\n      <th>max_depth</th>\n      <th>Accuracy</th>\n      <th>Train Score</th>\n    </tr>\n  </thead>\n  <tbody>\n    <tr>\n      <th>0</th>\n      <td>2</td>\n      <td>gini</td>\n      <td>10</td>\n      <td>0.564453</td>\n      <td>0.721881</td>\n    </tr>\n    <tr>\n      <th>1</th>\n      <td>4</td>\n      <td>gini</td>\n      <td>100</td>\n      <td>0.534505</td>\n      <td>1.000000</td>\n    </tr>\n    <tr>\n      <th>2</th>\n      <td>6</td>\n      <td>gini</td>\n      <td>1000</td>\n      <td>0.528320</td>\n      <td>1.000000</td>\n    </tr>\n    <tr>\n      <th>3</th>\n      <td>1</td>\n      <td>entropy</td>\n      <td>10</td>\n      <td>0.568685</td>\n      <td>0.701647</td>\n    </tr>\n    <tr>\n      <th>4</th>\n      <td>5</td>\n      <td>entropy</td>\n      <td>100</td>\n      <td>0.530924</td>\n      <td>1.000000</td>\n    </tr>\n    <tr>\n      <th>5</th>\n      <td>3</td>\n      <td>entropy</td>\n      <td>1000</td>\n      <td>0.535482</td>\n      <td>1.000000</td>\n    </tr>\n  </tbody>\n</table>\n</div>"
     },
     "metadata": {},
     "execution_count": 175
    }
   ],
   "source": [
    "pd.concat([pd.DataFrame(model.cv_results_[\"rank_test_score\"], columns=[\"Rank\"]), pd.DataFrame(model.cv_results_[\"params\"]),pd.DataFrame(model.cv_results_[\"mean_test_score\"], columns=[\"Accuracy\"]),pd.DataFrame(model.cv_results_[\"mean_train_score\"], columns=[\"Train Score\"])],axis=1)"
   ]
  },
  {
   "cell_type": "code",
   "execution_count": 176,
   "metadata": {},
   "outputs": [
    {
     "output_type": "execute_result",
     "data": {
      "text/plain": [
       "['local_dtl_70p_64_all.pkl']"
      ]
     },
     "metadata": {},
     "execution_count": 176
    }
   ],
   "source": [
    "dump(model, 'local_dtl_{}_{}_all.pkl'.format('70p', 64))"
   ]
  },
  {
   "cell_type": "code",
   "execution_count": 177,
   "metadata": {},
   "outputs": [],
   "source": [
    "# Random Forest classifier\n",
    "rf_base = xgb.XGBRFClassifier()\n",
    "rf_grid = {\n",
    "\"max_depth\" : [4, 6, 10],\n",
    "\"learning_rate\" : [0.1, 0.3],\n",
    "\"n_estimators\" : [1, 5, 10, 50]\n",
    "}\n",
    "rf_model = GridSearchCV(rf_base, rf_grid, cv=cv,n_jobs=4, verbose=100, return_train_score = True)"
   ]
  },
  {
   "cell_type": "code",
   "execution_count": 178,
   "metadata": {},
   "outputs": [
    {
     "output_type": "stream",
     "name": "stdout",
     "text": [
      "Fitting 1 folds for each of 24 candidates, totalling 24 fits\n",
      "[Parallel(n_jobs=4)]: Using backend LokyBackend with 4 concurrent workers.\n",
      "Memmapping (shape=(10238, 18), dtype=float64) to new file C:\\Users\\glaci\\AppData\\Local\\Temp\\joblib_memmapping_folder_125832_5244594339\\125832-1865479779912-91be64cf792f4ddb9788e0d4b13b2c18.pkl\n",
      "Pickling array (shape=(10238,), dtype=int32).\n",
      "Pickling array (shape=(7166,), dtype=int32).\n",
      "Pickling array (shape=(3072,), dtype=int32).\n",
      "Memmapping (shape=(10238, 18), dtype=float64) to old file C:\\Users\\glaci\\AppData\\Local\\Temp\\joblib_memmapping_folder_125832_5244594339\\125832-1865479779912-91be64cf792f4ddb9788e0d4b13b2c18.pkl\n",
      "Pickling array (shape=(10238,), dtype=int32).\n",
      "Pickling array (shape=(7166,), dtype=int32).\n",
      "Pickling array (shape=(3072,), dtype=int32).\n",
      "Memmapping (shape=(10238, 18), dtype=float64) to old file C:\\Users\\glaci\\AppData\\Local\\Temp\\joblib_memmapping_folder_125832_5244594339\\125832-1865479779912-91be64cf792f4ddb9788e0d4b13b2c18.pkl\n",
      "Pickling array (shape=(10238,), dtype=int32).\n",
      "Pickling array (shape=(7166,), dtype=int32).\n",
      "Pickling array (shape=(3072,), dtype=int32).\n",
      "Memmapping (shape=(10238, 18), dtype=float64) to old file C:\\Users\\glaci\\AppData\\Local\\Temp\\joblib_memmapping_folder_125832_5244594339\\125832-1865479779912-91be64cf792f4ddb9788e0d4b13b2c18.pkl\n",
      "Pickling array (shape=(10238,), dtype=int32).\n",
      "Pickling array (shape=(7166,), dtype=int32).\n",
      "Pickling array (shape=(3072,), dtype=int32).\n",
      "Memmapping (shape=(10238, 18), dtype=float64) to old file C:\\Users\\glaci\\AppData\\Local\\Temp\\joblib_memmapping_folder_125832_5244594339\\125832-1865479779912-91be64cf792f4ddb9788e0d4b13b2c18.pkl\n",
      "Pickling array (shape=(10238,), dtype=int32).\n",
      "Pickling array (shape=(7166,), dtype=int32).\n",
      "Pickling array (shape=(3072,), dtype=int32).\n",
      "[Parallel(n_jobs=4)]: Done   1 tasks      | elapsed:    0.0s\n",
      "[Parallel(n_jobs=4)]: Batch computation too fast (0.0500s.) Setting batch_size=2.\n",
      "Memmapping (shape=(10238, 18), dtype=float64) to old file C:\\Users\\glaci\\AppData\\Local\\Temp\\joblib_memmapping_folder_125832_5244594339\\125832-1865479779912-91be64cf792f4ddb9788e0d4b13b2c18.pkl\n",
      "Pickling array (shape=(10238,), dtype=int32).\n",
      "Pickling array (shape=(7166,), dtype=int32).\n",
      "Pickling array (shape=(3072,), dtype=int32).\n",
      "[Parallel(n_jobs=4)]: Done   2 tasks      | elapsed:    0.0s\n",
      "Memmapping (shape=(10238, 18), dtype=float64) to old file C:\\Users\\glaci\\AppData\\Local\\Temp\\joblib_memmapping_folder_125832_5244594339\\125832-1865479779912-91be64cf792f4ddb9788e0d4b13b2c18.pkl\n",
      "Pickling array (shape=(10238,), dtype=int32).\n",
      "Pickling array (shape=(7166,), dtype=int32).\n",
      "Pickling array (shape=(3072,), dtype=int32).\n",
      "[Parallel(n_jobs=4)]: Done   3 tasks      | elapsed:    0.0s\n",
      "Memmapping (shape=(10238, 18), dtype=float64) to old file C:\\Users\\glaci\\AppData\\Local\\Temp\\joblib_memmapping_folder_125832_5244594339\\125832-1865479779912-91be64cf792f4ddb9788e0d4b13b2c18.pkl\n",
      "Pickling array (shape=(10238,), dtype=int32).\n",
      "Pickling array (shape=(7166,), dtype=int32).\n",
      "Pickling array (shape=(3072,), dtype=int32).\n",
      "[Parallel(n_jobs=4)]: Done   4 tasks      | elapsed:    0.0s\n",
      "Memmapping (shape=(10238, 18), dtype=float64) to old file C:\\Users\\glaci\\AppData\\Local\\Temp\\joblib_memmapping_folder_125832_5244594339\\125832-1865479779912-91be64cf792f4ddb9788e0d4b13b2c18.pkl\n",
      "Pickling array (shape=(10238,), dtype=int32).\n",
      "Pickling array (shape=(7166,), dtype=int32).\n",
      "Pickling array (shape=(3072,), dtype=int32).\n",
      "[Parallel(n_jobs=4)]: Done   5 tasks      | elapsed:    0.1s\n",
      "Memmapping (shape=(10238, 18), dtype=float64) to old file C:\\Users\\glaci\\AppData\\Local\\Temp\\joblib_memmapping_folder_125832_5244594339\\125832-1865479779912-91be64cf792f4ddb9788e0d4b13b2c18.pkl\n",
      "Pickling array (shape=(10238,), dtype=int32).\n",
      "Pickling array (shape=(7166,), dtype=int32).\n",
      "Pickling array (shape=(3072,), dtype=int32).\n",
      "[Parallel(n_jobs=4)]: Done   6 tasks      | elapsed:    0.1s\n",
      "Memmapping (shape=(10238, 18), dtype=float64) to old file C:\\Users\\glaci\\AppData\\Local\\Temp\\joblib_memmapping_folder_125832_5244594339\\125832-1865479779912-91be64cf792f4ddb9788e0d4b13b2c18.pkl\n",
      "Pickling array (shape=(10238,), dtype=int32).\n",
      "Pickling array (shape=(7166,), dtype=int32).\n",
      "Pickling array (shape=(3072,), dtype=int32).\n",
      "[Parallel(n_jobs=4)]: Done   7 tasks      | elapsed:    0.3s\n",
      "[Parallel(n_jobs=4)]: Done   9 tasks      | elapsed:    0.3s\n",
      "Memmapping (shape=(10238, 18), dtype=float64) to old file C:\\Users\\glaci\\AppData\\Local\\Temp\\joblib_memmapping_folder_125832_5244594339\\125832-1865479779912-91be64cf792f4ddb9788e0d4b13b2c18.pkl\n",
      "Pickling array (shape=(10238,), dtype=int32).\n",
      "Pickling array (shape=(7166,), dtype=int32).\n",
      "Pickling array (shape=(3072,), dtype=int32).\n",
      "Memmapping (shape=(10238, 18), dtype=float64) to old file C:\\Users\\glaci\\AppData\\Local\\Temp\\joblib_memmapping_folder_125832_5244594339\\125832-1865479779912-91be64cf792f4ddb9788e0d4b13b2c18.pkl\n",
      "Pickling array (shape=(10238,), dtype=int32).\n",
      "Pickling array (shape=(7166,), dtype=int32).\n",
      "Pickling array (shape=(3072,), dtype=int32).\n",
      "[Parallel(n_jobs=4)]: Done  11 tasks      | elapsed:    0.4s\n",
      "Memmapping (shape=(10238, 18), dtype=float64) to old file C:\\Users\\glaci\\AppData\\Local\\Temp\\joblib_memmapping_folder_125832_5244594339\\125832-1865479779912-91be64cf792f4ddb9788e0d4b13b2c18.pkl\n",
      "Pickling array (shape=(10238,), dtype=int32).\n",
      "Pickling array (shape=(7166,), dtype=int32).\n",
      "Pickling array (shape=(3072,), dtype=int32).\n",
      "[Parallel(n_jobs=4)]: Done  13 out of  24 | elapsed:    0.5s remaining:    0.4s\n",
      "Memmapping (shape=(10238, 18), dtype=float64) to old file C:\\Users\\glaci\\AppData\\Local\\Temp\\joblib_memmapping_folder_125832_5244594339\\125832-1865479779912-91be64cf792f4ddb9788e0d4b13b2c18.pkl\n",
      "Pickling array (shape=(10238,), dtype=int32).\n",
      "Pickling array (shape=(7166,), dtype=int32).\n",
      "Pickling array (shape=(3072,), dtype=int32).\n",
      "[Parallel(n_jobs=4)]: Done  14 out of  24 | elapsed:    0.6s remaining:    0.4s\n",
      "Memmapping (shape=(10238, 18), dtype=float64) to old file C:\\Users\\glaci\\AppData\\Local\\Temp\\joblib_memmapping_folder_125832_5244594339\\125832-1865479779912-91be64cf792f4ddb9788e0d4b13b2c18.pkl\n",
      "Pickling array (shape=(10238,), dtype=int32).\n",
      "Pickling array (shape=(7166,), dtype=int32).\n",
      "Pickling array (shape=(3072,), dtype=int32).\n",
      "[Parallel(n_jobs=4)]: Done  16 out of  24 | elapsed:    0.8s remaining:    0.3s\n",
      "[Parallel(n_jobs=4)]: Done  18 out of  24 | elapsed:    0.8s remaining:    0.2s\n",
      "[Parallel(n_jobs=4)]: Done  20 out of  24 | elapsed:    1.2s remaining:    0.2s\n",
      "[Parallel(n_jobs=4)]: Done  22 out of  24 | elapsed:    1.4s remaining:    0.0s\n",
      "[Parallel(n_jobs=4)]: Done  24 out of  24 | elapsed:    1.7s remaining:    0.0s\n",
      "[Parallel(n_jobs=4)]: Done  24 out of  24 | elapsed:    1.7s finished\n"
     ]
    }
   ],
   "source": [
    "rf_model = rf_model.fit(X, y)"
   ]
  },
  {
   "cell_type": "code",
   "execution_count": 179,
   "metadata": {},
   "outputs": [
    {
     "output_type": "stream",
     "name": "stdout",
     "text": [
      "{'mean_fit_time': array([0.02299786, 0.05299997, 0.08899808, 0.35449696, 0.02849793,\n       0.07150006, 0.12150145, 0.57100081, 0.04849935, 0.13200283,\n       0.23350024, 0.92349839, 0.02799964, 0.05499768, 0.08350205,\n       0.35649848, 0.03050065, 0.0830009 , 0.12549901, 0.53449821,\n       0.03899932, 0.13400197, 0.19750094, 0.68149853]), 'std_fit_time': array([0., 0., 0., 0., 0., 0., 0., 0., 0., 0., 0., 0., 0., 0., 0., 0., 0.,\n       0., 0., 0., 0., 0., 0., 0.]), 'mean_score_time': array([0.00400043, 0.00499821, 0.00399995, 0.00550175, 0.00400114,\n       0.00349927, 0.00449777, 0.00799918, 0.00300193, 0.00449705,\n       0.00500035, 0.01349807, 0.00349998, 0.00500393, 0.00599718,\n       0.00650048, 0.00350142, 0.00450087, 0.00450253, 0.00800014,\n       0.00500202, 0.00649858, 0.0049994 , 0.00849938]), 'std_score_time': array([0., 0., 0., 0., 0., 0., 0., 0., 0., 0., 0., 0., 0., 0., 0., 0., 0.,\n       0., 0., 0., 0., 0., 0., 0.]), 'param_learning_rate': masked_array(data=[0.1, 0.1, 0.1, 0.1, 0.1, 0.1, 0.1, 0.1, 0.1, 0.1, 0.1,\n                   0.1, 0.3, 0.3, 0.3, 0.3, 0.3, 0.3, 0.3, 0.3, 0.3, 0.3,\n                   0.3, 0.3],\n             mask=[False, False, False, False, False, False, False, False,\n                   False, False, False, False, False, False, False, False,\n                   False, False, False, False, False, False, False, False],\n       fill_value='?',\n            dtype=object), 'param_max_depth': masked_array(data=[4, 4, 4, 4, 6, 6, 6, 6, 10, 10, 10, 10, 4, 4, 4, 4, 6,\n                   6, 6, 6, 10, 10, 10, 10],\n             mask=[False, False, False, False, False, False, False, False,\n                   False, False, False, False, False, False, False, False,\n                   False, False, False, False, False, False, False, False],\n       fill_value='?',\n            dtype=object), 'param_n_estimators': masked_array(data=[1, 5, 10, 50, 1, 5, 10, 50, 1, 5, 10, 50, 1, 5, 10, 50,\n                   1, 5, 10, 50, 1, 5, 10, 50],\n             mask=[False, False, False, False, False, False, False, False,\n                   False, False, False, False, False, False, False, False,\n                   False, False, False, False, False, False, False, False],\n       fill_value='?',\n            dtype=object), 'params': [{'learning_rate': 0.1, 'max_depth': 4, 'n_estimators': 1}, {'learning_rate': 0.1, 'max_depth': 4, 'n_estimators': 5}, {'learning_rate': 0.1, 'max_depth': 4, 'n_estimators': 10}, {'learning_rate': 0.1, 'max_depth': 4, 'n_estimators': 50}, {'learning_rate': 0.1, 'max_depth': 6, 'n_estimators': 1}, {'learning_rate': 0.1, 'max_depth': 6, 'n_estimators': 5}, {'learning_rate': 0.1, 'max_depth': 6, 'n_estimators': 10}, {'learning_rate': 0.1, 'max_depth': 6, 'n_estimators': 50}, {'learning_rate': 0.1, 'max_depth': 10, 'n_estimators': 1}, {'learning_rate': 0.1, 'max_depth': 10, 'n_estimators': 5}, {'learning_rate': 0.1, 'max_depth': 10, 'n_estimators': 10}, {'learning_rate': 0.1, 'max_depth': 10, 'n_estimators': 50}, {'learning_rate': 0.3, 'max_depth': 4, 'n_estimators': 1}, {'learning_rate': 0.3, 'max_depth': 4, 'n_estimators': 5}, {'learning_rate': 0.3, 'max_depth': 4, 'n_estimators': 10}, {'learning_rate': 0.3, 'max_depth': 4, 'n_estimators': 50}, {'learning_rate': 0.3, 'max_depth': 6, 'n_estimators': 1}, {'learning_rate': 0.3, 'max_depth': 6, 'n_estimators': 5}, {'learning_rate': 0.3, 'max_depth': 6, 'n_estimators': 10}, {'learning_rate': 0.3, 'max_depth': 6, 'n_estimators': 50}, {'learning_rate': 0.3, 'max_depth': 10, 'n_estimators': 1}, {'learning_rate': 0.3, 'max_depth': 10, 'n_estimators': 5}, {'learning_rate': 0.3, 'max_depth': 10, 'n_estimators': 10}, {'learning_rate': 0.3, 'max_depth': 10, 'n_estimators': 50}], 'split0_test_score': array([0.57845052, 0.58561198, 0.58561198, 0.58984375, 0.56184896,\n       0.59895833, 0.59863281, 0.59960938, 0.55761719, 0.57389323,\n       0.57877604, 0.59602865, 0.57845052, 0.58561198, 0.58561198,\n       0.58984375, 0.56184896, 0.59895833, 0.59863281, 0.59960938,\n       0.55761719, 0.57389323, 0.57877604, 0.59602865]), 'mean_test_score': array([0.57845052, 0.58561198, 0.58561198, 0.58984375, 0.56184896,\n       0.59895833, 0.59863281, 0.59960938, 0.55761719, 0.57389323,\n       0.57877604, 0.59602865, 0.57845052, 0.58561198, 0.58561198,\n       0.58984375, 0.56184896, 0.59895833, 0.59863281, 0.59960938,\n       0.55761719, 0.57389323, 0.57877604, 0.59602865]), 'std_test_score': array([0., 0., 0., 0., 0., 0., 0., 0., 0., 0., 0., 0., 0., 0., 0., 0., 0.,\n       0., 0., 0., 0., 0., 0., 0.]), 'rank_test_score': array([17, 11, 11,  9, 21,  3,  5,  1, 23, 19, 15,  7, 17, 11, 11,  9, 21,\n        3,  5,  1, 23, 19, 15,  7]), 'split0_train_score': array([0.6046609 , 0.61694111, 0.61498744, 0.61735975, 0.61861569,\n       0.65754954, 0.66368965, 0.66941111, 0.68420318, 0.8072844 ,\n       0.8233324 , 0.85710299, 0.6046609 , 0.61694111, 0.61498744,\n       0.61735975, 0.61861569, 0.65754954, 0.66368965, 0.66941111,\n       0.68420318, 0.8072844 , 0.8233324 , 0.85710299]), 'mean_train_score': array([0.6046609 , 0.61694111, 0.61498744, 0.61735975, 0.61861569,\n       0.65754954, 0.66368965, 0.66941111, 0.68420318, 0.8072844 ,\n       0.8233324 , 0.85710299, 0.6046609 , 0.61694111, 0.61498744,\n       0.61735975, 0.61861569, 0.65754954, 0.66368965, 0.66941111,\n       0.68420318, 0.8072844 , 0.8233324 , 0.85710299]), 'std_train_score': array([0., 0., 0., 0., 0., 0., 0., 0., 0., 0., 0., 0., 0., 0., 0., 0., 0.,\n       0., 0., 0., 0., 0., 0., 0.])}\n"
     ]
    }
   ],
   "source": [
    "print(rf_model.cv_results_)"
   ]
  },
  {
   "cell_type": "code",
   "execution_count": 180,
   "metadata": {},
   "outputs": [
    {
     "output_type": "execute_result",
     "data": {
      "text/plain": [
       "    Rank  learning_rate  max_depth  n_estimators  Accuracy  Fit Time\n",
       "0     17            0.1          4             1  0.578451  0.022998\n",
       "1     11            0.1          4             5  0.585612  0.053000\n",
       "2     11            0.1          4            10  0.585612  0.088998\n",
       "3      9            0.1          4            50  0.589844  0.354497\n",
       "4     21            0.1          6             1  0.561849  0.028498\n",
       "5      3            0.1          6             5  0.598958  0.071500\n",
       "6      5            0.1          6            10  0.598633  0.121501\n",
       "7      1            0.1          6            50  0.599609  0.571001\n",
       "8     23            0.1         10             1  0.557617  0.048499\n",
       "9     19            0.1         10             5  0.573893  0.132003\n",
       "10    15            0.1         10            10  0.578776  0.233500\n",
       "11     7            0.1         10            50  0.596029  0.923498\n",
       "12    17            0.3          4             1  0.578451  0.028000\n",
       "13    11            0.3          4             5  0.585612  0.054998\n",
       "14    11            0.3          4            10  0.585612  0.083502\n",
       "15     9            0.3          4            50  0.589844  0.356498\n",
       "16    21            0.3          6             1  0.561849  0.030501\n",
       "17     3            0.3          6             5  0.598958  0.083001\n",
       "18     5            0.3          6            10  0.598633  0.125499\n",
       "19     1            0.3          6            50  0.599609  0.534498\n",
       "20    23            0.3         10             1  0.557617  0.038999\n",
       "21    19            0.3         10             5  0.573893  0.134002\n",
       "22    15            0.3         10            10  0.578776  0.197501\n",
       "23     7            0.3         10            50  0.596029  0.681499"
      ],
      "text/html": "<div>\n<style scoped>\n    .dataframe tbody tr th:only-of-type {\n        vertical-align: middle;\n    }\n\n    .dataframe tbody tr th {\n        vertical-align: top;\n    }\n\n    .dataframe thead th {\n        text-align: right;\n    }\n</style>\n<table border=\"1\" class=\"dataframe\">\n  <thead>\n    <tr style=\"text-align: right;\">\n      <th></th>\n      <th>Rank</th>\n      <th>learning_rate</th>\n      <th>max_depth</th>\n      <th>n_estimators</th>\n      <th>Accuracy</th>\n      <th>Fit Time</th>\n    </tr>\n  </thead>\n  <tbody>\n    <tr>\n      <th>0</th>\n      <td>17</td>\n      <td>0.1</td>\n      <td>4</td>\n      <td>1</td>\n      <td>0.578451</td>\n      <td>0.022998</td>\n    </tr>\n    <tr>\n      <th>1</th>\n      <td>11</td>\n      <td>0.1</td>\n      <td>4</td>\n      <td>5</td>\n      <td>0.585612</td>\n      <td>0.053000</td>\n    </tr>\n    <tr>\n      <th>2</th>\n      <td>11</td>\n      <td>0.1</td>\n      <td>4</td>\n      <td>10</td>\n      <td>0.585612</td>\n      <td>0.088998</td>\n    </tr>\n    <tr>\n      <th>3</th>\n      <td>9</td>\n      <td>0.1</td>\n      <td>4</td>\n      <td>50</td>\n      <td>0.589844</td>\n      <td>0.354497</td>\n    </tr>\n    <tr>\n      <th>4</th>\n      <td>21</td>\n      <td>0.1</td>\n      <td>6</td>\n      <td>1</td>\n      <td>0.561849</td>\n      <td>0.028498</td>\n    </tr>\n    <tr>\n      <th>5</th>\n      <td>3</td>\n      <td>0.1</td>\n      <td>6</td>\n      <td>5</td>\n      <td>0.598958</td>\n      <td>0.071500</td>\n    </tr>\n    <tr>\n      <th>6</th>\n      <td>5</td>\n      <td>0.1</td>\n      <td>6</td>\n      <td>10</td>\n      <td>0.598633</td>\n      <td>0.121501</td>\n    </tr>\n    <tr>\n      <th>7</th>\n      <td>1</td>\n      <td>0.1</td>\n      <td>6</td>\n      <td>50</td>\n      <td>0.599609</td>\n      <td>0.571001</td>\n    </tr>\n    <tr>\n      <th>8</th>\n      <td>23</td>\n      <td>0.1</td>\n      <td>10</td>\n      <td>1</td>\n      <td>0.557617</td>\n      <td>0.048499</td>\n    </tr>\n    <tr>\n      <th>9</th>\n      <td>19</td>\n      <td>0.1</td>\n      <td>10</td>\n      <td>5</td>\n      <td>0.573893</td>\n      <td>0.132003</td>\n    </tr>\n    <tr>\n      <th>10</th>\n      <td>15</td>\n      <td>0.1</td>\n      <td>10</td>\n      <td>10</td>\n      <td>0.578776</td>\n      <td>0.233500</td>\n    </tr>\n    <tr>\n      <th>11</th>\n      <td>7</td>\n      <td>0.1</td>\n      <td>10</td>\n      <td>50</td>\n      <td>0.596029</td>\n      <td>0.923498</td>\n    </tr>\n    <tr>\n      <th>12</th>\n      <td>17</td>\n      <td>0.3</td>\n      <td>4</td>\n      <td>1</td>\n      <td>0.578451</td>\n      <td>0.028000</td>\n    </tr>\n    <tr>\n      <th>13</th>\n      <td>11</td>\n      <td>0.3</td>\n      <td>4</td>\n      <td>5</td>\n      <td>0.585612</td>\n      <td>0.054998</td>\n    </tr>\n    <tr>\n      <th>14</th>\n      <td>11</td>\n      <td>0.3</td>\n      <td>4</td>\n      <td>10</td>\n      <td>0.585612</td>\n      <td>0.083502</td>\n    </tr>\n    <tr>\n      <th>15</th>\n      <td>9</td>\n      <td>0.3</td>\n      <td>4</td>\n      <td>50</td>\n      <td>0.589844</td>\n      <td>0.356498</td>\n    </tr>\n    <tr>\n      <th>16</th>\n      <td>21</td>\n      <td>0.3</td>\n      <td>6</td>\n      <td>1</td>\n      <td>0.561849</td>\n      <td>0.030501</td>\n    </tr>\n    <tr>\n      <th>17</th>\n      <td>3</td>\n      <td>0.3</td>\n      <td>6</td>\n      <td>5</td>\n      <td>0.598958</td>\n      <td>0.083001</td>\n    </tr>\n    <tr>\n      <th>18</th>\n      <td>5</td>\n      <td>0.3</td>\n      <td>6</td>\n      <td>10</td>\n      <td>0.598633</td>\n      <td>0.125499</td>\n    </tr>\n    <tr>\n      <th>19</th>\n      <td>1</td>\n      <td>0.3</td>\n      <td>6</td>\n      <td>50</td>\n      <td>0.599609</td>\n      <td>0.534498</td>\n    </tr>\n    <tr>\n      <th>20</th>\n      <td>23</td>\n      <td>0.3</td>\n      <td>10</td>\n      <td>1</td>\n      <td>0.557617</td>\n      <td>0.038999</td>\n    </tr>\n    <tr>\n      <th>21</th>\n      <td>19</td>\n      <td>0.3</td>\n      <td>10</td>\n      <td>5</td>\n      <td>0.573893</td>\n      <td>0.134002</td>\n    </tr>\n    <tr>\n      <th>22</th>\n      <td>15</td>\n      <td>0.3</td>\n      <td>10</td>\n      <td>10</td>\n      <td>0.578776</td>\n      <td>0.197501</td>\n    </tr>\n    <tr>\n      <th>23</th>\n      <td>7</td>\n      <td>0.3</td>\n      <td>10</td>\n      <td>50</td>\n      <td>0.596029</td>\n      <td>0.681499</td>\n    </tr>\n  </tbody>\n</table>\n</div>"
     },
     "metadata": {},
     "execution_count": 180
    }
   ],
   "source": [
    "pd.concat([pd.DataFrame(rf_model.cv_results_[\"rank_test_score\"], columns=[\"Rank\"]), pd.DataFrame(rf_model.cv_results_[\"params\"]),pd.DataFrame(rf_model.cv_results_[\"mean_test_score\"], columns=[\"Accuracy\"]),pd.DataFrame(rf_model.cv_results_[\"mean_fit_time\"], columns=[\"Fit Time\"])],axis=1)"
   ]
  },
  {
   "cell_type": "code",
   "execution_count": 181,
   "metadata": {},
   "outputs": [
    {
     "output_type": "execute_result",
     "data": {
      "text/plain": [
       "    Rank  learning_rate  max_depth  n_estimators  Accuracy  Train Score\n",
       "0     17            0.1          4             1  0.578451     0.604661\n",
       "1     11            0.1          4             5  0.585612     0.616941\n",
       "2     11            0.1          4            10  0.585612     0.614987\n",
       "3      9            0.1          4            50  0.589844     0.617360\n",
       "4     21            0.1          6             1  0.561849     0.618616\n",
       "5      3            0.1          6             5  0.598958     0.657550\n",
       "6      5            0.1          6            10  0.598633     0.663690\n",
       "7      1            0.1          6            50  0.599609     0.669411\n",
       "8     23            0.1         10             1  0.557617     0.684203\n",
       "9     19            0.1         10             5  0.573893     0.807284\n",
       "10    15            0.1         10            10  0.578776     0.823332\n",
       "11     7            0.1         10            50  0.596029     0.857103\n",
       "12    17            0.3          4             1  0.578451     0.604661\n",
       "13    11            0.3          4             5  0.585612     0.616941\n",
       "14    11            0.3          4            10  0.585612     0.614987\n",
       "15     9            0.3          4            50  0.589844     0.617360\n",
       "16    21            0.3          6             1  0.561849     0.618616\n",
       "17     3            0.3          6             5  0.598958     0.657550\n",
       "18     5            0.3          6            10  0.598633     0.663690\n",
       "19     1            0.3          6            50  0.599609     0.669411\n",
       "20    23            0.3         10             1  0.557617     0.684203\n",
       "21    19            0.3         10             5  0.573893     0.807284\n",
       "22    15            0.3         10            10  0.578776     0.823332\n",
       "23     7            0.3         10            50  0.596029     0.857103"
      ],
      "text/html": "<div>\n<style scoped>\n    .dataframe tbody tr th:only-of-type {\n        vertical-align: middle;\n    }\n\n    .dataframe tbody tr th {\n        vertical-align: top;\n    }\n\n    .dataframe thead th {\n        text-align: right;\n    }\n</style>\n<table border=\"1\" class=\"dataframe\">\n  <thead>\n    <tr style=\"text-align: right;\">\n      <th></th>\n      <th>Rank</th>\n      <th>learning_rate</th>\n      <th>max_depth</th>\n      <th>n_estimators</th>\n      <th>Accuracy</th>\n      <th>Train Score</th>\n    </tr>\n  </thead>\n  <tbody>\n    <tr>\n      <th>0</th>\n      <td>17</td>\n      <td>0.1</td>\n      <td>4</td>\n      <td>1</td>\n      <td>0.578451</td>\n      <td>0.604661</td>\n    </tr>\n    <tr>\n      <th>1</th>\n      <td>11</td>\n      <td>0.1</td>\n      <td>4</td>\n      <td>5</td>\n      <td>0.585612</td>\n      <td>0.616941</td>\n    </tr>\n    <tr>\n      <th>2</th>\n      <td>11</td>\n      <td>0.1</td>\n      <td>4</td>\n      <td>10</td>\n      <td>0.585612</td>\n      <td>0.614987</td>\n    </tr>\n    <tr>\n      <th>3</th>\n      <td>9</td>\n      <td>0.1</td>\n      <td>4</td>\n      <td>50</td>\n      <td>0.589844</td>\n      <td>0.617360</td>\n    </tr>\n    <tr>\n      <th>4</th>\n      <td>21</td>\n      <td>0.1</td>\n      <td>6</td>\n      <td>1</td>\n      <td>0.561849</td>\n      <td>0.618616</td>\n    </tr>\n    <tr>\n      <th>5</th>\n      <td>3</td>\n      <td>0.1</td>\n      <td>6</td>\n      <td>5</td>\n      <td>0.598958</td>\n      <td>0.657550</td>\n    </tr>\n    <tr>\n      <th>6</th>\n      <td>5</td>\n      <td>0.1</td>\n      <td>6</td>\n      <td>10</td>\n      <td>0.598633</td>\n      <td>0.663690</td>\n    </tr>\n    <tr>\n      <th>7</th>\n      <td>1</td>\n      <td>0.1</td>\n      <td>6</td>\n      <td>50</td>\n      <td>0.599609</td>\n      <td>0.669411</td>\n    </tr>\n    <tr>\n      <th>8</th>\n      <td>23</td>\n      <td>0.1</td>\n      <td>10</td>\n      <td>1</td>\n      <td>0.557617</td>\n      <td>0.684203</td>\n    </tr>\n    <tr>\n      <th>9</th>\n      <td>19</td>\n      <td>0.1</td>\n      <td>10</td>\n      <td>5</td>\n      <td>0.573893</td>\n      <td>0.807284</td>\n    </tr>\n    <tr>\n      <th>10</th>\n      <td>15</td>\n      <td>0.1</td>\n      <td>10</td>\n      <td>10</td>\n      <td>0.578776</td>\n      <td>0.823332</td>\n    </tr>\n    <tr>\n      <th>11</th>\n      <td>7</td>\n      <td>0.1</td>\n      <td>10</td>\n      <td>50</td>\n      <td>0.596029</td>\n      <td>0.857103</td>\n    </tr>\n    <tr>\n      <th>12</th>\n      <td>17</td>\n      <td>0.3</td>\n      <td>4</td>\n      <td>1</td>\n      <td>0.578451</td>\n      <td>0.604661</td>\n    </tr>\n    <tr>\n      <th>13</th>\n      <td>11</td>\n      <td>0.3</td>\n      <td>4</td>\n      <td>5</td>\n      <td>0.585612</td>\n      <td>0.616941</td>\n    </tr>\n    <tr>\n      <th>14</th>\n      <td>11</td>\n      <td>0.3</td>\n      <td>4</td>\n      <td>10</td>\n      <td>0.585612</td>\n      <td>0.614987</td>\n    </tr>\n    <tr>\n      <th>15</th>\n      <td>9</td>\n      <td>0.3</td>\n      <td>4</td>\n      <td>50</td>\n      <td>0.589844</td>\n      <td>0.617360</td>\n    </tr>\n    <tr>\n      <th>16</th>\n      <td>21</td>\n      <td>0.3</td>\n      <td>6</td>\n      <td>1</td>\n      <td>0.561849</td>\n      <td>0.618616</td>\n    </tr>\n    <tr>\n      <th>17</th>\n      <td>3</td>\n      <td>0.3</td>\n      <td>6</td>\n      <td>5</td>\n      <td>0.598958</td>\n      <td>0.657550</td>\n    </tr>\n    <tr>\n      <th>18</th>\n      <td>5</td>\n      <td>0.3</td>\n      <td>6</td>\n      <td>10</td>\n      <td>0.598633</td>\n      <td>0.663690</td>\n    </tr>\n    <tr>\n      <th>19</th>\n      <td>1</td>\n      <td>0.3</td>\n      <td>6</td>\n      <td>50</td>\n      <td>0.599609</td>\n      <td>0.669411</td>\n    </tr>\n    <tr>\n      <th>20</th>\n      <td>23</td>\n      <td>0.3</td>\n      <td>10</td>\n      <td>1</td>\n      <td>0.557617</td>\n      <td>0.684203</td>\n    </tr>\n    <tr>\n      <th>21</th>\n      <td>19</td>\n      <td>0.3</td>\n      <td>10</td>\n      <td>5</td>\n      <td>0.573893</td>\n      <td>0.807284</td>\n    </tr>\n    <tr>\n      <th>22</th>\n      <td>15</td>\n      <td>0.3</td>\n      <td>10</td>\n      <td>10</td>\n      <td>0.578776</td>\n      <td>0.823332</td>\n    </tr>\n    <tr>\n      <th>23</th>\n      <td>7</td>\n      <td>0.3</td>\n      <td>10</td>\n      <td>50</td>\n      <td>0.596029</td>\n      <td>0.857103</td>\n    </tr>\n  </tbody>\n</table>\n</div>"
     },
     "metadata": {},
     "execution_count": 181
    }
   ],
   "source": [
    "pd.concat([pd.DataFrame(rf_model.cv_results_[\"rank_test_score\"], columns=[\"Rank\"]), pd.DataFrame(rf_model.cv_results_[\"params\"]),pd.DataFrame(rf_model.cv_results_[\"mean_test_score\"], columns=[\"Accuracy\"]),pd.DataFrame(rf_model.cv_results_[\"mean_train_score\"], columns=[\"Train Score\"])],axis=1)"
   ]
  },
  {
   "cell_type": "code",
   "execution_count": 182,
   "metadata": {},
   "outputs": [
    {
     "output_type": "execute_result",
     "data": {
      "text/plain": [
       "['local_rf_70p_64_all.pkl']"
      ]
     },
     "metadata": {},
     "execution_count": 182
    }
   ],
   "source": [
    "dump(rf_model, 'local_rf_{}_{}_all.pkl'.format('70p', 64))"
   ]
  },
  {
   "cell_type": "code",
   "execution_count": 183,
   "metadata": {},
   "outputs": [],
   "source": [
    "xg_base = xgb.XGBClassifier()\n",
    "xg_grid = {\n",
    "\"max_depth\" : [4, 6, 10],\n",
    "\"learning_rate\" : [0.1, 0.3],\n",
    "\"n_estimators\" : [1, 5, 10, 50]\n",
    "}\n",
    "xg_model = GridSearchCV(xg_base, xg_grid, cv=cv, n_jobs=4, verbose=100, return_train_score = True)"
   ]
  },
  {
   "cell_type": "code",
   "execution_count": 184,
   "metadata": {},
   "outputs": [
    {
     "output_type": "stream",
     "name": "stdout",
     "text": [
      "Fitting 1 folds for each of 24 candidates, totalling 24 fits\n",
      "[Parallel(n_jobs=4)]: Using backend LokyBackend with 4 concurrent workers.\n",
      "Memmapping (shape=(10238, 18), dtype=float64) to new file C:\\Users\\glaci\\AppData\\Local\\Temp\\joblib_memmapping_folder_125832_5244594339\\125832-1865479779912-91be64cf792f4ddb9788e0d4b13b2c18.pkl\n",
      "Pickling array (shape=(10238,), dtype=int32).\n",
      "Pickling array (shape=(7166,), dtype=int32).\n",
      "Pickling array (shape=(3072,), dtype=int32).\n",
      "Memmapping (shape=(10238, 18), dtype=float64) to old file C:\\Users\\glaci\\AppData\\Local\\Temp\\joblib_memmapping_folder_125832_5244594339\\125832-1865479779912-91be64cf792f4ddb9788e0d4b13b2c18.pkl\n",
      "Pickling array (shape=(10238,), dtype=int32).\n",
      "Pickling array (shape=(7166,), dtype=int32).\n",
      "Pickling array (shape=(3072,), dtype=int32).\n",
      "Memmapping (shape=(10238, 18), dtype=float64) to old file C:\\Users\\glaci\\AppData\\Local\\Temp\\joblib_memmapping_folder_125832_5244594339\\125832-1865479779912-91be64cf792f4ddb9788e0d4b13b2c18.pkl\n",
      "Pickling array (shape=(10238,), dtype=int32).\n",
      "Pickling array (shape=(7166,), dtype=int32).\n",
      "Pickling array (shape=(3072,), dtype=int32).\n",
      "Memmapping (shape=(10238, 18), dtype=float64) to old file C:\\Users\\glaci\\AppData\\Local\\Temp\\joblib_memmapping_folder_125832_5244594339\\125832-1865479779912-91be64cf792f4ddb9788e0d4b13b2c18.pkl\n",
      "Pickling array (shape=(10238,), dtype=int32).\n",
      "Pickling array (shape=(7166,), dtype=int32).\n",
      "Pickling array (shape=(3072,), dtype=int32).\n",
      "Memmapping (shape=(10238, 18), dtype=float64) to old file C:\\Users\\glaci\\AppData\\Local\\Temp\\joblib_memmapping_folder_125832_5244594339\\125832-1865479779912-91be64cf792f4ddb9788e0d4b13b2c18.pkl\n",
      "Pickling array (shape=(10238,), dtype=int32).\n",
      "Pickling array (shape=(7166,), dtype=int32).\n",
      "Pickling array (shape=(3072,), dtype=int32).\n",
      "[Parallel(n_jobs=4)]: Done   1 tasks      | elapsed:    0.0s\n",
      "[Parallel(n_jobs=4)]: Batch computation too fast (0.0610s.) Setting batch_size=2.\n",
      "Memmapping (shape=(10238, 18), dtype=float64) to old file C:\\Users\\glaci\\AppData\\Local\\Temp\\joblib_memmapping_folder_125832_5244594339\\125832-1865479779912-91be64cf792f4ddb9788e0d4b13b2c18.pkl\n",
      "Pickling array (shape=(10238,), dtype=int32).\n",
      "Pickling array (shape=(7166,), dtype=int32).\n",
      "Pickling array (shape=(3072,), dtype=int32).\n",
      "[Parallel(n_jobs=4)]: Done   2 tasks      | elapsed:    0.0s\n",
      "Memmapping (shape=(10238, 18), dtype=float64) to old file C:\\Users\\glaci\\AppData\\Local\\Temp\\joblib_memmapping_folder_125832_5244594339\\125832-1865479779912-91be64cf792f4ddb9788e0d4b13b2c18.pkl\n",
      "Pickling array (shape=(10238,), dtype=int32).\n",
      "Pickling array (shape=(7166,), dtype=int32).\n",
      "Pickling array (shape=(3072,), dtype=int32).\n",
      "[Parallel(n_jobs=4)]: Done   3 tasks      | elapsed:    0.0s\n",
      "Memmapping (shape=(10238, 18), dtype=float64) to old file C:\\Users\\glaci\\AppData\\Local\\Temp\\joblib_memmapping_folder_125832_5244594339\\125832-1865479779912-91be64cf792f4ddb9788e0d4b13b2c18.pkl\n",
      "Pickling array (shape=(10238,), dtype=int32).\n",
      "Pickling array (shape=(7166,), dtype=int32).\n",
      "Pickling array (shape=(3072,), dtype=int32).\n",
      "[Parallel(n_jobs=4)]: Done   4 tasks      | elapsed:    0.0s\n",
      "Memmapping (shape=(10238, 18), dtype=float64) to old file C:\\Users\\glaci\\AppData\\Local\\Temp\\joblib_memmapping_folder_125832_5244594339\\125832-1865479779912-91be64cf792f4ddb9788e0d4b13b2c18.pkl\n",
      "Pickling array (shape=(10238,), dtype=int32).\n",
      "Pickling array (shape=(7166,), dtype=int32).\n",
      "Pickling array (shape=(3072,), dtype=int32).\n",
      "[Parallel(n_jobs=4)]: Done   5 tasks      | elapsed:    0.1s\n",
      "Memmapping (shape=(10238, 18), dtype=float64) to old file C:\\Users\\glaci\\AppData\\Local\\Temp\\joblib_memmapping_folder_125832_5244594339\\125832-1865479779912-91be64cf792f4ddb9788e0d4b13b2c18.pkl\n",
      "Pickling array (shape=(10238,), dtype=int32).\n",
      "Pickling array (shape=(7166,), dtype=int32).\n",
      "Pickling array (shape=(3072,), dtype=int32).\n",
      "[Parallel(n_jobs=4)]: Done   6 tasks      | elapsed:    0.2s\n",
      "Memmapping (shape=(10238, 18), dtype=float64) to old file C:\\Users\\glaci\\AppData\\Local\\Temp\\joblib_memmapping_folder_125832_5244594339\\125832-1865479779912-91be64cf792f4ddb9788e0d4b13b2c18.pkl\n",
      "Pickling array (shape=(10238,), dtype=int32).\n",
      "Pickling array (shape=(7166,), dtype=int32).\n",
      "Pickling array (shape=(3072,), dtype=int32).\n",
      "[Parallel(n_jobs=4)]: Done   8 tasks      | elapsed:    0.4s\n",
      "Memmapping (shape=(10238, 18), dtype=float64) to old file C:\\Users\\glaci\\AppData\\Local\\Temp\\joblib_memmapping_folder_125832_5244594339\\125832-1865479779912-91be64cf792f4ddb9788e0d4b13b2c18.pkl\n",
      "Pickling array (shape=(10238,), dtype=int32).\n",
      "Pickling array (shape=(7166,), dtype=int32).\n",
      "Pickling array (shape=(3072,), dtype=int32).\n",
      "[Parallel(n_jobs=4)]: Done   9 tasks      | elapsed:    0.4s\n",
      "Memmapping (shape=(10238, 18), dtype=float64) to old file C:\\Users\\glaci\\AppData\\Local\\Temp\\joblib_memmapping_folder_125832_5244594339\\125832-1865479779912-91be64cf792f4ddb9788e0d4b13b2c18.pkl\n",
      "Pickling array (shape=(10238,), dtype=int32).\n",
      "Pickling array (shape=(7166,), dtype=int32).\n",
      "Pickling array (shape=(3072,), dtype=int32).\n",
      "[Parallel(n_jobs=4)]: Done  11 tasks      | elapsed:    0.5s\n",
      "Memmapping (shape=(10238, 18), dtype=float64) to old file C:\\Users\\glaci\\AppData\\Local\\Temp\\joblib_memmapping_folder_125832_5244594339\\125832-1865479779912-91be64cf792f4ddb9788e0d4b13b2c18.pkl\n",
      "Pickling array (shape=(10238,), dtype=int32).\n",
      "Pickling array (shape=(7166,), dtype=int32).\n",
      "Pickling array (shape=(3072,), dtype=int32).\n",
      "[Parallel(n_jobs=4)]: Done  13 out of  24 | elapsed:    0.7s remaining:    0.6s\n",
      "Memmapping (shape=(10238, 18), dtype=float64) to old file C:\\Users\\glaci\\AppData\\Local\\Temp\\joblib_memmapping_folder_125832_5244594339\\125832-1865479779912-91be64cf792f4ddb9788e0d4b13b2c18.pkl\n",
      "Pickling array (shape=(10238,), dtype=int32).\n",
      "Pickling array (shape=(7166,), dtype=int32).\n",
      "Pickling array (shape=(3072,), dtype=int32).\n",
      "[Parallel(n_jobs=4)]: Done  14 out of  24 | elapsed:    0.9s remaining:    0.6s\n",
      "Memmapping (shape=(10238, 18), dtype=float64) to old file C:\\Users\\glaci\\AppData\\Local\\Temp\\joblib_memmapping_folder_125832_5244594339\\125832-1865479779912-91be64cf792f4ddb9788e0d4b13b2c18.pkl\n",
      "Pickling array (shape=(10238,), dtype=int32).\n",
      "Pickling array (shape=(7166,), dtype=int32).\n",
      "Pickling array (shape=(3072,), dtype=int32).\n",
      "[Parallel(n_jobs=4)]: Done  16 out of  24 | elapsed:    1.1s remaining:    0.5s\n",
      "[Parallel(n_jobs=4)]: Done  18 out of  24 | elapsed:    1.1s remaining:    0.3s\n",
      "[Parallel(n_jobs=4)]: Done  20 out of  24 | elapsed:    1.5s remaining:    0.2s\n",
      "[Parallel(n_jobs=4)]: Done  22 out of  24 | elapsed:    1.8s remaining:    0.1s\n",
      "[Parallel(n_jobs=4)]: Done  24 out of  24 | elapsed:    2.1s remaining:    0.0s\n",
      "[Parallel(n_jobs=4)]: Done  24 out of  24 | elapsed:    2.1s finished\n"
     ]
    }
   ],
   "source": [
    "xg_model = xg_model.fit(X, y)"
   ]
  },
  {
   "cell_type": "code",
   "execution_count": 185,
   "metadata": {},
   "outputs": [
    {
     "output_type": "stream",
     "name": "stdout",
     "text": [
      "{'mean_fit_time': array([0.03200173, 0.06349921, 0.10299873, 0.45699835, 0.03500032,\n       0.08498931, 0.17899942, 0.81250119, 0.05099773, 0.16150284,\n       0.36799836, 1.11749887, 0.03299761, 0.07050014, 0.12950015,\n       0.48800254, 0.04750085, 0.11599946, 0.17749929, 0.65200162,\n       0.05200076, 0.16349721, 0.241503  , 0.78000164]), 'std_fit_time': array([0., 0., 0., 0., 0., 0., 0., 0., 0., 0., 0., 0., 0., 0., 0., 0., 0.,\n       0., 0., 0., 0., 0., 0., 0.]), 'mean_score_time': array([0.00449777, 0.00400019, 0.00400066, 0.00600123, 0.00349832,\n       0.00450015, 0.00450039, 0.00849962, 0.00349903, 0.00549722,\n       0.00550079, 0.00699925, 0.00499988, 0.00450039, 0.00999999,\n       0.00599718, 0.00450301, 0.00549865, 0.00549936, 0.00849938,\n       0.00549865, 0.00450063, 0.00499845, 0.00600028]), 'std_score_time': array([0., 0., 0., 0., 0., 0., 0., 0., 0., 0., 0., 0., 0., 0., 0., 0., 0.,\n       0., 0., 0., 0., 0., 0., 0.]), 'param_learning_rate': masked_array(data=[0.1, 0.1, 0.1, 0.1, 0.1, 0.1, 0.1, 0.1, 0.1, 0.1, 0.1,\n                   0.1, 0.3, 0.3, 0.3, 0.3, 0.3, 0.3, 0.3, 0.3, 0.3, 0.3,\n                   0.3, 0.3],\n             mask=[False, False, False, False, False, False, False, False,\n                   False, False, False, False, False, False, False, False,\n                   False, False, False, False, False, False, False, False],\n       fill_value='?',\n            dtype=object), 'param_max_depth': masked_array(data=[4, 4, 4, 4, 6, 6, 6, 6, 10, 10, 10, 10, 4, 4, 4, 4, 6,\n                   6, 6, 6, 10, 10, 10, 10],\n             mask=[False, False, False, False, False, False, False, False,\n                   False, False, False, False, False, False, False, False,\n                   False, False, False, False, False, False, False, False],\n       fill_value='?',\n            dtype=object), 'param_n_estimators': masked_array(data=[1, 5, 10, 50, 1, 5, 10, 50, 1, 5, 10, 50, 1, 5, 10, 50,\n                   1, 5, 10, 50, 1, 5, 10, 50],\n             mask=[False, False, False, False, False, False, False, False,\n                   False, False, False, False, False, False, False, False,\n                   False, False, False, False, False, False, False, False],\n       fill_value='?',\n            dtype=object), 'params': [{'learning_rate': 0.1, 'max_depth': 4, 'n_estimators': 1}, {'learning_rate': 0.1, 'max_depth': 4, 'n_estimators': 5}, {'learning_rate': 0.1, 'max_depth': 4, 'n_estimators': 10}, {'learning_rate': 0.1, 'max_depth': 4, 'n_estimators': 50}, {'learning_rate': 0.1, 'max_depth': 6, 'n_estimators': 1}, {'learning_rate': 0.1, 'max_depth': 6, 'n_estimators': 5}, {'learning_rate': 0.1, 'max_depth': 6, 'n_estimators': 10}, {'learning_rate': 0.1, 'max_depth': 6, 'n_estimators': 50}, {'learning_rate': 0.1, 'max_depth': 10, 'n_estimators': 1}, {'learning_rate': 0.1, 'max_depth': 10, 'n_estimators': 5}, {'learning_rate': 0.1, 'max_depth': 10, 'n_estimators': 10}, {'learning_rate': 0.1, 'max_depth': 10, 'n_estimators': 50}, {'learning_rate': 0.3, 'max_depth': 4, 'n_estimators': 1}, {'learning_rate': 0.3, 'max_depth': 4, 'n_estimators': 5}, {'learning_rate': 0.3, 'max_depth': 4, 'n_estimators': 10}, {'learning_rate': 0.3, 'max_depth': 4, 'n_estimators': 50}, {'learning_rate': 0.3, 'max_depth': 6, 'n_estimators': 1}, {'learning_rate': 0.3, 'max_depth': 6, 'n_estimators': 5}, {'learning_rate': 0.3, 'max_depth': 6, 'n_estimators': 10}, {'learning_rate': 0.3, 'max_depth': 6, 'n_estimators': 50}, {'learning_rate': 0.3, 'max_depth': 10, 'n_estimators': 1}, {'learning_rate': 0.3, 'max_depth': 10, 'n_estimators': 5}, {'learning_rate': 0.3, 'max_depth': 10, 'n_estimators': 10}, {'learning_rate': 0.3, 'max_depth': 10, 'n_estimators': 50}], 'split0_test_score': array([0.5843099 , 0.59407552, 0.59635417, 0.59505208, 0.5719401 ,\n       0.59114583, 0.5843099 , 0.58105469, 0.56184896, 0.57096354,\n       0.57552083, 0.58333333, 0.5843099 , 0.59798177, 0.59244792,\n       0.58626302, 0.5719401 , 0.57682292, 0.57910156, 0.56445312,\n       0.56184896, 0.5625    , 0.5703125 , 0.56998698]), 'mean_test_score': array([0.5843099 , 0.59407552, 0.59635417, 0.59505208, 0.5719401 ,\n       0.59114583, 0.5843099 , 0.58105469, 0.56184896, 0.57096354,\n       0.57552083, 0.58333333, 0.5843099 , 0.59798177, 0.59244792,\n       0.58626302, 0.5719401 , 0.57682292, 0.57910156, 0.56445312,\n       0.56184896, 0.5625    , 0.5703125 , 0.56998698]), 'std_test_score': array([0., 0., 0., 0., 0., 0., 0., 0., 0., 0., 0., 0., 0., 0., 0., 0., 0.,\n       0., 0., 0., 0., 0., 0., 0.]), 'rank_test_score': array([ 8,  4,  2,  3, 16,  6,  8, 12, 23, 18, 15, 11,  8,  1,  5,  7, 16,\n       14, 13, 21, 23, 22, 19, 20]), 'split0_train_score': array([0.6011722 , 0.6239185 , 0.62656991, 0.67541167, 0.63996651,\n       0.66787608, 0.68769188, 0.758024  , 0.72118337, 0.83226347,\n       0.87175551, 0.96678761, 0.6011722 , 0.63257047, 0.64847893,\n       0.7416969 , 0.63996651, 0.69285515, 0.71085682, 0.86338264,\n       0.72118337, 0.86673179, 0.92255093, 0.99637176]), 'mean_train_score': array([0.6011722 , 0.6239185 , 0.62656991, 0.67541167, 0.63996651,\n       0.66787608, 0.68769188, 0.758024  , 0.72118337, 0.83226347,\n       0.87175551, 0.96678761, 0.6011722 , 0.63257047, 0.64847893,\n       0.7416969 , 0.63996651, 0.69285515, 0.71085682, 0.86338264,\n       0.72118337, 0.86673179, 0.92255093, 0.99637176]), 'std_train_score': array([0., 0., 0., 0., 0., 0., 0., 0., 0., 0., 0., 0., 0., 0., 0., 0., 0.,\n       0., 0., 0., 0., 0., 0., 0.])}\n"
     ]
    }
   ],
   "source": [
    "print(xg_model.cv_results_)"
   ]
  },
  {
   "cell_type": "code",
   "execution_count": 187,
   "metadata": {},
   "outputs": [
    {
     "output_type": "execute_result",
     "data": {
      "text/plain": [
       "    Rank  learning_rate  max_depth  n_estimators  Accuracy  Fit Time\n",
       "0      8            0.1          4             1  0.584310  0.032002\n",
       "1      4            0.1          4             5  0.594076  0.063499\n",
       "2      2            0.1          4            10  0.596354  0.102999\n",
       "3      3            0.1          4            50  0.595052  0.456998\n",
       "4     16            0.1          6             1  0.571940  0.035000\n",
       "5      6            0.1          6             5  0.591146  0.084989\n",
       "6      8            0.1          6            10  0.584310  0.178999\n",
       "7     12            0.1          6            50  0.581055  0.812501\n",
       "8     23            0.1         10             1  0.561849  0.050998\n",
       "9     18            0.1         10             5  0.570964  0.161503\n",
       "10    15            0.1         10            10  0.575521  0.367998\n",
       "11    11            0.1         10            50  0.583333  1.117499\n",
       "12     8            0.3          4             1  0.584310  0.032998\n",
       "13     1            0.3          4             5  0.597982  0.070500\n",
       "14     5            0.3          4            10  0.592448  0.129500\n",
       "15     7            0.3          4            50  0.586263  0.488003\n",
       "16    16            0.3          6             1  0.571940  0.047501\n",
       "17    14            0.3          6             5  0.576823  0.115999\n",
       "18    13            0.3          6            10  0.579102  0.177499\n",
       "19    21            0.3          6            50  0.564453  0.652002\n",
       "20    23            0.3         10             1  0.561849  0.052001\n",
       "21    22            0.3         10             5  0.562500  0.163497\n",
       "22    19            0.3         10            10  0.570312  0.241503\n",
       "23    20            0.3         10            50  0.569987  0.780002"
      ],
      "text/html": "<div>\n<style scoped>\n    .dataframe tbody tr th:only-of-type {\n        vertical-align: middle;\n    }\n\n    .dataframe tbody tr th {\n        vertical-align: top;\n    }\n\n    .dataframe thead th {\n        text-align: right;\n    }\n</style>\n<table border=\"1\" class=\"dataframe\">\n  <thead>\n    <tr style=\"text-align: right;\">\n      <th></th>\n      <th>Rank</th>\n      <th>learning_rate</th>\n      <th>max_depth</th>\n      <th>n_estimators</th>\n      <th>Accuracy</th>\n      <th>Fit Time</th>\n    </tr>\n  </thead>\n  <tbody>\n    <tr>\n      <th>0</th>\n      <td>8</td>\n      <td>0.1</td>\n      <td>4</td>\n      <td>1</td>\n      <td>0.584310</td>\n      <td>0.032002</td>\n    </tr>\n    <tr>\n      <th>1</th>\n      <td>4</td>\n      <td>0.1</td>\n      <td>4</td>\n      <td>5</td>\n      <td>0.594076</td>\n      <td>0.063499</td>\n    </tr>\n    <tr>\n      <th>2</th>\n      <td>2</td>\n      <td>0.1</td>\n      <td>4</td>\n      <td>10</td>\n      <td>0.596354</td>\n      <td>0.102999</td>\n    </tr>\n    <tr>\n      <th>3</th>\n      <td>3</td>\n      <td>0.1</td>\n      <td>4</td>\n      <td>50</td>\n      <td>0.595052</td>\n      <td>0.456998</td>\n    </tr>\n    <tr>\n      <th>4</th>\n      <td>16</td>\n      <td>0.1</td>\n      <td>6</td>\n      <td>1</td>\n      <td>0.571940</td>\n      <td>0.035000</td>\n    </tr>\n    <tr>\n      <th>5</th>\n      <td>6</td>\n      <td>0.1</td>\n      <td>6</td>\n      <td>5</td>\n      <td>0.591146</td>\n      <td>0.084989</td>\n    </tr>\n    <tr>\n      <th>6</th>\n      <td>8</td>\n      <td>0.1</td>\n      <td>6</td>\n      <td>10</td>\n      <td>0.584310</td>\n      <td>0.178999</td>\n    </tr>\n    <tr>\n      <th>7</th>\n      <td>12</td>\n      <td>0.1</td>\n      <td>6</td>\n      <td>50</td>\n      <td>0.581055</td>\n      <td>0.812501</td>\n    </tr>\n    <tr>\n      <th>8</th>\n      <td>23</td>\n      <td>0.1</td>\n      <td>10</td>\n      <td>1</td>\n      <td>0.561849</td>\n      <td>0.050998</td>\n    </tr>\n    <tr>\n      <th>9</th>\n      <td>18</td>\n      <td>0.1</td>\n      <td>10</td>\n      <td>5</td>\n      <td>0.570964</td>\n      <td>0.161503</td>\n    </tr>\n    <tr>\n      <th>10</th>\n      <td>15</td>\n      <td>0.1</td>\n      <td>10</td>\n      <td>10</td>\n      <td>0.575521</td>\n      <td>0.367998</td>\n    </tr>\n    <tr>\n      <th>11</th>\n      <td>11</td>\n      <td>0.1</td>\n      <td>10</td>\n      <td>50</td>\n      <td>0.583333</td>\n      <td>1.117499</td>\n    </tr>\n    <tr>\n      <th>12</th>\n      <td>8</td>\n      <td>0.3</td>\n      <td>4</td>\n      <td>1</td>\n      <td>0.584310</td>\n      <td>0.032998</td>\n    </tr>\n    <tr>\n      <th>13</th>\n      <td>1</td>\n      <td>0.3</td>\n      <td>4</td>\n      <td>5</td>\n      <td>0.597982</td>\n      <td>0.070500</td>\n    </tr>\n    <tr>\n      <th>14</th>\n      <td>5</td>\n      <td>0.3</td>\n      <td>4</td>\n      <td>10</td>\n      <td>0.592448</td>\n      <td>0.129500</td>\n    </tr>\n    <tr>\n      <th>15</th>\n      <td>7</td>\n      <td>0.3</td>\n      <td>4</td>\n      <td>50</td>\n      <td>0.586263</td>\n      <td>0.488003</td>\n    </tr>\n    <tr>\n      <th>16</th>\n      <td>16</td>\n      <td>0.3</td>\n      <td>6</td>\n      <td>1</td>\n      <td>0.571940</td>\n      <td>0.047501</td>\n    </tr>\n    <tr>\n      <th>17</th>\n      <td>14</td>\n      <td>0.3</td>\n      <td>6</td>\n      <td>5</td>\n      <td>0.576823</td>\n      <td>0.115999</td>\n    </tr>\n    <tr>\n      <th>18</th>\n      <td>13</td>\n      <td>0.3</td>\n      <td>6</td>\n      <td>10</td>\n      <td>0.579102</td>\n      <td>0.177499</td>\n    </tr>\n    <tr>\n      <th>19</th>\n      <td>21</td>\n      <td>0.3</td>\n      <td>6</td>\n      <td>50</td>\n      <td>0.564453</td>\n      <td>0.652002</td>\n    </tr>\n    <tr>\n      <th>20</th>\n      <td>23</td>\n      <td>0.3</td>\n      <td>10</td>\n      <td>1</td>\n      <td>0.561849</td>\n      <td>0.052001</td>\n    </tr>\n    <tr>\n      <th>21</th>\n      <td>22</td>\n      <td>0.3</td>\n      <td>10</td>\n      <td>5</td>\n      <td>0.562500</td>\n      <td>0.163497</td>\n    </tr>\n    <tr>\n      <th>22</th>\n      <td>19</td>\n      <td>0.3</td>\n      <td>10</td>\n      <td>10</td>\n      <td>0.570312</td>\n      <td>0.241503</td>\n    </tr>\n    <tr>\n      <th>23</th>\n      <td>20</td>\n      <td>0.3</td>\n      <td>10</td>\n      <td>50</td>\n      <td>0.569987</td>\n      <td>0.780002</td>\n    </tr>\n  </tbody>\n</table>\n</div>"
     },
     "metadata": {},
     "execution_count": 187
    }
   ],
   "source": [
    "pd.concat([pd.DataFrame(xg_model.cv_results_[\"rank_test_score\"], columns=[\"Rank\"]), pd.DataFrame(xg_model.cv_results_[\"params\"]),pd.DataFrame(xg_model.cv_results_[\"mean_test_score\"], columns=[\"Accuracy\"]),pd.DataFrame(xg_model.cv_results_[\"mean_fit_time\"], columns=[\"Fit Time\"])],axis=1)"
   ]
  },
  {
   "cell_type": "code",
   "execution_count": 188,
   "metadata": {},
   "outputs": [
    {
     "output_type": "execute_result",
     "data": {
      "text/plain": [
       "    Rank  learning_rate  max_depth  n_estimators  Accuracy  Train Score\n",
       "0      8            0.1          4             1  0.584310     0.601172\n",
       "1      4            0.1          4             5  0.594076     0.623919\n",
       "2      2            0.1          4            10  0.596354     0.626570\n",
       "3      3            0.1          4            50  0.595052     0.675412\n",
       "4     16            0.1          6             1  0.571940     0.639967\n",
       "5      6            0.1          6             5  0.591146     0.667876\n",
       "6      8            0.1          6            10  0.584310     0.687692\n",
       "7     12            0.1          6            50  0.581055     0.758024\n",
       "8     23            0.1         10             1  0.561849     0.721183\n",
       "9     18            0.1         10             5  0.570964     0.832263\n",
       "10    15            0.1         10            10  0.575521     0.871756\n",
       "11    11            0.1         10            50  0.583333     0.966788\n",
       "12     8            0.3          4             1  0.584310     0.601172\n",
       "13     1            0.3          4             5  0.597982     0.632570\n",
       "14     5            0.3          4            10  0.592448     0.648479\n",
       "15     7            0.3          4            50  0.586263     0.741697\n",
       "16    16            0.3          6             1  0.571940     0.639967\n",
       "17    14            0.3          6             5  0.576823     0.692855\n",
       "18    13            0.3          6            10  0.579102     0.710857\n",
       "19    21            0.3          6            50  0.564453     0.863383\n",
       "20    23            0.3         10             1  0.561849     0.721183\n",
       "21    22            0.3         10             5  0.562500     0.866732\n",
       "22    19            0.3         10            10  0.570312     0.922551\n",
       "23    20            0.3         10            50  0.569987     0.996372"
      ],
      "text/html": "<div>\n<style scoped>\n    .dataframe tbody tr th:only-of-type {\n        vertical-align: middle;\n    }\n\n    .dataframe tbody tr th {\n        vertical-align: top;\n    }\n\n    .dataframe thead th {\n        text-align: right;\n    }\n</style>\n<table border=\"1\" class=\"dataframe\">\n  <thead>\n    <tr style=\"text-align: right;\">\n      <th></th>\n      <th>Rank</th>\n      <th>learning_rate</th>\n      <th>max_depth</th>\n      <th>n_estimators</th>\n      <th>Accuracy</th>\n      <th>Train Score</th>\n    </tr>\n  </thead>\n  <tbody>\n    <tr>\n      <th>0</th>\n      <td>8</td>\n      <td>0.1</td>\n      <td>4</td>\n      <td>1</td>\n      <td>0.584310</td>\n      <td>0.601172</td>\n    </tr>\n    <tr>\n      <th>1</th>\n      <td>4</td>\n      <td>0.1</td>\n      <td>4</td>\n      <td>5</td>\n      <td>0.594076</td>\n      <td>0.623919</td>\n    </tr>\n    <tr>\n      <th>2</th>\n      <td>2</td>\n      <td>0.1</td>\n      <td>4</td>\n      <td>10</td>\n      <td>0.596354</td>\n      <td>0.626570</td>\n    </tr>\n    <tr>\n      <th>3</th>\n      <td>3</td>\n      <td>0.1</td>\n      <td>4</td>\n      <td>50</td>\n      <td>0.595052</td>\n      <td>0.675412</td>\n    </tr>\n    <tr>\n      <th>4</th>\n      <td>16</td>\n      <td>0.1</td>\n      <td>6</td>\n      <td>1</td>\n      <td>0.571940</td>\n      <td>0.639967</td>\n    </tr>\n    <tr>\n      <th>5</th>\n      <td>6</td>\n      <td>0.1</td>\n      <td>6</td>\n      <td>5</td>\n      <td>0.591146</td>\n      <td>0.667876</td>\n    </tr>\n    <tr>\n      <th>6</th>\n      <td>8</td>\n      <td>0.1</td>\n      <td>6</td>\n      <td>10</td>\n      <td>0.584310</td>\n      <td>0.687692</td>\n    </tr>\n    <tr>\n      <th>7</th>\n      <td>12</td>\n      <td>0.1</td>\n      <td>6</td>\n      <td>50</td>\n      <td>0.581055</td>\n      <td>0.758024</td>\n    </tr>\n    <tr>\n      <th>8</th>\n      <td>23</td>\n      <td>0.1</td>\n      <td>10</td>\n      <td>1</td>\n      <td>0.561849</td>\n      <td>0.721183</td>\n    </tr>\n    <tr>\n      <th>9</th>\n      <td>18</td>\n      <td>0.1</td>\n      <td>10</td>\n      <td>5</td>\n      <td>0.570964</td>\n      <td>0.832263</td>\n    </tr>\n    <tr>\n      <th>10</th>\n      <td>15</td>\n      <td>0.1</td>\n      <td>10</td>\n      <td>10</td>\n      <td>0.575521</td>\n      <td>0.871756</td>\n    </tr>\n    <tr>\n      <th>11</th>\n      <td>11</td>\n      <td>0.1</td>\n      <td>10</td>\n      <td>50</td>\n      <td>0.583333</td>\n      <td>0.966788</td>\n    </tr>\n    <tr>\n      <th>12</th>\n      <td>8</td>\n      <td>0.3</td>\n      <td>4</td>\n      <td>1</td>\n      <td>0.584310</td>\n      <td>0.601172</td>\n    </tr>\n    <tr>\n      <th>13</th>\n      <td>1</td>\n      <td>0.3</td>\n      <td>4</td>\n      <td>5</td>\n      <td>0.597982</td>\n      <td>0.632570</td>\n    </tr>\n    <tr>\n      <th>14</th>\n      <td>5</td>\n      <td>0.3</td>\n      <td>4</td>\n      <td>10</td>\n      <td>0.592448</td>\n      <td>0.648479</td>\n    </tr>\n    <tr>\n      <th>15</th>\n      <td>7</td>\n      <td>0.3</td>\n      <td>4</td>\n      <td>50</td>\n      <td>0.586263</td>\n      <td>0.741697</td>\n    </tr>\n    <tr>\n      <th>16</th>\n      <td>16</td>\n      <td>0.3</td>\n      <td>6</td>\n      <td>1</td>\n      <td>0.571940</td>\n      <td>0.639967</td>\n    </tr>\n    <tr>\n      <th>17</th>\n      <td>14</td>\n      <td>0.3</td>\n      <td>6</td>\n      <td>5</td>\n      <td>0.576823</td>\n      <td>0.692855</td>\n    </tr>\n    <tr>\n      <th>18</th>\n      <td>13</td>\n      <td>0.3</td>\n      <td>6</td>\n      <td>10</td>\n      <td>0.579102</td>\n      <td>0.710857</td>\n    </tr>\n    <tr>\n      <th>19</th>\n      <td>21</td>\n      <td>0.3</td>\n      <td>6</td>\n      <td>50</td>\n      <td>0.564453</td>\n      <td>0.863383</td>\n    </tr>\n    <tr>\n      <th>20</th>\n      <td>23</td>\n      <td>0.3</td>\n      <td>10</td>\n      <td>1</td>\n      <td>0.561849</td>\n      <td>0.721183</td>\n    </tr>\n    <tr>\n      <th>21</th>\n      <td>22</td>\n      <td>0.3</td>\n      <td>10</td>\n      <td>5</td>\n      <td>0.562500</td>\n      <td>0.866732</td>\n    </tr>\n    <tr>\n      <th>22</th>\n      <td>19</td>\n      <td>0.3</td>\n      <td>10</td>\n      <td>10</td>\n      <td>0.570312</td>\n      <td>0.922551</td>\n    </tr>\n    <tr>\n      <th>23</th>\n      <td>20</td>\n      <td>0.3</td>\n      <td>10</td>\n      <td>50</td>\n      <td>0.569987</td>\n      <td>0.996372</td>\n    </tr>\n  </tbody>\n</table>\n</div>"
     },
     "metadata": {},
     "execution_count": 188
    }
   ],
   "source": [
    "pd.concat([pd.DataFrame(xg_model.cv_results_[\"rank_test_score\"], columns=[\"Rank\"]), pd.DataFrame(xg_model.cv_results_[\"params\"]),pd.DataFrame(xg_model.cv_results_[\"mean_test_score\"], columns=[\"Accuracy\"]),pd.DataFrame(xg_model.cv_results_[\"mean_train_score\"], columns=[\"Train Score\"])],axis=1)"
   ]
  },
  {
   "cell_type": "code",
   "execution_count": 186,
   "metadata": {},
   "outputs": [
    {
     "output_type": "execute_result",
     "data": {
      "text/plain": [
       "['local_xg_70p_64_all.pkl']"
      ]
     },
     "metadata": {},
     "execution_count": 186
    }
   ],
   "source": [
    "dump(xg_model, 'local_xg_{}_{}_all.pkl'.format('70p', 64))"
   ]
  },
  {
   "source": [
    "More on: https://github.com/otakbeku/modified-FCOS"
   ],
   "cell_type": "markdown",
   "metadata": {}
  }
 ]
}