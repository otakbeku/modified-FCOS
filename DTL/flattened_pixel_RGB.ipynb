{
 "cells": [
  {
   "cell_type": "markdown",
   "metadata": {},
   "source": [
    "# Image Classification Dataset COCO untuk Kategori Anjing dan Kucing"
   ]
  },
  {
   "cell_type": "markdown",
   "metadata": {},
   "source": [
    "Aditya Rachman Putra  \n",
    "Harits Abdurrohman\n",
    "\n",
    "Data Checkpoint, saved model, dan raw features bisa diakses di [VM](https://3a4285ffc4f4b3f1-dot-asia-southeast1.notebooks.googleusercontent.com/lab/tree/modified-FCOS/DTL) atau bisa mengontak adityarputra@gmail.com atau harits.abrd@gmail.com\n",
    "\n",
    "## Dataset COCO\n",
    "\n",
    "Merupakan dataset untuk Object Detection dengan banyak category, namun untuk tugas ini disederhanakan menjadi suatu masalah klasifikasi gambar dengan dua kategori (binary classification). Eksperimen yang dilakukan secara garis besar dibagi menjadi dua bagian, yaitu eksperimen representasi data gambar (dan secara tidak langsung juga feature engineering). Dan eksperimen parameter model yang digunakan.\n",
    "\n",
    "karena hanya ada dua kelas, gambar yang digunakan merupakan gambar yang berisi salah satu kelas target saja (anjing atau kucing) namun tidak keduanya.\n",
    "\n",
    "## Experiment Parameter Model\n",
    "\n",
    "### Decision Tree Learning\n",
    "\n",
    "- Maximum tree Depth : 10, 100, 1000\n",
    "- Criterion : Gini, Entropy\n",
    "\n",
    "### Random Forest dan XGBoost\n",
    "\n",
    "- Maximum Depth : 4, 6, 10\n",
    "- Learning Rate : 0.1 dan 0.3\n",
    "- Jumlah Estimators : 1, 5, 10, 50\n",
    "\n",
    "\n",
    "## Eksperimen Representasi\n",
    "\n",
    "- PCA\n",
    "- SVD\n",
    "- Texture\n",
    "- Color Moment\n",
    "\n"
   ]
  },
  {
   "cell_type": "markdown",
   "metadata": {
    "id": "Udf-Jiqyserm"
   },
   "source": [
    "# Setup COCO API\n"
   ]
  },
  {
   "cell_type": "code",
   "execution_count": 1,
   "metadata": {
    "colab": {
     "base_uri": "https://localhost:8080/"
    },
    "id": "ROt71vfIeFyz",
    "outputId": "a54936ef-e087-4d82-dec8-c16cd8bac581"
   },
   "outputs": [
    {
     "name": "stdout",
     "output_type": "stream",
     "text": [
      "Requirement already satisfied: Cython in /opt/conda/lib/python3.7/site-packages (0.29.21)\n",
      "Requirement already satisfied: xgboost in /opt/conda/lib/python3.7/site-packages (1.2.1)\n",
      "Requirement already satisfied: numpy in /opt/conda/lib/python3.7/site-packages (from xgboost) (1.18.5)\n",
      "Requirement already satisfied: scipy in /opt/conda/lib/python3.7/site-packages (from xgboost) (1.5.2)\n",
      "Requirement already satisfied: scikit-image in /opt/conda/lib/python3.7/site-packages (0.17.2)\n",
      "Requirement already satisfied: scikit-learn in /opt/conda/lib/python3.7/site-packages (0.23.2)\n",
      "Requirement already satisfied: graphviz in /opt/conda/lib/python3.7/site-packages (0.14.2)\n",
      "Requirement already satisfied: numpy>=1.15.1 in /opt/conda/lib/python3.7/site-packages (from scikit-image) (1.18.5)\n",
      "Requirement already satisfied: scipy>=1.0.1 in /opt/conda/lib/python3.7/site-packages (from scikit-image) (1.5.2)\n",
      "Requirement already satisfied: matplotlib!=3.0.0,>=2.0.0 in /opt/conda/lib/python3.7/site-packages (from scikit-image) (3.3.2)\n",
      "Requirement already satisfied: networkx>=2.0 in /opt/conda/lib/python3.7/site-packages (from scikit-image) (2.5)\n",
      "Requirement already satisfied: pillow!=7.1.0,!=7.1.1,>=4.3.0 in /opt/conda/lib/python3.7/site-packages (from scikit-image) (7.2.0)\n",
      "Requirement already satisfied: imageio>=2.3.0 in /opt/conda/lib/python3.7/site-packages (from scikit-image) (2.9.0)\n",
      "Requirement already satisfied: tifffile>=2019.7.26 in /opt/conda/lib/python3.7/site-packages (from scikit-image) (2020.10.1)\n",
      "Requirement already satisfied: PyWavelets>=1.1.1 in /opt/conda/lib/python3.7/site-packages (from scikit-image) (1.1.1)\n",
      "Requirement already satisfied: joblib>=0.11 in /opt/conda/lib/python3.7/site-packages (from scikit-learn) (0.17.0)\n",
      "Requirement already satisfied: threadpoolctl>=2.0.0 in /opt/conda/lib/python3.7/site-packages (from scikit-learn) (2.1.0)\n",
      "Requirement already satisfied: pyparsing!=2.0.4,!=2.1.2,!=2.1.6,>=2.0.3 in /opt/conda/lib/python3.7/site-packages (from matplotlib!=3.0.0,>=2.0.0->scikit-image) (2.4.7)\n",
      "Requirement already satisfied: kiwisolver>=1.0.1 in /opt/conda/lib/python3.7/site-packages (from matplotlib!=3.0.0,>=2.0.0->scikit-image) (1.2.0)\n",
      "Requirement already satisfied: cycler>=0.10 in /opt/conda/lib/python3.7/site-packages (from matplotlib!=3.0.0,>=2.0.0->scikit-image) (0.10.0)\n",
      "Requirement already satisfied: certifi>=2020.06.20 in /opt/conda/lib/python3.7/site-packages (from matplotlib!=3.0.0,>=2.0.0->scikit-image) (2020.6.20)\n",
      "Requirement already satisfied: python-dateutil>=2.1 in /opt/conda/lib/python3.7/site-packages (from matplotlib!=3.0.0,>=2.0.0->scikit-image) (2.8.1)\n",
      "Requirement already satisfied: decorator>=4.3.0 in /opt/conda/lib/python3.7/site-packages (from networkx>=2.0->scikit-image) (4.4.2)\n",
      "Requirement already satisfied: six in /opt/conda/lib/python3.7/site-packages (from cycler>=0.10->matplotlib!=3.0.0,>=2.0.0->scikit-image) (1.15.0)\n"
     ]
    }
   ],
   "source": [
    "!pip install Cython\n",
    "!pip install -q \"tqdm>=4.36.1\"\n",
    "!pip3 install xgboost\n",
    "!pip3 install scikit-image scikit-learn graphviz"
   ]
  },
  {
   "cell_type": "code",
   "execution_count": 2,
   "metadata": {
    "id": "D5Ij1uvrZL2I"
   },
   "outputs": [
    {
     "name": "stdout",
     "output_type": "stream",
     "text": [
      "fatal: destination path 'coco' already exists and is not an empty directory.\n",
      "Requirement already up-to-date: setuptools in /opt/conda/lib/python3.7/site-packages (50.3.2)\n",
      "Requirement already up-to-date: wheel in /opt/conda/lib/python3.7/site-packages (0.35.1)\n",
      "make: Entering directory '/home/jupyter/modified-FCOS/DTL/coco/PythonAPI'\n",
      "# install pycocotools to the Python site-packages\n",
      "python setup.py build_ext install\n",
      "running build_ext\n",
      "building 'pycocotools._mask' extension\n",
      "creating build\n",
      "creating build/temp.linux-x86_64-3.7\n",
      "creating build/temp.linux-x86_64-3.7/pycocotools\n",
      "creating build/common\n",
      "gcc -pthread -B /opt/conda/compiler_compat -Wl,--sysroot=/ -Wsign-compare -DNDEBUG -g -fwrapv -O3 -Wall -Wstrict-prototypes -fPIC -I/opt/conda/lib/python3.7/site-packages/numpy/core/include -I../common -I/opt/conda/include/python3.7m -c pycocotools/_mask.c -o build/temp.linux-x86_64-3.7/pycocotools/_mask.o -Wno-cpp -Wno-unused-function -std=c99\n",
      "^C\n",
      "interrupted\n",
      "Makefile:7: recipe for target 'install' failed\n",
      "make: *** [install] Error 1\n"
     ]
    }
   ],
   "source": [
    "!git clone https://github.com/waleedka/coco\n",
    "!pip install -U setuptools\n",
    "!pip install -U wheel\n",
    "!make install -C coco/PythonAPI"
   ]
  },
  {
   "cell_type": "code",
   "execution_count": 3,
   "metadata": {
    "id": "4ZaNPw5wq1vy",
    "tags": []
   },
   "outputs": [
    {
     "name": "stdout",
     "output_type": "stream",
     "text": [
      "--2020-11-06 01:44:33--  http://images.cocodataset.org/annotations/annotations_trainval2017.zip\n",
      "Resolving images.cocodataset.org (images.cocodataset.org)... 52.216.88.163\n",
      "Connecting to images.cocodataset.org (images.cocodataset.org)|52.216.88.163|:80... connected.\n",
      "HTTP request sent, awaiting response... 200 OK\n",
      "Length: 252907541 (241M) [application/zip]\n",
      "Saving to: ‘annotations_trainval2017.zip’\n",
      "\n",
      "      annotations_t   0%[                    ] 223.26K   263KB/s               ^C\n",
      "Archive:  ./annotations_trainval2017.zip\n",
      "  End-of-central-directory signature not found.  Either this file is not\n",
      "  a zipfile, or it constitutes one disk of a multi-part archive.  In the\n",
      "  latter case the central directory and zipfile comment will be found on\n",
      "  the last disk(s) of this archive.\n",
      "unzip:  cannot find zipfile directory in one of ./annotations_trainval2017.zip or\n",
      "        ./annotations_trainval2017.zip.zip, and cannot find ./annotations_trainval2017.zip.ZIP, period.\n"
     ]
    }
   ],
   "source": [
    "!wget http://images.cocodataset.org/annotations/annotations_trainval2017.zip\n",
    "!unzip ./annotations_trainval2017.zip"
   ]
  },
  {
   "cell_type": "code",
   "execution_count": 31,
   "metadata": {
    "id": "4ZaNPw5wq1vy",
    "tags": []
   },
   "outputs": [
    {
     "name": "stdout",
     "output_type": "stream",
     "text": [
      "--2020-11-11 00:58:36--  http://images.cocodataset.org/annotations/image_info_test2017.zip\n",
      "Resolving images.cocodataset.org (images.cocodataset.org)... 52.217.103.84\n",
      "Connecting to images.cocodataset.org (images.cocodataset.org)|52.217.103.84|:80... connected.\n",
      "HTTP request sent, awaiting response... 200 OK\n",
      "Length: 1144034 (1.1M) [application/zip]\n",
      "Saving to: ‘image_info_test2017.zip’\n",
      "\n",
      "image_info_test2017 100%[===================>]   1.09M   873KB/s    in 1.3s    \n",
      "\n",
      "2020-11-11 00:58:38 (873 KB/s) - ‘image_info_test2017.zip’ saved [1144034/1144034]\n",
      "\n",
      "Archive:  ./image_info_test2017.zip\n",
      "  inflating: annotations/image_info_test-dev2017.json  \n",
      "  inflating: annotations/image_info_test2017.json  \n"
     ]
    }
   ],
   "source": [
    "!wget http://images.cocodataset.org/annotations/image_info_test2017.zip\n",
    "!unzip ./image_info_test2017.zip"
   ]
  },
  {
   "cell_type": "markdown",
   "metadata": {
    "id": "2mzeZ7QvslF2"
   },
   "source": [
    "# Import needed Packages and Load COCO categories"
   ]
  },
  {
   "cell_type": "code",
   "execution_count": 2,
   "metadata": {
    "id": "sLnXn4DBZM_C"
   },
   "outputs": [],
   "source": [
    "from pycocotools.coco import COCO\n",
    "from sklearn import metrics\n",
    "from sklearn.tree import DecisionTreeClassifier\n",
    "from sklearn.ensemble import RandomForestClassifier\n",
    "from sklearn.model_selection import GridSearchCV, PredefinedSplit, train_test_split\n",
    "from skimage.transform import rescale, resize, downscale_local_mean\n",
    "from skimage.util import crop\n",
    "from skimage import io, color\n",
    "from math import floor, ceil\n",
    "from PIL import Image\n",
    "from joblib import dump, load\n",
    "from tqdm.notebook import tqdm\n",
    "from os import path\n",
    "import xgboost as xgb\n",
    "import numpy as np\n",
    "import pandas as pd\n",
    "import matplotlib.pyplot as plt\n",
    "import graphviz \n",
    "import json\n",
    "import pandas as pd"
   ]
  },
  {
   "cell_type": "code",
   "execution_count": 3,
   "metadata": {},
   "outputs": [],
   "source": [
    "def split_integer(num):\n",
    "    return (floor(num/2), ceil(num/2))\n",
    "\n",
    "def load_resize_crop_img(img_url, target_width=64, rgb = True):\n",
    "    I = io.imread(img_url)\n",
    "    factor = target_width/min(I.shape[0:2])\n",
    "    resize_target = (round(I.shape[0] * factor), round(I.shape[1] * factor))\n",
    "    resized_image = (resize(I, resize_target, anti_aliasing=False) * 255).astype(np.uint8)\n",
    "    crop_width = (split_integer(resize_target[0] - target_width), split_integer(resize_target[1] - target_width), (0,0))\n",
    "    if rgb:\n",
    "        cropped_image = crop(color.gray2rgb(resized_image), crop_width)\n",
    "    else:\n",
    "        cropped_image = crop(color.rgb2gray(resized_image), crop_width)\n",
    "    return cropped_image\n",
    "\n",
    "def get_coco_id(annotation_file, cat1 = \"dog\", cat2 = \"cat\", n = None):\n",
    "    coco = COCO(annotation_file)\n",
    "    catIds = coco.getCatIds(catNms=[cat1,cat2])\n",
    "    img_combine = coco.getImgIds(catIds=catIds)\n",
    "    img_cat1 = list(set(coco.getImgIds(catIds=coco.getCatIds(catNms=[cat1]))) - set(img_combine))\n",
    "    img_cat2 = list(set(coco.getImgIds(catIds=coco.getCatIds(catNms=[cat2]))) - set(img_combine))\n",
    "    if n is None:\n",
    "        return img_cat1 + img_cat2, np.array(len(img_cat1) * [1] + len(img_cat2) * [0])\n",
    "    return img_cat1[:n] + img_cat2[:n], np.array(len(img_cat1[:n]) * [1] + len(img_cat2[:n]) * [0])"
   ]
  },
  {
   "cell_type": "code",
   "execution_count": 10,
   "metadata": {
    "colab": {
     "base_uri": "https://localhost:8080/",
     "height": 35
    },
    "id": "kFs5QFY_K2ZB",
    "outputId": "3114c041-b87f-4d33-b764-87147a5eb7ee"
   },
   "outputs": [],
   "source": [
    "train_path=\"annotations/instances_train2017.json\"\n",
    "val_path=\"annotations/instances_val2017.json\"\n",
    "test_path=\"annotations/instances_val2017.json\"\n",
    "annotation = {\"train\":train_path, \"val\":val_path}\n",
    "\n",
    "N_TRAIN = 4000\n",
    "IMG_SIZE = 64"
   ]
  },
  {
   "cell_type": "markdown",
   "metadata": {},
   "source": [
    "# Get COCO Image Data"
   ]
  },
  {
   "cell_type": "markdown",
   "metadata": {},
   "source": [
    "Untuk mempermudah melakukan eksperimen berulang, data gambar COCO di simpan pada storage mesin. Dan gambar akan di load kedalam variable sesuai kebutuhan. Dan karena COCO sudah memiliki train-val split sendiri.\n",
    "\n",
    "Untuk eksperimen awal, digunakan representasi yang \"naive\" dari data gambar, yaitu diubah menjadi suatu flat array dengan ukuran 1 x (size x size x 3) dengan size yang digunakan sebesar 64 pixel (karena keterbatasan RAM dan grid search tidak support partial_fit maka digunakan ukuran gambar yang masih _muat_ kedalam Memory). Untuk gambar yang dalam format Grayscale, akan diubah menjadi RGB dengan SKImage Gray2RGB.\n",
    "\n",
    "> **What's Next**\n",
    "> - Bandingkan hasil antara image yang RGB dengan grayscale seperti apa\n",
    "> - Mencari cara untuk bisa melakukan training tanpa terlalu terbatas pada ukuran RAM seperti dengan menggunakan Numpy \n",
    "> - Coba untuk Train-Val split menggunakan SKlearn train-test-split dengan test 1/3 dari keseluruhan data"
   ]
  },
  {
   "cell_type": "code",
   "execution_count": 6,
   "metadata": {},
   "outputs": [
    {
     "name": "stdout",
     "output_type": "stream",
     "text": [
      "loading annotations into memory...\n",
      "Done (t=20.28s)\n",
      "creating index...\n",
      "index created!\n",
      "loading annotations into memory...\n",
      "Done (t=0.65s)\n",
      "creating index...\n",
      "index created!\n"
     ]
    }
   ],
   "source": [
    "X_train, y_train = get_coco_id(annotation[\"train\"], n=N_TRAIN)\n",
    "X_val, y_val = get_coco_id(annotation[\"val\"])"
   ]
  },
  {
   "cell_type": "code",
   "execution_count": 16,
   "metadata": {},
   "outputs": [
    {
     "name": "stdout",
     "output_type": "stream",
     "text": [
      "loading annotations into memory...\n",
      "Done (t=18.34s)\n",
      "creating index...\n",
      "index created!\n"
     ]
    },
    {
     "data": {
      "application/vnd.jupyter.widget-view+json": {
       "model_id": "2c20496fa2124e32915590acab037470",
       "version_major": 2,
       "version_minor": 0
      },
      "text/plain": [
       "HBox(children=(HTML(value=''), FloatProgress(value=0.0, max=8083.0), HTML(value='')))"
      ]
     },
     "metadata": {},
     "output_type": "display_data"
    },
    {
     "name": "stdout",
     "output_type": "stream",
     "text": [
      "\n"
     ]
    }
   ],
   "source": [
    "coco = COCO(annotation[\"train\"])\n",
    "for x in tqdm(X_train):\n",
    "    fn = \"train/{}.png\".format(x)\n",
    "    if path.exists(fn):\n",
    "#         print(f\"skipping {x}\")\n",
    "        continue\n",
    "    I = io.imread(coco.loadImgs(x)[0]['coco_url'])\n",
    "    io.imsave(fn,I)"
   ]
  },
  {
   "cell_type": "code",
   "execution_count": 17,
   "metadata": {},
   "outputs": [
    {
     "name": "stdout",
     "output_type": "stream",
     "text": [
      "loading annotations into memory...\n",
      "Done (t=1.89s)\n",
      "creating index...\n",
      "index created!\n"
     ]
    },
    {
     "data": {
      "application/vnd.jupyter.widget-view+json": {
       "model_id": "725d974b85b44901bced728b1421473e",
       "version_major": 2,
       "version_minor": 0
      },
      "text/plain": [
       "HBox(children=(HTML(value=''), FloatProgress(value=0.0, max=337.0), HTML(value='')))"
      ]
     },
     "metadata": {},
     "output_type": "display_data"
    },
    {
     "name": "stdout",
     "output_type": "stream",
     "text": [
      "\n"
     ]
    }
   ],
   "source": [
    "coco = COCO(annotation[\"val\"])\n",
    "for x in tqdm(X_val):\n",
    "    fn = \"val/{}.png\".format(x)\n",
    "    if path.exists(fn):\n",
    "#         print(f\"skipping {x}\")\n",
    "        continue\n",
    "    I = io.imread(coco.loadImgs(x)[0]['coco_url'])\n",
    "    io.imsave(fn,I)"
   ]
  },
  {
   "cell_type": "markdown",
   "metadata": {},
   "source": [
    "## Preprocess the image and flatten it"
   ]
  },
  {
   "cell_type": "code",
   "execution_count": 55,
   "metadata": {},
   "outputs": [
    {
     "data": {
      "application/vnd.jupyter.widget-view+json": {
       "model_id": "3fadb610b1824aaca5c25ed2b5df7508",
       "version_major": 2,
       "version_minor": 0
      },
      "text/plain": [
       "HBox(children=(HTML(value=''), FloatProgress(value=0.0, max=8083.0), HTML(value='')))"
      ]
     },
     "metadata": {},
     "output_type": "display_data"
    },
    {
     "name": "stderr",
     "output_type": "stream",
     "text": [
      "/opt/conda/lib/python3.7/site-packages/ipykernel_launcher.py:19: FutureWarning: Pass-through of possibly RGB images in gray2rgb is deprecated. In version 0.19, input arrays will always be considered grayscale, even if the last dimension has length 3 or 4. To prevent this warning and ensure compatibility with future versions, detect RGB images outside of this function.\n"
     ]
    },
    {
     "name": "stdout",
     "output_type": "stream",
     "text": [
      "\n",
      "Finished with length:  8083\n",
      "Converted to ndarray with shape:  (8083, 12288) (8083,)\n"
     ]
    }
   ],
   "source": [
    "# coco = COCO(annotation[\"train\"])\n",
    "X_loaded = []\n",
    "for x in tqdm(X_train):\n",
    "    try : \n",
    "        fn = \"train/{}.png\".format(x)\n",
    "        X_loaded += [load_resize_crop_img(fn, target_width=IMG_SIZE).flatten()]\n",
    "    except :\n",
    "        print(x)\n",
    "print(\"Finished with length: \",len(X_loaded))\n",
    "X_loaded = np.array(X_loaded)\n",
    "# df_train = pd.Dataframe({\"X\":X_loaded,\"y\":y_train})\n",
    "print(\"Converted to ndarray with shape: \",X_loaded.shape, y_train.shape)"
   ]
  },
  {
   "cell_type": "code",
   "execution_count": 56,
   "metadata": {},
   "outputs": [
    {
     "data": {
      "application/vnd.jupyter.widget-view+json": {
       "model_id": "5cc9fa0d99e14814b2663c20596a9bb5",
       "version_major": 2,
       "version_minor": 0
      },
      "text/plain": [
       "HBox(children=(HTML(value=''), FloatProgress(value=0.0, max=337.0), HTML(value='')))"
      ]
     },
     "metadata": {},
     "output_type": "display_data"
    },
    {
     "name": "stderr",
     "output_type": "stream",
     "text": [
      "/opt/conda/lib/python3.7/site-packages/ipykernel_launcher.py:19: FutureWarning: Pass-through of possibly RGB images in gray2rgb is deprecated. In version 0.19, input arrays will always be considered grayscale, even if the last dimension has length 3 or 4. To prevent this warning and ensure compatibility with future versions, detect RGB images outside of this function.\n"
     ]
    },
    {
     "name": "stdout",
     "output_type": "stream",
     "text": [
      "\n",
      "Finished with length:  337\n",
      "Converted to ndarray with shape:  (337, 12288) (337,)\n"
     ]
    }
   ],
   "source": [
    "# coco = COCO(annotation[\"val\"])\n",
    "X_loaded_val = []\n",
    "for x in tqdm(X_val):\n",
    "    try : \n",
    "        fn = \"val/{}.png\".format(x)\n",
    "        X_loaded_val += [load_resize_crop_img(fn, target_width=IMG_SIZE).flatten()]\n",
    "    except :\n",
    "        print(x)\n",
    "print(\"Finished with length: \",len(X_loaded_val))\n",
    "X_loaded_val = np.array(X_loaded_val)\n",
    "print(\"Converted to ndarray with shape: \",X_loaded_val.shape, y_val.shape)"
   ]
  },
  {
   "cell_type": "markdown",
   "metadata": {},
   "source": [
    "## Prepare the fold for train-validate GridSearch"
   ]
  },
  {
   "cell_type": "markdown",
   "metadata": {},
   "source": [
    "Seperti yang sudah dibahas sebelumnya, untuk saat ini digunakan pembagian data training dan validasi mengikuti pembagian pada dataset COCO, sehingga didapatkan jumlah data training di 8083 gambar dan validasi di 337 gambar. Karena jumlah gambar validasi ini relatif sedikit, seharusnya bisa diubah dengan menggunakan train-test-split dari sklearn sehingga pembagian dari train dan validasi lebih _imbang_."
   ]
  },
  {
   "cell_type": "code",
   "execution_count": 8,
   "metadata": {},
   "outputs": [],
   "source": [
    "test_fold = np.concatenate([\n",
    "    # The training data.\n",
    "    np.full(len(X_train), -1, dtype=np.int8),\n",
    "    # The development data.\n",
    "    np.zeros(len(X_val), dtype=np.int8)\n",
    "])\n",
    "cv = PredefinedSplit(test_fold)\n",
    "\n",
    "X = np.concatenate([X_loaded, X_loaded_val])\n",
    "y = np.concatenate([y_train, y_val])\n",
    "\n",
    "# dtrain = xgb.DMatrix(X_loaded, label=y_train)\n",
    "# dval = xgb.DMatrix(X_loaded_val, label=y_val)"
   ]
  },
  {
   "cell_type": "code",
   "execution_count": 12,
   "metadata": {},
   "outputs": [
    {
     "data": {
      "text/plain": [
       "((337,), (8083,))"
      ]
     },
     "execution_count": 12,
     "metadata": {},
     "output_type": "execute_result"
    }
   ],
   "source": []
  },
  {
   "cell_type": "markdown",
   "metadata": {},
   "source": [
    "### Save features and label for use later"
   ]
  },
  {
   "cell_type": "markdown",
   "metadata": {},
   "source": [
    "Data numpy array dari flattened array disimpan kedalam npy file agar bisa digunakan kembali tanpa perlu melakukan preprocess dari gambar, dan variable yang sudah tidak digunakan dan mengambil ruang memory dihapus terlebih dahulu sebelum dimulai fitting"
   ]
  },
  {
   "cell_type": "code",
   "execution_count": 47,
   "metadata": {},
   "outputs": [
    {
     "name": "stdout",
     "output_type": "stream",
     "text": [
      "(5894, 12288) (1263, 12288) (1263, 12288)\n"
     ]
    }
   ],
   "source": [
    "# np.save(\"coco_dog_cat_feature_{}_{}.npy\".format(N_TRAIN, IMG_SIZE), X)\n",
    "# np.save(\"coco_dog_cat_label_{}_{}.npy\".format(N_TRAIN, IMG_SIZE), y)"
   ]
  },
  {
   "cell_type": "code",
   "execution_count": 73,
   "metadata": {},
   "outputs": [
    {
     "name": "stdout",
     "output_type": "stream",
     "text": [
      "(5894, 12288) (1263, 12288) (1263, 12288)\n"
     ]
    }
   ],
   "source": [
    "# Load the saved data\n",
    "X = np.load(\"coco_dog_cat_feature_{}_{}.npy\".format(4000, IMG_SIZE))\n",
    "y = np.load(\"coco_dog_cat_label_{}_{}.npy\".format(4000, IMG_SIZE))\n",
    "\n",
    "X_train, X_test, y_train, y_test = train_test_split(X, y, test_size=0.3, random_state=101)\n",
    "X_val, X_test, y_val, y_test = train_test_split(X_test, y_test, test_size=0.5, random_state=101)\n",
    "\n",
    "test_fold = np.concatenate([\n",
    "    # The training data.\n",
    "    np.full(len(X_train), -1, dtype=np.int8),\n",
    "    # The development data.\n",
    "    np.zeros(len(X_val), dtype=np.int8)\n",
    "])\n",
    "cv = PredefinedSplit(test_fold)\n",
    "\n",
    "X = np.concatenate([X_train, X_val])\n",
    "y = np.concatenate([y_train, y_val])\n",
    "\n",
    "print(X_train.shape, X_val.shape, X_test.shape)"
   ]
  },
  {
   "cell_type": "code",
   "execution_count": 61,
   "metadata": {},
   "outputs": [
    {
     "name": "stdin",
     "output_type": "stream",
     "text": [
      "Once deleted, variables cannot be recovered. Proceed (y/[n])?   y\n",
      "Once deleted, variables cannot be recovered. Proceed (y/[n])?   y\n"
     ]
    }
   ],
   "source": [
    "# Magic to delete unneeded variable (in this case the features array and label array) as it has been aggregated to X and y respectively\n",
    "# %reset_selective \"^X_loaded(_train)?$\"\n",
    "# %reset_selective \"^y_(train|val)$\""
   ]
  },
  {
   "cell_type": "markdown",
   "metadata": {},
   "source": [
    "# Grid Search Model Parameter\n",
    "\n",
    "Pada bagian ini dilakukan grid search pada setiap model dengan parameter yang telah ditentukan sebelumnya untuk menemukan kombinasi parameter yang memberi akurasi rata-rata terbaik. Dan digunakan scorer default dari masing-masing model, atau dalam kasus ini merupakan [mean_accuracy dari model tersebut ](https://scikit-learn.org/stable/modules/generated/sklearn.base.ClassifierMixin.html)\n",
    "\n",
    "> **Whats Next**\n",
    "> - Explore scoring yang sesuai untuk task binary classification yang lebih informatif (e.g. F1-score, AUC-ROC, etc.)\n",
    "> - Gunakan SKlearn classification_report untuk mendapatkan report yang lebih komprehensif\n",
    "\n",
    "## Decision Tree Learning "
   ]
  },
  {
   "cell_type": "code",
   "execution_count": 53,
   "metadata": {},
   "outputs": [],
   "source": [
    "base = DecisionTreeClassifier()\n",
    "grid = {\n",
    "\"max_depth\" : [10, 100, 1000],\n",
    "\"criterion\" : [\"gini\", \"entropy\"]\n",
    "}\n",
    "model = GridSearchCV(base, grid, cv=cv,n_jobs=4, verbose=100, return_train_score = True)"
   ]
  },
  {
   "cell_type": "code",
   "execution_count": 54,
   "metadata": {},
   "outputs": [
    {
     "name": "stdout",
     "output_type": "stream",
     "text": [
      "Fitting 1 folds for each of 6 candidates, totalling 6 fits\n",
      "[Parallel(n_jobs=4)]: Using backend LokyBackend with 4 concurrent workers.\n",
      "[Parallel(n_jobs=4)]: Done   1 tasks      | elapsed:  1.3min\n",
      "[Parallel(n_jobs=4)]: Done   2 out of   6 | elapsed:  1.9min remaining:  3.8min\n",
      "[Parallel(n_jobs=4)]: Done   3 out of   6 | elapsed:  1.9min remaining:  1.9min\n",
      "[Parallel(n_jobs=4)]: Done   4 out of   6 | elapsed:  1.9min remaining:   57.5s\n",
      "[Parallel(n_jobs=4)]: Done   6 out of   6 | elapsed:  3.7min remaining:    0.0s\n",
      "[Parallel(n_jobs=4)]: Done   6 out of   6 | elapsed:  3.7min finished\n"
     ]
    }
   ],
   "source": [
    "model = model.fit(X,y)"
   ]
  },
  {
   "cell_type": "code",
   "execution_count": 74,
   "metadata": {},
   "outputs": [],
   "source": [
    "model = load('gs_dtl_{}_{}.pkl'.format(X.shape[0], IMG_SIZE))"
   ]
  },
  {
   "cell_type": "code",
   "execution_count": 75,
   "metadata": {},
   "outputs": [
    {
     "data": {
      "text/html": [
       "<div>\n",
       "<style scoped>\n",
       "    .dataframe tbody tr th:only-of-type {\n",
       "        vertical-align: middle;\n",
       "    }\n",
       "\n",
       "    .dataframe tbody tr th {\n",
       "        vertical-align: top;\n",
       "    }\n",
       "\n",
       "    .dataframe thead th {\n",
       "        text-align: right;\n",
       "    }\n",
       "</style>\n",
       "<table border=\"1\" class=\"dataframe\">\n",
       "  <thead>\n",
       "    <tr style=\"text-align: right;\">\n",
       "      <th></th>\n",
       "      <th>Rank</th>\n",
       "      <th>criterion</th>\n",
       "      <th>max_depth</th>\n",
       "      <th>Accuracy</th>\n",
       "      <th>Train_Accuracy</th>\n",
       "    </tr>\n",
       "  </thead>\n",
       "  <tbody>\n",
       "    <tr>\n",
       "      <th>0</th>\n",
       "      <td>1</td>\n",
       "      <td>gini</td>\n",
       "      <td>10</td>\n",
       "      <td>0.552652</td>\n",
       "      <td>0.873770</td>\n",
       "    </tr>\n",
       "    <tr>\n",
       "      <th>1</th>\n",
       "      <td>4</td>\n",
       "      <td>gini</td>\n",
       "      <td>100</td>\n",
       "      <td>0.536025</td>\n",
       "      <td>1.000000</td>\n",
       "    </tr>\n",
       "    <tr>\n",
       "      <th>2</th>\n",
       "      <td>3</td>\n",
       "      <td>gini</td>\n",
       "      <td>1000</td>\n",
       "      <td>0.547902</td>\n",
       "      <td>1.000000</td>\n",
       "    </tr>\n",
       "    <tr>\n",
       "      <th>3</th>\n",
       "      <td>2</td>\n",
       "      <td>entropy</td>\n",
       "      <td>10</td>\n",
       "      <td>0.551861</td>\n",
       "      <td>0.817102</td>\n",
       "    </tr>\n",
       "    <tr>\n",
       "      <th>4</th>\n",
       "      <td>5</td>\n",
       "      <td>entropy</td>\n",
       "      <td>100</td>\n",
       "      <td>0.528108</td>\n",
       "      <td>1.000000</td>\n",
       "    </tr>\n",
       "    <tr>\n",
       "      <th>5</th>\n",
       "      <td>6</td>\n",
       "      <td>entropy</td>\n",
       "      <td>1000</td>\n",
       "      <td>0.524149</td>\n",
       "      <td>1.000000</td>\n",
       "    </tr>\n",
       "  </tbody>\n",
       "</table>\n",
       "</div>"
      ],
      "text/plain": [
       "   Rank criterion  max_depth  Accuracy  Train_Accuracy\n",
       "0     1      gini         10  0.552652        0.873770\n",
       "1     4      gini        100  0.536025        1.000000\n",
       "2     3      gini       1000  0.547902        1.000000\n",
       "3     2   entropy         10  0.551861        0.817102\n",
       "4     5   entropy        100  0.528108        1.000000\n",
       "5     6   entropy       1000  0.524149        1.000000"
      ]
     },
     "execution_count": 75,
     "metadata": {},
     "output_type": "execute_result"
    }
   ],
   "source": [
    "pd.concat([pd.DataFrame(model.cv_results_[\"rank_test_score\"], columns=[\"Rank\"]), \n",
    "           pd.DataFrame(model.cv_results_[\"params\"]),\n",
    "           pd.DataFrame(model.cv_results_[\"mean_test_score\"], columns=[\"Accuracy\"]),\n",
    "           pd.DataFrame(model.cv_results_[\"mean_train_score\"], columns=[\"Train_Accuracy\"])],axis=1)"
   ]
  },
  {
   "cell_type": "code",
   "execution_count": 76,
   "metadata": {},
   "outputs": [
    {
     "name": "stdout",
     "output_type": "stream",
     "text": [
      "              precision    recall  f1-score   support\n",
      "\n",
      "           0       0.55      0.55      0.55       612\n",
      "           1       0.58      0.58      0.58       651\n",
      "\n",
      "    accuracy                           0.56      1263\n",
      "   macro avg       0.56      0.56      0.56      1263\n",
      "weighted avg       0.56      0.56      0.56      1263\n",
      "\n"
     ]
    }
   ],
   "source": [
    "predictions = model.predict(X_test)\n",
    "print(classification_report(y_test, predictions))"
   ]
  },
  {
   "cell_type": "code",
   "execution_count": 58,
   "metadata": {},
   "outputs": [
    {
     "data": {
      "text/plain": [
       "['gs_dtl_7157_64.pkl']"
      ]
     },
     "execution_count": 58,
     "metadata": {},
     "output_type": "execute_result"
    }
   ],
   "source": [
    "dump(model, 'gs_dtl_{}_{}.pkl'.format(X.shape[0], IMG_SIZE))"
   ]
  },
  {
   "cell_type": "code",
   "execution_count": null,
   "metadata": {},
   "outputs": [],
   "source": [
    "# %reset_selective \"^model$\""
   ]
  },
  {
   "cell_type": "markdown",
   "metadata": {},
   "source": [
    "Bisa diamati bahwa untuk decision tree classifier, hasil terbaik untuk dataset ini bisa didapatkan dengan `max_depth = 10` dan `criterion = gini`"
   ]
  },
  {
   "cell_type": "markdown",
   "metadata": {},
   "source": [
    "## Random Forest Classifier"
   ]
  },
  {
   "cell_type": "code",
   "execution_count": 38,
   "metadata": {},
   "outputs": [],
   "source": [
    "rf_base = xgb.XGBRFClassifier()\n",
    "rf_grid = {\n",
    "\"max_depth\" : [4, 6, 10],\n",
    "\"learning_rate\" : [0.01, 0.1, 0.3],\n",
    "\"n_estimators\" : [1, 5, 10, 50]\n",
    "}\n",
    "rf_model = GridSearchCV(rf_base, rf_grid, cv=cv,n_jobs=4, verbose=100, return_train_score = True)"
   ]
  },
  {
   "cell_type": "code",
   "execution_count": 39,
   "metadata": {},
   "outputs": [
    {
     "name": "stdout",
     "output_type": "stream",
     "text": [
      "Fitting 1 folds for each of 36 candidates, totalling 36 fits\n",
      "[Parallel(n_jobs=4)]: Using backend LokyBackend with 4 concurrent workers.\n",
      "[Parallel(n_jobs=4)]: Done   1 tasks      | elapsed:   20.6s\n",
      "[Parallel(n_jobs=4)]: Done   2 tasks      | elapsed:   36.4s\n",
      "[Parallel(n_jobs=4)]: Done   3 tasks      | elapsed:   40.7s\n",
      "[Parallel(n_jobs=4)]: Done   4 tasks      | elapsed:   56.6s\n",
      "[Parallel(n_jobs=4)]: Done   5 tasks      | elapsed:  1.4min\n",
      "[Parallel(n_jobs=4)]: Done   6 tasks      | elapsed:  1.9min\n",
      "[Parallel(n_jobs=4)]: Done   7 tasks      | elapsed:  2.1min\n",
      "[Parallel(n_jobs=4)]: Done   8 tasks      | elapsed:  3.3min\n",
      "[Parallel(n_jobs=4)]: Done   9 tasks      | elapsed:  3.7min\n",
      "[Parallel(n_jobs=4)]: Done  10 tasks      | elapsed:  3.9min\n",
      "[Parallel(n_jobs=4)]: Done  11 tasks      | elapsed:  4.5min\n",
      "[Parallel(n_jobs=4)]: Done  12 tasks      | elapsed:  4.7min\n",
      "[Parallel(n_jobs=4)]: Done  13 tasks      | elapsed:  5.4min\n",
      "[Parallel(n_jobs=4)]: Done  14 tasks      | elapsed:  5.7min\n",
      "[Parallel(n_jobs=4)]: Done  15 tasks      | elapsed:  6.5min\n",
      "[Parallel(n_jobs=4)]: Done  16 tasks      | elapsed:  7.2min\n",
      "[Parallel(n_jobs=4)]: Done  17 tasks      | elapsed:  7.9min\n",
      "[Parallel(n_jobs=4)]: Done  18 tasks      | elapsed:  8.3min\n",
      "[Parallel(n_jobs=4)]: Done  19 tasks      | elapsed:  8.4min\n",
      "[Parallel(n_jobs=4)]: Done  20 tasks      | elapsed:  9.7min\n",
      "[Parallel(n_jobs=4)]: Done  21 tasks      | elapsed: 11.0min\n",
      "[Parallel(n_jobs=4)]: Done  22 tasks      | elapsed: 11.3min\n",
      "[Parallel(n_jobs=4)]: Done  23 tasks      | elapsed: 11.9min\n",
      "[Parallel(n_jobs=4)]: Done  24 tasks      | elapsed: 12.8min\n",
      "[Parallel(n_jobs=4)]: Done  25 tasks      | elapsed: 13.5min\n",
      "[Parallel(n_jobs=4)]: Done  26 tasks      | elapsed: 13.8min\n",
      "[Parallel(n_jobs=4)]: Done  27 tasks      | elapsed: 14.7min\n",
      "[Parallel(n_jobs=4)]: Done  28 tasks      | elapsed: 15.7min\n",
      "[Parallel(n_jobs=4)]: Done  29 tasks      | elapsed: 16.1min\n",
      "[Parallel(n_jobs=4)]: Done  30 out of  36 | elapsed: 16.4min remaining:  3.3min\n",
      "[Parallel(n_jobs=4)]: Done  31 out of  36 | elapsed: 16.5min remaining:  2.7min\n",
      "[Parallel(n_jobs=4)]: Done  32 out of  36 | elapsed: 17.8min remaining:  2.2min\n",
      "[Parallel(n_jobs=4)]: Done  33 out of  36 | elapsed: 19.2min remaining:  1.7min\n",
      "[Parallel(n_jobs=4)]: Done  34 out of  36 | elapsed: 21.6min remaining:  1.3min\n",
      "[Parallel(n_jobs=4)]: Done  36 out of  36 | elapsed: 26.6min remaining:    0.0s\n",
      "[Parallel(n_jobs=4)]: Done  36 out of  36 | elapsed: 26.6min finished\n"
     ]
    }
   ],
   "source": [
    "rf_model = rf_model.fit(X, y)"
   ]
  },
  {
   "cell_type": "code",
   "execution_count": 77,
   "metadata": {},
   "outputs": [],
   "source": [
    "rf_model = load('gs_rf_{}_{}.pkl'.format(X.shape[0], IMG_SIZE))"
   ]
  },
  {
   "cell_type": "code",
   "execution_count": 78,
   "metadata": {},
   "outputs": [
    {
     "data": {
      "text/html": [
       "<div>\n",
       "<style scoped>\n",
       "    .dataframe tbody tr th:only-of-type {\n",
       "        vertical-align: middle;\n",
       "    }\n",
       "\n",
       "    .dataframe tbody tr th {\n",
       "        vertical-align: top;\n",
       "    }\n",
       "\n",
       "    .dataframe thead th {\n",
       "        text-align: right;\n",
       "    }\n",
       "</style>\n",
       "<table border=\"1\" class=\"dataframe\">\n",
       "  <thead>\n",
       "    <tr style=\"text-align: right;\">\n",
       "      <th></th>\n",
       "      <th>Rank</th>\n",
       "      <th>learning_rate</th>\n",
       "      <th>max_depth</th>\n",
       "      <th>n_estimators</th>\n",
       "      <th>Accuracy</th>\n",
       "      <th>Train Accuracy</th>\n",
       "      <th>Fit Time</th>\n",
       "    </tr>\n",
       "  </thead>\n",
       "  <tbody>\n",
       "    <tr>\n",
       "      <th>0</th>\n",
       "      <td>28</td>\n",
       "      <td>0.01</td>\n",
       "      <td>4</td>\n",
       "      <td>1</td>\n",
       "      <td>0.589074</td>\n",
       "      <td>0.624533</td>\n",
       "      <td>16.138585</td>\n",
       "    </tr>\n",
       "    <tr>\n",
       "      <th>1</th>\n",
       "      <td>25</td>\n",
       "      <td>0.01</td>\n",
       "      <td>4</td>\n",
       "      <td>5</td>\n",
       "      <td>0.590657</td>\n",
       "      <td>0.671700</td>\n",
       "      <td>32.245691</td>\n",
       "    </tr>\n",
       "    <tr>\n",
       "      <th>2</th>\n",
       "      <td>19</td>\n",
       "      <td>0.01</td>\n",
       "      <td>4</td>\n",
       "      <td>10</td>\n",
       "      <td>0.594616</td>\n",
       "      <td>0.686461</td>\n",
       "      <td>51.663899</td>\n",
       "    </tr>\n",
       "    <tr>\n",
       "      <th>3</th>\n",
       "      <td>7</td>\n",
       "      <td>0.01</td>\n",
       "      <td>4</td>\n",
       "      <td>50</td>\n",
       "      <td>0.605701</td>\n",
       "      <td>0.692569</td>\n",
       "      <td>214.060637</td>\n",
       "    </tr>\n",
       "    <tr>\n",
       "      <th>4</th>\n",
       "      <td>31</td>\n",
       "      <td>0.01</td>\n",
       "      <td>6</td>\n",
       "      <td>1</td>\n",
       "      <td>0.578781</td>\n",
       "      <td>0.674584</td>\n",
       "      <td>16.964894</td>\n",
       "    </tr>\n",
       "    <tr>\n",
       "      <th>5</th>\n",
       "      <td>22</td>\n",
       "      <td>0.01</td>\n",
       "      <td>6</td>\n",
       "      <td>5</td>\n",
       "      <td>0.592241</td>\n",
       "      <td>0.778758</td>\n",
       "      <td>45.964429</td>\n",
       "    </tr>\n",
       "    <tr>\n",
       "      <th>6</th>\n",
       "      <td>16</td>\n",
       "      <td>0.01</td>\n",
       "      <td>6</td>\n",
       "      <td>10</td>\n",
       "      <td>0.596200</td>\n",
       "      <td>0.800136</td>\n",
       "      <td>81.059108</td>\n",
       "    </tr>\n",
       "    <tr>\n",
       "      <th>7</th>\n",
       "      <td>1</td>\n",
       "      <td>0.01</td>\n",
       "      <td>6</td>\n",
       "      <td>50</td>\n",
       "      <td>0.609660</td>\n",
       "      <td>0.838819</td>\n",
       "      <td>372.223656</td>\n",
       "    </tr>\n",
       "    <tr>\n",
       "      <th>8</th>\n",
       "      <td>34</td>\n",
       "      <td>0.01</td>\n",
       "      <td>10</td>\n",
       "      <td>1</td>\n",
       "      <td>0.551861</td>\n",
       "      <td>0.795385</td>\n",
       "      <td>24.689696</td>\n",
       "    </tr>\n",
       "    <tr>\n",
       "      <th>9</th>\n",
       "      <td>13</td>\n",
       "      <td>0.01</td>\n",
       "      <td>10</td>\n",
       "      <td>5</td>\n",
       "      <td>0.600950</td>\n",
       "      <td>0.928062</td>\n",
       "      <td>82.745449</td>\n",
       "    </tr>\n",
       "    <tr>\n",
       "      <th>10</th>\n",
       "      <td>4</td>\n",
       "      <td>0.01</td>\n",
       "      <td>10</td>\n",
       "      <td>10</td>\n",
       "      <td>0.607284</td>\n",
       "      <td>0.959620</td>\n",
       "      <td>153.473794</td>\n",
       "    </tr>\n",
       "    <tr>\n",
       "      <th>11</th>\n",
       "      <td>10</td>\n",
       "      <td>0.01</td>\n",
       "      <td>10</td>\n",
       "      <td>50</td>\n",
       "      <td>0.604117</td>\n",
       "      <td>0.980149</td>\n",
       "      <td>741.717500</td>\n",
       "    </tr>\n",
       "    <tr>\n",
       "      <th>12</th>\n",
       "      <td>28</td>\n",
       "      <td>0.10</td>\n",
       "      <td>4</td>\n",
       "      <td>1</td>\n",
       "      <td>0.589074</td>\n",
       "      <td>0.624533</td>\n",
       "      <td>14.138613</td>\n",
       "    </tr>\n",
       "    <tr>\n",
       "      <th>13</th>\n",
       "      <td>25</td>\n",
       "      <td>0.10</td>\n",
       "      <td>4</td>\n",
       "      <td>5</td>\n",
       "      <td>0.590657</td>\n",
       "      <td>0.671700</td>\n",
       "      <td>30.210491</td>\n",
       "    </tr>\n",
       "    <tr>\n",
       "      <th>14</th>\n",
       "      <td>19</td>\n",
       "      <td>0.10</td>\n",
       "      <td>4</td>\n",
       "      <td>10</td>\n",
       "      <td>0.594616</td>\n",
       "      <td>0.686461</td>\n",
       "      <td>49.764626</td>\n",
       "    </tr>\n",
       "    <tr>\n",
       "      <th>15</th>\n",
       "      <td>7</td>\n",
       "      <td>0.10</td>\n",
       "      <td>4</td>\n",
       "      <td>50</td>\n",
       "      <td>0.605701</td>\n",
       "      <td>0.692569</td>\n",
       "      <td>210.835555</td>\n",
       "    </tr>\n",
       "    <tr>\n",
       "      <th>16</th>\n",
       "      <td>31</td>\n",
       "      <td>0.10</td>\n",
       "      <td>6</td>\n",
       "      <td>1</td>\n",
       "      <td>0.578781</td>\n",
       "      <td>0.674584</td>\n",
       "      <td>17.263056</td>\n",
       "    </tr>\n",
       "    <tr>\n",
       "      <th>17</th>\n",
       "      <td>22</td>\n",
       "      <td>0.10</td>\n",
       "      <td>6</td>\n",
       "      <td>5</td>\n",
       "      <td>0.592241</td>\n",
       "      <td>0.778758</td>\n",
       "      <td>46.464675</td>\n",
       "    </tr>\n",
       "    <tr>\n",
       "      <th>18</th>\n",
       "      <td>16</td>\n",
       "      <td>0.10</td>\n",
       "      <td>6</td>\n",
       "      <td>10</td>\n",
       "      <td>0.596200</td>\n",
       "      <td>0.800136</td>\n",
       "      <td>81.337235</td>\n",
       "    </tr>\n",
       "    <tr>\n",
       "      <th>19</th>\n",
       "      <td>1</td>\n",
       "      <td>0.10</td>\n",
       "      <td>6</td>\n",
       "      <td>50</td>\n",
       "      <td>0.609660</td>\n",
       "      <td>0.838819</td>\n",
       "      <td>373.941912</td>\n",
       "    </tr>\n",
       "    <tr>\n",
       "      <th>20</th>\n",
       "      <td>34</td>\n",
       "      <td>0.10</td>\n",
       "      <td>10</td>\n",
       "      <td>1</td>\n",
       "      <td>0.551861</td>\n",
       "      <td>0.795385</td>\n",
       "      <td>24.663714</td>\n",
       "    </tr>\n",
       "    <tr>\n",
       "      <th>21</th>\n",
       "      <td>14</td>\n",
       "      <td>0.10</td>\n",
       "      <td>10</td>\n",
       "      <td>5</td>\n",
       "      <td>0.600158</td>\n",
       "      <td>0.928062</td>\n",
       "      <td>83.168317</td>\n",
       "    </tr>\n",
       "    <tr>\n",
       "      <th>22</th>\n",
       "      <td>4</td>\n",
       "      <td>0.10</td>\n",
       "      <td>10</td>\n",
       "      <td>10</td>\n",
       "      <td>0.607284</td>\n",
       "      <td>0.959620</td>\n",
       "      <td>155.779892</td>\n",
       "    </tr>\n",
       "    <tr>\n",
       "      <th>23</th>\n",
       "      <td>10</td>\n",
       "      <td>0.10</td>\n",
       "      <td>10</td>\n",
       "      <td>50</td>\n",
       "      <td>0.604117</td>\n",
       "      <td>0.980149</td>\n",
       "      <td>719.215525</td>\n",
       "    </tr>\n",
       "    <tr>\n",
       "      <th>24</th>\n",
       "      <td>28</td>\n",
       "      <td>0.30</td>\n",
       "      <td>4</td>\n",
       "      <td>1</td>\n",
       "      <td>0.589074</td>\n",
       "      <td>0.624533</td>\n",
       "      <td>14.066415</td>\n",
       "    </tr>\n",
       "    <tr>\n",
       "      <th>25</th>\n",
       "      <td>25</td>\n",
       "      <td>0.30</td>\n",
       "      <td>4</td>\n",
       "      <td>5</td>\n",
       "      <td>0.590657</td>\n",
       "      <td>0.671700</td>\n",
       "      <td>29.894163</td>\n",
       "    </tr>\n",
       "    <tr>\n",
       "      <th>26</th>\n",
       "      <td>19</td>\n",
       "      <td>0.30</td>\n",
       "      <td>4</td>\n",
       "      <td>10</td>\n",
       "      <td>0.594616</td>\n",
       "      <td>0.686461</td>\n",
       "      <td>50.161780</td>\n",
       "    </tr>\n",
       "    <tr>\n",
       "      <th>27</th>\n",
       "      <td>7</td>\n",
       "      <td>0.30</td>\n",
       "      <td>4</td>\n",
       "      <td>50</td>\n",
       "      <td>0.605701</td>\n",
       "      <td>0.692569</td>\n",
       "      <td>213.082868</td>\n",
       "    </tr>\n",
       "    <tr>\n",
       "      <th>28</th>\n",
       "      <td>31</td>\n",
       "      <td>0.30</td>\n",
       "      <td>6</td>\n",
       "      <td>1</td>\n",
       "      <td>0.578781</td>\n",
       "      <td>0.674584</td>\n",
       "      <td>17.418423</td>\n",
       "    </tr>\n",
       "    <tr>\n",
       "      <th>29</th>\n",
       "      <td>22</td>\n",
       "      <td>0.30</td>\n",
       "      <td>6</td>\n",
       "      <td>5</td>\n",
       "      <td>0.592241</td>\n",
       "      <td>0.778758</td>\n",
       "      <td>46.666074</td>\n",
       "    </tr>\n",
       "    <tr>\n",
       "      <th>30</th>\n",
       "      <td>16</td>\n",
       "      <td>0.30</td>\n",
       "      <td>6</td>\n",
       "      <td>10</td>\n",
       "      <td>0.596200</td>\n",
       "      <td>0.800136</td>\n",
       "      <td>82.446921</td>\n",
       "    </tr>\n",
       "    <tr>\n",
       "      <th>31</th>\n",
       "      <td>1</td>\n",
       "      <td>0.30</td>\n",
       "      <td>6</td>\n",
       "      <td>50</td>\n",
       "      <td>0.609660</td>\n",
       "      <td>0.838819</td>\n",
       "      <td>347.996583</td>\n",
       "    </tr>\n",
       "    <tr>\n",
       "      <th>32</th>\n",
       "      <td>34</td>\n",
       "      <td>0.30</td>\n",
       "      <td>10</td>\n",
       "      <td>1</td>\n",
       "      <td>0.551861</td>\n",
       "      <td>0.795385</td>\n",
       "      <td>24.626763</td>\n",
       "    </tr>\n",
       "    <tr>\n",
       "      <th>33</th>\n",
       "      <td>14</td>\n",
       "      <td>0.30</td>\n",
       "      <td>10</td>\n",
       "      <td>5</td>\n",
       "      <td>0.600158</td>\n",
       "      <td>0.928062</td>\n",
       "      <td>83.548898</td>\n",
       "    </tr>\n",
       "    <tr>\n",
       "      <th>34</th>\n",
       "      <td>4</td>\n",
       "      <td>0.30</td>\n",
       "      <td>10</td>\n",
       "      <td>10</td>\n",
       "      <td>0.607284</td>\n",
       "      <td>0.959620</td>\n",
       "      <td>154.135705</td>\n",
       "    </tr>\n",
       "    <tr>\n",
       "      <th>35</th>\n",
       "      <td>10</td>\n",
       "      <td>0.30</td>\n",
       "      <td>10</td>\n",
       "      <td>50</td>\n",
       "      <td>0.604117</td>\n",
       "      <td>0.980149</td>\n",
       "      <td>528.720253</td>\n",
       "    </tr>\n",
       "  </tbody>\n",
       "</table>\n",
       "</div>"
      ],
      "text/plain": [
       "    Rank  learning_rate  max_depth  n_estimators  Accuracy  Train Accuracy  \\\n",
       "0     28           0.01          4             1  0.589074        0.624533   \n",
       "1     25           0.01          4             5  0.590657        0.671700   \n",
       "2     19           0.01          4            10  0.594616        0.686461   \n",
       "3      7           0.01          4            50  0.605701        0.692569   \n",
       "4     31           0.01          6             1  0.578781        0.674584   \n",
       "5     22           0.01          6             5  0.592241        0.778758   \n",
       "6     16           0.01          6            10  0.596200        0.800136   \n",
       "7      1           0.01          6            50  0.609660        0.838819   \n",
       "8     34           0.01         10             1  0.551861        0.795385   \n",
       "9     13           0.01         10             5  0.600950        0.928062   \n",
       "10     4           0.01         10            10  0.607284        0.959620   \n",
       "11    10           0.01         10            50  0.604117        0.980149   \n",
       "12    28           0.10          4             1  0.589074        0.624533   \n",
       "13    25           0.10          4             5  0.590657        0.671700   \n",
       "14    19           0.10          4            10  0.594616        0.686461   \n",
       "15     7           0.10          4            50  0.605701        0.692569   \n",
       "16    31           0.10          6             1  0.578781        0.674584   \n",
       "17    22           0.10          6             5  0.592241        0.778758   \n",
       "18    16           0.10          6            10  0.596200        0.800136   \n",
       "19     1           0.10          6            50  0.609660        0.838819   \n",
       "20    34           0.10         10             1  0.551861        0.795385   \n",
       "21    14           0.10         10             5  0.600158        0.928062   \n",
       "22     4           0.10         10            10  0.607284        0.959620   \n",
       "23    10           0.10         10            50  0.604117        0.980149   \n",
       "24    28           0.30          4             1  0.589074        0.624533   \n",
       "25    25           0.30          4             5  0.590657        0.671700   \n",
       "26    19           0.30          4            10  0.594616        0.686461   \n",
       "27     7           0.30          4            50  0.605701        0.692569   \n",
       "28    31           0.30          6             1  0.578781        0.674584   \n",
       "29    22           0.30          6             5  0.592241        0.778758   \n",
       "30    16           0.30          6            10  0.596200        0.800136   \n",
       "31     1           0.30          6            50  0.609660        0.838819   \n",
       "32    34           0.30         10             1  0.551861        0.795385   \n",
       "33    14           0.30         10             5  0.600158        0.928062   \n",
       "34     4           0.30         10            10  0.607284        0.959620   \n",
       "35    10           0.30         10            50  0.604117        0.980149   \n",
       "\n",
       "      Fit Time  \n",
       "0    16.138585  \n",
       "1    32.245691  \n",
       "2    51.663899  \n",
       "3   214.060637  \n",
       "4    16.964894  \n",
       "5    45.964429  \n",
       "6    81.059108  \n",
       "7   372.223656  \n",
       "8    24.689696  \n",
       "9    82.745449  \n",
       "10  153.473794  \n",
       "11  741.717500  \n",
       "12   14.138613  \n",
       "13   30.210491  \n",
       "14   49.764626  \n",
       "15  210.835555  \n",
       "16   17.263056  \n",
       "17   46.464675  \n",
       "18   81.337235  \n",
       "19  373.941912  \n",
       "20   24.663714  \n",
       "21   83.168317  \n",
       "22  155.779892  \n",
       "23  719.215525  \n",
       "24   14.066415  \n",
       "25   29.894163  \n",
       "26   50.161780  \n",
       "27  213.082868  \n",
       "28   17.418423  \n",
       "29   46.666074  \n",
       "30   82.446921  \n",
       "31  347.996583  \n",
       "32   24.626763  \n",
       "33   83.548898  \n",
       "34  154.135705  \n",
       "35  528.720253  "
      ]
     },
     "execution_count": 78,
     "metadata": {},
     "output_type": "execute_result"
    }
   ],
   "source": [
    "pd.concat([pd.DataFrame(rf_model.cv_results_[\"rank_test_score\"], columns=[\"Rank\"]), \n",
    "           pd.DataFrame(rf_model.cv_results_[\"params\"]),\n",
    "           pd.DataFrame(rf_model.cv_results_[\"mean_test_score\"], columns=[\"Accuracy\"]),\n",
    "           pd.DataFrame(rf_model.cv_results_[\"mean_train_score\"], columns=[\"Train Accuracy\"]),\n",
    "           pd.DataFrame(rf_model.cv_results_[\"mean_fit_time\"], columns=[\"Fit Time\"])],axis=1)"
   ]
  },
  {
   "cell_type": "code",
   "execution_count": 41,
   "metadata": {},
   "outputs": [
    {
     "name": "stdout",
     "output_type": "stream",
     "text": [
      "              precision    recall  f1-score   support\n",
      "\n",
      "           0       0.58      0.54      0.56       612\n",
      "           1       0.60      0.64      0.62       651\n",
      "\n",
      "    accuracy                           0.59      1263\n",
      "   macro avg       0.59      0.59      0.59      1263\n",
      "weighted avg       0.59      0.59      0.59      1263\n",
      "\n"
     ]
    }
   ],
   "source": [
    "predictions = rf_model.predict(X_test)\n",
    "print(classification_report(y_test, predictions))"
   ]
  },
  {
   "cell_type": "code",
   "execution_count": 59,
   "metadata": {},
   "outputs": [
    {
     "data": {
      "text/plain": [
       "['gs_rf_7157_64.pkl']"
      ]
     },
     "execution_count": 59,
     "metadata": {},
     "output_type": "execute_result"
    }
   ],
   "source": [
    "dump(rf_model, 'gs_rf_{}_{}.pkl'.format(X.shape[0], IMG_SIZE))"
   ]
  },
  {
   "cell_type": "code",
   "execution_count": null,
   "metadata": {},
   "outputs": [],
   "source": [
    "# %reset_selective \"^rf_model$\""
   ]
  },
  {
   "cell_type": "markdown",
   "metadata": {},
   "source": [
    "Untuk Random Forest ini bisa diamati bahwa `learning_rate` tidak mempengaruhi akurasi dari model, namun berpengaruh pada fit time, terutama untuk model dengna jumlah estimator dan tree depth yang tinggi.\n",
    "\n",
    "## XGBoost Classifier"
   ]
  },
  {
   "cell_type": "code",
   "execution_count": 42,
   "metadata": {},
   "outputs": [],
   "source": [
    "xg_base = xgb.XGBClassifier()\n",
    "xg_grid = {\n",
    "\"max_depth\" : [4, 6, 10],\n",
    "\"learning_rate\" : [0.1, 0.3],\n",
    "\"n_estimators\" : [1, 5, 10, 50]\n",
    "}\n",
    "xg_model = GridSearchCV(xg_base, xg_grid, cv=cv, n_jobs=4, verbose=100, return_train_score = True)"
   ]
  },
  {
   "cell_type": "code",
   "execution_count": 43,
   "metadata": {},
   "outputs": [
    {
     "name": "stdout",
     "output_type": "stream",
     "text": [
      "Fitting 1 folds for each of 24 candidates, totalling 24 fits\n",
      "[Parallel(n_jobs=4)]: Using backend LokyBackend with 4 concurrent workers.\n",
      "[Parallel(n_jobs=4)]: Done   1 tasks      | elapsed:   17.8s\n",
      "[Parallel(n_jobs=4)]: Done   2 tasks      | elapsed:   39.7s\n",
      "[Parallel(n_jobs=4)]: Done   3 tasks      | elapsed:   40.4s\n",
      "[Parallel(n_jobs=4)]: Done   4 tasks      | elapsed:  1.1min\n",
      "[Parallel(n_jobs=4)]: Done   5 tasks      | elapsed:  1.6min\n",
      "[Parallel(n_jobs=4)]: Done   6 tasks      | elapsed:  2.2min\n",
      "[Parallel(n_jobs=4)]: Done   7 tasks      | elapsed:  2.4min\n",
      "[Parallel(n_jobs=4)]: Done   8 tasks      | elapsed:  4.0min\n",
      "[Parallel(n_jobs=4)]: Done   9 tasks      | elapsed:  4.2min\n",
      "[Parallel(n_jobs=4)]: Done  10 tasks      | elapsed:  4.5min\n",
      "[Parallel(n_jobs=4)]: Done  11 tasks      | elapsed:  5.1min\n",
      "[Parallel(n_jobs=4)]: Done  12 tasks      | elapsed:  5.8min\n",
      "[Parallel(n_jobs=4)]: Done  13 tasks      | elapsed:  6.1min\n",
      "[Parallel(n_jobs=4)]: Done  14 tasks      | elapsed:  6.5min\n",
      "[Parallel(n_jobs=4)]: Done  15 tasks      | elapsed:  7.4min\n",
      "[Parallel(n_jobs=4)]: Done  16 tasks      | elapsed:  8.2min\n",
      "[Parallel(n_jobs=4)]: Done  17 tasks      | elapsed:  9.1min\n",
      "[Parallel(n_jobs=4)]: Done  18 out of  24 | elapsed:  9.7min remaining:  3.2min\n",
      "[Parallel(n_jobs=4)]: Done  19 out of  24 | elapsed:  9.9min remaining:  2.6min\n",
      "[Parallel(n_jobs=4)]: Done  20 out of  24 | elapsed: 11.4min remaining:  2.3min\n",
      "[Parallel(n_jobs=4)]: Done  21 out of  24 | elapsed: 13.2min remaining:  1.9min\n",
      "[Parallel(n_jobs=4)]: Done  22 out of  24 | elapsed: 15.3min remaining:  1.4min\n",
      "[Parallel(n_jobs=4)]: Done  24 out of  24 | elapsed: 20.9min remaining:    0.0s\n",
      "[Parallel(n_jobs=4)]: Done  24 out of  24 | elapsed: 20.9min finished\n"
     ]
    }
   ],
   "source": [
    "xg_model = xg_model.fit(X, y)"
   ]
  },
  {
   "cell_type": "code",
   "execution_count": 79,
   "metadata": {},
   "outputs": [],
   "source": [
    "xg_model = load('gs_xg_{}_{}.pkl'.format(X.shape[0], IMG_SIZE))"
   ]
  },
  {
   "cell_type": "code",
   "execution_count": 80,
   "metadata": {},
   "outputs": [
    {
     "data": {
      "text/html": [
       "<div>\n",
       "<style scoped>\n",
       "    .dataframe tbody tr th:only-of-type {\n",
       "        vertical-align: middle;\n",
       "    }\n",
       "\n",
       "    .dataframe tbody tr th {\n",
       "        vertical-align: top;\n",
       "    }\n",
       "\n",
       "    .dataframe thead th {\n",
       "        text-align: right;\n",
       "    }\n",
       "</style>\n",
       "<table border=\"1\" class=\"dataframe\">\n",
       "  <thead>\n",
       "    <tr style=\"text-align: right;\">\n",
       "      <th></th>\n",
       "      <th>Rank</th>\n",
       "      <th>learning_rate</th>\n",
       "      <th>max_depth</th>\n",
       "      <th>n_estimators</th>\n",
       "      <th>Accuracy</th>\n",
       "      <th>Train Accuracy</th>\n",
       "      <th>Fit Time</th>\n",
       "    </tr>\n",
       "  </thead>\n",
       "  <tbody>\n",
       "    <tr>\n",
       "      <th>0</th>\n",
       "      <td>14</td>\n",
       "      <td>0.1</td>\n",
       "      <td>4</td>\n",
       "      <td>1</td>\n",
       "      <td>0.577989</td>\n",
       "      <td>0.628775</td>\n",
       "      <td>14.644902</td>\n",
       "    </tr>\n",
       "    <tr>\n",
       "      <th>1</th>\n",
       "      <td>11</td>\n",
       "      <td>0.1</td>\n",
       "      <td>4</td>\n",
       "      <td>5</td>\n",
       "      <td>0.594616</td>\n",
       "      <td>0.686630</td>\n",
       "      <td>35.326828</td>\n",
       "    </tr>\n",
       "    <tr>\n",
       "      <th>2</th>\n",
       "      <td>5</td>\n",
       "      <td>0.1</td>\n",
       "      <td>4</td>\n",
       "      <td>10</td>\n",
       "      <td>0.610451</td>\n",
       "      <td>0.717170</td>\n",
       "      <td>58.580081</td>\n",
       "    </tr>\n",
       "    <tr>\n",
       "      <th>3</th>\n",
       "      <td>2</td>\n",
       "      <td>0.1</td>\n",
       "      <td>4</td>\n",
       "      <td>50</td>\n",
       "      <td>0.625495</td>\n",
       "      <td>0.844757</td>\n",
       "      <td>244.962860</td>\n",
       "    </tr>\n",
       "    <tr>\n",
       "      <th>4</th>\n",
       "      <td>20</td>\n",
       "      <td>0.1</td>\n",
       "      <td>6</td>\n",
       "      <td>1</td>\n",
       "      <td>0.571655</td>\n",
       "      <td>0.697489</td>\n",
       "      <td>18.858478</td>\n",
       "    </tr>\n",
       "    <tr>\n",
       "      <th>5</th>\n",
       "      <td>16</td>\n",
       "      <td>0.1</td>\n",
       "      <td>6</td>\n",
       "      <td>5</td>\n",
       "      <td>0.577197</td>\n",
       "      <td>0.811503</td>\n",
       "      <td>55.282102</td>\n",
       "    </tr>\n",
       "    <tr>\n",
       "      <th>6</th>\n",
       "      <td>8</td>\n",
       "      <td>0.1</td>\n",
       "      <td>6</td>\n",
       "      <td>10</td>\n",
       "      <td>0.598575</td>\n",
       "      <td>0.857143</td>\n",
       "      <td>99.300498</td>\n",
       "    </tr>\n",
       "    <tr>\n",
       "      <th>7</th>\n",
       "      <td>1</td>\n",
       "      <td>0.1</td>\n",
       "      <td>6</td>\n",
       "      <td>50</td>\n",
       "      <td>0.629454</td>\n",
       "      <td>0.975908</td>\n",
       "      <td>427.975024</td>\n",
       "    </tr>\n",
       "    <tr>\n",
       "      <th>8</th>\n",
       "      <td>23</td>\n",
       "      <td>0.1</td>\n",
       "      <td>10</td>\n",
       "      <td>1</td>\n",
       "      <td>0.535234</td>\n",
       "      <td>0.869528</td>\n",
       "      <td>29.053973</td>\n",
       "    </tr>\n",
       "    <tr>\n",
       "      <th>9</th>\n",
       "      <td>16</td>\n",
       "      <td>0.1</td>\n",
       "      <td>10</td>\n",
       "      <td>5</td>\n",
       "      <td>0.577197</td>\n",
       "      <td>0.966916</td>\n",
       "      <td>105.474634</td>\n",
       "    </tr>\n",
       "    <tr>\n",
       "      <th>10</th>\n",
       "      <td>13</td>\n",
       "      <td>0.1</td>\n",
       "      <td>10</td>\n",
       "      <td>10</td>\n",
       "      <td>0.581948</td>\n",
       "      <td>0.986427</td>\n",
       "      <td>199.305193</td>\n",
       "    </tr>\n",
       "    <tr>\n",
       "      <th>11</th>\n",
       "      <td>4</td>\n",
       "      <td>0.1</td>\n",
       "      <td>10</td>\n",
       "      <td>50</td>\n",
       "      <td>0.612035</td>\n",
       "      <td>1.000000</td>\n",
       "      <td>807.897658</td>\n",
       "    </tr>\n",
       "    <tr>\n",
       "      <th>12</th>\n",
       "      <td>14</td>\n",
       "      <td>0.3</td>\n",
       "      <td>4</td>\n",
       "      <td>1</td>\n",
       "      <td>0.577989</td>\n",
       "      <td>0.628775</td>\n",
       "      <td>14.528080</td>\n",
       "    </tr>\n",
       "    <tr>\n",
       "      <th>13</th>\n",
       "      <td>12</td>\n",
       "      <td>0.3</td>\n",
       "      <td>4</td>\n",
       "      <td>5</td>\n",
       "      <td>0.593824</td>\n",
       "      <td>0.706990</td>\n",
       "      <td>34.133982</td>\n",
       "    </tr>\n",
       "    <tr>\n",
       "      <th>14</th>\n",
       "      <td>3</td>\n",
       "      <td>0.3</td>\n",
       "      <td>4</td>\n",
       "      <td>10</td>\n",
       "      <td>0.614410</td>\n",
       "      <td>0.753987</td>\n",
       "      <td>57.857345</td>\n",
       "    </tr>\n",
       "    <tr>\n",
       "      <th>15</th>\n",
       "      <td>5</td>\n",
       "      <td>0.3</td>\n",
       "      <td>4</td>\n",
       "      <td>50</td>\n",
       "      <td>0.610451</td>\n",
       "      <td>0.950458</td>\n",
       "      <td>246.225945</td>\n",
       "    </tr>\n",
       "    <tr>\n",
       "      <th>16</th>\n",
       "      <td>20</td>\n",
       "      <td>0.3</td>\n",
       "      <td>6</td>\n",
       "      <td>1</td>\n",
       "      <td>0.571655</td>\n",
       "      <td>0.697489</td>\n",
       "      <td>19.171398</td>\n",
       "    </tr>\n",
       "    <tr>\n",
       "      <th>17</th>\n",
       "      <td>16</td>\n",
       "      <td>0.3</td>\n",
       "      <td>6</td>\n",
       "      <td>5</td>\n",
       "      <td>0.577197</td>\n",
       "      <td>0.836274</td>\n",
       "      <td>55.137752</td>\n",
       "    </tr>\n",
       "    <tr>\n",
       "      <th>18</th>\n",
       "      <td>10</td>\n",
       "      <td>0.3</td>\n",
       "      <td>6</td>\n",
       "      <td>10</td>\n",
       "      <td>0.596200</td>\n",
       "      <td>0.909908</td>\n",
       "      <td>97.817938</td>\n",
       "    </tr>\n",
       "    <tr>\n",
       "      <th>19</th>\n",
       "      <td>7</td>\n",
       "      <td>0.3</td>\n",
       "      <td>6</td>\n",
       "      <td>50</td>\n",
       "      <td>0.605701</td>\n",
       "      <td>1.000000</td>\n",
       "      <td>420.609031</td>\n",
       "    </tr>\n",
       "    <tr>\n",
       "      <th>20</th>\n",
       "      <td>23</td>\n",
       "      <td>0.3</td>\n",
       "      <td>10</td>\n",
       "      <td>1</td>\n",
       "      <td>0.535234</td>\n",
       "      <td>0.869528</td>\n",
       "      <td>29.323631</td>\n",
       "    </tr>\n",
       "    <tr>\n",
       "      <th>21</th>\n",
       "      <td>22</td>\n",
       "      <td>0.3</td>\n",
       "      <td>10</td>\n",
       "      <td>5</td>\n",
       "      <td>0.569279</td>\n",
       "      <td>0.984391</td>\n",
       "      <td>104.245495</td>\n",
       "    </tr>\n",
       "    <tr>\n",
       "      <th>22</th>\n",
       "      <td>19</td>\n",
       "      <td>0.3</td>\n",
       "      <td>10</td>\n",
       "      <td>10</td>\n",
       "      <td>0.575614</td>\n",
       "      <td>1.000000</td>\n",
       "      <td>196.775419</td>\n",
       "    </tr>\n",
       "    <tr>\n",
       "      <th>23</th>\n",
       "      <td>9</td>\n",
       "      <td>0.3</td>\n",
       "      <td>10</td>\n",
       "      <td>50</td>\n",
       "      <td>0.596991</td>\n",
       "      <td>1.000000</td>\n",
       "      <td>567.546639</td>\n",
       "    </tr>\n",
       "  </tbody>\n",
       "</table>\n",
       "</div>"
      ],
      "text/plain": [
       "    Rank  learning_rate  max_depth  n_estimators  Accuracy  Train Accuracy  \\\n",
       "0     14            0.1          4             1  0.577989        0.628775   \n",
       "1     11            0.1          4             5  0.594616        0.686630   \n",
       "2      5            0.1          4            10  0.610451        0.717170   \n",
       "3      2            0.1          4            50  0.625495        0.844757   \n",
       "4     20            0.1          6             1  0.571655        0.697489   \n",
       "5     16            0.1          6             5  0.577197        0.811503   \n",
       "6      8            0.1          6            10  0.598575        0.857143   \n",
       "7      1            0.1          6            50  0.629454        0.975908   \n",
       "8     23            0.1         10             1  0.535234        0.869528   \n",
       "9     16            0.1         10             5  0.577197        0.966916   \n",
       "10    13            0.1         10            10  0.581948        0.986427   \n",
       "11     4            0.1         10            50  0.612035        1.000000   \n",
       "12    14            0.3          4             1  0.577989        0.628775   \n",
       "13    12            0.3          4             5  0.593824        0.706990   \n",
       "14     3            0.3          4            10  0.614410        0.753987   \n",
       "15     5            0.3          4            50  0.610451        0.950458   \n",
       "16    20            0.3          6             1  0.571655        0.697489   \n",
       "17    16            0.3          6             5  0.577197        0.836274   \n",
       "18    10            0.3          6            10  0.596200        0.909908   \n",
       "19     7            0.3          6            50  0.605701        1.000000   \n",
       "20    23            0.3         10             1  0.535234        0.869528   \n",
       "21    22            0.3         10             5  0.569279        0.984391   \n",
       "22    19            0.3         10            10  0.575614        1.000000   \n",
       "23     9            0.3         10            50  0.596991        1.000000   \n",
       "\n",
       "      Fit Time  \n",
       "0    14.644902  \n",
       "1    35.326828  \n",
       "2    58.580081  \n",
       "3   244.962860  \n",
       "4    18.858478  \n",
       "5    55.282102  \n",
       "6    99.300498  \n",
       "7   427.975024  \n",
       "8    29.053973  \n",
       "9   105.474634  \n",
       "10  199.305193  \n",
       "11  807.897658  \n",
       "12   14.528080  \n",
       "13   34.133982  \n",
       "14   57.857345  \n",
       "15  246.225945  \n",
       "16   19.171398  \n",
       "17   55.137752  \n",
       "18   97.817938  \n",
       "19  420.609031  \n",
       "20   29.323631  \n",
       "21  104.245495  \n",
       "22  196.775419  \n",
       "23  567.546639  "
      ]
     },
     "execution_count": 80,
     "metadata": {},
     "output_type": "execute_result"
    }
   ],
   "source": [
    "pd.concat([pd.DataFrame(xg_model.cv_results_[\"rank_test_score\"], columns=[\"Rank\"]), \n",
    "           pd.DataFrame(xg_model.cv_results_[\"params\"]),\n",
    "           pd.DataFrame(xg_model.cv_results_[\"mean_test_score\"], columns=[\"Accuracy\"]),\n",
    "           pd.DataFrame(xg_model.cv_results_[\"mean_train_score\"], columns=[\"Train Accuracy\"]),\n",
    "           pd.DataFrame(xg_model.cv_results_[\"mean_fit_time\"], columns=[\"Fit Time\"])],axis=1)"
   ]
  },
  {
   "cell_type": "code",
   "execution_count": 72,
   "metadata": {},
   "outputs": [
    {
     "name": "stdout",
     "output_type": "stream",
     "text": [
      "              precision    recall  f1-score   support\n",
      "\n",
      "           0       0.59      0.60      0.60       612\n",
      "           1       0.62      0.61      0.61       651\n",
      "\n",
      "    accuracy                           0.60      1263\n",
      "   macro avg       0.60      0.60      0.60      1263\n",
      "weighted avg       0.60      0.60      0.60      1263\n",
      "\n",
      "              precision    recall  f1-score   support\n",
      "\n",
      "           0       0.98      0.96      0.97      2866\n",
      "           1       0.96      0.98      0.97      3028\n",
      "\n",
      "    accuracy                           0.97      5894\n",
      "   macro avg       0.97      0.97      0.97      5894\n",
      "weighted avg       0.97      0.97      0.97      5894\n",
      "\n"
     ]
    }
   ],
   "source": [
    "predictions = xg_model.predict(X_test)\n",
    "print(classification_report(y_test, predictions))\n",
    "\n",
    "predictions = xg_model.predict(X_train)\n",
    "print(classification_report(y_train, predictions)) "
   ]
  },
  {
   "cell_type": "code",
   "execution_count": 60,
   "metadata": {},
   "outputs": [
    {
     "data": {
      "text/plain": [
       "['gs_xg_7157_64.pkl']"
      ]
     },
     "execution_count": 60,
     "metadata": {},
     "output_type": "execute_result"
    }
   ],
   "source": [
    "dump(xg_model, 'gs_xg_{}_{}.pkl'.format(X.shape[0], IMG_SIZE))"
   ]
  },
  {
   "cell_type": "markdown",
   "metadata": {},
   "source": [
    "Bisa diamati bahwa XGBoost memiliki mean accuracy yang lebih tinggi dibandingkan dua model lainnya. Yang dihasilkan oleh parameter learning rate, tre depth, dan jumlah estimator respectively 0.1, 10, 50 dengan mean accuracy 0.649852"
   ]
  },
  {
   "cell_type": "markdown",
   "metadata": {},
   "source": [
    "# Kesimpulan\n",
    "\n",
    "Telah dilakukan eksperimen dengan berbagai kombinasi parameter. Jika kita melihat performa terbaik yang dihasilkan per model, bisa diamati bahwa model DTL memberikan performa terburuk dan mendekati performa bila komputer menebak kelas dengan uniformly random (mean accuration 0.558). Lalu untuk Random Forest memiliki performa yang relatif lebih baik dengan mean accuration 0.623. Dan XGBoost memberikan performa terbaik dengna mean accuration 0.649."
   ]
  }
 ],
 "metadata": {
  "accelerator": "GPU",
  "colab": {
   "collapsed_sections": [],
   "name": "Sintel.ipynb",
   "provenance": []
  },
  "environment": {
   "name": "pytorch-gpu.1-4.m58",
   "type": "gcloud",
   "uri": "gcr.io/deeplearning-platform-release/pytorch-gpu.1-4:m58"
  },
  "kernelspec": {
   "display_name": "Python 3",
   "language": "python",
   "name": "python3"
  },
  "language_info": {
   "codemirror_mode": {
    "name": "ipython",
    "version": 3
   },
   "file_extension": ".py",
   "mimetype": "text/x-python",
   "name": "python",
   "nbconvert_exporter": "python",
   "pygments_lexer": "ipython3",
   "version": "3.7.8"
  },
  "widgets": {
   "application/vnd.jupyter.widget-state+json": {
    "1ba07bf923504223a3944b5eb2048d92": {
     "model_module": "@jupyter-widgets/controls",
     "model_name": "ProgressStyleModel",
     "state": {
      "_model_module": "@jupyter-widgets/controls",
      "_model_module_version": "1.5.0",
      "_model_name": "ProgressStyleModel",
      "_view_count": null,
      "_view_module": "@jupyter-widgets/base",
      "_view_module_version": "1.2.0",
      "_view_name": "StyleView",
      "bar_color": null,
      "description_width": "initial"
     }
    },
    "29fc66c3621346cf8d1a028b5d85445a": {
     "model_module": "@jupyter-widgets/base",
     "model_name": "LayoutModel",
     "state": {
      "_model_module": "@jupyter-widgets/base",
      "_model_module_version": "1.2.0",
      "_model_name": "LayoutModel",
      "_view_count": null,
      "_view_module": "@jupyter-widgets/base",
      "_view_module_version": "1.2.0",
      "_view_name": "LayoutView",
      "align_content": null,
      "align_items": null,
      "align_self": null,
      "border": null,
      "bottom": null,
      "display": null,
      "flex": null,
      "flex_flow": null,
      "grid_area": null,
      "grid_auto_columns": null,
      "grid_auto_flow": null,
      "grid_auto_rows": null,
      "grid_column": null,
      "grid_gap": null,
      "grid_row": null,
      "grid_template_areas": null,
      "grid_template_columns": null,
      "grid_template_rows": null,
      "height": null,
      "justify_content": null,
      "justify_items": null,
      "left": null,
      "margin": null,
      "max_height": null,
      "max_width": null,
      "min_height": null,
      "min_width": null,
      "object_fit": null,
      "object_position": null,
      "order": null,
      "overflow": null,
      "overflow_x": null,
      "overflow_y": null,
      "padding": null,
      "right": null,
      "top": null,
      "visibility": null,
      "width": null
     }
    },
    "2b9f3618dabf4ad7a6c75fcd820ccc43": {
     "model_module": "@jupyter-widgets/controls",
     "model_name": "ProgressStyleModel",
     "state": {
      "_model_module": "@jupyter-widgets/controls",
      "_model_module_version": "1.5.0",
      "_model_name": "ProgressStyleModel",
      "_view_count": null,
      "_view_module": "@jupyter-widgets/base",
      "_view_module_version": "1.2.0",
      "_view_name": "StyleView",
      "bar_color": null,
      "description_width": "initial"
     }
    },
    "357d12b8cd11449e941beafe5b6a263e": {
     "model_module": "@jupyter-widgets/base",
     "model_name": "LayoutModel",
     "state": {
      "_model_module": "@jupyter-widgets/base",
      "_model_module_version": "1.2.0",
      "_model_name": "LayoutModel",
      "_view_count": null,
      "_view_module": "@jupyter-widgets/base",
      "_view_module_version": "1.2.0",
      "_view_name": "LayoutView",
      "align_content": null,
      "align_items": null,
      "align_self": null,
      "border": null,
      "bottom": null,
      "display": null,
      "flex": null,
      "flex_flow": null,
      "grid_area": null,
      "grid_auto_columns": null,
      "grid_auto_flow": null,
      "grid_auto_rows": null,
      "grid_column": null,
      "grid_gap": null,
      "grid_row": null,
      "grid_template_areas": null,
      "grid_template_columns": null,
      "grid_template_rows": null,
      "height": null,
      "justify_content": null,
      "justify_items": null,
      "left": null,
      "margin": null,
      "max_height": null,
      "max_width": null,
      "min_height": null,
      "min_width": null,
      "object_fit": null,
      "object_position": null,
      "order": null,
      "overflow": null,
      "overflow_x": null,
      "overflow_y": null,
      "padding": null,
      "right": null,
      "top": null,
      "visibility": null,
      "width": null
     }
    },
    "46dd0c626c594f75ab8c4719336cf6da": {
     "model_module": "@jupyter-widgets/controls",
     "model_name": "HBoxModel",
     "state": {
      "_dom_classes": [],
      "_model_module": "@jupyter-widgets/controls",
      "_model_module_version": "1.5.0",
      "_model_name": "HBoxModel",
      "_view_count": null,
      "_view_module": "@jupyter-widgets/controls",
      "_view_module_version": "1.5.0",
      "_view_name": "HBoxView",
      "box_style": "",
      "children": [
       "IPY_MODEL_fba2dcdda61f4487ae35041ed543b894",
       "IPY_MODEL_b62fe48541444737bf23ead5fe8ec948"
      ],
      "layout": "IPY_MODEL_c829650c9f1d4485a0648569a147926f"
     }
    },
    "4cf3ff9fb3b74d1f85aa32930f41f0f6": {
     "model_module": "@jupyter-widgets/base",
     "model_name": "LayoutModel",
     "state": {
      "_model_module": "@jupyter-widgets/base",
      "_model_module_version": "1.2.0",
      "_model_name": "LayoutModel",
      "_view_count": null,
      "_view_module": "@jupyter-widgets/base",
      "_view_module_version": "1.2.0",
      "_view_name": "LayoutView",
      "align_content": null,
      "align_items": null,
      "align_self": null,
      "border": null,
      "bottom": null,
      "display": null,
      "flex": null,
      "flex_flow": null,
      "grid_area": null,
      "grid_auto_columns": null,
      "grid_auto_flow": null,
      "grid_auto_rows": null,
      "grid_column": null,
      "grid_gap": null,
      "grid_row": null,
      "grid_template_areas": null,
      "grid_template_columns": null,
      "grid_template_rows": null,
      "height": null,
      "justify_content": null,
      "justify_items": null,
      "left": null,
      "margin": null,
      "max_height": null,
      "max_width": null,
      "min_height": null,
      "min_width": null,
      "object_fit": null,
      "object_position": null,
      "order": null,
      "overflow": null,
      "overflow_x": null,
      "overflow_y": null,
      "padding": null,
      "right": null,
      "top": null,
      "visibility": null,
      "width": null
     }
    },
    "50a6fb05c5054876b233ef7e17e2d424": {
     "model_module": "@jupyter-widgets/base",
     "model_name": "LayoutModel",
     "state": {
      "_model_module": "@jupyter-widgets/base",
      "_model_module_version": "1.2.0",
      "_model_name": "LayoutModel",
      "_view_count": null,
      "_view_module": "@jupyter-widgets/base",
      "_view_module_version": "1.2.0",
      "_view_name": "LayoutView",
      "align_content": null,
      "align_items": null,
      "align_self": null,
      "border": null,
      "bottom": null,
      "display": null,
      "flex": null,
      "flex_flow": null,
      "grid_area": null,
      "grid_auto_columns": null,
      "grid_auto_flow": null,
      "grid_auto_rows": null,
      "grid_column": null,
      "grid_gap": null,
      "grid_row": null,
      "grid_template_areas": null,
      "grid_template_columns": null,
      "grid_template_rows": null,
      "height": null,
      "justify_content": null,
      "justify_items": null,
      "left": null,
      "margin": null,
      "max_height": null,
      "max_width": null,
      "min_height": null,
      "min_width": null,
      "object_fit": null,
      "object_position": null,
      "order": null,
      "overflow": null,
      "overflow_x": null,
      "overflow_y": null,
      "padding": null,
      "right": null,
      "top": null,
      "visibility": null,
      "width": null
     }
    },
    "6ed1af10ecd5479c95c06c872a567375": {
     "model_module": "@jupyter-widgets/base",
     "model_name": "LayoutModel",
     "state": {
      "_model_module": "@jupyter-widgets/base",
      "_model_module_version": "1.2.0",
      "_model_name": "LayoutModel",
      "_view_count": null,
      "_view_module": "@jupyter-widgets/base",
      "_view_module_version": "1.2.0",
      "_view_name": "LayoutView",
      "align_content": null,
      "align_items": null,
      "align_self": null,
      "border": null,
      "bottom": null,
      "display": null,
      "flex": null,
      "flex_flow": null,
      "grid_area": null,
      "grid_auto_columns": null,
      "grid_auto_flow": null,
      "grid_auto_rows": null,
      "grid_column": null,
      "grid_gap": null,
      "grid_row": null,
      "grid_template_areas": null,
      "grid_template_columns": null,
      "grid_template_rows": null,
      "height": null,
      "justify_content": null,
      "justify_items": null,
      "left": null,
      "margin": null,
      "max_height": null,
      "max_width": null,
      "min_height": null,
      "min_width": null,
      "object_fit": null,
      "object_position": null,
      "order": null,
      "overflow": null,
      "overflow_x": null,
      "overflow_y": null,
      "padding": null,
      "right": null,
      "top": null,
      "visibility": null,
      "width": null
     }
    },
    "7374b92fe66a488d91b7277db8b1cae2": {
     "model_module": "@jupyter-widgets/controls",
     "model_name": "FloatProgressModel",
     "state": {
      "_dom_classes": [],
      "_model_module": "@jupyter-widgets/controls",
      "_model_module_version": "1.5.0",
      "_model_name": "FloatProgressModel",
      "_view_count": null,
      "_view_module": "@jupyter-widgets/controls",
      "_view_module_version": "1.5.0",
      "_view_name": "ProgressView",
      "bar_style": "success",
      "description": "100%",
      "description_tooltip": null,
      "layout": "IPY_MODEL_6ed1af10ecd5479c95c06c872a567375",
      "max": 8083,
      "min": 0,
      "orientation": "horizontal",
      "style": "IPY_MODEL_2b9f3618dabf4ad7a6c75fcd820ccc43",
      "value": 8083
     }
    },
    "7808034df40b4daa99b8a90a88eeeac0": {
     "model_module": "@jupyter-widgets/controls",
     "model_name": "HBoxModel",
     "state": {
      "_dom_classes": [],
      "_model_module": "@jupyter-widgets/controls",
      "_model_module_version": "1.5.0",
      "_model_name": "HBoxModel",
      "_view_count": null,
      "_view_module": "@jupyter-widgets/controls",
      "_view_module_version": "1.5.0",
      "_view_name": "HBoxView",
      "box_style": "",
      "children": [
       "IPY_MODEL_7374b92fe66a488d91b7277db8b1cae2",
       "IPY_MODEL_ce6f1cfbd894485dbcf23d8712a1544a"
      ],
      "layout": "IPY_MODEL_4cf3ff9fb3b74d1f85aa32930f41f0f6"
     }
    },
    "88ed03204be749249ba49878ba613f4b": {
     "model_module": "@jupyter-widgets/controls",
     "model_name": "DescriptionStyleModel",
     "state": {
      "_model_module": "@jupyter-widgets/controls",
      "_model_module_version": "1.5.0",
      "_model_name": "DescriptionStyleModel",
      "_view_count": null,
      "_view_module": "@jupyter-widgets/base",
      "_view_module_version": "1.2.0",
      "_view_name": "StyleView",
      "description_width": ""
     }
    },
    "b62fe48541444737bf23ead5fe8ec948": {
     "model_module": "@jupyter-widgets/controls",
     "model_name": "HTMLModel",
     "state": {
      "_dom_classes": [],
      "_model_module": "@jupyter-widgets/controls",
      "_model_module_version": "1.5.0",
      "_model_name": "HTMLModel",
      "_view_count": null,
      "_view_module": "@jupyter-widgets/controls",
      "_view_module_version": "1.5.0",
      "_view_name": "HTMLView",
      "description": "",
      "description_tooltip": null,
      "layout": "IPY_MODEL_357d12b8cd11449e941beafe5b6a263e",
      "placeholder": "​",
      "style": "IPY_MODEL_e894ee71dd4041b1b05d4f9f364be52e",
      "value": " 337/337 [00:34&lt;00:00,  9.79it/s]"
     }
    },
    "c829650c9f1d4485a0648569a147926f": {
     "model_module": "@jupyter-widgets/base",
     "model_name": "LayoutModel",
     "state": {
      "_model_module": "@jupyter-widgets/base",
      "_model_module_version": "1.2.0",
      "_model_name": "LayoutModel",
      "_view_count": null,
      "_view_module": "@jupyter-widgets/base",
      "_view_module_version": "1.2.0",
      "_view_name": "LayoutView",
      "align_content": null,
      "align_items": null,
      "align_self": null,
      "border": null,
      "bottom": null,
      "display": null,
      "flex": null,
      "flex_flow": null,
      "grid_area": null,
      "grid_auto_columns": null,
      "grid_auto_flow": null,
      "grid_auto_rows": null,
      "grid_column": null,
      "grid_gap": null,
      "grid_row": null,
      "grid_template_areas": null,
      "grid_template_columns": null,
      "grid_template_rows": null,
      "height": null,
      "justify_content": null,
      "justify_items": null,
      "left": null,
      "margin": null,
      "max_height": null,
      "max_width": null,
      "min_height": null,
      "min_width": null,
      "object_fit": null,
      "object_position": null,
      "order": null,
      "overflow": null,
      "overflow_x": null,
      "overflow_y": null,
      "padding": null,
      "right": null,
      "top": null,
      "visibility": null,
      "width": null
     }
    },
    "ce6f1cfbd894485dbcf23d8712a1544a": {
     "model_module": "@jupyter-widgets/controls",
     "model_name": "HTMLModel",
     "state": {
      "_dom_classes": [],
      "_model_module": "@jupyter-widgets/controls",
      "_model_module_version": "1.5.0",
      "_model_name": "HTMLModel",
      "_view_count": null,
      "_view_module": "@jupyter-widgets/controls",
      "_view_module_version": "1.5.0",
      "_view_name": "HTMLView",
      "description": "",
      "description_tooltip": null,
      "layout": "IPY_MODEL_29fc66c3621346cf8d1a028b5d85445a",
      "placeholder": "​",
      "style": "IPY_MODEL_88ed03204be749249ba49878ba613f4b",
      "value": " 8083/8083 [39:18&lt;00:00,  3.43it/s]"
     }
    },
    "e894ee71dd4041b1b05d4f9f364be52e": {
     "model_module": "@jupyter-widgets/controls",
     "model_name": "DescriptionStyleModel",
     "state": {
      "_model_module": "@jupyter-widgets/controls",
      "_model_module_version": "1.5.0",
      "_model_name": "DescriptionStyleModel",
      "_view_count": null,
      "_view_module": "@jupyter-widgets/base",
      "_view_module_version": "1.2.0",
      "_view_name": "StyleView",
      "description_width": ""
     }
    },
    "fba2dcdda61f4487ae35041ed543b894": {
     "model_module": "@jupyter-widgets/controls",
     "model_name": "FloatProgressModel",
     "state": {
      "_dom_classes": [],
      "_model_module": "@jupyter-widgets/controls",
      "_model_module_version": "1.5.0",
      "_model_name": "FloatProgressModel",
      "_view_count": null,
      "_view_module": "@jupyter-widgets/controls",
      "_view_module_version": "1.5.0",
      "_view_name": "ProgressView",
      "bar_style": "success",
      "description": "100%",
      "description_tooltip": null,
      "layout": "IPY_MODEL_50a6fb05c5054876b233ef7e17e2d424",
      "max": 337,
      "min": 0,
      "orientation": "horizontal",
      "style": "IPY_MODEL_1ba07bf923504223a3944b5eb2048d92",
      "value": 337
     }
    }
   }
  }
 },
 "nbformat": 4,
 "nbformat_minor": 4
}
